{
 "cells": [
  {
   "cell_type": "markdown",
   "metadata": {},
   "source": [
    "# [Advent of Code - 2017](https://adventofcode.com/2017)\n",
    "\n",
    "Advent of code is a puzzle solving website, two puzzles released for each day of advent (Dec 1st - Dec 25th). If previous years are anything to go by the cover a large variety of algorithms and are generally quite fun!\n",
    "\n",
    "Each year the puzzels are built around a central theme, with this year's theme being that we have been \"digitized\" into a computer, and must solve various problems from inside the machine."
   ]
  },
  {
   "cell_type": "markdown",
   "metadata": {},
   "source": [
    "# Day 0\n",
    "\n",
    "This portion contains various common pieces of code that'll be used on multiple days."
   ]
  },
  {
   "cell_type": "code",
   "execution_count": 1,
   "metadata": {},
   "outputs": [],
   "source": [
    "import os\n",
    "\n",
    "        \n",
    "def Input(day):\n",
    "    \"\"\"Fetch the data input from disk.\"\"\"\n",
    "    filename = os.path.join('../data/advent2017/input{}.txt'.format(day))\n",
    "    return open(filename)"
   ]
  },
  {
   "cell_type": "markdown",
   "metadata": {},
   "source": [
    "# [Day 1: Inverse Captcha](https://adventofcode.com/2017/day/1)\n",
    "\n",
    "We're greeted by a door, and must proove that we are _not_ human to continue. The first puzzle has us performing a captha that \"only a computer\" can solve. We're required to sum digits in a list where each digit matches the one immediately following it, wrapping to the start if we overflow."
   ]
  },
  {
   "cell_type": "code",
   "execution_count": 2,
   "metadata": {},
   "outputs": [
    {
     "data": {
      "text/plain": [
       "1182"
      ]
     },
     "execution_count": 2,
     "metadata": {},
     "output_type": "execute_result"
    }
   ],
   "source": [
    "def sum_if_match(nums, jump_distance):\n",
    "    total = 0\n",
    "    for index, n in enumerate(nums):\n",
    "        next_n = nums[(index + jump_distance) % len(nums)] \n",
    "        if n == next_n:\n",
    "            total += n\n",
    "    return total\n",
    "\n",
    "def sum_consecutive(data):\n",
    "    nums = list(map(int, data))\n",
    "    jump_distance = 1\n",
    "    return sum_if_match(nums, jump_distance)\n",
    "\n",
    "\n",
    "assert sum_consecutive('1122') == 3\n",
    "assert sum_consecutive('1111') == 4\n",
    "assert sum_consecutive('1234') == 0\n",
    "assert sum_consecutive('91212129') == 9\n",
    "\n",
    "sum_consecutive(Input(1).read().strip())"
   ]
  },
  {
   "cell_type": "markdown",
   "metadata": {},
   "source": [
    "For the second portion, we're again summing digits, but now only if we match the digit exactly _half the list_ away. At this point we can modify the initial code and provide a jump distance."
   ]
  },
  {
   "cell_type": "code",
   "execution_count": 3,
   "metadata": {},
   "outputs": [
    {
     "data": {
      "text/plain": [
       "1152"
      ]
     },
     "execution_count": 3,
     "metadata": {},
     "output_type": "execute_result"
    }
   ],
   "source": [
    "def sum_half(data):\n",
    "    nums = list(map(int, data))\n",
    "    jump_distance = len(nums) // 2\n",
    "    return sum_if_match(nums, jump_distance)\n",
    "    \n",
    "\n",
    "assert sum_half('1212') == 6\n",
    "assert sum_half('1221') == 0\n",
    "assert sum_half('123425') == 4\n",
    "assert sum_half('123123') == 12\n",
    "assert sum_half('12131415') == 4\n",
    "\n",
    "sum_half(Input(1).read().strip())"
   ]
  },
  {
   "cell_type": "code",
   "execution_count": null,
   "metadata": {},
   "outputs": [],
   "source": []
  }
 ],
 "metadata": {
  "kernelspec": {
   "display_name": "Python 3",
   "language": "python",
   "name": "python3"
  },
  "language_info": {
   "codemirror_mode": {
    "name": "ipython",
    "version": 3
   },
   "file_extension": ".py",
   "mimetype": "text/x-python",
   "name": "python",
   "nbconvert_exporter": "python",
   "pygments_lexer": "ipython3",
   "version": "3.5.2"
  }
 },
 "nbformat": 4,
 "nbformat_minor": 2
}
