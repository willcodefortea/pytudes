{
 "cells": [
  {
   "cell_type": "markdown",
   "metadata": {},
   "source": [
    "# [Advent of Code - 2017](https://adventofcode.com/2017)\n",
    "\n",
    "Advent of code is a puzzle solving website, two puzzles released for each day of advent (Dec 1st - Dec 25th). If previous years are anything to go by the cover a large variety of algorithms and are generally quite fun!\n",
    "\n",
    "Each year the puzzels are built around a central theme, with this year's theme being that we have been \"digitized\" into a computer, and must solve various problems from inside the machine."
   ]
  },
  {
   "cell_type": "markdown",
   "metadata": {},
   "source": [
    "# Day 0\n",
    "\n",
    "This portion contains various common pieces of code that'll be used on multiple days."
   ]
  },
  {
   "cell_type": "code",
   "execution_count": 108,
   "metadata": {},
   "outputs": [],
   "source": [
    "from itertools import cycle, count\n",
    "import os\n",
    "import re\n",
    "\n",
    "\n",
    "cat = ''.join\n",
    "        \n",
    "def Input(day):\n",
    "    \"\"\"Fetch the data input from disk.\"\"\"\n",
    "    filename = os.path.join('../data/advent2017/input{}.txt'.format(day))\n",
    "    return open(filename)\n",
    "\n",
    "\n",
    "def neighbours4(x, y):\n",
    "    return (x - 1, y), (x + 1, y), (x, y - 1), (x, y + 1)\n",
    "\n",
    "\n",
    "def neighbours8(x, y):\n",
    "    return (\n",
    "        (x - 1, y), (x + 1, y), (x, y - 1), (x, y + 1),\n",
    "        (x - 1, y - 1), (x - 1, y + 1), (x + 1, y - 1), (x + 1, y + 1)\n",
    "    )\n",
    "\n",
    "\n",
    "def manhattan_distance(point1, point2):\n",
    "    return abs(point2[0] - point1[0]) + abs(point2[1] - point1[1])"
   ]
  },
  {
   "cell_type": "markdown",
   "metadata": {},
   "source": [
    "# [Day 1: Inverse Captcha](https://adventofcode.com/2017/day/1)\n",
    "\n",
    "We're greeted by a door, and must proove that we are _not_ human to continue. The first puzzle has us performing a captha that \"only a computer\" can solve. We're required to sum digits in a list where each digit matches the one immediately following it, wrapping to the start if we overflow."
   ]
  },
  {
   "cell_type": "code",
   "execution_count": 2,
   "metadata": {},
   "outputs": [
    {
     "data": {
      "text/plain": [
       "1182"
      ]
     },
     "execution_count": 2,
     "metadata": {},
     "output_type": "execute_result"
    }
   ],
   "source": [
    "def sum_if_match(nums, jump_distance):\n",
    "    total = 0\n",
    "    for index, n in enumerate(nums):\n",
    "        next_n = nums[(index + jump_distance) % len(nums)] \n",
    "        if n == next_n:\n",
    "            total += n\n",
    "    return total\n",
    "\n",
    "def sum_consecutive(data):\n",
    "    nums = list(map(int, data))\n",
    "    jump_distance = 1\n",
    "    return sum_if_match(nums, jump_distance)\n",
    "\n",
    "\n",
    "assert sum_consecutive('1122') == 3\n",
    "assert sum_consecutive('1111') == 4\n",
    "assert sum_consecutive('1234') == 0\n",
    "assert sum_consecutive('91212129') == 9\n",
    "\n",
    "sum_consecutive(Input(1).read().strip())"
   ]
  },
  {
   "cell_type": "markdown",
   "metadata": {},
   "source": [
    "For the second portion, we're again summing digits, but now only if we match the digit exactly _half the list_ away. At this point we can modify the initial code and provide a jump distance."
   ]
  },
  {
   "cell_type": "code",
   "execution_count": 3,
   "metadata": {},
   "outputs": [
    {
     "data": {
      "text/plain": [
       "1152"
      ]
     },
     "execution_count": 3,
     "metadata": {},
     "output_type": "execute_result"
    }
   ],
   "source": [
    "def sum_half(data):\n",
    "    nums = list(map(int, data))\n",
    "    jump_distance = len(nums) // 2\n",
    "    return sum_if_match(nums, jump_distance)\n",
    "    \n",
    "\n",
    "assert sum_half('1212') == 6\n",
    "assert sum_half('1221') == 0\n",
    "assert sum_half('123425') == 4\n",
    "assert sum_half('123123') == 12\n",
    "assert sum_half('12131415') == 4\n",
    "\n",
    "sum_half(Input(1).read().strip())"
   ]
  },
  {
   "cell_type": "markdown",
   "metadata": {},
   "source": [
    "# [Day 2: Corruption Checksum](https://adventofcode.com/2017/day/2)\n",
    "\n",
    "Here we're required to perform some data anaylsis on a spreadsheet calculating a checksum of each row by finding the difference of the max and min values."
   ]
  },
  {
   "cell_type": "code",
   "execution_count": 4,
   "metadata": {},
   "outputs": [
    {
     "data": {
      "text/plain": [
       "42378"
      ]
     },
     "execution_count": 4,
     "metadata": {},
     "output_type": "execute_result"
    }
   ],
   "source": [
    "def parse_input(data):\n",
    "    as_ints = []\n",
    "    for row in data.split('\\n'):\n",
    "        if not row:\n",
    "            break\n",
    "        nums = list(map(int, re.findall('\\d+', row)))\n",
    "        as_ints.append(nums)\n",
    "    return as_ints\n",
    "\n",
    "\n",
    "data = parse_input(Input(2).read())\n",
    "\n",
    "sum((max(row) - min(row) for row in data))"
   ]
  },
  {
   "cell_type": "markdown",
   "metadata": {},
   "source": [
    "The second portion requires us to find pairs of number in each row that are evenly divisible, and summing the result of their division. As we don't know in which order the pair will appear, I sort each row when meeting it."
   ]
  },
  {
   "cell_type": "code",
   "execution_count": 5,
   "metadata": {},
   "outputs": [
    {
     "data": {
      "text/plain": [
       "246"
      ]
     },
     "execution_count": 5,
     "metadata": {},
     "output_type": "execute_result"
    }
   ],
   "source": [
    "def sum_even_div(data):\n",
    "    total = 0\n",
    "    for nums in data:\n",
    "        nums = sorted(nums)\n",
    "        for i, x in enumerate(nums[:-1]):\n",
    "            for y in nums[i + 1:]:\n",
    "                if y % x == 0:\n",
    "                    total += y // x\n",
    "                    break\n",
    "    return total\n",
    "\n",
    "\n",
    "sum_even_div(data)"
   ]
  },
  {
   "cell_type": "markdown",
   "metadata": {},
   "source": [
    "# [Day 3: Spiral Memory](https://adventofcode.com/2017/day/3)\n",
    "\n",
    "We need to find the coordinate of an number when it's displayed in a spiral format. I.e.\n",
    "\n",
    "```\n",
    "17  16  15  14  13\n",
    "18   5   4   3  12\n",
    "19   6   1   2  11\n",
    "20   7   8   9  10\n",
    "21  22  23---> ...\n",
    "```\n",
    "\n",
    "I started this problem by working out an equation to find the location of the Nth element, without building the rest of the grid. While this worked well for the first part of the problem, the second part requires us to build a spiral grid anyway! (It's much smaller, but still.)"
   ]
  },
  {
   "cell_type": "code",
   "execution_count": 105,
   "metadata": {},
   "outputs": [
    {
     "data": {
      "text/plain": [
       "430"
      ]
     },
     "execution_count": 105,
     "metadata": {},
     "output_type": "execute_result"
    }
   ],
   "source": [
    "def find_coorindates(N):\n",
    "    \"\"\"Find the coordinates of N in a spiral matrix.\n",
    "    \n",
    "    We can find the shell that the number occurs in by\n",
    "    finding the upper limit for each shell and \n",
    "    \"\"\"\n",
    "    # First find the shell that the number appears in\n",
    "    # number of elements in each shell is 4*(n-1)\n",
    "    if N == 1:\n",
    "        return 0, 0\n",
    "\n",
    "    shell = 1\n",
    "    shell_size = 1\n",
    "    while N > shell_size ** 2:\n",
    "        shell += 1\n",
    "        shell_size += 2\n",
    "\n",
    "    shell_end = shell_size ** 2\n",
    "    shell_start = (shell_size - 2) ** 2\n",
    "    elms_in_shell = shell_end - shell_start\n",
    "    position_in_shell = N - shell_start\n",
    "    \n",
    "    side_length = elms_in_shell // 4\n",
    "    half_side = side_length // 2\n",
    "    \n",
    "    side = position_in_shell / elms_in_shell\n",
    "    \n",
    "    if side <= 0.25:\n",
    "        # right\n",
    "        x = half_side\n",
    "        y = (position_in_shell % side_length) - half_side\n",
    "    elif side <= 0.5:\n",
    "        # top\n",
    "        x = (position_in_shell % side_length) - half_side\n",
    "        y = half_side\n",
    "    elif side <= 0.75:\n",
    "        # left\n",
    "        x = -half_side\n",
    "        y = (position_in_shell % side_length) - half_side\n",
    "    else:\n",
    "        # bottom\n",
    "        x = (position_in_shell % side_length) - half_side\n",
    "        y = -half_side\n",
    "    return (x, y)\n",
    "    \n",
    "    \n",
    "def carry_distance(N):\n",
    "    x, y = find_coorindates(N)\n",
    "    return manhattan_distance((0, 0), (x, y))\n",
    "\n",
    "\n",
    "data = 312051\n",
    "assert carry_distance(1) == 0\n",
    "assert carry_distance(12) == 3\n",
    "assert carry_distance(23) == 2\n",
    "assert carry_distance(1024) == 31\n",
    "carry_distance(data)"
   ]
  },
  {
   "cell_type": "markdown",
   "metadata": {},
   "source": [
    "The second part requires us to perform a \"stress test\" to populate a spiral grid with values the sum of all adjacent cells in the grid. As we don't know the upper bound (and I don't know how to initialize an infinite grid that can be referenced arbitarily..) I went with a dictionay to store point references and their values. \n",
    "\n",
    "By combining two infinite generators that cycle through the directions we turn and the distances we need to travel, we build an a third infinite generator that contains all the steps we'll take."
   ]
  },
  {
   "cell_type": "code",
   "execution_count": 106,
   "metadata": {},
   "outputs": [
    {
     "data": {
      "text/plain": [
       "312453"
      ]
     },
     "execution_count": 106,
     "metadata": {},
     "output_type": "execute_result"
    }
   ],
   "source": [
    "from itertools import cycle, count\n",
    "\n",
    "def spiral_distances():\n",
    "    \"\"\"\"Yields 1, 1, 2, 2, 3, 3, ...\n",
    "    \n",
    "    As the spiral wraps around itself, we increase\n",
    "    the distance we travel by 1 every two distances.\n",
    "    \n",
    "    This is because every 2 distances we're moving in\n",
    "    the opposite direction, so to we increase the\n",
    "    distance to ensure we can move past the movement\n",
    "    we're now opposing.\n",
    "    \"\"\"\n",
    "    for distance in count(1):\n",
    "        yield distance\n",
    "        yield distance\n",
    "\n",
    "            \n",
    "def directions():\n",
    "    \"\"\"Yields R, U, L, D, R, U, L, D, ...\"\"\"\n",
    "    up = (0, -1)\n",
    "    down = (0, 1)\n",
    "    left = (-1, 0)\n",
    "    right = (1, 0)\n",
    "    return cycle((right, up, left, down))\n",
    "\n",
    "\n",
    "def spiral_movements():\n",
    "    for distance, direction in zip(spiral_distances(), directions()):\n",
    "        for _ in range(distance):\n",
    "            yield direction\n",
    "\n",
    "\n",
    "def stress_test(max_val):\n",
    "    grid = {}\n",
    "    x, y = 0, 0\n",
    "    grid[(x, y)] = 1\n",
    "    for direction in spiral_movements():\n",
    "        dx, dy = direction\n",
    "        x += dx\n",
    "        y += dy\n",
    "        val = sum(\n",
    "            grid.get(neighbour, 0)\n",
    "            for neighbour in neighbours8(x, y)\n",
    "        )\n",
    "\n",
    "        grid[(x, y)] = val\n",
    "\n",
    "        if val > max_val:\n",
    "            return val\n",
    "stress_test(data)\n",
    "    "
   ]
  },
  {
   "cell_type": "markdown",
   "metadata": {},
   "source": [
    "# [Day 4: High-Entropy Passphrases](https://adventofcode.com/2017/day/4)\n",
    "\n",
    "W're tasked with checking the validity of a series of passphrases. A passphrase is considered valid if each word within the passphrase is unique."
   ]
  },
  {
   "cell_type": "code",
   "execution_count": 151,
   "metadata": {},
   "outputs": [
    {
     "data": {
      "text/plain": [
       "466"
      ]
     },
     "execution_count": 151,
     "metadata": {},
     "output_type": "execute_result"
    }
   ],
   "source": [
    "def is_valid(passphrase):\n",
    "    words = re.findall('\\w+', passphrase)\n",
    "    unique = set(words)\n",
    "    return len(unique) == len(words)\n",
    "\n",
    "def valid_passphrases(data):\n",
    "    return sum(\n",
    "        is_valid(passphrase)\n",
    "        for passphrase in data.split('\\n')\n",
    "    )\n",
    "    \n",
    "\n",
    "valid_passphrases(Input(4).read())"
   ]
  },
  {
   "cell_type": "markdown",
   "metadata": {},
   "source": [
    "Part two requires us to ensure that no anagrams are present."
   ]
  },
  {
   "cell_type": "code",
   "execution_count": 150,
   "metadata": {},
   "outputs": [
    {
     "data": {
      "text/plain": [
       "251"
      ]
     },
     "execution_count": 150,
     "metadata": {},
     "output_type": "execute_result"
    }
   ],
   "source": [
    "def is_valid(passphrase):\n",
    "    words = re.findall('\\w+', passphrase)\n",
    "    unique = set(\n",
    "        cat(sorted(w)) for w in words\n",
    "    )\n",
    "    return len(unique) == len(words)\n",
    "\n",
    "assert not is_valid('abcde xyz ecdab')\n",
    "\n",
    "valid_passphrases(Input(4).read())"
   ]
  },
  {
   "cell_type": "markdown",
   "metadata": {},
   "source": [
    "# [Day 5: A Maze of Twisty Trampolines, All Alike](https://adventofcode.com/2017/day/5)\n",
    "\n",
    "In this example we're following a series of jump instructions through an list that modify the jump distance once it's been performed. For each item in the list, `n`, we jump `n` steps away and increment the jump value in at that index by 1.\n",
    "\n",
    "Originally I didn't have the `increment_by` as a callable, and in doing so the program is noticably slowed (part two went from 7s to 9s), however it makes the second part trivial so I introduced it."
   ]
  },
  {
   "cell_type": "code",
   "execution_count": 153,
   "metadata": {},
   "outputs": [
    {
     "name": "stdout",
     "output_type": "stream",
     "text": [
      "CPU times: user 124 ms, sys: 2.4 ms, total: 126 ms\n",
      "Wall time: 125 ms\n"
     ]
    },
    {
     "data": {
      "text/plain": [
       "359348"
      ]
     },
     "execution_count": 153,
     "metadata": {},
     "output_type": "execute_result"
    }
   ],
   "source": [
    "def follow_instructions(data, increment_by=lambda n: 1):\n",
    "    instructions = list(map(int, re.findall('-?\\d+', data)))\n",
    "    step_count = 0\n",
    "    index = 0\n",
    "    while True:\n",
    "        try:\n",
    "            jump = instructions[index]\n",
    "        except IndexError:\n",
    "            break\n",
    "        instructions[index] += increment_by(jump)\n",
    "        index += jump\n",
    "        step_count += 1\n",
    "    return step_count\n",
    "\n",
    "test_input = \"\"\"\n",
    "0\n",
    "3\n",
    "0\n",
    "1\n",
    "-3\n",
    "\"\"\"\n",
    "assert follow_instructions(test_input) == 5\n",
    "\n",
    "% time follow_instructions(Input(5).read())"
   ]
  },
  {
   "cell_type": "markdown",
   "metadata": {},
   "source": [
    "The second part is the same as the first but this time we decrement the jump value if it's `>= 3`."
   ]
  },
  {
   "cell_type": "code",
   "execution_count": 154,
   "metadata": {},
   "outputs": [
    {
     "name": "stdout",
     "output_type": "stream",
     "text": [
      "CPU times: user 9.36 s, sys: 20.3 ms, total: 9.38 s\n",
      "Wall time: 9.39 s\n"
     ]
    },
    {
     "data": {
      "text/plain": [
       "27688760"
      ]
     },
     "execution_count": 154,
     "metadata": {},
     "output_type": "execute_result"
    }
   ],
   "source": [
    "increment_by = lambda n: -1 if n > 2 else 1\n",
    "assert follow_instructions(test_input, increment_by) == 10\n",
    "% time follow_instructions(Input(5).read(), increment_by)"
   ]
  },
  {
   "cell_type": "markdown",
   "metadata": {},
   "source": [
    "# [Day 6: Memory Reallocation](https://adventofcode.com/2017/day/6)\n",
    "\n",
    "We're tasked re-bucketing data, and dedecting any cyclical allocations. Given N buckets, take the maximum, set that bucket to zero and then add one for N to each other bucket in order, wrapping to the start.\n",
    "\n",
    "i.e.\n",
    "\n",
    "```\n",
    "    (0, 2, 7, 0) Initial state, 7 is highest so set to zero and distribute\n",
    "    (2, 4, 1, 2) 4 is now the highest\n",
    "    (3, 1, 2, 3) We have two threes, the first takes precedence\n",
    "    (0, 2, 3, 4) 4 is now the hightest\n",
    "    (1, 3, 4, 1) 4 again wins\n",
    "    (2, 4, 1, 2) *LOOP* We've seen this state before, and was detected on the 5th step.\n",
    "```\n",
    "\n",
    "As I'm generating this data as we go, I don't think there's any nifty algorithms that we can implement to detect a loop. Instead I just keep track of what's been seen and compare the current state.\n",
    "\n",
    "As we want to use a set to keep track of what we've seen there's a lot of conversion between lists and tuples, but this is a smaller trade off as the seen list can get quite large, so [O(1) member test compared to O(N)](https://wiki.python.org/moin/TimeComplexity) wins! (Using a list here takes ~20 times longer.)"
   ]
  },
  {
   "cell_type": "code",
   "execution_count": 254,
   "metadata": {},
   "outputs": [],
   "source": [
    "def redistribute_memory(banks):\n",
    "    seen = set()\n",
    "    \n",
    "    for cycle in count(1):\n",
    "        if banks in seen:\n",
    "            break\n",
    "        seen.add(banks)\n",
    "        banks = redistribute(banks)\n",
    "    return cycle - 1\n",
    "\n",
    "\n",
    "def redistribute(banks):\n",
    "    banks = list(banks)\n",
    "    blocks = max(banks)\n",
    "    max_index = banks.index(blocks)\n",
    "    \n",
    "    banks[max_index] = 0\n",
    "    \n",
    "    offset = max_index + 1\n",
    "    addition = blocks // len(banks)\n",
    "    extra_lim = blocks % len(banks)\n",
    "    \n",
    "    for i in range(len(banks)):\n",
    "        idx = (offset + i) % len(banks)\n",
    "        banks[idx] += addition\n",
    "        if i < extra_lim:\n",
    "            banks[idx] += 1\n",
    "    return tuple(banks)"
   ]
  },
  {
   "cell_type": "code",
   "execution_count": 255,
   "metadata": {},
   "outputs": [],
   "source": [
    "assert redistribute((0, 2, 7, 0)) == (2, 4, 1, 2)\n",
    "assert redistribute_memory((0, 2, 7, 0)) == 5"
   ]
  },
  {
   "cell_type": "code",
   "execution_count": 256,
   "metadata": {},
   "outputs": [
    {
     "data": {
      "text/plain": [
       "14029"
      ]
     },
     "execution_count": 256,
     "metadata": {},
     "output_type": "execute_result"
    }
   ],
   "source": [
    "banks = tuple(\n",
    "    int(num)\n",
    "    for num in re.findall('\\d+', Input(6).read())\n",
    ")\n",
    "redistribute_memory(banks)"
   ]
  },
  {
   "cell_type": "markdown",
   "metadata": {},
   "source": [
    "For part two we need to know the length of the loop. We can do this by keeping track of the original index of each memory bank and compare it to the index we're on when we reach the final bank."
   ]
  },
  {
   "cell_type": "code",
   "execution_count": 257,
   "metadata": {},
   "outputs": [],
   "source": [
    "def redistribute_memory2(banks):\n",
    "    seen = {}\n",
    "    \n",
    "    for cycle in count(1):\n",
    "        if banks in seen:\n",
    "            break\n",
    "        seen[banks] = cycle\n",
    "        banks = redistribute(banks)\n",
    "    return cycle - seen[banks] - 1"
   ]
  },
  {
   "cell_type": "code",
   "execution_count": 259,
   "metadata": {},
   "outputs": [
    {
     "data": {
      "text/plain": [
       "2764"
      ]
     },
     "execution_count": 259,
     "metadata": {},
     "output_type": "execute_result"
    }
   ],
   "source": [
    "redistribute_memory2(banks)"
   ]
  }
 ],
 "metadata": {
  "kernelspec": {
   "display_name": "Python 3",
   "language": "python",
   "name": "python3"
  },
  "language_info": {
   "codemirror_mode": {
    "name": "ipython",
    "version": 3
   },
   "file_extension": ".py",
   "mimetype": "text/x-python",
   "name": "python",
   "nbconvert_exporter": "python",
   "pygments_lexer": "ipython3",
   "version": "3.5.2"
  }
 },
 "nbformat": 4,
 "nbformat_minor": 2
}
