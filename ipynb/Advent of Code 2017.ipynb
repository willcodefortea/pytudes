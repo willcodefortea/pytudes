{
 "cells": [
  {
   "cell_type": "markdown",
   "metadata": {},
   "source": [
    "# [Advent of Code - 2017](https://adventofcode.com/2017)\n",
    "\n",
    "Advent of code is a puzzle solving website, two puzzles released for each day of advent (Dec 1st - Dec 25th). If previous years are anything to go by the cover a large variety of algorithms and are generally quite fun!\n",
    "\n",
    "Each year the puzzels are built around a central theme, with this year's theme being that we have been \"digitized\" into a computer, and must solve various problems from inside the machine."
   ]
  },
  {
   "cell_type": "markdown",
   "metadata": {},
   "source": [
    "# Day 0\n",
    "\n",
    "This portion contains various common pieces of code that'll be used on multiple days."
   ]
  },
  {
   "cell_type": "code",
   "execution_count": 1,
   "metadata": {},
   "outputs": [],
   "source": [
    "from itertools import cycle, count\n",
    "import os\n",
    "import re\n",
    "\n",
    "        \n",
    "def Input(day):\n",
    "    \"\"\"Fetch the data input from disk.\"\"\"\n",
    "    filename = os.path.join('../data/advent2017/input{}.txt'.format(day))\n",
    "    return open(filename)\n",
    "\n",
    "\n",
    "def neighbours4(x, y):\n",
    "    return (x - 1, y), (x + 1, y), (x, y - 1), (x, y + 1)\n",
    "\n",
    "\n",
    "def neighbours8(x, y):\n",
    "    return (\n",
    "        (x - 1, y), (x + 1, y), (x, y - 1), (x, y + 1),\n",
    "        (x - 1, y - 1), (x - 1, y + 1), (x + 1, y - 1), (x + 1, y + 1)\n",
    "    )\n",
    "\n",
    "\n",
    "def manhattan_distance(point1, point2):\n",
    "    return abs(point2[0] - point1[0]) + abs(point2[1] - point1[1])"
   ]
  },
  {
   "cell_type": "markdown",
   "metadata": {},
   "source": [
    "# [Day 1: Inverse Captcha](https://adventofcode.com/2017/day/1)\n",
    "\n",
    "We're greeted by a door, and must proove that we are _not_ human to continue. The first puzzle has us performing a captha that \"only a computer\" can solve. We're required to sum digits in a list where each digit matches the one immediately following it, wrapping to the start if we overflow."
   ]
  },
  {
   "cell_type": "code",
   "execution_count": 2,
   "metadata": {},
   "outputs": [
    {
     "data": {
      "text/plain": [
       "1182"
      ]
     },
     "execution_count": 2,
     "metadata": {},
     "output_type": "execute_result"
    }
   ],
   "source": [
    "def sum_if_match(nums, jump_distance):\n",
    "    total = 0\n",
    "    for index, n in enumerate(nums):\n",
    "        next_n = nums[(index + jump_distance) % len(nums)] \n",
    "        if n == next_n:\n",
    "            total += n\n",
    "    return total\n",
    "\n",
    "def sum_consecutive(data):\n",
    "    nums = list(map(int, data))\n",
    "    jump_distance = 1\n",
    "    return sum_if_match(nums, jump_distance)\n",
    "\n",
    "\n",
    "assert sum_consecutive('1122') == 3\n",
    "assert sum_consecutive('1111') == 4\n",
    "assert sum_consecutive('1234') == 0\n",
    "assert sum_consecutive('91212129') == 9\n",
    "\n",
    "sum_consecutive(Input(1).read().strip())"
   ]
  },
  {
   "cell_type": "markdown",
   "metadata": {},
   "source": [
    "For the second portion, we're again summing digits, but now only if we match the digit exactly _half the list_ away. At this point we can modify the initial code and provide a jump distance."
   ]
  },
  {
   "cell_type": "code",
   "execution_count": 3,
   "metadata": {},
   "outputs": [
    {
     "data": {
      "text/plain": [
       "1152"
      ]
     },
     "execution_count": 3,
     "metadata": {},
     "output_type": "execute_result"
    }
   ],
   "source": [
    "def sum_half(data):\n",
    "    nums = list(map(int, data))\n",
    "    jump_distance = len(nums) // 2\n",
    "    return sum_if_match(nums, jump_distance)\n",
    "    \n",
    "\n",
    "assert sum_half('1212') == 6\n",
    "assert sum_half('1221') == 0\n",
    "assert sum_half('123425') == 4\n",
    "assert sum_half('123123') == 12\n",
    "assert sum_half('12131415') == 4\n",
    "\n",
    "sum_half(Input(1).read().strip())"
   ]
  },
  {
   "cell_type": "markdown",
   "metadata": {},
   "source": [
    "# [Day 2: Corruption Checksum](https://adventofcode.com/2017/day/2)\n",
    "\n",
    "Here we're required to perform some data anaylsis on a spreadsheet calculating a checksum of each row by finding the difference of the max and min values."
   ]
  },
  {
   "cell_type": "code",
   "execution_count": 4,
   "metadata": {},
   "outputs": [
    {
     "data": {
      "text/plain": [
       "42378"
      ]
     },
     "execution_count": 4,
     "metadata": {},
     "output_type": "execute_result"
    }
   ],
   "source": [
    "def parse_input(data):\n",
    "    as_ints = []\n",
    "    for row in data.split('\\n'):\n",
    "        if not row:\n",
    "            break\n",
    "        nums = list(map(int, re.findall('\\d+', row)))\n",
    "        as_ints.append(nums)\n",
    "    return as_ints\n",
    "\n",
    "\n",
    "data = parse_input(Input(2).read())\n",
    "\n",
    "sum((max(row) - min(row) for row in data))"
   ]
  },
  {
   "cell_type": "markdown",
   "metadata": {},
   "source": [
    "The second portion requires us to find pairs of number in each row that are evenly divisible, and summing the result of their division. As we don't know in which order the pair will appear, I sort each row when meeting it."
   ]
  },
  {
   "cell_type": "code",
   "execution_count": 5,
   "metadata": {},
   "outputs": [
    {
     "data": {
      "text/plain": [
       "246"
      ]
     },
     "execution_count": 5,
     "metadata": {},
     "output_type": "execute_result"
    }
   ],
   "source": [
    "def sum_even_div(data):\n",
    "    total = 0\n",
    "    for nums in data:\n",
    "        nums = sorted(nums)\n",
    "        for i, x in enumerate(nums[:-1]):\n",
    "            for y in nums[i + 1:]:\n",
    "                if y % x == 0:\n",
    "                    total += y // x\n",
    "                    break\n",
    "    return total\n",
    "\n",
    "\n",
    "sum_even_div(data)"
   ]
  },
  {
   "cell_type": "markdown",
   "metadata": {},
   "source": [
    "# [Day 3: Spiral Memory](https://adventofcode.com/2017/day/3)\n",
    "\n",
    "We need to find the coordinate of an number when it's displayed in a spiral format. I.e.\n",
    "\n",
    "```\n",
    "17  16  15  14  13\n",
    "18   5   4   3  12\n",
    "19   6   1   2  11\n",
    "20   7   8   9  10\n",
    "21  22  23---> ...\n",
    "```\n",
    "\n",
    "I started this problem by working out an equation to find the location of the Nth element, without building the rest of the grid. While this worked well for the first part of the problem, the second part requires us to build a spiral grid anyway! (It's much smaller, but still.)"
   ]
  },
  {
   "cell_type": "code",
   "execution_count": 9,
   "metadata": {},
   "outputs": [
    {
     "data": {
      "text/plain": [
       "430"
      ]
     },
     "execution_count": 9,
     "metadata": {},
     "output_type": "execute_result"
    }
   ],
   "source": [
    "def find_coorindates(N):\n",
    "    \"\"\"Find the coordinates of N in a spiral matrix.\n",
    "    \n",
    "    We can find the shell that the number occurs in by\n",
    "    finding the upper limit for each shell and \n",
    "    \"\"\"\n",
    "    # First find the shell that the number appears in\n",
    "    # number of elements in each shell is 4*(n-1)\n",
    "    if N == 1:\n",
    "        return 0, 0\n",
    "\n",
    "    shell = 1\n",
    "    shell_size = 1\n",
    "    while N > shell_size ** 2:\n",
    "        shell += 1\n",
    "        shell_size += 2\n",
    "\n",
    "    shell_end = shell_size ** 2\n",
    "    shell_start = (shell_size - 2) ** 2\n",
    "    elms_in_shell = shell_end - shell_start\n",
    "    position_in_shell = N - shell_start\n",
    "    \n",
    "    side_length = elms_in_shell // 4\n",
    "    half_side = side_length // 2\n",
    "    \n",
    "    side = position_in_shell / elms_in_shell\n",
    "    \n",
    "    if side <= 0.25:\n",
    "        # right\n",
    "        x = half_side\n",
    "        y = (position_in_shell % side_length) - half_side\n",
    "    elif side <= 0.5:\n",
    "        # top\n",
    "        x = (position_in_shell % side_length) - half_side\n",
    "        y = half_side\n",
    "    elif side <= 0.75:\n",
    "        # left\n",
    "        x = -half_side\n",
    "        y = (position_in_shell % side_length) - half_side\n",
    "    else:\n",
    "        # bottom\n",
    "        x = (position_in_shell % side_length) - half_side\n",
    "        y = -half_side\n",
    "    return (x, y)\n",
    "    \n",
    "    \n",
    "def carry_distance(N):\n",
    "    x, y = find_coorindates(N)\n",
    "    return manhattan_distance((0, 0), (x, y))\n",
    "\n",
    "\n",
    "data = 312051\n",
    "assert carry_distance(1) == 0\n",
    "assert carry_distance(12) == 3\n",
    "assert carry_distance(23) == 2\n",
    "assert carry_distance(1024) == 31\n",
    "carry_distance(data)"
   ]
  },
  {
   "cell_type": "markdown",
   "metadata": {},
   "source": [
    "The second part requires us to perform a \"stress test\" to populate a spiral grid with values the sum of all adjacent cells in the grid. As we don't know the upper bound (and I don't know how to initialize an infinite grid that can be referenced arbitarily..) I went with a dictionay to store point references and their values. \n",
    "\n",
    "By combining two infinite generators that cycle through the directions we turn and the distances we need to travel, we build an a third infinite generator that contains all the steps we'll take."
   ]
  },
  {
   "cell_type": "code",
   "execution_count": 10,
   "metadata": {},
   "outputs": [
    {
     "data": {
      "text/plain": [
       "312453"
      ]
     },
     "execution_count": 10,
     "metadata": {},
     "output_type": "execute_result"
    }
   ],
   "source": [
    "from itertools import cycle, count\n",
    "\n",
    "def spiral_distances():\n",
    "    \"\"\"\"Yields 1, 1, 2, 2, 3, 3, ...\n",
    "    \n",
    "    As the spiral wraps around itself, we increase\n",
    "    the distance we travel by 1 every two distances.\n",
    "    \n",
    "    This is because every 2 distances we're moving in\n",
    "    the opposite direction, so to we increase the\n",
    "    distance to ensure we can move past the movement\n",
    "    we're now opposing.\n",
    "    \"\"\"\n",
    "    for distance in count(1):\n",
    "        for _ in (0, 1):\n",
    "            yield distance\n",
    "\n",
    "            \n",
    "def directions():\n",
    "    \"\"\"Yields R, U, L, D, R, U, L, D, ...\"\"\"\n",
    "    up = (0, -1)\n",
    "    down = (0, 1)\n",
    "    left = (-1, 0)\n",
    "    right = (1, 0)\n",
    "    return cycle((right, up, left, down))\n",
    "\n",
    "\n",
    "def spiral_movements():\n",
    "    for distance, direction in zip(spiral_distances(), directions()):\n",
    "        for _ in range(distance):\n",
    "            yield direction\n",
    "\n",
    "\n",
    "def stress_test(max_val):\n",
    "    grid = {}\n",
    "    x, y = 0, 0\n",
    "    grid[(x, y)] = 1\n",
    "    for direction in spiral_movements():\n",
    "        dx, dy = direction\n",
    "        x += dx\n",
    "        y += dy\n",
    "        val = sum(\n",
    "            grid.get(neighbour, 0)\n",
    "            for neighbour in neighbours8(x, y)\n",
    "        )\n",
    "\n",
    "        grid[(x, y)] = val\n",
    "\n",
    "        if val > max_val:\n",
    "            return val\n",
    "stress_test(data)\n",
    "    "
   ]
  },
  {
   "cell_type": "code",
   "execution_count": null,
   "metadata": {
    "collapsed": true
   },
   "outputs": [],
   "source": []
  }
 ],
 "metadata": {
  "kernelspec": {
   "display_name": "Python 3",
   "language": "python",
   "name": "python3"
  },
  "language_info": {
   "codemirror_mode": {
    "name": "ipython",
    "version": 3
   },
   "file_extension": ".py",
   "mimetype": "text/x-python",
   "name": "python",
   "nbconvert_exporter": "python",
   "pygments_lexer": "ipython3",
   "version": "3.6.3"
  }
 },
 "nbformat": 4,
 "nbformat_minor": 2
}
