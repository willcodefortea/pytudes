{
 "cells": [
  {
   "cell_type": "markdown",
   "metadata": {},
   "source": [
    "# [Advent of Code - 2017](https://adventofcode.com/2017)\n",
    "\n",
    "Advent of code is a puzzle solving website, two puzzles released for each day of advent (Dec 1st - Dec 25th). If previous years are anything to go by the cover a large variety of algorithms and are generally quite fun!\n",
    "\n",
    "Each year the puzzels are built around a central theme, with this year's theme being that we have been \"digitized\" into a computer, and must solve various problems from inside the machine."
   ]
  },
  {
   "cell_type": "markdown",
   "metadata": {},
   "source": [
    "# Day 0\n",
    "\n",
    "This portion contains various common pieces of code that'll be used on multiple days."
   ]
  },
  {
   "cell_type": "code",
   "execution_count": 70,
   "metadata": {},
   "outputs": [],
   "source": [
    "from collections import Counter, defaultdict\n",
    "from itertools import cycle, count\n",
    "import os\n",
    "import re\n",
    "\n",
    "\n",
    "cat = ''.join\n",
    "        \n",
    "def Input(day):\n",
    "    \"\"\"Fetch the data input from disk.\"\"\"\n",
    "    filename = os.path.join('../data/advent2017/input{}.txt'.format(day))\n",
    "    return open(filename)\n",
    "\n",
    "\n",
    "def neighbours4(x, y):\n",
    "    return (x - 1, y), (x + 1, y), (x, y - 1), (x, y + 1)\n",
    "\n",
    "\n",
    "def neighbours8(x, y):\n",
    "    return (\n",
    "        (x - 1, y), (x + 1, y), (x, y - 1), (x, y + 1),\n",
    "        (x - 1, y - 1), (x - 1, y + 1), (x + 1, y - 1), (x + 1, y + 1)\n",
    "    )\n",
    "\n",
    "\n",
    "def manhattan_distance(point1, point2):\n",
    "    return abs(point2[0] - point1[0]) + abs(point2[1] - point1[1])\n",
    "\n",
    "# TREES\n",
    "\n",
    "class Node(object):\n",
    "    def __init__(self, name):\n",
    "        self.name = name\n",
    "        self._children = []\n",
    "        self.parent = None\n",
    "        \n",
    "    def __repr__(self):\n",
    "        return '<Node 0x:{} name={}>'.format(\n",
    "            id(self),\n",
    "            self.name\n",
    "        )\n",
    "    \n",
    "    @property\n",
    "    def children(self):\n",
    "        \"\"\"Immutable set of the node's children.\"\"\"\n",
    "        return tuple(self._children)\n",
    "    \n",
    "    def add_child(self, child):\n",
    "        self._children.append(child)\n",
    "    \n",
    "    def remove_child(self, child):\n",
    "        self._children.remove(child)\n",
    "    \n",
    "    def add_parent(self, parent):\n",
    "        if self.parent:\n",
    "            self.parent.remove_child(self)\n",
    "\n",
    "        self.parent = parent\n",
    "\n",
    "        if self.parent:\n",
    "            self.parent.add_child(self)\n",
    "    \n",
    "    @property\n",
    "    def root(self):\n",
    "        if not self.parent:\n",
    "            return self\n",
    "        return self.parent.root\n",
    "    \n",
    "    @property\n",
    "    def decendants(self):\n",
    "        \"\"\"Visit all children.\"\"\"\n",
    "        iterator = visit_pre_order(self)\n",
    "        # Skip this node\n",
    "        next(iterator)\n",
    "        return iterator\n",
    "    \n",
    "    @property\n",
    "    def siblings(self):\n",
    "        for child in self.parent.children:\n",
    "            if child == self:\n",
    "                continue\n",
    "            yield child\n",
    "\n",
    "    \n",
    "def visit_pre_order(node):\n",
    "    \"\"\"Visit a Tree in pre-order.\n",
    "    \n",
    "      A\n",
    "     / \\\n",
    "    B   C\n",
    "    \n",
    "    A -> B -> C\n",
    "    \"\"\"\n",
    "    yield node\n",
    "    for child in node.children:\n",
    "        yield from visit_pre_order(child)"
   ]
  },
  {
   "cell_type": "markdown",
   "metadata": {},
   "source": [
    "# [Day 1: Inverse Captcha](https://adventofcode.com/2017/day/1)\n",
    "\n",
    "We're greeted by a door, and must proove that we are _not_ human to continue. The first puzzle has us performing a captha that \"only a computer\" can solve. We're required to sum digits in a list where each digit matches the one immediately following it, wrapping to the start if we overflow."
   ]
  },
  {
   "cell_type": "code",
   "execution_count": 2,
   "metadata": {},
   "outputs": [
    {
     "data": {
      "text/plain": [
       "1182"
      ]
     },
     "execution_count": 2,
     "metadata": {},
     "output_type": "execute_result"
    }
   ],
   "source": [
    "def sum_if_match(nums, jump_distance):\n",
    "    total = 0\n",
    "    for index, n in enumerate(nums):\n",
    "        next_n = nums[(index + jump_distance) % len(nums)] \n",
    "        if n == next_n:\n",
    "            total += n\n",
    "    return total\n",
    "\n",
    "def sum_consecutive(data):\n",
    "    nums = list(map(int, data))\n",
    "    jump_distance = 1\n",
    "    return sum_if_match(nums, jump_distance)\n",
    "\n",
    "\n",
    "assert sum_consecutive('1122') == 3\n",
    "assert sum_consecutive('1111') == 4\n",
    "assert sum_consecutive('1234') == 0\n",
    "assert sum_consecutive('91212129') == 9\n",
    "\n",
    "sum_consecutive(Input(1).read().strip())"
   ]
  },
  {
   "cell_type": "markdown",
   "metadata": {},
   "source": [
    "For the second portion, we're again summing digits, but now only if we match the digit exactly _half the list_ away. At this point we can modify the initial code and provide a jump distance."
   ]
  },
  {
   "cell_type": "code",
   "execution_count": 3,
   "metadata": {},
   "outputs": [
    {
     "data": {
      "text/plain": [
       "1152"
      ]
     },
     "execution_count": 3,
     "metadata": {},
     "output_type": "execute_result"
    }
   ],
   "source": [
    "def sum_half(data):\n",
    "    nums = list(map(int, data))\n",
    "    jump_distance = len(nums) // 2\n",
    "    return sum_if_match(nums, jump_distance)\n",
    "    \n",
    "\n",
    "assert sum_half('1212') == 6\n",
    "assert sum_half('1221') == 0\n",
    "assert sum_half('123425') == 4\n",
    "assert sum_half('123123') == 12\n",
    "assert sum_half('12131415') == 4\n",
    "\n",
    "sum_half(Input(1).read().strip())"
   ]
  },
  {
   "cell_type": "markdown",
   "metadata": {},
   "source": [
    "# [Day 2: Corruption Checksum](https://adventofcode.com/2017/day/2)\n",
    "\n",
    "Here we're required to perform some data anaylsis on a spreadsheet calculating a checksum of each row by finding the difference of the max and min values."
   ]
  },
  {
   "cell_type": "code",
   "execution_count": 4,
   "metadata": {},
   "outputs": [
    {
     "data": {
      "text/plain": [
       "42378"
      ]
     },
     "execution_count": 4,
     "metadata": {},
     "output_type": "execute_result"
    }
   ],
   "source": [
    "def parse_input(data):\n",
    "    as_ints = []\n",
    "    for row in data.split('\\n'):\n",
    "        if not row:\n",
    "            break\n",
    "        nums = list(map(int, re.findall('\\d+', row)))\n",
    "        as_ints.append(nums)\n",
    "    return as_ints\n",
    "\n",
    "\n",
    "data = parse_input(Input(2).read())\n",
    "\n",
    "sum((max(row) - min(row) for row in data))"
   ]
  },
  {
   "cell_type": "markdown",
   "metadata": {},
   "source": [
    "The second portion requires us to find pairs of number in each row that are evenly divisible, and summing the result of their division. As we don't know in which order the pair will appear, I sort each row when meeting it."
   ]
  },
  {
   "cell_type": "code",
   "execution_count": 5,
   "metadata": {},
   "outputs": [
    {
     "data": {
      "text/plain": [
       "246"
      ]
     },
     "execution_count": 5,
     "metadata": {},
     "output_type": "execute_result"
    }
   ],
   "source": [
    "def sum_even_div(data):\n",
    "    total = 0\n",
    "    for nums in data:\n",
    "        nums = sorted(nums)\n",
    "        for i, x in enumerate(nums[:-1]):\n",
    "            for y in nums[i + 1:]:\n",
    "                if y % x == 0:\n",
    "                    total += y // x\n",
    "                    break\n",
    "    return total\n",
    "\n",
    "\n",
    "sum_even_div(data)"
   ]
  },
  {
   "cell_type": "markdown",
   "metadata": {},
   "source": [
    "# [Day 3: Spiral Memory](https://adventofcode.com/2017/day/3)\n",
    "\n",
    "We need to find the coordinate of an number when it's displayed in a spiral format. I.e.\n",
    "\n",
    "```\n",
    "17  16  15  14  13\n",
    "18   5   4   3  12\n",
    "19   6   1   2  11\n",
    "20   7   8   9  10\n",
    "21  22  23---> ...\n",
    "```\n",
    "\n",
    "I started this problem by working out an equation to find the location of the Nth element, without building the rest of the grid. While this worked well for the first part of the problem, the second part requires us to build a spiral grid anyway! (It's much smaller, but still.)"
   ]
  },
  {
   "cell_type": "code",
   "execution_count": 105,
   "metadata": {},
   "outputs": [
    {
     "data": {
      "text/plain": [
       "430"
      ]
     },
     "execution_count": 105,
     "metadata": {},
     "output_type": "execute_result"
    }
   ],
   "source": [
    "def find_coorindates(N):\n",
    "    \"\"\"Find the coordinates of N in a spiral matrix.\n",
    "    \n",
    "    We can find the shell that the number occurs in by\n",
    "    finding the upper limit for each shell and \n",
    "    \"\"\"\n",
    "    # First find the shell that the number appears in\n",
    "    # number of elements in each shell is 4*(n-1)\n",
    "    if N == 1:\n",
    "        return 0, 0\n",
    "\n",
    "    shell = 1\n",
    "    shell_size = 1\n",
    "    while N > shell_size ** 2:\n",
    "        shell += 1\n",
    "        shell_size += 2\n",
    "\n",
    "    shell_end = shell_size ** 2\n",
    "    shell_start = (shell_size - 2) ** 2\n",
    "    elms_in_shell = shell_end - shell_start\n",
    "    position_in_shell = N - shell_start\n",
    "    \n",
    "    side_length = elms_in_shell // 4\n",
    "    half_side = side_length // 2\n",
    "    \n",
    "    side = position_in_shell / elms_in_shell\n",
    "    \n",
    "    if side <= 0.25:\n",
    "        # right\n",
    "        x = half_side\n",
    "        y = (position_in_shell % side_length) - half_side\n",
    "    elif side <= 0.5:\n",
    "        # top\n",
    "        x = (position_in_shell % side_length) - half_side\n",
    "        y = half_side\n",
    "    elif side <= 0.75:\n",
    "        # left\n",
    "        x = -half_side\n",
    "        y = (position_in_shell % side_length) - half_side\n",
    "    else:\n",
    "        # bottom\n",
    "        x = (position_in_shell % side_length) - half_side\n",
    "        y = -half_side\n",
    "    return (x, y)\n",
    "    \n",
    "    \n",
    "def carry_distance(N):\n",
    "    x, y = find_coorindates(N)\n",
    "    return manhattan_distance((0, 0), (x, y))\n",
    "\n",
    "\n",
    "data = 312051\n",
    "assert carry_distance(1) == 0\n",
    "assert carry_distance(12) == 3\n",
    "assert carry_distance(23) == 2\n",
    "assert carry_distance(1024) == 31\n",
    "carry_distance(data)"
   ]
  },
  {
   "cell_type": "markdown",
   "metadata": {},
   "source": [
    "The second part requires us to perform a \"stress test\" to populate a spiral grid with values the sum of all adjacent cells in the grid. As we don't know the upper bound (and I don't know how to initialize an infinite grid that can be referenced arbitarily..) I went with a dictionay to store point references and their values. \n",
    "\n",
    "By combining two infinite generators that cycle through the directions we turn and the distances we need to travel, we build an a third infinite generator that contains all the steps we'll take."
   ]
  },
  {
   "cell_type": "code",
   "execution_count": 106,
   "metadata": {},
   "outputs": [
    {
     "data": {
      "text/plain": [
       "312453"
      ]
     },
     "execution_count": 106,
     "metadata": {},
     "output_type": "execute_result"
    }
   ],
   "source": [
    "from itertools import cycle, count\n",
    "\n",
    "def spiral_distances():\n",
    "    \"\"\"\"Yields 1, 1, 2, 2, 3, 3, ...\n",
    "    \n",
    "    As the spiral wraps around itself, we increase\n",
    "    the distance we travel by 1 every two distances.\n",
    "    \n",
    "    This is because every 2 distances we're moving in\n",
    "    the opposite direction, so to we increase the\n",
    "    distance to ensure we can move past the movement\n",
    "    we're now opposing.\n",
    "    \"\"\"\n",
    "    for distance in count(1):\n",
    "        yield distance\n",
    "        yield distance\n",
    "\n",
    "            \n",
    "def directions():\n",
    "    \"\"\"Yields R, U, L, D, R, U, L, D, ...\"\"\"\n",
    "    up = (0, -1)\n",
    "    down = (0, 1)\n",
    "    left = (-1, 0)\n",
    "    right = (1, 0)\n",
    "    return cycle((right, up, left, down))\n",
    "\n",
    "\n",
    "def spiral_movements():\n",
    "    for distance, direction in zip(spiral_distances(), directions()):\n",
    "        for _ in range(distance):\n",
    "            yield direction\n",
    "\n",
    "\n",
    "def stress_test(max_val):\n",
    "    grid = {}\n",
    "    x, y = 0, 0\n",
    "    grid[(x, y)] = 1\n",
    "    for direction in spiral_movements():\n",
    "        dx, dy = direction\n",
    "        x += dx\n",
    "        y += dy\n",
    "        val = sum(\n",
    "            grid.get(neighbour, 0)\n",
    "            for neighbour in neighbours8(x, y)\n",
    "        )\n",
    "\n",
    "        grid[(x, y)] = val\n",
    "\n",
    "        if val > max_val:\n",
    "            return val\n",
    "stress_test(data)\n",
    "    "
   ]
  },
  {
   "cell_type": "markdown",
   "metadata": {},
   "source": [
    "# [Day 4: High-Entropy Passphrases](https://adventofcode.com/2017/day/4)\n",
    "\n",
    "W're tasked with checking the validity of a series of passphrases. A passphrase is considered valid if each word within the passphrase is unique."
   ]
  },
  {
   "cell_type": "code",
   "execution_count": 151,
   "metadata": {},
   "outputs": [
    {
     "data": {
      "text/plain": [
       "466"
      ]
     },
     "execution_count": 151,
     "metadata": {},
     "output_type": "execute_result"
    }
   ],
   "source": [
    "def is_valid(passphrase):\n",
    "    words = re.findall('\\w+', passphrase)\n",
    "    unique = set(words)\n",
    "    return len(unique) == len(words)\n",
    "\n",
    "def valid_passphrases(data):\n",
    "    return sum(\n",
    "        is_valid(passphrase)\n",
    "        for passphrase in data.split('\\n')\n",
    "    )\n",
    "    \n",
    "\n",
    "valid_passphrases(Input(4).read())"
   ]
  },
  {
   "cell_type": "markdown",
   "metadata": {},
   "source": [
    "Part two requires us to ensure that no anagrams are present."
   ]
  },
  {
   "cell_type": "code",
   "execution_count": 150,
   "metadata": {},
   "outputs": [
    {
     "data": {
      "text/plain": [
       "251"
      ]
     },
     "execution_count": 150,
     "metadata": {},
     "output_type": "execute_result"
    }
   ],
   "source": [
    "def is_valid(passphrase):\n",
    "    words = re.findall('\\w+', passphrase)\n",
    "    unique = set(\n",
    "        cat(sorted(w)) for w in words\n",
    "    )\n",
    "    return len(unique) == len(words)\n",
    "\n",
    "assert not is_valid('abcde xyz ecdab')\n",
    "\n",
    "valid_passphrases(Input(4).read())"
   ]
  },
  {
   "cell_type": "markdown",
   "metadata": {},
   "source": [
    "# [Day 5: A Maze of Twisty Trampolines, All Alike](https://adventofcode.com/2017/day/5)\n",
    "\n",
    "In this example we're following a series of jump instructions through an list that modify the jump distance once it's been performed. For each item in the list, `n`, we jump `n` steps away and increment the jump value in at that index by 1.\n",
    "\n",
    "Originally I didn't have the `increment_by` as a callable, and in doing so the program is noticably slowed (part two went from 7s to 9s), however it makes the second part trivial so I introduced it."
   ]
  },
  {
   "cell_type": "code",
   "execution_count": 153,
   "metadata": {},
   "outputs": [
    {
     "name": "stdout",
     "output_type": "stream",
     "text": [
      "CPU times: user 124 ms, sys: 2.4 ms, total: 126 ms\n",
      "Wall time: 125 ms\n"
     ]
    },
    {
     "data": {
      "text/plain": [
       "359348"
      ]
     },
     "execution_count": 153,
     "metadata": {},
     "output_type": "execute_result"
    }
   ],
   "source": [
    "def follow_instructions(data, increment_by=lambda n: 1):\n",
    "    instructions = list(map(int, re.findall('-?\\d+', data)))\n",
    "    step_count = 0\n",
    "    index = 0\n",
    "    while True:\n",
    "        try:\n",
    "            jump = instructions[index]\n",
    "        except IndexError:\n",
    "            break\n",
    "        instructions[index] += increment_by(jump)\n",
    "        index += jump\n",
    "        step_count += 1\n",
    "    return step_count\n",
    "\n",
    "test_input = \"\"\"\n",
    "0\n",
    "3\n",
    "0\n",
    "1\n",
    "-3\n",
    "\"\"\"\n",
    "assert follow_instructions(test_input) == 5\n",
    "\n",
    "% time follow_instructions(Input(5).read())"
   ]
  },
  {
   "cell_type": "markdown",
   "metadata": {},
   "source": [
    "The second part is the same as the first but this time we decrement the jump value if it's `>= 3`."
   ]
  },
  {
   "cell_type": "code",
   "execution_count": 154,
   "metadata": {},
   "outputs": [
    {
     "name": "stdout",
     "output_type": "stream",
     "text": [
      "CPU times: user 9.36 s, sys: 20.3 ms, total: 9.38 s\n",
      "Wall time: 9.39 s\n"
     ]
    },
    {
     "data": {
      "text/plain": [
       "27688760"
      ]
     },
     "execution_count": 154,
     "metadata": {},
     "output_type": "execute_result"
    }
   ],
   "source": [
    "increment_by = lambda n: -1 if n > 2 else 1\n",
    "assert follow_instructions(test_input, increment_by) == 10\n",
    "% time follow_instructions(Input(5).read(), increment_by)"
   ]
  },
  {
   "cell_type": "markdown",
   "metadata": {},
   "source": [
    "# [Day 6: Memory Reallocation](https://adventofcode.com/2017/day/6)\n",
    "\n",
    "We're tasked re-bucketing data, and dedecting any cyclical allocations. Given N buckets, take the maximum, set that bucket to zero and then add one for N to each other bucket in order, wrapping to the start.\n",
    "\n",
    "i.e.\n",
    "\n",
    "```\n",
    "    (0, 2, 7, 0) Initial state, 7 is highest so set to zero and distribute\n",
    "    (2, 4, 1, 2) 4 is now the highest\n",
    "    (3, 1, 2, 3) We have two threes, the first takes precedence\n",
    "    (0, 2, 3, 4) 4 is now the hightest\n",
    "    (1, 3, 4, 1) 4 again wins\n",
    "    (2, 4, 1, 2) *LOOP* We've seen this state before, and was detected on the 5th step.\n",
    "```\n",
    "\n",
    "As I'm generating this data as we go, I don't think there's any nifty algorithms that we can implement to detect a loop. Instead I just keep track of what's been seen and compare the current state.\n",
    "\n",
    "As we want to use a set to keep track of what we've seen there's a lot of conversion between lists and tuples, but this is a smaller trade off as the seen list can get quite large, so [O(1) member test compared to O(N)](https://wiki.python.org/moin/TimeComplexity) wins! (Using a list here takes ~20 times longer.)"
   ]
  },
  {
   "cell_type": "code",
   "execution_count": 254,
   "metadata": {},
   "outputs": [],
   "source": [
    "def redistribute_memory(banks):\n",
    "    seen = set()\n",
    "    \n",
    "    for cycle in count(1):\n",
    "        if banks in seen:\n",
    "            break\n",
    "        seen.add(banks)\n",
    "        banks = redistribute(banks)\n",
    "    return cycle - 1\n",
    "\n",
    "\n",
    "def redistribute(banks):\n",
    "    banks = list(banks)\n",
    "    blocks = max(banks)\n",
    "    max_index = banks.index(blocks)\n",
    "    \n",
    "    banks[max_index] = 0\n",
    "    \n",
    "    offset = max_index + 1\n",
    "    addition = blocks // len(banks)\n",
    "    extra_lim = blocks % len(banks)\n",
    "    \n",
    "    for i in range(len(banks)):\n",
    "        idx = (offset + i) % len(banks)\n",
    "        banks[idx] += addition\n",
    "        if i < extra_lim:\n",
    "            banks[idx] += 1\n",
    "    return tuple(banks)"
   ]
  },
  {
   "cell_type": "code",
   "execution_count": 255,
   "metadata": {},
   "outputs": [],
   "source": [
    "assert redistribute((0, 2, 7, 0)) == (2, 4, 1, 2)\n",
    "assert redistribute_memory((0, 2, 7, 0)) == 5"
   ]
  },
  {
   "cell_type": "code",
   "execution_count": 256,
   "metadata": {},
   "outputs": [
    {
     "data": {
      "text/plain": [
       "14029"
      ]
     },
     "execution_count": 256,
     "metadata": {},
     "output_type": "execute_result"
    }
   ],
   "source": [
    "banks = tuple(\n",
    "    int(num)\n",
    "    for num in re.findall('\\d+', Input(6).read())\n",
    ")\n",
    "redistribute_memory(banks)"
   ]
  },
  {
   "cell_type": "markdown",
   "metadata": {},
   "source": [
    "For part two we need to know the length of the loop. We can do this by keeping track of the original index of each memory bank and compare it to the index we're on when we reach the final bank."
   ]
  },
  {
   "cell_type": "code",
   "execution_count": 257,
   "metadata": {},
   "outputs": [],
   "source": [
    "def redistribute_memory2(banks):\n",
    "    seen = {}\n",
    "    \n",
    "    for cycle in count(1):\n",
    "        if banks in seen:\n",
    "            break\n",
    "        seen[banks] = cycle\n",
    "        banks = redistribute(banks)\n",
    "    return cycle - seen[banks] - 1"
   ]
  },
  {
   "cell_type": "code",
   "execution_count": 259,
   "metadata": {},
   "outputs": [
    {
     "data": {
      "text/plain": [
       "2764"
      ]
     },
     "execution_count": 259,
     "metadata": {},
     "output_type": "execute_result"
    }
   ],
   "source": [
    "redistribute_memory2(banks)"
   ]
  },
  {
   "cell_type": "markdown",
   "metadata": {},
   "source": [
    "# [Day 7: Recursive Circus](http://adventofcode.com/2017/day/7)\n",
    "\n",
    "Here we meet our first tree. This could probably be solved without such large data structures, but this may come up later so I think it's worth investing time into now."
   ]
  },
  {
   "cell_type": "code",
   "execution_count": 63,
   "metadata": {},
   "outputs": [],
   "source": [
    "class WeightedNode(Node):\n",
    "    def __init__(self, name, weight):\n",
    "        self.weight = weight\n",
    "        super().__init__(name)\n",
    "        \n",
    "    @property\n",
    "    def decendant_weight(self):\n",
    "        return sum(child.weight for child in self.decendants)\n",
    "    \n",
    "    @property\n",
    "    def total_weight(self):\n",
    "        return self.weight + self.decendant_weight\n",
    "\n",
    "\n",
    "def parse_input(data):\n",
    "    chunks = re.findall(\"(\\w+) \\((\\d+)\\)(?: -> ([a-z, ]+))?\", data)\n",
    "    \n",
    "    nodes = {\n",
    "        name: WeightedNode(name, int(weight))\n",
    "        for name, weight, _\n",
    "        in chunks\n",
    "    }\n",
    "    \n",
    "    for name, _, children in chunks:\n",
    "        if not children:\n",
    "            continue\n",
    "        node = nodes[name]\n",
    "        for child_name in children.split(', '):\n",
    "            nodes[child_name].add_parent(node)\n",
    "\n",
    "    # We can use any node here.\n",
    "    return node.root"
   ]
  },
  {
   "cell_type": "code",
   "execution_count": 59,
   "metadata": {},
   "outputs": [],
   "source": [
    "test_input = \"\"\"\n",
    "pbga (66)\n",
    "xhth (57)\n",
    "ebii (61)\n",
    "havc (66)\n",
    "ktlj (57)\n",
    "fwft (72) -> ktlj, cntj, xhth\n",
    "qoyq (66)\n",
    "padx (45) -> pbga, havc, qoyq\n",
    "tknk (41) -> ugml, padx, fwft\n",
    "jptl (61)\n",
    "ugml (68) -> gyxo, ebii, jptl\n",
    "gyxo (61)\n",
    "cntj (57)\n",
    "\"\"\"\n",
    "\n",
    "test_root = parse_input(test_input)\n",
    "assert test_root.name == 'tknk'"
   ]
  },
  {
   "cell_type": "code",
   "execution_count": 61,
   "metadata": {},
   "outputs": [
    {
     "data": {
      "text/plain": [
       "'hmvwl'"
      ]
     },
     "execution_count": 61,
     "metadata": {},
     "output_type": "execute_result"
    }
   ],
   "source": [
    "root = parse_input(Input(7).read())\n",
    "root.name"
   ]
  },
  {
   "cell_type": "markdown",
   "metadata": {},
   "source": [
    "For the second part I needed to find the node lowest in the tree that has a different total weight than it's siblings and calculate what the weight _should_ be. As we know there's only a single node that's the problem, from the root we can identify the node that's incorrect and focus on that subtree until it's no longer incorrect."
   ]
  },
  {
   "cell_type": "code",
   "execution_count": 62,
   "metadata": {},
   "outputs": [
    {
     "data": {
      "text/plain": [
       "1853"
      ]
     },
     "execution_count": 62,
     "metadata": {},
     "output_type": "execute_result"
    }
   ],
   "source": [
    "def find_total_weights(node):\n",
    "    while True:\n",
    "        weights = [\n",
    "            child.total_weight\n",
    "            for child in node.children\n",
    "        ]\n",
    "        if len(set(weights)) == 1:\n",
    "            # No problems, all weights are the same.\n",
    "            # The problematic node was in the previous\n",
    "            # iteration.\n",
    "            break\n",
    "        \n",
    "        # There are two distinct values, take the second\n",
    "        # most common to give us the odd one out.\n",
    "        incorrect_value = Counter(weights).most_common(2)[1][0]\n",
    "        incorrect_index = weights.index(incorrect_value)\n",
    "        node = node.children[incorrect_index]\n",
    "\n",
    "    target_weight = next(node.siblings).total_weight\n",
    "    diff = target_weight - node.total_weight\n",
    "    return node.weight + diff\n",
    "\n",
    "\n",
    "find_total_weights(root)"
   ]
  },
  {
   "cell_type": "markdown",
   "metadata": {},
   "source": [
    "# [Day 8: I Heard You Like Registers](http://adventofcode.com/2017/day/8)\n",
    "\n",
    "For this puzzle we have to perform a series of conditional operations based on the values of some \"register\". All of python's conditional operations call magic methods under the hood. i.e. `A > B` is transformed to `A.__gt__(b)`. These operators are mapped to functions within the operator module.\n",
    "\n",
    "As we don't know the number of registers that will be referenced, I use a default dict that can grow to whatever's required. The addition of the `__MAX__` flag is for the second part of the question, which wants to know what the largest value seen was."
   ]
  },
  {
   "cell_type": "code",
   "execution_count": 123,
   "metadata": {},
   "outputs": [],
   "source": [
    "from operator import gt, lt, ge, le, eq, ne\n",
    "\n",
    "def perform_instructions(instructions):\n",
    "    instructions = list(parse_instructions(instructions))\n",
    "    regs =  defaultdict(int)\n",
    "    \n",
    "    for reg, op, amount, test in instructions:\n",
    "        test_reg, test_op, test_val = test\n",
    "        \n",
    "        if not test_op(regs[test_reg], test_val):\n",
    "            # Test failed, skip operation\n",
    "            continue\n",
    "            \n",
    "        if   op == 'inc': regs[reg] += amount\n",
    "        elif op == 'dec': regs[reg] -= amount\n",
    "            \n",
    "        if regs[reg] > regs['__MAX__']:\n",
    "            regs['__MAX__'] = regs[reg]\n",
    "\n",
    "    return regs\n",
    "\n",
    "\n",
    "def parse_instructions(instructions):\n",
    "    op_map = {\n",
    "        '>': gt,\n",
    "        '<': lt,\n",
    "        '>=': ge,\n",
    "        '<=': le,\n",
    "        '==': eq,\n",
    "        '!=': ne\n",
    "    }\n",
    "    for d in re.findall('(\\w+) (\\w+) (-?\\d+) if (\\w+) ([><=!]+) (-?\\d+)', instructions):\n",
    "        reg, op, amount, test_reg, test_op, test = d\n",
    "        yield (\n",
    "            reg, op, int(amount), (test_reg, op_map[test_op], int(test))\n",
    "        )\n",
    "       \n",
    "    \n",
    "max_reg_val = lambda regs: max(\n",
    "    val\n",
    "    for key, val in regs.items()\n",
    "    if key != '__MAX__'\n",
    ")"
   ]
  },
  {
   "cell_type": "code",
   "execution_count": 124,
   "metadata": {},
   "outputs": [],
   "source": [
    "test_instructions = \"\"\"\n",
    "b inc 5 if a > 1\n",
    "a inc 1 if b < 5\n",
    "c dec -10 if a >= 1\n",
    "c inc -20 if c == 10\n",
    "\"\"\"\n",
    "regs = perform_instructions(test_instructions)\n",
    "assert max_reg_val(regs) == 1"
   ]
  },
  {
   "cell_type": "code",
   "execution_count": 125,
   "metadata": {},
   "outputs": [
    {
     "data": {
      "text/plain": [
       "5143"
      ]
     },
     "execution_count": 125,
     "metadata": {},
     "output_type": "execute_result"
    }
   ],
   "source": [
    "regs = perform_instructions(Input(8).read())\n",
    "max_reg_val(regs)"
   ]
  },
  {
   "cell_type": "code",
   "execution_count": 126,
   "metadata": {},
   "outputs": [
    {
     "data": {
      "text/plain": [
       "6209"
      ]
     },
     "execution_count": 126,
     "metadata": {},
     "output_type": "execute_result"
    }
   ],
   "source": [
    "regs['__MAX__']"
   ]
  },
  {
   "cell_type": "code",
   "execution_count": null,
   "metadata": {},
   "outputs": [],
   "source": []
  }
 ],
 "metadata": {
  "kernelspec": {
   "display_name": "Python 3",
   "language": "python",
   "name": "python3"
  },
  "language_info": {
   "codemirror_mode": {
    "name": "ipython",
    "version": 3
   },
   "file_extension": ".py",
   "mimetype": "text/x-python",
   "name": "python",
   "nbconvert_exporter": "python",
   "pygments_lexer": "ipython3",
   "version": "3.5.2"
  }
 },
 "nbformat": 4,
 "nbformat_minor": 2
}
