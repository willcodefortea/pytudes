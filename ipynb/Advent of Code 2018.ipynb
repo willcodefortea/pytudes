{
 "cells": [
  {
   "cell_type": "markdown",
   "metadata": {},
   "source": [
    "# [Advent of Code 2018](https://adventofcode.com/2018)"
   ]
  },
  {
   "cell_type": "markdown",
   "metadata": {},
   "source": [
    "A collection of common functions to be used across problems, will add more as a generic use case for each comes up!"
   ]
  },
  {
   "cell_type": "code",
   "execution_count": 1,
   "metadata": {},
   "outputs": [],
   "source": [
    "import heapq\n",
    "import os\n",
    "import re\n",
    "from collections import Counter, defaultdict, namedtuple\n",
    "from datetime import datetime\n",
    "from itertools import cycle\n",
    "from string import ascii_uppercase\n",
    "\n",
    "\n",
    "cat = ''.join\n",
    "\n",
    "\n",
    "Point = namedtuple('Point', 'x,y')\n",
    "\n",
    "\n",
    "def Input(day):\n",
    "    \"\"\"Fetch the data input from disk.\"\"\"\n",
    "    filename = os.path.join('../data/advent2018/input{}.txt'.format(day))\n",
    "    return open(filename)\n",
    "\n",
    "\n",
    "def hamming_distance(s1, s2):\n",
    "    \"\"\"Number of non equal characters between two strings.\"\"\"\n",
    "    assert len(s1) == len(s2), 'Strings are not equal length'\n",
    "    return sum(\n",
    "        char1 != char2\n",
    "        for char1, char2\n",
    "        in zip(s1, s2)\n",
    "    )\n",
    "\n",
    "\n",
    "def chunks(l, n):\n",
    "    \"\"\"Yield successive n-sized chunks from l.\"\"\"\n",
    "    for i in range(0, len(l), n):\n",
    "        yield l[i:i + n]\n",
    "        \n",
    "\n",
    "def manhattan_distance(p1, p2):\n",
    "    return sum(\n",
    "        abs(a - b) for a, b in zip(p1, p2)\n",
    "    )\n",
    "\n",
    "\n",
    "# Trees\n",
    "\n",
    "class Node(object):\n",
    "    def __init__(self, name):\n",
    "        self.name = name\n",
    "        self._children = []\n",
    "        self.parent = None\n",
    "        \n",
    "    def __repr__(self):\n",
    "        return '<Node 0x:{} name={}>'.format(\n",
    "            id(self),\n",
    "            self.name\n",
    "        )\n",
    "    \n",
    "    @property\n",
    "    def children(self):\n",
    "        return tuple(self._children)\n",
    "    \n",
    "    @children.setter\n",
    "    def children(self, value):\n",
    "        for val in value:\n",
    "            self.add_child(val)\n",
    "    \n",
    "    def add_child(self, child):\n",
    "        self._children.append(child)\n",
    "    \n",
    "    def remove_child(self, child):\n",
    "        self._children.remove(child)\n",
    "    \n",
    "    def add_parent(self, parent):\n",
    "        if self.parent:\n",
    "            self.parent.remove_child(self)\n",
    "\n",
    "        self.parent = parent\n",
    "\n",
    "        if self.parent:\n",
    "            self.parent.add_child(self)\n",
    "    \n",
    "    @property\n",
    "    def root(self):\n",
    "        if not self.parent:\n",
    "            return self\n",
    "        return self.parent.root\n",
    "    \n",
    "    @property\n",
    "    def decendants(self):\n",
    "        iterator = visit_pre_order(self)\n",
    "        # Skip this node\n",
    "        next(iterator)\n",
    "        return iterator\n",
    "    \n",
    "    @property\n",
    "    def siblings(self):\n",
    "        for child in self.parent.children:\n",
    "            if child == self:\n",
    "                continue\n",
    "            yield child\n",
    "            \n",
    "    @property\n",
    "    def ancestors(self):\n",
    "        node = self\n",
    "        while node.parent:\n",
    "            yield node.parent\n",
    "            node = node.parent\n",
    "            \n",
    "    @property\n",
    "    def root(self):\n",
    "        root = None\n",
    "        for parent in self.ancestors:\n",
    "            root = parent\n",
    "        return root\n",
    "    \n",
    "    @property\n",
    "    def height(self):\n",
    "        return len(list(self.ancestors))\n",
    "\n",
    "\n",
    "def visit_pre_order(node):\n",
    "    \"\"\"Visit a Tree in pre-order.\n",
    "    \n",
    "      A\n",
    "     / \\\n",
    "    B   C\n",
    "    \n",
    "    A -> B -> C\n",
    "    \"\"\"\n",
    "    yield node\n",
    "    for child in node.children:\n",
    "        yield from visit_pre_order(child)"
   ]
  },
  {
   "cell_type": "markdown",
   "metadata": {},
   "source": [
    "## [Day 1: Chronal Calibration](https://adventofcode.com/2018/day/1)\n",
    "\n",
    "The first part simply requires us to sum the values in a list to apply all the changes from the given delas."
   ]
  },
  {
   "cell_type": "code",
   "execution_count": 2,
   "metadata": {},
   "outputs": [],
   "source": [
    "def parse_input(initial_data):\n",
    "    res = []\n",
    "    for data in initial_data.readlines():\n",
    "        res.append(int(data))\n",
    "    return res\n",
    "\n",
    "data = parse_input(Input(1))"
   ]
  },
  {
   "cell_type": "code",
   "execution_count": 3,
   "metadata": {},
   "outputs": [
    {
     "data": {
      "text/plain": [
       "525"
      ]
     },
     "execution_count": 3,
     "metadata": {},
     "output_type": "execute_result"
    }
   ],
   "source": [
    "sum(data)"
   ]
  },
  {
   "cell_type": "markdown",
   "metadata": {},
   "source": [
    "Second portion requires us to find the first repeated value if we continually sum items in the delta list. A set is ideal here as it's O(1) for membership tests."
   ]
  },
  {
   "cell_type": "code",
   "execution_count": 4,
   "metadata": {},
   "outputs": [],
   "source": [
    "def find_first_repeat(deltas):\n",
    "    seen = set([0])\n",
    "    position = 0\n",
    "    \n",
    "    for delta in cycle(deltas):\n",
    "        position += delta\n",
    "        if position in seen:\n",
    "            break\n",
    "        seen.add(position)\n",
    "    return position\n",
    "\n",
    "assert find_first_repeat([7, 7, -2, -7, -4]) == 14"
   ]
  },
  {
   "cell_type": "code",
   "execution_count": 5,
   "metadata": {},
   "outputs": [
    {
     "data": {
      "text/plain": [
       "75749"
      ]
     },
     "execution_count": 5,
     "metadata": {},
     "output_type": "execute_result"
    }
   ],
   "source": [
    "find_first_repeat(data)"
   ]
  },
  {
   "cell_type": "markdown",
   "metadata": {},
   "source": [
    "# [Day 2: Inventory Management System](https://adventofcode.com/2018/day/2)"
   ]
  },
  {
   "cell_type": "code",
   "execution_count": 6,
   "metadata": {},
   "outputs": [],
   "source": [
    "data = [line.strip() for line in Input(2).readlines()]"
   ]
  },
  {
   "cell_type": "code",
   "execution_count": 7,
   "metadata": {},
   "outputs": [
    {
     "data": {
      "text/plain": [
       "6944"
      ]
     },
     "execution_count": 7,
     "metadata": {},
     "output_type": "execute_result"
    }
   ],
   "source": [
    "from collections import Counter\n",
    "\n",
    "def calculate_checksum(data):\n",
    "    num_threes = 0\n",
    "    num_twos = 0\n",
    "    for line in data:\n",
    "        counts = Counter(line)\n",
    "        if 3 in counts.values():\n",
    "            num_threes += 1\n",
    "        if 2 in counts.values():\n",
    "            num_twos += 1\n",
    "        \n",
    "    return num_threes * num_twos\n",
    "\n",
    "\n",
    "test_data = [\n",
    "    \"abcdef\",\n",
    "    \"bababc\",\n",
    "    \"abbcde\",\n",
    "    \"abcccd\",\n",
    "    \"aabcdd\",\n",
    "    \"abcdee\",\n",
    "    \"ababab\",\n",
    "]\n",
    "assert calculate_checksum(test_data) == 12\n",
    "calculate_checksum(data)\n",
    "    "
   ]
  },
  {
   "cell_type": "markdown",
   "metadata": {},
   "source": [
    "We're told that we need to find two strings that have only one character difference between them, this is also known as the the [Hamming Distance](https://en.wikipedia.org/wiki/Hamming_distance). So we're looking for two strings for which the hamming distance bewteen them is one, simple enough!"
   ]
  },
  {
   "cell_type": "code",
   "execution_count": 8,
   "metadata": {},
   "outputs": [
    {
     "data": {
      "text/plain": [
       "'srijafjzloguvlntqmphenbkd'"
      ]
     },
     "execution_count": 8,
     "metadata": {},
     "output_type": "execute_result"
    }
   ],
   "source": [
    "def find_boxes(data):\n",
    "    for index, row in enumerate(data[:-1]):\n",
    "        for comparison in data[index:]:\n",
    "            if hamming_distance(row, comparison) == 1:\n",
    "                same_chars = [\n",
    "                    char1\n",
    "                    for (char1, char2) in zip(row, comparison)\n",
    "                    if char1 == char2\n",
    "                ]\n",
    "                return ''.join(same_chars)\n",
    "\n",
    "find_boxes(data)"
   ]
  },
  {
   "cell_type": "markdown",
   "metadata": {},
   "source": [
    "## [Day 3: No Matter How You Slice It](https://adventofcode.com/2018/day/3)"
   ]
  },
  {
   "cell_type": "code",
   "execution_count": 9,
   "metadata": {},
   "outputs": [
    {
     "data": {
      "text/plain": [
       "110827"
      ]
     },
     "execution_count": 9,
     "metadata": {},
     "output_type": "execute_result"
    }
   ],
   "source": [
    "def parse_input(data):\n",
    "    reg = re.compile('#(\\d+) @ (\\d+),(\\d+): (\\d+)x(\\d+)')\n",
    "    datum = namedtuple('datum', 'claim,left,top,width,height')\n",
    "    parsed = []\n",
    "    for line in data:\n",
    "        match = reg.match(line)\n",
    "        \n",
    "        parsed.append(\n",
    "            datum(*[int(i) for i in match.groups()])\n",
    "        )\n",
    "    return parsed\n",
    "\n",
    "\n",
    "def find_overlaps(data):\n",
    "    overlaps = defaultdict(list)\n",
    "    repeated = 0\n",
    "    \n",
    "    for datum in data:\n",
    "        for x in range(datum.width):\n",
    "            for y in range(datum.height):\n",
    "                p = Point(datum.left + x, datum.top + y)\n",
    "                overlaps[p].append(datum.claim)\n",
    "    return overlaps\n",
    "\n",
    "\n",
    "def count_overlaps(data):\n",
    "    overlaps = find_overlaps(data)\n",
    "    return len([\n",
    "        claims for claims in overlaps.values()\n",
    "        if len(claims) > 1\n",
    "    ])\n",
    "    \n",
    "        \n",
    "test_data = [\n",
    "    '#1 @ 1,3: 4x4',\n",
    "    '#2 @ 3,1: 4x4',\n",
    "    '#3 @ 5,5: 2x2',\n",
    "]\n",
    "test_data = parse_input(test_data)\n",
    "assert count_overlaps(test_data) == 4\n",
    "\n",
    "data = parse_input(Input(3).readlines())\n",
    "count_overlaps(data)"
   ]
  },
  {
   "cell_type": "code",
   "execution_count": 10,
   "metadata": {},
   "outputs": [
    {
     "data": {
      "text/plain": [
       "116"
      ]
     },
     "execution_count": 10,
     "metadata": {},
     "output_type": "execute_result"
    }
   ],
   "source": [
    "def find_unique(data):\n",
    "    remainin_claims = set(\n",
    "        datum.claim for datum in data\n",
    "    )\n",
    "    overlaps = find_overlaps(data)\n",
    "    \n",
    "    for claims in overlaps.values():\n",
    "        if len(claims) == 1:\n",
    "            continue\n",
    "        remainin_claims -= set(claims)\n",
    "    assert len(list(remainin_claims)) == 1\n",
    "    return list(remainin_claims)[0]\n",
    "\n",
    "\n",
    "assert find_unique(test_data) == 3\n",
    "find_unique(data)"
   ]
  },
  {
   "cell_type": "markdown",
   "metadata": {},
   "source": [
    "## [Day 4: Repose Record](https://adventofcode.com/2018/day/4)\n",
    "\n",
    "The most fiddly portion of this problem was just parsing the data! The incoming events log are stateful, in that the current line applies to the most recently seen guard id."
   ]
  },
  {
   "cell_type": "code",
   "execution_count": 11,
   "metadata": {},
   "outputs": [],
   "source": [
    "Event = namedtuple('Event', 'asleep,wake_up')\n",
    "\n",
    "\n",
    "def parse_data(lines):\n",
    "    \"\"\"\n",
    "        Sort random order events before grouping them into\n",
    "        (alseep, wake_up) datetime pairs.\n",
    "    \"\"\"\n",
    "    data = []\n",
    "    \n",
    "    for line in lines:\n",
    "        date_str = line[1:17]\n",
    "        event = line[19:]\n",
    "        data.append(\n",
    "            (\n",
    "                datetime.strptime(date_str, '%Y-%m-%d %H:%M'),\n",
    "                event\n",
    "            )\n",
    "        )\n",
    "    data = sorted(data)\n",
    "    \n",
    "    guard_events = defaultdict(list)\n",
    "\n",
    "    current_guard = None\n",
    "    data_iter = iter(data)\n",
    "    try:\n",
    "        while True:\n",
    "            event = next(data_iter)\n",
    "            guard_number = re.match('Guard #(\\d+)', event[1])\n",
    "            \n",
    "            if guard_number:\n",
    "                current_guard = int(guard_number.groups()[0])\n",
    "                asleep = next(data_iter)\n",
    "            else:\n",
    "                asleep = event\n",
    "\n",
    "            wakes_up = next(data_iter)\n",
    "\n",
    "            guard_events[current_guard].append(\n",
    "                Event(\n",
    "                    asleep[0],\n",
    "                    wakes_up[0]\n",
    "                )\n",
    "            )\n",
    "\n",
    "    except StopIteration:\n",
    "        pass        \n",
    "    return guard_events"
   ]
  },
  {
   "cell_type": "markdown",
   "metadata": {},
   "source": [
    "Phew, now that that's done we can get on with the problem!\n",
    "\n",
    "All we need to do here is find the guard that's spent the most time asleep, the multiple the time he's most likely to be asleep (i.e the most observed sleepiest minute) and multiple that by the guard's id."
   ]
  },
  {
   "cell_type": "code",
   "execution_count": 12,
   "metadata": {},
   "outputs": [
    {
     "data": {
      "text/plain": [
       "101262"
      ]
     },
     "execution_count": 12,
     "metadata": {},
     "output_type": "execute_result"
    }
   ],
   "source": [
    "def minutes_asleep(guard_events):\n",
    "    sleep_counter = defaultdict(int)\n",
    "    \n",
    "    for guard, events in guard_events.items():\n",
    "        for asleep, wake_up in events:\n",
    "            sleep_counter[guard] += wake_up.minute - asleep.minute\n",
    "            \n",
    "    return sleep_counter\n",
    "\n",
    "\n",
    "def most_common_time_asleep(sleepiest_events):\n",
    "    min_counter = Counter()\n",
    "    for asleep, awake in sleepiest_events:\n",
    "        min_counter.update(\n",
    "            range(asleep.minute, awake.minute)\n",
    "        )\n",
    "    return min_counter.most_common(1)[0][0]\n",
    "\n",
    "    \n",
    "def strat_1(guard_events):\n",
    "    sleep_counter = minutes_asleep(guard_events)\n",
    "\n",
    "    sleepiest_guard = None\n",
    "    max_time_asleep = 0\n",
    "    for guard, time_asleep in sleep_counter.items():\n",
    "        if time_asleep > max_time_asleep:\n",
    "            max_time_asleep = time_asleep\n",
    "            sleepiest_guard = guard\n",
    "    \n",
    "    common_minute = most_common_time_asleep(\n",
    "        guard_events[sleepiest_guard]\n",
    "    )\n",
    "    return sleepiest_guard * common_minute\n",
    "\n",
    "    \n",
    "\n",
    "test_data = [\n",
    "    '[1518-11-01 00:00] Guard #10 begins shift',\n",
    "    '[1518-11-01 00:05] falls asleep',\n",
    "    '[1518-11-01 00:25] wakes up',\n",
    "    '[1518-11-01 00:30] falls asleep',\n",
    "    '[1518-11-01 00:55] wakes up',\n",
    "    '[1518-11-01 23:58] Guard #99 begins shift',\n",
    "    '[1518-11-02 00:40] falls asleep',\n",
    "    '[1518-11-02 00:50] wakes up',\n",
    "    '[1518-11-03 00:05] Guard #10 begins shift',\n",
    "    '[1518-11-03 00:24] falls asleep',\n",
    "    '[1518-11-03 00:29] wakes up',\n",
    "    '[1518-11-04 00:02] Guard #99 begins shift',\n",
    "    '[1518-11-04 00:36] falls asleep',\n",
    "    '[1518-11-04 00:46] wakes up',\n",
    "    '[1518-11-05 00:03] Guard #99 begins shift',\n",
    "    '[1518-11-05 00:45] falls asleep',\n",
    "    '[1518-11-05 00:55] wakes up',\n",
    "]\n",
    "\n",
    "test_data = parse_data(test_data)\n",
    "assert strat_1(test_data) == 240\n",
    "data = parse_data(Input(4).readlines())\n",
    "strat_1(data)"
   ]
  },
  {
   "cell_type": "markdown",
   "metadata": {},
   "source": [
    "In part two we're required to find the most common time to be asleep across all guards, and multuple that by the guard responsible for being asleep at that time."
   ]
  },
  {
   "cell_type": "code",
   "execution_count": 13,
   "metadata": {},
   "outputs": [
    {
     "data": {
      "text/plain": [
       "71976"
      ]
     },
     "execution_count": 13,
     "metadata": {},
     "output_type": "execute_result"
    }
   ],
   "source": [
    "def strat_2(guard_events):\n",
    "    guard_counters = defaultdict(Counter)\n",
    "    for guard, events in guard_events.items():\n",
    "        for asleep, awake in events:\n",
    "            guard_counters[guard].update(\n",
    "                range(asleep.minute, awake.minute)\n",
    "            )\n",
    "\n",
    "    most_occurances = 0\n",
    "    most_occurances_minute = 0\n",
    "    most_occurances_guard = 0\n",
    "    for guard, counter in guard_counters.items():\n",
    "        most_common_min, occurances = counter.most_common(1)[0]\n",
    "        if occurances > most_occurances:\n",
    "            most_occurances = occurances\n",
    "            most_occurances_minute = most_common_min\n",
    "            most_occurances_guard = guard\n",
    "            \n",
    "    return most_occurances_guard * most_occurances_minute\n",
    "            \n",
    "    \n",
    "assert strat_2(test_data) == 4455\n",
    "strat_2(data)"
   ]
  },
  {
   "cell_type": "markdown",
   "metadata": {},
   "source": [
    "## [Day 5: Alchemical Reduction](https://adventofcode.com/2018/day/5)\n",
    "\n",
    "This day specifically came with a warning about the size of the input data, so I downloaded it directly. This contained a new line which I did not strip, so got the wrong result for quite a while!\n",
    "\n",
    "(This was rewritten to a more elegant solution thanks to [jumpertown's](https://github.com/jumpertown/aoc/blob/master/2018/Day_5_Alchemical_Reduction.ipynb) work! Much, much nicer, and an improved learning experience for me!"
   ]
  },
  {
   "cell_type": "code",
   "execution_count": 14,
   "metadata": {},
   "outputs": [
    {
     "data": {
      "text/plain": [
       "9462"
      ]
     },
     "execution_count": 14,
     "metadata": {},
     "output_type": "execute_result"
    }
   ],
   "source": [
    "def does_react(c1, c2):\n",
    "    return c1 != c2 and c1.lower() == c2.lower()\n",
    "\n",
    "\n",
    "def reduce_polymer(data, remove_unit=''):\n",
    "    if remove_unit:\n",
    "        data = data.replace(remove_unit.lower(), '')\n",
    "        data = data.replace(remove_unit.upper(), '')\n",
    "\n",
    "    reduced = []\n",
    "\n",
    "    for char in data:\n",
    "        if reduced and does_react(char, reduced[-1]):\n",
    "            reduced.pop()\n",
    "        else:\n",
    "            reduced.append(char)\n",
    "    \n",
    "    return cat(reduced)\n",
    "\n",
    "\n",
    "\n",
    "test_input = 'dabAcCaCBAcCcaDA'\n",
    "assert reduce_polymer(test_input) == 'dabCBAcaDA'\n",
    "\n",
    "data = Input(5).read()\n",
    "len(reduce_polymer(data))"
   ]
  },
  {
   "cell_type": "code",
   "execution_count": 15,
   "metadata": {},
   "outputs": [
    {
     "data": {
      "text/plain": [
       "4952"
      ]
     },
     "execution_count": 15,
     "metadata": {},
     "output_type": "execute_result"
    }
   ],
   "source": [
    "def ultimate_reduction(data):\n",
    "    chars = set(data.lower())\n",
    "    shortest = len(data)\n",
    "    for char in chars:\n",
    "        reduced = reduce_polymer(data, char)\n",
    "        if len(reduced) < shortest:\n",
    "            shortest = len(reduced)\n",
    "    return shortest\n",
    "\n",
    "\n",
    "assert ultimate_reduction(test_input) == 4\n",
    "ultimate_reduction(data)"
   ]
  },
  {
   "cell_type": "markdown",
   "metadata": {},
   "source": [
    "## [Day 6: Chronal Coordinates](https://adventofcode.com/2018/day/6)\n",
    "\n",
    "Annoyingly this day had a bug in the solution submission, which affected enough people for the scoreboard contributions to be cleared on this day - not that I would have ranked of course, but still infuriating when your rather simple solution is somehow incorrect..."
   ]
  },
  {
   "cell_type": "code",
   "execution_count": 16,
   "metadata": {},
   "outputs": [
    {
     "data": {
      "text/plain": [
       "3660"
      ]
     },
     "execution_count": 16,
     "metadata": {},
     "output_type": "execute_result"
    }
   ],
   "source": [
    "def parse_input(data):\n",
    "    points = []\n",
    "    for line in data.strip().split('\\n'):\n",
    "        x, y = line.split(', ')\n",
    "        points.append(\n",
    "            Point(int(x), int(y))\n",
    "        )\n",
    "        \n",
    "    return points\n",
    "        \n",
    "\n",
    "def largest_area(points):\n",
    "    max_x = max(p.x for p in points)\n",
    "    max_y = max(p.y for p in points)\n",
    "    \n",
    "    # First assign each point to it's closest defined pooint\n",
    "    assignments = defaultdict(list)\n",
    "    for x in range(0, max_x + 1):\n",
    "        for y in range(0, max_y + 1):\n",
    "            p2 = Point(x, y)\n",
    "            smallest = None\n",
    "            winner = None\n",
    "            \n",
    "            for p1 in points:\n",
    "                distance = manhattan_distance(p1, p2)                    \n",
    "                if distance == smallest:\n",
    "                    winner = None\n",
    "\n",
    "                if smallest is None or distance < smallest:\n",
    "                    smallest = distance\n",
    "                    winner = p1\n",
    "            if winner:\n",
    "                assignments[winner].append(p2)\n",
    "    \n",
    "    # Now find any finite areas that are present\n",
    "    finite_points = []\n",
    "    for p in points:\n",
    "        for p2 in assignments[p]:\n",
    "            if (p2.x == 0 or p2.x == max_x or\n",
    "                p2.y == 0 or p2.y == max_y):\n",
    "                # has an edge, and is therefore infinite.\n",
    "                break\n",
    "        else:\n",
    "            finite_points.append(p)\n",
    "    \n",
    "    # Of those, find which has the largest area\n",
    "    overall_max = 0\n",
    "    for p in finite_points:\n",
    "        closest_points = assignments[p]\n",
    "        if len(closest_points) > overall_max:\n",
    "            overall_max = len(closest_points)\n",
    "    return overall_max\n",
    "        \n",
    "\n",
    "\n",
    "test_data = \"\"\"\n",
    "1, 1\n",
    "1, 6\n",
    "8, 3\n",
    "3, 4\n",
    "5, 5\n",
    "8, 9\n",
    "\"\"\"\n",
    "\n",
    "test_res = largest_area(parse_input(test_data))\n",
    "assert test_res == 17\n",
    "\n",
    "data = parse_input(Input(6).read())\n",
    "largest_area(data)"
   ]
  },
  {
   "cell_type": "code",
   "execution_count": 17,
   "metadata": {},
   "outputs": [
    {
     "data": {
      "text/plain": [
       "35928"
      ]
     },
     "execution_count": 17,
     "metadata": {},
     "output_type": "execute_result"
    }
   ],
   "source": [
    "def largest_region(points, lim):\n",
    "    max_x = max(p.x for p in points)\n",
    "    max_y = max(p.y for p in points)\n",
    "    \n",
    "    region = []\n",
    "\n",
    "    for x in range(max_x + 1):\n",
    "        for y in range(max_y + 1):\n",
    "            p2 = Point(x, y)\n",
    "            region_sum = sum(\n",
    "                manhattan_distance(p1, p2)\n",
    "                for p1 in points\n",
    "            )\n",
    "            if region_sum < lim:\n",
    "                region.append(p2)\n",
    "    return len(region)\n",
    "\n",
    "assert largest_region(parse_input(test_data), 32) == 16\n",
    "\n",
    "data = parse_input(Input(6).read())\n",
    "largest_region(data, 10000)"
   ]
  },
  {
   "cell_type": "markdown",
   "metadata": {},
   "source": [
    "## [Day 7: The Sum of Its Parts](https://adventofcode.com/2018/day/7)\n",
    "\n",
    "This is an intersting tree type problem. I started with trying to build the tree in it's entirety and pruning nodes when required. This proved to be very error prone and note required, we can instead simply keep track of each node's parents or dependant node and process them once we've hit all the others.\n",
    "\n",
    "By using a heap to store nodes that can be processed, we guarantee an O(1) complexity for accessing the next item."
   ]
  },
  {
   "cell_type": "code",
   "execution_count": 18,
   "metadata": {},
   "outputs": [
    {
     "data": {
      "text/plain": [
       "'JRHSBCKUTVWDQAIGYOPXMFNZEL'"
      ]
     },
     "execution_count": 18,
     "metadata": {},
     "output_type": "execute_result"
    }
   ],
   "source": [
    "def parse_input(data):\n",
    "    data = re.findall('Step (\\w) must be finished before step (\\w) can begin.', data)\n",
    "    res = defaultdict(set)\n",
    "    for parent, child in data:\n",
    "        if parent not in res:\n",
    "            res[parent] = set()\n",
    "        res[child].add(parent)\n",
    "    return res\n",
    "\n",
    "\n",
    "def lowest_order(data):\n",
    "    to_visit = list(data.keys())\n",
    "    heap = []\n",
    "    visited = []\n",
    "    while len(visited) != len(to_visit):\n",
    "        can_visit = [\n",
    "            key for key in to_visit\n",
    "            if len(data[key]) == 0\n",
    "        ]\n",
    "        for key in can_visit:\n",
    "            if key not in visited and key not in heap:\n",
    "                heapq.heappush(heap, key)\n",
    "        key = heapq.heappop(heap)\n",
    "        visited.append(key)\n",
    "\n",
    "        for key in data:\n",
    "            data[key] = data[key] - set(visited)\n",
    "\n",
    "    return cat(visited)\n",
    "    \n",
    "\n",
    "test_input = \"\"\"\n",
    "Step C must be finished before step A can begin.\n",
    "Step C must be finished before step F can begin.\n",
    "Step A must be finished before step B can begin.\n",
    "Step A must be finished before step D can begin.\n",
    "Step B must be finished before step E can begin.\n",
    "Step D must be finished before step E can begin.\n",
    "Step F must be finished before step E can begin.\n",
    "\"\"\"\n",
    "\n",
    "test_tree = parse_input(test_input)\n",
    "assert lowest_order(test_tree) == 'CABDFE'\n",
    "\n",
    "tree = parse_input(Input(7).read())\n",
    "lowest_order(tree)"
   ]
  },
  {
   "cell_type": "markdown",
   "metadata": {},
   "source": [
    "Part two is trickier. Now we need to account for a series of workers performing tasks over time, with more tasks unlocking as others complete. The iteration is very similar to the previous one, but how we rank items that can be visted shifts to be base on the earliest time they can be worked on."
   ]
  },
  {
   "cell_type": "code",
   "execution_count": 19,
   "metadata": {},
   "outputs": [
    {
     "data": {
      "text/plain": [
       "975"
      ]
     },
     "execution_count": 19,
     "metadata": {},
     "output_type": "execute_result"
    }
   ],
   "source": [
    "def key_val(key):\n",
    "    # A = 1, B = 2 ...\n",
    "    return ascii_uppercase.index(key) + 1\n",
    "\n",
    "\n",
    "def lowest_build_time(data, num_workers, delay):\n",
    "    original_data = data.copy()\n",
    "    completion_times = {}\n",
    "\n",
    "    worker_times = [0] * num_workers\n",
    "    \n",
    "    to_visit = list(data.keys())\n",
    "    heap = []\n",
    "    visited = []\n",
    "\n",
    "    while len(visited) != len(to_visit):\n",
    "        can_visit = [\n",
    "            key for key in to_visit\n",
    "            if len(data[key]) == 0\n",
    "        ]\n",
    "        for key in can_visit:\n",
    "            time_reduction = max(worker_times)\n",
    "            waiting_to_process = [h[1] for h in heap]\n",
    "            if key not in visited and key not in waiting_to_process:\n",
    "                next_free_worker = min(worker_times)\n",
    "                worker_index = worker_times.index(next_free_worker)\n",
    "\n",
    "                time_to_complete = delay + key_val(key)\n",
    "                \n",
    "                # Find the latest time when this node's parents will complete\n",
    "                try:\n",
    "                    parent_completion = max(\n",
    "                        completion_times[p_key]\n",
    "                        for p_key in original_data[key]\n",
    "                    )\n",
    "                except:\n",
    "                    parent_completion = 0\n",
    "                \n",
    "                # Workers can be idle while waiting for parents to finish\n",
    "                worker_starts = max(next_free_worker, parent_completion)\n",
    "                completion_time = worker_starts + time_to_complete\n",
    "\n",
    "                worker_times[worker_index] = completion_time\n",
    "                completion_times[key] = completion_time\n",
    "                \n",
    "                # Add to the heap, sorting by the completion time\n",
    "                heapq.heappush(heap, (completion_time,  key))\n",
    "                \n",
    "        # Pop next key to process\n",
    "        _, key = heapq.heappop(heap)\n",
    "        visited.append(key)\n",
    "\n",
    "        for key in data:\n",
    "            data[key] = data[key] - set(visited)\n",
    "    return max(worker_times)\n",
    "\n",
    "\n",
    "test_tree = parse_input(test_input)\n",
    "\n",
    "assert lowest_build_time(test_tree, num_workers=2, delay=0) == 15\n",
    "\n",
    "tree = parse_input(Input(7).read())\n",
    "lowest_build_time(tree, num_workers=5, delay=60)"
   ]
  },
  {
   "cell_type": "markdown",
   "metadata": {},
   "source": [
    "## [Day 8: Memory Maneuver](https://adventofcode.com/2018/day/8)\n",
    "\n",
    "Another tree problem, although this one is actually best solved by creating the tree entirely.\n",
    "\n",
    "The most difficult part of this however was parsing the input data in the first place!"
   ]
  },
  {
   "cell_type": "code",
   "execution_count": 20,
   "metadata": {},
   "outputs": [],
   "source": [
    "class MemoryNode(Node):\n",
    "    def __init__(self, name, meta):\n",
    "        super().__init__(name)\n",
    "        self.meta = meta\n",
    "  \n",
    "    @property\n",
    "    def value(self):\n",
    "        # This is essentially the solution to part two..\n",
    "        val = 0\n",
    "        if len(self.children) > 0:\n",
    "            for index in self.meta:\n",
    "                try:\n",
    "                    child = self.children[index - 1]\n",
    "                except IndexError:\n",
    "                    continue\n",
    "                val += child.value\n",
    "        else:\n",
    "            val = sum(self.meta)\n",
    "        return val\n",
    "        "
   ]
  },
  {
   "cell_type": "code",
   "execution_count": 21,
   "metadata": {},
   "outputs": [
    {
     "data": {
      "text/plain": [
       "46781"
      ]
     },
     "execution_count": 21,
     "metadata": {},
     "output_type": "execute_result"
    }
   ],
   "source": [
    "from collections import deque\n",
    "\n",
    "\n",
    "def parse_input(data):\n",
    "    return list(map(int, data.split(' ')))\n",
    "\n",
    "\n",
    "def build_nodes(data, nodes=None, parent=None):\n",
    "    \"\"\"\n",
    "    Recursively consume the left side of the input stream,\n",
    "    partially building the tree as we go.\n",
    "    \"\"\"\n",
    "    if nodes is None:\n",
    "        nodes = []\n",
    "        \n",
    "    num_children = data.popleft()\n",
    "    num_meta_data = data.popleft()\n",
    "    \n",
    "    # wait for meta data until children have consumed\n",
    "    # their data.\n",
    "    node = MemoryNode(\n",
    "        name='',\n",
    "        meta=[]\n",
    "    )\n",
    "    \n",
    "    for _ in range(num_children):\n",
    "        build_nodes(data, nodes, parent=node)\n",
    "    \n",
    "    meta = []\n",
    "    for i in range(num_meta_data):\n",
    "        meta.append(data.popleft())\n",
    "        \n",
    "    node.meta = meta\n",
    "    if parent:\n",
    "        node.add_parent(parent)\n",
    "\n",
    "    return node\n",
    "    \n",
    "    \n",
    "def sum_meta_data(data):\n",
    "    data = deque(data.copy())\n",
    "    root = build_nodes(data)\n",
    "    descenant_sum = sum(\n",
    "        sum(node.meta) for node in root.decendants\n",
    "    )\n",
    "    return descenant_sum + sum(root.meta)\n",
    "\n",
    "\n",
    "test_data = \"\"\"2 3 0 3 10 11 12 1 1 0 1 99 2 1 1 2\"\"\"\n",
    "assert sum_meta_data(parse_input(test_data)) == 138\n",
    "\n",
    "sum_meta_data(\n",
    "    parse_input(Input(8).read())\n",
    ")"
   ]
  },
  {
   "cell_type": "markdown",
   "metadata": {},
   "source": [
    "Part two is easily solved by modifying our `MemoryNode` definition to be able to calculate it's value."
   ]
  },
  {
   "cell_type": "code",
   "execution_count": 22,
   "metadata": {},
   "outputs": [
    {
     "data": {
      "text/plain": [
       "21405"
      ]
     },
     "execution_count": 22,
     "metadata": {},
     "output_type": "execute_result"
    }
   ],
   "source": [
    "def root_value(data):\n",
    "    data = deque(data.copy())\n",
    "    root = build_nodes(data)\n",
    "    return root.value\n",
    "    \n",
    "\n",
    "assert root_value(parse_input(test_data)) == 66\n",
    "root_value(parse_input(Input(8).read()))"
   ]
  },
  {
   "cell_type": "markdown",
   "metadata": {},
   "source": [
    "## [Day 9: Marble Mania](https://adventofcode.com/2018/day/9)\n",
    "\n",
    "The give away to this solution is that the marbles are placed in a _circle_. This immediately indicates we should use a doubly linked list, or in python land, a deque.\n",
    "\n",
    "The ability to rotate the deque means that we're always performing O(1) operations, which helps a lot with the second part of the task."
   ]
  },
  {
   "cell_type": "code",
   "execution_count": 23,
   "metadata": {},
   "outputs": [
    {
     "data": {
      "text/plain": [
       "400493"
      ]
     },
     "execution_count": 23,
     "metadata": {},
     "output_type": "execute_result"
    }
   ],
   "source": [
    "def placing_marbles(num_players, last_marble_point):\n",
    "    board = deque([0])\n",
    "    scores = defaultdict(int)\n",
    "    \n",
    "    players = cycle(list(range(num_players)))\n",
    "    current_player = next(players)\n",
    "\n",
    "    for marble in range(1, last_marble_point + 1):\n",
    "        if marble % 23 == 0:\n",
    "            board.rotate(7)\n",
    "            scores[current_player] += marble + board.pop()\n",
    "            board.rotate(-1)\n",
    "        else:\n",
    "            board.rotate(-1)\n",
    "            board.append(marble)\n",
    "        current_player = next(players)        \n",
    "    return max(scores.values())\n",
    "\n",
    "\n",
    "assert placing_marbles(9, 25) == 32\n",
    "assert placing_marbles(10, 1618) == 8317\n",
    "assert placing_marbles(17, 1104) == 2764\n",
    "assert placing_marbles(21, 6111) == 54718\n",
    "assert placing_marbles(30, 5807) == 37305\n",
    "\n",
    "placing_marbles(432, 71019)"
   ]
  },
  {
   "cell_type": "code",
   "execution_count": 24,
   "metadata": {},
   "outputs": [
    {
     "data": {
      "text/plain": [
       "3338341690"
      ]
     },
     "execution_count": 24,
     "metadata": {},
     "output_type": "execute_result"
    }
   ],
   "source": [
    "placing_marbles(432, 71019 * 100)"
   ]
  },
  {
   "cell_type": "markdown",
   "metadata": {},
   "source": [
    "## [Day 10: The Stars Align](https://adventofcode.com/2018/day/10)\n",
    "\n",
    "This is a relatively simple problem, the only issue being you cannot write unit tests for it, and must rely on the user to validate it's correct."
   ]
  },
  {
   "cell_type": "code",
   "execution_count": 25,
   "metadata": {},
   "outputs": [],
   "source": [
    "Velocity = namedtuple('Velocity', 'x,y')\n",
    "Star = namedtuple('Star', 'position,velocity')\n",
    "\n",
    "\n",
    "def parse_input(data):\n",
    "    matches = re.findall('position=<\\s*(.+),\\s*(.+)> velocity=<\\s*(.+),\\s*(.+)>', data)\n",
    "    stars = []\n",
    "    for x, y, v_x, v_y in matches:\n",
    "        p = Point(int(x), int(y))\n",
    "        v = Velocity(int(v_x), int(v_y))\n",
    "        stars.append(\n",
    "            Star(p, v)\n",
    "        )\n",
    "    return stars\n",
    "        "
   ]
  },
  {
   "cell_type": "code",
   "execution_count": 26,
   "metadata": {},
   "outputs": [],
   "source": [
    "test_data = \"\"\"\n",
    "position=< 9,  1> velocity=< 0,  2>\n",
    "position=< 7,  0> velocity=<-1,  0>\n",
    "position=< 3, -2> velocity=<-1,  1>\n",
    "position=< 6, 10> velocity=<-2, -1>\n",
    "position=< 2, -4> velocity=< 2,  2>\n",
    "position=<-6, 10> velocity=< 2, -2>\n",
    "position=< 1,  8> velocity=< 1, -1>\n",
    "position=< 1,  7> velocity=< 1,  0>\n",
    "position=<-3, 11> velocity=< 1, -2>\n",
    "position=< 7,  6> velocity=<-1, -1>\n",
    "position=<-2,  3> velocity=< 1,  0>\n",
    "position=<-4,  3> velocity=< 2,  0>\n",
    "position=<10, -3> velocity=<-1,  1>\n",
    "position=< 5, 11> velocity=< 1, -2>\n",
    "position=< 4,  7> velocity=< 0, -1>\n",
    "position=< 8, -2> velocity=< 0,  1>\n",
    "position=<15,  0> velocity=<-2,  0>\n",
    "position=< 1,  6> velocity=< 1,  0>\n",
    "position=< 8,  9> velocity=< 0, -1>\n",
    "position=< 3,  3> velocity=<-1,  1>\n",
    "position=< 0,  5> velocity=< 0, -1>\n",
    "position=<-2,  2> velocity=< 2,  0>\n",
    "position=< 5, -2> velocity=< 1,  2>\n",
    "position=< 1,  4> velocity=< 2,  1>\n",
    "position=<-2,  7> velocity=< 2, -2>\n",
    "position=< 3,  6> velocity=<-1, -1>\n",
    "position=< 5,  0> velocity=< 1,  0>\n",
    "position=<-6,  0> velocity=< 2,  0>\n",
    "position=< 5,  9> velocity=< 1, -2>\n",
    "position=<14,  7> velocity=<-2,  0>\n",
    "position=<-3,  6> velocity=< 2, -1>\n",
    "\"\"\""
   ]
  },
  {
   "cell_type": "code",
   "execution_count": 27,
   "metadata": {},
   "outputs": [
    {
     "name": "stdout",
     "output_type": "stream",
     "text": [
      "#...#..###\n",
      "#...#...#.\n",
      "#...#...#.\n",
      "#####...#.\n",
      "#...#...#.\n",
      "#...#...#.\n",
      "#...#...#.\n",
      "#...#..###\n",
      "######..#....#....##....######..#####...######..#....#..#####.\n",
      "#.......#....#...#..#........#..#....#.......#..#....#..#....#\n",
      "#.......#....#..#....#.......#..#....#.......#..#....#..#....#\n",
      "#.......#....#..#....#......#...#....#......#...#....#..#....#\n",
      "#####...######..#....#.....#....#####......#....######..#####.\n",
      "#.......#....#..######....#.....#.........#.....#....#..#.....\n",
      "#.......#....#..#....#...#......#........#......#....#..#.....\n",
      "#.......#....#..#....#..#.......#.......#.......#....#..#.....\n",
      "#.......#....#..#....#..#.......#.......#.......#....#..#.....\n",
      "######..#....#..#....#..######..#.......######..#....#..#.....\n"
     ]
    },
    {
     "data": {
      "text/plain": [
       "10136"
      ]
     },
     "execution_count": 27,
     "metadata": {},
     "output_type": "execute_result"
    }
   ],
   "source": [
    "def is_message_complete(stars):\n",
    "    # consider a message complete if every star\n",
    "    # is at max 2 positions away from another\n",
    "    good_stars = set()\n",
    "    stars_to_test = set(stars)\n",
    "    while stars_to_test:\n",
    "        star = stars_to_test.pop()\n",
    "        within_distance = False\n",
    "\n",
    "        for other_star in stars:\n",
    "            distance = manhattan_distance(star.position, other_star.position)\n",
    "            if distance in (1, 2):\n",
    "                good_stars.add(star)\n",
    "                good_stars.add(other_star)\n",
    "                within_distance = True\n",
    "\n",
    "        if not within_distance:\n",
    "            # No point testing other stars\n",
    "            return False\n",
    "        \n",
    "        stars_to_test = stars_to_test - good_stars\n",
    "    return True\n",
    "\n",
    "def print_message(stars):\n",
    "    \"\"\"Output stars to the stdout.\"\"\"\n",
    "    x_max = max(star.position.x for star in stars)\n",
    "    y_max = max(star.position.y for star in stars)\n",
    "    \n",
    "    x_min = min(star.position.x for star in stars)\n",
    "    y_min = min(star.position.y for star in stars)\n",
    "    \n",
    "    positions = set(star.position for star in stars)\n",
    "        \n",
    "    for y in range(y_min, y_max + 1):\n",
    "        line = []\n",
    "        for x in range(x_min, x_max + 1):\n",
    "            pos = (x, y)\n",
    "            char = '#' if pos in positions else '.'\n",
    "            line.append(char)\n",
    "        print(cat(line))\n",
    "\n",
    "        \n",
    "def advance_time(stars):\n",
    "    new_stars = []\n",
    "    for star in stars:\n",
    "        new_stars.append(\n",
    "            Star(\n",
    "                Point(\n",
    "                    star.position.x + star.velocity.x,\n",
    "                    star.position.y + star.velocity.y\n",
    "                ),\n",
    "                star.velocity\n",
    "            )\n",
    "        )\n",
    "    return new_stars\n",
    "\n",
    "\n",
    "def find_message(stars):\n",
    "    time = 0\n",
    "    while True:\n",
    "        stars = advance_time(stars)\n",
    "        time += 1\n",
    "\n",
    "        if is_message_complete(stars):\n",
    "            print_message(stars)\n",
    "            return time\n",
    "        \n",
    "\n",
    "find_message(parse_input(test_data))\n",
    "find_message(parse_input(Input(10).read()))"
   ]
  },
  {
   "cell_type": "markdown",
   "metadata": {},
   "source": [
    "## [Day 11: Chronal Charge](https://adventofcode.com/2018/day/11)\n",
    "\n",
    "This was an interesting problem that required the precomputation of sums for a given cell - after doing it the niave way and seeing that it simply would not work.\n",
    "\n",
    "If we have the grid:\n",
    "\n",
    "```\n",
    "-2  -4   4   4   \n",
    "-4   4   4   4 \n",
    " 4   3   3   4 \n",
    " 1   1   2   4\n",
    "```\n",
    "\n",
    "By creating a cache of values that have points (x, y) which represent the sum of all points (i, j) for i <= x and j <= y, we have the following:\n",
    "\n",
    "```\n",
    "-2  -6  -2   2   \n",
    "-6  -6   2  10 \n",
    "-2   1  12  24 \n",
    "-1   3  16  32\n",
    "```\n",
    "\n",
    "The point (x, y) in this grid can be writen in terms of its neighbours, as they will have already been calculated: (x - 1, y) + (x, y - 1) - (x - 1, y - 1). Essentially this just says, give me the sum of all previous x and y points, removing any duplicates. From here we can calculate any rectangle on the grid by taking the point (x, y) and removing the parts we do not are about."
   ]
  },
  {
   "cell_type": "code",
   "execution_count": 28,
   "metadata": {},
   "outputs": [],
   "source": [
    "def cell_power_level(grid_id, x, y):\n",
    "    rack_id = x + 10\n",
    "    power_level = rack_id * y\n",
    "    power_level += grid_id\n",
    "    power_level *= rack_id\n",
    "\n",
    "    hundreds_digit = (abs(power_level) % 1000 ) // 100\n",
    "    return hundreds_digit - 5\n",
    "\n",
    "assert cell_power_level(57, 122, 79) == -5\n",
    "assert cell_power_level(39, 217, 196) == 0\n",
    "assert cell_power_level(71, 101, 153) == 4"
   ]
  },
  {
   "cell_type": "code",
   "execution_count": 29,
   "metadata": {},
   "outputs": [
    {
     "data": {
      "text/plain": [
       "(29, (21, 34))"
      ]
     },
     "execution_count": 29,
     "metadata": {},
     "output_type": "execute_result"
    }
   ],
   "source": [
    "def get_power_levels(grid_id):\n",
    "    power_levels = {}\n",
    "    for x in range(1, 301):\n",
    "        for y in range(1, 301):\n",
    "            point = Point(x, y)\n",
    "            power_levels[point] = cell_power_level(grid_id, x, y)\n",
    "    return power_levels\n",
    "\n",
    "\n",
    "def get_power_sum(grid_id):\n",
    "    # Build a cumulative / prefix sum of all points, where (x, y) is the\n",
    "    # sum of all values of (i, j) for i <= x and j <= y.\n",
    "    power_levels = get_power_levels(grid_id)\n",
    "    power_sum = {}\n",
    "    for x in range(1, 301):\n",
    "        for y in range(1, 301):\n",
    "            power_sum[(x, y)] = (\n",
    "                power_levels[(x, y)] +\n",
    "                power_sum.get((x - 1, y), 0) +\n",
    "                power_sum.get((x, y - 1), 0) -\n",
    "                power_sum.get((x - 1, y - 1), 0) \n",
    "            )\n",
    "    return power_sum\n",
    "\n",
    "\n",
    "def largest_total_power(grid_id, power_sum, size=3):\n",
    "    max_power = None\n",
    "    winning_cell = None\n",
    "    \n",
    "    point_offset = size - 1\n",
    "    \n",
    "    x_min = size - 1\n",
    "    x_max = 301 - size - 1\n",
    "    for x in range(x_min, x_max):\n",
    "        for y in range(x_min, x_max):\n",
    "            power = (\n",
    "                power_sum[(x + size, y + size)] -\n",
    "                power_sum[(x, y + size)] -\n",
    "                power_sum[(x + size, y)] +\n",
    "                power_sum[(x, y)]\n",
    "            )\n",
    "            if max_power is None or power > max_power:\n",
    "                max_power = power\n",
    "                # Top left node\n",
    "                winning_cell = (x + 1, y + 1)\n",
    "    return max_power, winning_cell\n",
    "\n",
    "\n",
    "def largest_total_power_for_grid(grid_id):\n",
    "    power_sum = get_power_sum(grid_id)\n",
    "    return largest_total_power(grid_id, power_sum)\n",
    "\n",
    "assert largest_total_power_for_grid(18) == (29, (33, 45))\n",
    "assert largest_total_power_for_grid(42) == (30, (21, 61))\n",
    "largest_total_power_for_grid(5719)"
   ]
  },
  {
   "cell_type": "code",
   "execution_count": 30,
   "metadata": {},
   "outputs": [
    {
     "data": {
      "text/plain": [
       "(124, (90, 244), 16)"
      ]
     },
     "execution_count": 30,
     "metadata": {},
     "output_type": "execute_result"
    }
   ],
   "source": [
    "def largest_total_power_for_size(grid_id):\n",
    "    power_sum = get_power_sum(grid_id)\n",
    "    max_power = None\n",
    "    winning_power = None\n",
    "    winning_cell = None\n",
    "    for size in range(3, 300):\n",
    "        power, cell = largest_total_power(grid_id, power_sum, size)\n",
    "        if max_power is None or (power is not None and power > max_power):\n",
    "            max_power = power\n",
    "            winning_cell = cell\n",
    "            winning_size = size\n",
    "    return max_power, winning_cell, winning_size\n",
    "\n",
    "assert largest_total_power_for_size(18) == (113, (90, 269), 16)\n",
    "assert largest_total_power_for_size(42) == (119, (232, 251), 12)\n",
    "largest_total_power_for_size(5719)"
   ]
  }
 ],
 "metadata": {
  "kernelspec": {
   "display_name": "Python 3",
   "language": "python",
   "name": "python3"
  },
  "language_info": {
   "codemirror_mode": {
    "name": "ipython",
    "version": 3
   },
   "file_extension": ".py",
   "mimetype": "text/x-python",
   "name": "python",
   "nbconvert_exporter": "python",
   "pygments_lexer": "ipython3",
   "version": "3.6.6"
  }
 },
 "nbformat": 4,
 "nbformat_minor": 2
}
