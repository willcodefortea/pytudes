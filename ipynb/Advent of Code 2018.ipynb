{
 "cells": [
  {
   "cell_type": "markdown",
   "metadata": {},
   "source": [
    "# [Advent of Code 2018](https://adventofcode.com/2018)"
   ]
  },
  {
   "cell_type": "markdown",
   "metadata": {},
   "source": [
    "A collection of common functions to be used across problems, will add more as a generic use case for each comes up!"
   ]
  },
  {
   "cell_type": "code",
   "execution_count": 45,
   "metadata": {},
   "outputs": [],
   "source": [
    "import os\n",
    "import re\n",
    "from collections import defaultdict, namedtuple\n",
    "from itertools import cycle\n",
    "\n",
    "\n",
    "Point = namedtuple('Point', 'x,y')\n",
    "\n",
    "\n",
    "def Input(day):\n",
    "    \"\"\"Fetch the data input from disk.\"\"\"\n",
    "    filename = os.path.join('../data/advent2018/input{}.txt'.format(day))\n",
    "    return open(filename)\n",
    "\n",
    "\n",
    "def hamming_distance(s1, s2):\n",
    "    \"\"\"Number of non equal characters between two strings.\"\"\"\n",
    "    assert len(s1) == len(s2), 'Strings are not equal length'\n",
    "    return sum(\n",
    "        char1 != char2\n",
    "        for char1, char2\n",
    "        in zip(s1, s2)\n",
    "    )"
   ]
  },
  {
   "cell_type": "markdown",
   "metadata": {},
   "source": [
    "## [Day 1: Chronal Calibration](https://adventofcode.com/2018/day/1)\n",
    "\n",
    "The first part simply requires us to sum the values in a list to apply all the changes from the given delas."
   ]
  },
  {
   "cell_type": "code",
   "execution_count": 2,
   "metadata": {},
   "outputs": [],
   "source": [
    "def parse_input(initial_data):\n",
    "    res = []\n",
    "    for data in initial_data.readlines():\n",
    "        res.append(int(data))\n",
    "    return res\n",
    "\n",
    "data = parse_input(Input(1))"
   ]
  },
  {
   "cell_type": "code",
   "execution_count": 3,
   "metadata": {},
   "outputs": [
    {
     "data": {
      "text/plain": [
       "525"
      ]
     },
     "execution_count": 3,
     "metadata": {},
     "output_type": "execute_result"
    }
   ],
   "source": [
    "sum(data)"
   ]
  },
  {
   "cell_type": "markdown",
   "metadata": {},
   "source": [
    "Second portion requires us to find the first repeated value if we continually sum items in the delta list. A set is ideal here as it's O(1) for membership tests."
   ]
  },
  {
   "cell_type": "code",
   "execution_count": 4,
   "metadata": {},
   "outputs": [],
   "source": [
    "def find_first_repeat(deltas):\n",
    "    seen = set([0])\n",
    "    position = 0\n",
    "    \n",
    "    for delta in cycle(deltas):\n",
    "        position += delta\n",
    "        if position in seen:\n",
    "            break\n",
    "        seen.add(position)\n",
    "    return position\n",
    "\n",
    "assert find_first_repeat([7, 7, -2, -7, -4]) == 14"
   ]
  },
  {
   "cell_type": "code",
   "execution_count": 5,
   "metadata": {},
   "outputs": [
    {
     "data": {
      "text/plain": [
       "75749"
      ]
     },
     "execution_count": 5,
     "metadata": {},
     "output_type": "execute_result"
    }
   ],
   "source": [
    "find_first_repeat(data)"
   ]
  },
  {
   "cell_type": "markdown",
   "metadata": {},
   "source": [
    "# [Day 2: Inventory Management System](https://adventofcode.com/2018/day/2)"
   ]
  },
  {
   "cell_type": "code",
   "execution_count": 69,
   "metadata": {},
   "outputs": [],
   "source": [
    "data = [line.strip() for line in Input(2).readlines()]"
   ]
  },
  {
   "cell_type": "code",
   "execution_count": 70,
   "metadata": {},
   "outputs": [
    {
     "data": {
      "text/plain": [
       "6944"
      ]
     },
     "execution_count": 70,
     "metadata": {},
     "output_type": "execute_result"
    }
   ],
   "source": [
    "from collections import Counter\n",
    "\n",
    "def calculate_checksum(data):\n",
    "    num_threes = 0\n",
    "    num_twos = 0\n",
    "    for line in data:\n",
    "        counts = Counter(line)\n",
    "        if 3 in counts.values():\n",
    "            num_threes += 1\n",
    "        if 2 in counts.values():\n",
    "            num_twos += 1\n",
    "        \n",
    "    return num_threes * num_twos\n",
    "\n",
    "\n",
    "test_data = [\n",
    "    \"abcdef\",\n",
    "    \"bababc\",\n",
    "    \"abbcde\",\n",
    "    \"abcccd\",\n",
    "    \"aabcdd\",\n",
    "    \"abcdee\",\n",
    "    \"ababab\",\n",
    "]\n",
    "assert calculate_checksum(test_data) == 12\n",
    "calculate_checksum(data)\n",
    "    "
   ]
  },
  {
   "cell_type": "markdown",
   "metadata": {},
   "source": [
    "We're told that we need to find two strings that have only one character difference between them, this is also known as the the [Hamming Distance](https://en.wikipedia.org/wiki/Hamming_distance). So we're looking for two strings for which the hamming distance bewteen them is one, simple enough!"
   ]
  },
  {
   "cell_type": "code",
   "execution_count": 77,
   "metadata": {},
   "outputs": [
    {
     "data": {
      "text/plain": [
       "'srijafjzloguvlntqmphenbkd'"
      ]
     },
     "execution_count": 77,
     "metadata": {},
     "output_type": "execute_result"
    }
   ],
   "source": [
    "def find_boxes(data):\n",
    "    for index, row in enumerate(data[:-1]):\n",
    "        for comparison in data[index:]:\n",
    "            if hamming_distance(row, comparison) == 1:\n",
    "                same_chars = [\n",
    "                    char1\n",
    "                    for (char1, char2) in zip(row, comparison)\n",
    "                    if char1 == char2\n",
    "                ]\n",
    "                return ''.join(same_chars)\n",
    "\n",
    "find_boxes(data)"
   ]
  },
  {
   "cell_type": "markdown",
   "metadata": {},
   "source": [
    "## [Day 3: No Matter How You Slice It](https://adventofcode.com/2018/day/3)"
   ]
  },
  {
   "cell_type": "code",
   "execution_count": 48,
   "metadata": {},
   "outputs": [
    {
     "data": {
      "text/plain": [
       "110827"
      ]
     },
     "execution_count": 48,
     "metadata": {},
     "output_type": "execute_result"
    }
   ],
   "source": [
    "def parse_input(data):\n",
    "    reg = re.compile('#(\\d+) @ (\\d+),(\\d+): (\\d+)x(\\d+)')\n",
    "    datum = namedtuple('datum', 'claim,left,top,width,height')\n",
    "    parsed = []\n",
    "    for line in data:\n",
    "        match = reg.match(line)\n",
    "        \n",
    "        parsed.append(\n",
    "            datum(*[int(i) for i in match.groups()])\n",
    "        )\n",
    "    return parsed\n",
    "\n",
    "\n",
    "def find_overlaps(data):\n",
    "    overlaps = defaultdict(list)\n",
    "    repeated = 0\n",
    "    \n",
    "    for datum in data:\n",
    "        for x in range(datum.width):\n",
    "            for y in range(datum.height):\n",
    "                p = Point(datum.left + x, datum.top + y)\n",
    "                overlaps[p].append(datum.claim)\n",
    "    return overlaps\n",
    "\n",
    "\n",
    "def count_overlaps(data):\n",
    "    overlaps = find_overlaps(data)\n",
    "    return len([\n",
    "        claims for claims in overlaps.values()\n",
    "        if len(claims) > 1\n",
    "    ])\n",
    "    \n",
    "        \n",
    "test_data = [\n",
    "    '#1 @ 1,3: 4x4',\n",
    "    '#2 @ 3,1: 4x4',\n",
    "    '#3 @ 5,5: 2x2',\n",
    "]\n",
    "test_data = parse_input(test_data)\n",
    "assert count_overlaps(test_data) == 4\n",
    "\n",
    "data = parse_input(Input(3).readlines())\n",
    "count_overlaps(data)"
   ]
  },
  {
   "cell_type": "code",
   "execution_count": 53,
   "metadata": {},
   "outputs": [
    {
     "data": {
      "text/plain": [
       "116"
      ]
     },
     "execution_count": 53,
     "metadata": {},
     "output_type": "execute_result"
    }
   ],
   "source": [
    "def find_unique(data):\n",
    "    remainin_claims = set(\n",
    "        datum.claim for datum in data\n",
    "    )\n",
    "    overlaps = find_overlaps(data)\n",
    "    \n",
    "    for claims in overlaps.values():\n",
    "        if len(claims) == 1:\n",
    "            continue\n",
    "        remainin_claims -= set(claims)\n",
    "    assert len(list(remainin_claims)) == 1\n",
    "    return list(remainin_claims)[0]\n",
    "\n",
    "\n",
    "assert find_unique(test_data) == 3\n",
    "find_unique(data)"
   ]
  },
  {
   "cell_type": "code",
   "execution_count": null,
   "metadata": {},
   "outputs": [],
   "source": []
  }
 ],
 "metadata": {
  "kernelspec": {
   "display_name": "Python 3",
   "language": "python",
   "name": "python3"
  },
  "language_info": {
   "codemirror_mode": {
    "name": "ipython",
    "version": 3
   },
   "file_extension": ".py",
   "mimetype": "text/x-python",
   "name": "python",
   "nbconvert_exporter": "python",
   "pygments_lexer": "ipython3",
   "version": "3.6.6"
  }
 },
 "nbformat": 4,
 "nbformat_minor": 2
}
