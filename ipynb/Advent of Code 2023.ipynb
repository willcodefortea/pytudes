{
 "cells": [
  {
   "cell_type": "markdown",
   "id": "db2e888e-59d3-4715-bdad-aab7b43beeb0",
   "metadata": {},
   "source": [
    "# [Advent of Code 2023](https://adventofcode.com/2023)\n",
    "<div align=\"right\"><i>Ben Emery<br>December 2023</i></div>"
   ]
  },
  {
   "cell_type": "code",
   "execution_count": 1,
   "id": "1174af0c-9121-49f3-b60d-d9e8f521436d",
   "metadata": {},
   "outputs": [],
   "source": [
    "from collections import defaultdict\n",
    "\n",
    "\n",
    "def Input(day, parser=str.strip, whole_file=False):\n",
    "    \"Fetch the data input from disk.\"\n",
    "    filename = f\"../data/advent2023/input{day}.txt\"\n",
    "    with open(filename) as fin:\n",
    "        if whole_file:\n",
    "            return parser(fin)\n",
    "        return mapt(parser, fin)\n",
    "\n",
    "\n",
    "def mapt(fn, *args):\n",
    "    \"Do a map, and convert the results to a tuple\"\n",
    "    return tuple(map(fn, *args))"
   ]
  },
  {
   "cell_type": "markdown",
   "id": "842a1d9d-6156-4b39-92f4-d48fa480d5a1",
   "metadata": {},
   "source": [
    "## [Day 1](https://adventofcode.com/2023/day/1)\n",
    "\n",
    "\n",
    "### Day 1.1"
   ]
  },
  {
   "cell_type": "code",
   "execution_count": 2,
   "id": "917753da-665d-4579-bcb6-8ac5ae49240b",
   "metadata": {},
   "outputs": [
    {
     "data": {
      "text/plain": [
       "53334"
      ]
     },
     "execution_count": 2,
     "metadata": {},
     "output_type": "execute_result"
    }
   ],
   "source": [
    "def digits_only(s: str) -> list[str]:\n",
    "    return [c for c in s if c in \"0123456789\"]\n",
    "\n",
    "\n",
    "def calibration_value(s: str) -> int:\n",
    "    digits = digits_only(s)\n",
    "    return int(digits[0] + digits[-1])\n",
    "\n",
    "\n",
    "data = Input(1)\n",
    "sum(calibration_value(line) for line in data)"
   ]
  },
  {
   "cell_type": "code",
   "execution_count": 3,
   "id": "4a44fc7f-5e03-4941-adc2-0fbbdb28d4cb",
   "metadata": {},
   "outputs": [],
   "source": [
    "assert _ == 53334, \"Day 1.1\""
   ]
  },
  {
   "cell_type": "markdown",
   "id": "a284bce7-030b-4e0e-89ca-50f91e89fc42",
   "metadata": {},
   "source": [
    "### Day 1.2"
   ]
  },
  {
   "cell_type": "code",
   "execution_count": 4,
   "id": "0133156b-cda6-4134-b8f3-6698a15e12eb",
   "metadata": {},
   "outputs": [
    {
     "data": {
      "text/plain": [
       "52834"
      ]
     },
     "execution_count": 4,
     "metadata": {},
     "output_type": "execute_result"
    }
   ],
   "source": [
    "def digits_only(s: str) -> list[str]:\n",
    "    num_words = (\"one\", \"two\", \"three\", \"four\", \"five\", \"six\", \"seven\", \"eight\", \"nine\")\n",
    "\n",
    "    old_s = s\n",
    "    for pos in range(len(old_s)):\n",
    "        for number, word in enumerate(num_words, 1):\n",
    "            if old_s[pos:].startswith(word):\n",
    "                s = s.replace(word, str(number), 1)\n",
    "\n",
    "    return [c for c in s if c in \"0123456789\"]\n",
    "    \n",
    "sum(calibration_value(line) for line in data)"
   ]
  },
  {
   "cell_type": "code",
   "execution_count": 5,
   "id": "d3b98567-dc33-4377-a32a-8c232a32abe3",
   "metadata": {},
   "outputs": [],
   "source": [
    "assert _ == 52834, \"Day 1.2\""
   ]
  },
  {
   "cell_type": "markdown",
   "id": "a97a9fe9-3da1-429d-a7cf-79f2fa8c0166",
   "metadata": {},
   "source": [
    "Day 1.2 was actually kinda difficult? Bugs with replacing multiple words when I should have replaced one, overlapping words and their ordering.. was sneaky!"
   ]
  },
  {
   "cell_type": "markdown",
   "id": "26f1405d-188e-4ba9-8103-9fd8edcddd9b",
   "metadata": {},
   "source": [
    "## [Day 2](https://adventofcode.com/2023/day/2)\n",
    "\n",
    "\n",
    "### Day 2.1"
   ]
  },
  {
   "cell_type": "code",
   "execution_count": 6,
   "id": "7ba38926-4ff5-4d88-a953-f721c5edb6c8",
   "metadata": {},
   "outputs": [
    {
     "data": {
      "text/plain": [
       "2369"
      ]
     },
     "execution_count": 6,
     "metadata": {},
     "output_type": "execute_result"
    }
   ],
   "source": [
    "Games = tuple[int, list[dict[str, int]]]\n",
    "\n",
    "def parse_game(line: str) -> Games:\n",
    "    # line:\n",
    "    # Game 1: 3 blue, 4 red; 1 red, 2 green, 6 blue; 2 green\n",
    "    game_id_raw, rounds = line.split(\":\")\n",
    "\n",
    "    game_id = int(game_id_raw.split(\" \")[1])\n",
    "\n",
    "    parsed_rounds = []\n",
    "\n",
    "    for round in rounds.split(\";\"):\n",
    "        current_round = defaultdict(int)\n",
    "        for cubes in round.split(\",\"):\n",
    "            num, colour = cubes.strip().split(\" \")\n",
    "            current_round[colour] = int(num)\n",
    "\n",
    "        parsed_rounds.append(current_round)\n",
    "\n",
    "    return game_id, parsed_rounds\n",
    "\n",
    "\n",
    "def part1(games: Games) -> int:\n",
    "    total = 0\n",
    "\n",
    "    for game in games:\n",
    "        game_id, rounds = game\n",
    "\n",
    "        for round in rounds:\n",
    "            if round[\"blue\"] > 14 or round[\"red\"] > 12 or round[\"green\"] > 13:\n",
    "                break\n",
    "\n",
    "        else:\n",
    "            total += game_id\n",
    "\n",
    "    return total\n",
    "\n",
    "\n",
    "data = Input(2, parse_game)\n",
    "\n",
    "part1(data)"
   ]
  },
  {
   "cell_type": "code",
   "execution_count": 7,
   "id": "badef80c-f8e3-4337-aab4-3821bd975e2f",
   "metadata": {},
   "outputs": [],
   "source": [
    "assert _ == 2369, \"Day 2.1\""
   ]
  },
  {
   "cell_type": "code",
   "execution_count": 8,
   "id": "f0be70eb-cd66-45db-8537-f647aca21542",
   "metadata": {},
   "outputs": [
    {
     "data": {
      "text/plain": [
       "66363"
      ]
     },
     "execution_count": 8,
     "metadata": {},
     "output_type": "execute_result"
    }
   ],
   "source": [
    "def part2(games: Games) -> int:\n",
    "    total = 0\n",
    "\n",
    "    for game in games:\n",
    "        _, rounds = game\n",
    "\n",
    "        max_red = 0\n",
    "        max_green = 0\n",
    "        max_blue = 0\n",
    "\n",
    "        for round in rounds:\n",
    "            max_red = max(max_red, round[\"red\"])\n",
    "            max_blue = max(max_blue, round[\"blue\"])\n",
    "            max_green = max(max_green, round[\"green\"])\n",
    "\n",
    "        power = max_red * max_green * max_blue\n",
    "\n",
    "        total += power\n",
    "\n",
    "    return total\n",
    "\n",
    "part2(data)"
   ]
  },
  {
   "cell_type": "code",
   "execution_count": 9,
   "id": "23f43f09-55f9-4678-b0ce-a97ccfc97f5f",
   "metadata": {},
   "outputs": [],
   "source": [
    "assert _ == 66363, \"Day 2.2\""
   ]
  }
 ],
 "metadata": {
  "kernelspec": {
   "display_name": "Python 3 (ipykernel)",
   "language": "python",
   "name": "python3"
  },
  "language_info": {
   "codemirror_mode": {
    "name": "ipython",
    "version": 3
   },
   "file_extension": ".py",
   "mimetype": "text/x-python",
   "name": "python",
   "nbconvert_exporter": "python",
   "pygments_lexer": "ipython3",
   "version": "3.11.6"
  }
 },
 "nbformat": 4,
 "nbformat_minor": 5
}
