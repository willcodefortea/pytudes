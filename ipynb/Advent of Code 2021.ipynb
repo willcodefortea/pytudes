{
 "cells": [
  {
   "cell_type": "markdown",
   "id": "02e9fe55",
   "metadata": {},
   "source": [
    "# [Advent of Code 2021](https://adventofcode.com/2021)"
   ]
  },
  {
   "cell_type": "markdown",
   "id": "c1d06a3d",
   "metadata": {},
   "source": [
    "# The toolbox\n",
    "\n",
    "\n",
    "Generalised pieces of code that either can be used in multiple questions or that simply makes understand the implementation easier."
   ]
  },
  {
   "cell_type": "code",
   "execution_count": 3,
   "id": "2f400016",
   "metadata": {},
   "outputs": [],
   "source": [
    "from collections import defaultdict, Counter, namedtuple\n",
    "from itertools import chain, count\n",
    "import operator\n",
    "\n",
    "\n",
    "def Input(day, parser=str.strip, whole_file=False):\n",
    "    \"Fetch the data input from disk.\"\n",
    "    filename = f\"../data/advent2021/input{day}.txt\"\n",
    "    with open(filename) as fin:\n",
    "        if whole_file:\n",
    "            return parser(fin)\n",
    "        return mapt(parser, fin)\n",
    "\n",
    "\n",
    "def mapt(fn, *args):\n",
    "    \"Do a map, and convert the results to a tuple\"\n",
    "    return tuple(map(fn, *args))\n",
    "\n",
    "\n",
    "avg = lambda n: sum(n) / len(n)\n",
    "\n",
    "\n",
    "NEIGHBOUR8_DELTAS = (\n",
    "    (-1, -1), ( 0, -1), (1, -1),\n",
    "    (-1,  0),           (1,  0),\n",
    "    (-1,  1), ( 0,  1), (1,  1),\n",
    ")\n",
    "\n",
    "NEIGHBOUR4_DELTAS = (\n",
    "              ( 0, -1),\n",
    "    (-1,  0),           (1,  0),\n",
    "              ( 0,  1),\n",
    ")\n",
    "\n",
    "\n",
    "def neighbours4(x, y):\n",
    "    return tuple((x + dx, y + dy) for dx, dy in NEIGHBOUR4_DELTAS)\n",
    "\n",
    "\n",
    "def neighbours8(x, y):\n",
    "    return tuple((x + dx, y + dy) for dx, dy in NEIGHBOUR8_DELTAS)"
   ]
  },
  {
   "cell_type": "markdown",
   "id": "79fdda12",
   "metadata": {},
   "source": [
    "## [Day 1](https://adventofcode.com/2021/day/1)"
   ]
  },
  {
   "cell_type": "code",
   "execution_count": 4,
   "id": "f68cbe3b",
   "metadata": {},
   "outputs": [],
   "source": [
    "def count_increasing_measurements(scans):\n",
    "    return sum(scan > scans[index - 1] for index, scan in enumerate(scans[1:], 1))"
   ]
  },
  {
   "cell_type": "code",
   "execution_count": 5,
   "id": "6174b9ec",
   "metadata": {},
   "outputs": [
    {
     "data": {
      "text/plain": [
       "1121"
      ]
     },
     "execution_count": 5,
     "metadata": {},
     "output_type": "execute_result"
    }
   ],
   "source": [
    "data1 = Input(1, int)\n",
    "count_increasing_measurements(data1)"
   ]
  },
  {
   "cell_type": "code",
   "execution_count": 6,
   "id": "bf587fea",
   "metadata": {},
   "outputs": [],
   "source": [
    "assert _ == 1121, 'Day 1.1'"
   ]
  },
  {
   "cell_type": "code",
   "execution_count": 7,
   "id": "ed89ab74",
   "metadata": {},
   "outputs": [
    {
     "data": {
      "text/plain": [
       "1065"
      ]
     },
     "execution_count": 7,
     "metadata": {},
     "output_type": "execute_result"
    }
   ],
   "source": [
    "chunks = [data1[i:i + 3] for i in range(len(data1) - 2)]\n",
    "count_increasing_measurements(mapt(sum, chunks))"
   ]
  },
  {
   "cell_type": "code",
   "execution_count": 8,
   "id": "c169bbf7",
   "metadata": {},
   "outputs": [],
   "source": [
    "assert _ == 1065, 'Day 1.2'"
   ]
  },
  {
   "cell_type": "markdown",
   "id": "089d2753",
   "metadata": {},
   "source": [
    "## [Day 2](https://adventofcode.com/2021/day/2)"
   ]
  },
  {
   "cell_type": "code",
   "execution_count": 9,
   "id": "4a9e9673",
   "metadata": {},
   "outputs": [
    {
     "data": {
      "text/plain": [
       "2036120"
      ]
     },
     "execution_count": 9,
     "metadata": {},
     "output_type": "execute_result"
    }
   ],
   "source": [
    "def follow_commands(commands):\n",
    "    x = d = 0\n",
    "    for direction, amount in commands:\n",
    "        if direction == \"forward\":\n",
    "            x += amount\n",
    "        elif direction == \"down\":\n",
    "            d += amount\n",
    "        elif direction == \"up\":\n",
    "            d -= amount\n",
    "        else:\n",
    "            print(\"unknown command!\")\n",
    "    return x * d\n",
    "\n",
    "\n",
    "def parse_input_2(line):\n",
    "    chunks = line.split(\" \")\n",
    "    return chunks[0], int(chunks[1])\n",
    "\n",
    "\n",
    "data2 = Input(2, parse_input_2)\n",
    "follow_commands(data2)"
   ]
  },
  {
   "cell_type": "code",
   "execution_count": 10,
   "id": "402663c6",
   "metadata": {},
   "outputs": [],
   "source": [
    "assert _ == 2036120, \"Day 2.1\""
   ]
  },
  {
   "cell_type": "code",
   "execution_count": 11,
   "id": "2dfa6170",
   "metadata": {},
   "outputs": [
    {
     "data": {
      "text/plain": [
       "2015547716"
      ]
     },
     "execution_count": 11,
     "metadata": {},
     "output_type": "execute_result"
    }
   ],
   "source": [
    "def follow_commands(commands):\n",
    "    x = d = aim = 0\n",
    "    for direction, amount in commands:\n",
    "        if direction == \"forward\":\n",
    "            x += amount\n",
    "            d += aim * amount\n",
    "        elif direction == \"down\":\n",
    "            aim += amount\n",
    "        elif direction == \"up\":\n",
    "            aim -= amount\n",
    "        else:\n",
    "            print(\"unknown command!\")\n",
    "    return x * d\n",
    "\n",
    "\n",
    "follow_commands(data2)"
   ]
  },
  {
   "cell_type": "code",
   "execution_count": 12,
   "id": "1b8c1ae6",
   "metadata": {},
   "outputs": [],
   "source": [
    "assert _ == 2015547716, \"Day 2.2\""
   ]
  },
  {
   "cell_type": "markdown",
   "id": "7de0e0a7",
   "metadata": {},
   "source": [
    "## [Day 3](https://adventofcode.com/2021/day/3)\n",
    "\n",
    "Not the prettiest, but a nice example of using `zip` to unzip the string into individual digits."
   ]
  },
  {
   "cell_type": "code",
   "execution_count": 13,
   "id": "d7d68b67",
   "metadata": {},
   "outputs": [
    {
     "data": {
      "text/plain": [
       "3969000"
      ]
     },
     "execution_count": 13,
     "metadata": {},
     "output_type": "execute_result"
    }
   ],
   "source": [
    "def find_power_consumption(report: list[list[int]]) -> int:\n",
    "    digits = list(zip(*report))\n",
    "    avg_bits = [round(avg(digits[bit_index])) for bit_index in range(len(digits))]\n",
    "\n",
    "    most_common = lambda index: str(avg_bits[index])\n",
    "    least_common = lambda index: str(int(not avg_bits[index]))\n",
    "\n",
    "    gamma = \"\".join(mapt(most_common, range(len(digits))))\n",
    "    epsilon = \"\".join(mapt(least_common, range(len(digits))))\n",
    "    return int(gamma, 2) * int(epsilon, 2)\n",
    "\n",
    "\n",
    "def parse_input(line):\n",
    "    return mapt(int, line.strip())\n",
    "\n",
    "\n",
    "data3 = Input(3, parse_input)\n",
    "find_power_consumption(data3)"
   ]
  },
  {
   "cell_type": "code",
   "execution_count": 14,
   "id": "a1ee480a",
   "metadata": {},
   "outputs": [],
   "source": [
    "assert _ == 3969000, 'Day 3.1'"
   ]
  },
  {
   "cell_type": "markdown",
   "id": "17cb4b4b",
   "metadata": {},
   "source": [
    "Part two was fun, here we continue to abuse bools and recurse through `bit_criteria` to remove digits."
   ]
  },
  {
   "cell_type": "code",
   "execution_count": 15,
   "id": "361cdfee",
   "metadata": {},
   "outputs": [
    {
     "data": {
      "text/plain": [
       "4267809"
      ]
     },
     "execution_count": 15,
     "metadata": {},
     "output_type": "execute_result"
    }
   ],
   "source": [
    "def bit_criteria(\n",
    "    report: list[list[int]], keep_most_common: bool, bit_index: int = 0\n",
    ") -> int:\n",
    "    if len(report) == 1:\n",
    "        return report[0]\n",
    "\n",
    "    digits = list(zip(*report))\n",
    "    avg_bit = avg(digits[bit_index])\n",
    "\n",
    "    # I can't be bothered to use Decimal ROUND UP here...\n",
    "    most_common = 1 if avg_bit == 0.5 else round(avg_bit)\n",
    "\n",
    "    winning_bit = most_common if keep_most_common else int(not most_common)\n",
    "\n",
    "    return bit_criteria(\n",
    "        [line for line in report if line[bit_index] == winning_bit],\n",
    "        keep_most_common,\n",
    "        bit_index + 1,\n",
    "    )\n",
    "\n",
    "\n",
    "def find_life_support_rating(report: list[list[int]]) -> int:\n",
    "    oxygen_generator = bit_criteria(report[:], True)\n",
    "    co2_scrubber = bit_criteria(report[:], False)\n",
    "\n",
    "    to_int = lambda bits: int(\"\".join(mapt(str, bits)), 2)\n",
    "\n",
    "    return to_int(oxygen_generator) * to_int(co2_scrubber)\n",
    "\n",
    "\n",
    "find_life_support_rating(data3)"
   ]
  },
  {
   "cell_type": "code",
   "execution_count": 16,
   "id": "46896a98",
   "metadata": {},
   "outputs": [],
   "source": [
    "assert _ == 4267809, 'Day 3.2'"
   ]
  },
  {
   "cell_type": "markdown",
   "id": "76fb01e6",
   "metadata": {},
   "source": [
    "## [Day 4](https://adventofcode.com/2021/day/4)\n",
    "\n",
    "Not particularly clean, and I don't really think all the sets are required, I could have simply read out rows and cols from a larger list! Oh well, did the job."
   ]
  },
  {
   "cell_type": "code",
   "execution_count": 17,
   "id": "647025a7",
   "metadata": {},
   "outputs": [
    {
     "data": {
      "text/plain": [
       "8580"
      ]
     },
     "execution_count": 17,
     "metadata": {},
     "output_type": "execute_result"
    }
   ],
   "source": [
    "BingoBoard = namedtuple(\"BingoBoard\", \"rows,cols\")\n",
    "\n",
    "\n",
    "def play_bingo(numbers: [int], boards: [BingoBoard], win_last: bool = False) -> int:\n",
    "    # translate boards to a list of sets so we can easily remove seen numbers\n",
    "    board_nums = dict(\n",
    "        (boardId, [*[set(r) for r in board.rows], *[set(c) for c in board.cols]])\n",
    "        for boardId, board in enumerate(boards)\n",
    "    )\n",
    "\n",
    "    # keep track of the most recent winningi board\n",
    "    winning_board = None\n",
    "\n",
    "    # track boards that are still in play\n",
    "    active_boards = set(board_nums.keys())\n",
    "\n",
    "    seen_numbers = set()\n",
    "    for number in numbers:\n",
    "        seen_numbers.add(number)\n",
    "\n",
    "        for board_id in list(active_boards):\n",
    "            for row_or_col_nums in board_nums[board_id]:\n",
    "                row_or_col_nums -= seen_numbers\n",
    "                if len(row_or_col_nums) == 0:\n",
    "                    # Don't exit now as we'll need to remove this number\n",
    "                    # from the row or col too!\n",
    "                    winning_board = board_id\n",
    "\n",
    "                    if board_id in active_boards:\n",
    "                        active_boards.remove(board_id)\n",
    "\n",
    "        have_a_winner = not win_last and winning_board is not None\n",
    "        should_last_win = win_last and len(active_boards) == 0\n",
    "        if have_a_winner or should_last_win:\n",
    "            break\n",
    "\n",
    "    if winning_board:\n",
    "        remaining = set()\n",
    "        for nums in board_nums[winning_board]:\n",
    "            remaining |= nums\n",
    "        return sum(remaining) * number\n",
    "\n",
    "    print(\"No winning board found!\")\n",
    "    return -1\n",
    "\n",
    "\n",
    "def parse_input(lines: [str]) -> [[int], [BingoBoard]]:\n",
    "    numbers = []\n",
    "    boards = []\n",
    "\n",
    "    for line in lines:\n",
    "        if not numbers:\n",
    "            numbers = mapt(int, line.strip().split(\",\"))\n",
    "            continue\n",
    "\n",
    "        if not line.strip():\n",
    "            # add a new board\n",
    "            boards.append(BingoBoard([], []))\n",
    "            continue\n",
    "        boards[-1].rows.append(mapt(int, line.strip().split()))\n",
    "\n",
    "    # rotate rows into cols\n",
    "    for board in boards:\n",
    "        board.cols.extend((list(zip(*board.rows))))\n",
    "\n",
    "    return (numbers, boards)\n",
    "\n",
    "\n",
    "data4 = Input(4, parse_input, whole_file=True)\n",
    "play_bingo(*data4)"
   ]
  },
  {
   "cell_type": "code",
   "execution_count": 18,
   "id": "e22a3bb1",
   "metadata": {},
   "outputs": [],
   "source": [
    "assert _ == 8580, \"Day 4.1\""
   ]
  },
  {
   "cell_type": "code",
   "execution_count": 19,
   "id": "c3f4f8b1",
   "metadata": {},
   "outputs": [
    {
     "data": {
      "text/plain": [
       "9576"
      ]
     },
     "execution_count": 19,
     "metadata": {},
     "output_type": "execute_result"
    }
   ],
   "source": [
    "play_bingo(*data4, win_last=True)"
   ]
  },
  {
   "cell_type": "code",
   "execution_count": 20,
   "id": "f1e11d88",
   "metadata": {},
   "outputs": [],
   "source": [
    "assert _ == 9576, \"Day 4.2\""
   ]
  },
  {
   "cell_type": "markdown",
   "id": "17f9201e",
   "metadata": {},
   "source": [
    "## [Day 5](https://adventofcode.com/2021/day/5)\n",
    "\n",
    "Slight trick on this one was to sort the inputs so we knew we'd always be _increasing_ in x or y, makes finding the delta much simpler."
   ]
  },
  {
   "cell_type": "code",
   "execution_count": 21,
   "id": "edbf9ae7",
   "metadata": {},
   "outputs": [
    {
     "data": {
      "text/plain": [
       "6710"
      ]
     },
     "execution_count": 21,
     "metadata": {},
     "output_type": "execute_result"
    }
   ],
   "source": [
    "Point = namedtuple(\"Point\", \"x,y\")\n",
    "\n",
    "\n",
    "def count_overlapping_points(point_lines, horizontal_only=True):\n",
    "    area = Counter()\n",
    "\n",
    "    if horizontal_only:\n",
    "        point_lines = [\n",
    "            line\n",
    "            for line in point_lines\n",
    "            if line[0].x == line[1].x or line[0].y == line[1].y\n",
    "        ]\n",
    "\n",
    "    for start, stop in point_lines:\n",
    "        if start.x == stop.x:\n",
    "            delta = Point(0, 1)\n",
    "        elif start.y == stop.y:\n",
    "            delta = Point(1, 0)\n",
    "        elif start.y < stop.y:\n",
    "            delta = Point(1, 1)\n",
    "        else:\n",
    "            delta = Point(1, -1)\n",
    "\n",
    "        line = [start]\n",
    "        while line[-1] != stop:\n",
    "            last_point = line[-1]\n",
    "            next_point = Point(last_point.x + delta.x, last_point.y + delta.y)\n",
    "            line.append(next_point)\n",
    "\n",
    "        area.update(line)\n",
    "\n",
    "    return len([val for _, val in area.items() if val >= 2])\n",
    "\n",
    "\n",
    "def parse_input(line):\n",
    "    chunks = line.split(\" -> \")\n",
    "    points = (\n",
    "        Point(*mapt(int, chunks[0].split(\",\"))),\n",
    "        Point(*mapt(int, chunks[1].split(\",\"))),\n",
    "    )\n",
    "\n",
    "    # sorting the points ensures we start from the left most one first\n",
    "    return sorted(points)\n",
    "\n",
    "\n",
    "data5 = Input(5, parse_input)\n",
    "count_overlapping_points(data5)"
   ]
  },
  {
   "cell_type": "code",
   "execution_count": 22,
   "id": "9497e272",
   "metadata": {},
   "outputs": [],
   "source": [
    "assert _ == 6710, 'Day 5.1'"
   ]
  },
  {
   "cell_type": "code",
   "execution_count": 23,
   "id": "99ab74aa",
   "metadata": {},
   "outputs": [
    {
     "data": {
      "text/plain": [
       "20121"
      ]
     },
     "execution_count": 23,
     "metadata": {},
     "output_type": "execute_result"
    }
   ],
   "source": [
    "count_overlapping_points(data5, horizontal_only=False)"
   ]
  },
  {
   "cell_type": "code",
   "execution_count": 24,
   "id": "cfd0222a",
   "metadata": {},
   "outputs": [],
   "source": [
    "assert _ == 20121, 'Day 5.2'"
   ]
  },
  {
   "cell_type": "markdown",
   "id": "87a99626",
   "metadata": {},
   "source": [
    "## Day 6"
   ]
  },
  {
   "cell_type": "code",
   "execution_count": 29,
   "id": "0ba1a27b",
   "metadata": {},
   "outputs": [
    {
     "data": {
      "text/plain": [
       "346063"
      ]
     },
     "execution_count": 29,
     "metadata": {},
     "output_type": "execute_result"
    }
   ],
   "source": [
    "def grow_lantern_fish(fish: [int], remaining_days: int):\n",
    "    # first naive recursive implementation\n",
    "    if remaining_days == 0:\n",
    "        return fish\n",
    "    \n",
    "    next_generation = []\n",
    "    for f in fish:\n",
    "        next_val = f - 1\n",
    "        # -1 here as the zeroth day counts\n",
    "        if next_val == -1:\n",
    "            next_generation.append(8)\n",
    "            next_val = 6\n",
    "        next_generation.append(next_val)\n",
    "    return grow_lantern_fish(next_generation, remaining_days - 1)\n",
    "        \n",
    "            \n",
    "\n",
    "data5_input = \"1,5,5,1,5,1,5,3,1,3,2,4,3,4,1,1,3,5,4,4,2,1,2,1,2,1,2,1,5,2,1,5,1,2,2,1,5,5,5,1,1,1,5,1,3,4,5,1,2,2,5,5,3,4,5,4,4,1,4,5,3,4,4,5,2,4,2,2,1,3,4,3,2,3,4,1,4,4,4,5,1,3,4,2,5,4,5,3,1,4,1,1,1,2,4,2,1,5,1,4,5,3,3,4,1,1,4,3,4,1,1,1,5,4,3,5,2,4,1,1,2,3,2,4,4,3,3,5,3,1,4,5,5,4,3,3,5,1,5,3,5,2,5,1,5,5,2,3,3,1,1,2,2,4,3,1,5,1,1,3,1,4,1,2,3,5,5,1,2,3,4,3,4,1,1,5,5,3,3,4,5,1,1,4,1,4,1,3,5,5,1,4,3,1,3,5,5,5,5,5,2,2,1,2,4,1,5,3,3,5,4,5,4,1,5,1,5,1,2,5,4,5,5,3,2,2,2,5,4,4,3,3,1,4,1,2,3,1,5,4,5,3,4,1,1,2,2,1,2,5,1,1,1,5,4,5,2,1,4,4,1,1,3,3,1,3,2,1,5,2,3,4,5,3,5,4,3,1,3,5,5,5,5,2,1,1,4,2,5,1,5,1,3,4,3,5,5,1,4,3\"\n",
    "data5 = mapt(int, data5_input.split(','))\n",
    "len(grow_lantern_fish(data5, 80))"
   ]
  },
  {
   "cell_type": "code",
   "execution_count": null,
   "id": "42f2cdad",
   "metadata": {},
   "outputs": [],
   "source": [
    "assert _ == 346063, 'Day 6.1'"
   ]
  },
  {
   "cell_type": "code",
   "execution_count": 31,
   "id": "683504ed",
   "metadata": {},
   "outputs": [
    {
     "data": {
      "text/plain": [
       "1572358335990"
      ]
     },
     "execution_count": 31,
     "metadata": {},
     "output_type": "execute_result"
    }
   ],
   "source": [
    "def count_fish_in_state(fish: [int], days: int) -> int:\n",
    "    # find the fish in each state, creating a list of length 8\n",
    "    days_state = [fish.count(days_left) for days_left in range(9)]\n",
    "\n",
    "    for _ in range(days):\n",
    "        reproducing_fish = days_state[0]\n",
    "        # remove the fish that have reproduced\n",
    "        days_state = days_state[1:]\n",
    "        # reset day 8 with new fish\n",
    "        days_state.append(reproducing_fish)\n",
    "        # move that have reproduced to day 6\n",
    "        days_state[6] += reproducing_fish\n",
    "    return sum(days_state)\n",
    "\n",
    "count_fish_in_state(data5, 256)"
   ]
  },
  {
   "cell_type": "code",
   "execution_count": 34,
   "id": "33935393",
   "metadata": {},
   "outputs": [],
   "source": [
    "assert _ == 1572358335990, 'Day 6.2'"
   ]
  },
  {
   "cell_type": "markdown",
   "id": "e10d0271",
   "metadata": {},
   "source": [
    "## [Day 7](https://adventofcode.com/2021/day/7)\n",
    "\n",
    "Here, we're looking to minimise [aggregating discrepancies](https://www.johnmyleswhite.com/notebook/2013/03/22/modes-medians-and-means-an-unifying-perspective/).\n",
    "\n",
    "For part one, we're looking at **absolute deviation**, or that the value of the discrepancy increases linearly with the distance from it. We're seeking to minimise this value, which equates to the median value of the set."
   ]
  },
  {
   "cell_type": "code",
   "execution_count": 35,
   "id": "8a57f2df",
   "metadata": {},
   "outputs": [
    {
     "data": {
      "text/plain": [
       "341534"
      ]
     },
     "execution_count": 35,
     "metadata": {},
     "output_type": "execute_result"
    }
   ],
   "source": [
    "def align_crab_subs(positions):\n",
    "    positions = sorted(positions)\n",
    "    median = positions[int(len(positions) / 2)]\n",
    "    return sum(abs(pos - median) for pos in positions)\n",
    "\n",
    "\n",
    "data7 = Input(7, lambda l: mapt(int, l.split(\",\")))[0]\n",
    "align_crab_subs(data7)"
   ]
  },
  {
   "cell_type": "code",
   "execution_count": 36,
   "id": "ee71ff3f",
   "metadata": {},
   "outputs": [],
   "source": [
    "assert _ == 341534, 'Day 7.1'"
   ]
  },
  {
   "cell_type": "markdown",
   "id": "d434d7d0",
   "metadata": {},
   "source": [
    "Then for part two, we're told that it's the sum of integers up to a limit, the more general form of which is `sum(1..n) -> n(n+1)/2` ([wikipedia](https://en.wikipedia.org/wiki/1_%2B_2_%2B_3_%2B_4_%2B_%E2%8B%AF)). If we expand we have `n^2 + n / 2` , because `n^2 >> n` we can make an approximation that we're looking to minimise the the average square distance, which is another way of expressing the mean.\n",
    "\n",
    "This tells us the we can expect the answer to be around the mean value - I got lucky, as it was just the integer of the mean!"
   ]
  },
  {
   "cell_type": "code",
   "execution_count": 37,
   "id": "07183f0f",
   "metadata": {},
   "outputs": [
    {
     "data": {
      "text/plain": [
       "93397632"
      ]
     },
     "execution_count": 37,
     "metadata": {},
     "output_type": "execute_result"
    }
   ],
   "source": [
    "def align_crab_subs2(positions):\n",
    "    mean = int(avg(positions))\n",
    "    return sum(int(abs(pos - mean) * (abs(pos - mean) + 1) / 2) for pos in positions)\n",
    "\n",
    "\n",
    "def non_linear_cost(crab_position, target_position):\n",
    "    distance_required = abs(crab_position - target_position)\n",
    "    return sum(range(1, distance_required + 1))\n",
    "\n",
    "\n",
    "align_crab_subs2(data7)"
   ]
  },
  {
   "cell_type": "code",
   "execution_count": 38,
   "id": "0ea9f44c",
   "metadata": {},
   "outputs": [],
   "source": [
    "assert _ == 93397632, 'Day 7.2'"
   ]
  },
  {
   "cell_type": "markdown",
   "id": "dd60d7bc",
   "metadata": {},
   "source": [
    "## [Day 8](https://adventofcode.com/2021/day/8)"
   ]
  },
  {
   "cell_type": "code",
   "execution_count": 39,
   "id": "ad3092cc",
   "metadata": {},
   "outputs": [
    {
     "data": {
      "text/plain": [
       "362"
      ]
     },
     "execution_count": 39,
     "metadata": {},
     "output_type": "execute_result"
    }
   ],
   "source": [
    "def count_easy_digits(mappings: [[str], [str]]) -> int:\n",
    "    outputs = [out for _, out in mappings]\n",
    "    return sum(len(digits) in (2, 3, 4, 7) for digits in chain(*outputs))\n",
    "\n",
    "\n",
    "def parse_input(line):\n",
    "    inputs, outputs = line.strip().split(\" | \")\n",
    "    return inputs.split(\" \"), outputs.split(\" \")\n",
    "\n",
    "\n",
    "data8 = Input(8, parse_input)\n",
    "count_easy_digits(data8)"
   ]
  },
  {
   "cell_type": "code",
   "execution_count": 40,
   "id": "2b23947b",
   "metadata": {},
   "outputs": [],
   "source": [
    "assert _ == 362, \"Day 8.1\""
   ]
  },
  {
   "cell_type": "markdown",
   "id": "10dbabc5",
   "metadata": {},
   "source": [
    "For the second part I spent a bunch of time staring at the digits and figuring out the logical combinations for them. I did toy with creating a general solution for this but it didn't seem worth it given the number of characters!\n",
    "\n",
    "```\n",
    "  0:      1:      2:      3:      4:\n",
    " aaaa    ....    aaaa    aaaa    ....\n",
    "b    c  .    c  .    c  .    c  b    c\n",
    "b    c  .    c  .    c  .    c  b    c\n",
    " ....    ....    dddd    dddd    dddd\n",
    "e    f  .    f  e    .  .    f  .    f\n",
    "e    f  .    f  e    .  .    f  .    f\n",
    " gggg    ....    gggg    gggg    ....\n",
    "\n",
    "  5:      6:      7:      8:      9:\n",
    " aaaa    aaaa    aaaa    aaaa    aaaa\n",
    "b    .  b    .  .    c  b    c  b    c\n",
    "b    .  b    .  .    c  b    c  b    c\n",
    " dddd    dddd    ....    dddd    dddd\n",
    ".    f  e    f  .    f  e    f  .    f\n",
    ".    f  e    f  .    f  e    f  .    f\n",
    " gggg    gggg    ....    gggg    gggg\n",
    " ```"
   ]
  },
  {
   "cell_type": "code",
   "execution_count": 41,
   "id": "20b983a5",
   "metadata": {},
   "outputs": [
    {
     "data": {
      "text/plain": [
       "1020159"
      ]
     },
     "execution_count": 41,
     "metadata": {},
     "output_type": "execute_result"
    }
   ],
   "source": [
    "def created_digit_to_code_map(codes):\n",
    "    mapping = {}\n",
    "    lengths = defaultdict(list)\n",
    "\n",
    "    for code in codes:\n",
    "        lengths[len(code)].append(frozenset(code))\n",
    "\n",
    "    # Map unqiue lengths\n",
    "    mapping[1] = lengths[2][0]\n",
    "    mapping[4] = lengths[4][0]\n",
    "    mapping[7] = lengths[3][0]\n",
    "    mapping[8] = lengths[7][0]\n",
    "\n",
    "    # 0, 6, 9\n",
    "    for code in lengths[6]:\n",
    "        # 6 does not contain 1\n",
    "        if not mapping[1].issubset(code):\n",
    "            mapping[6] = code\n",
    "        # 9 containes 4\n",
    "        elif mapping[4].issubset(code):\n",
    "            mapping[9] = code\n",
    "        # must be 0\n",
    "        else:\n",
    "            mapping[0] = code\n",
    "\n",
    "    # 2, 3, 5\n",
    "    for code in lengths[5]:\n",
    "        # 3 contains 1\n",
    "        if mapping[1].issubset(code):\n",
    "            mapping[3] = code\n",
    "        # 5 is a subset of 9\n",
    "        elif code.issubset(mapping[9]):\n",
    "            mapping[5] = code\n",
    "        # must be 2\n",
    "        else:\n",
    "            mapping[2] = code\n",
    "    return mapping\n",
    "\n",
    "\n",
    "def build_mapping(mappings: [[str], [str]]):\n",
    "    total = 0\n",
    "    for inputs, outputs in mappings:\n",
    "        mapping = created_digit_to_code_map(inputs)\n",
    "\n",
    "        code_to_num = dict((chars, val) for val, chars in mapping.items())\n",
    "        digits = [code_to_num[frozenset(out)] for out in outputs]\n",
    "        num = 0\n",
    "        for out in outputs:\n",
    "            num *= 10\n",
    "            num += code_to_num[frozenset(out)]\n",
    "        total += num\n",
    "    return total\n",
    "\n",
    "\n",
    "build_mapping(data8)"
   ]
  },
  {
   "cell_type": "code",
   "execution_count": 42,
   "id": "869a3d9c",
   "metadata": {},
   "outputs": [],
   "source": [
    "assert _ == 1020159, 'Day 8.2'"
   ]
  },
  {
   "cell_type": "markdown",
   "id": "09ff5892",
   "metadata": {},
   "source": [
    "## [Day 9](https://adventofcode.com/2021/day/9)"
   ]
  },
  {
   "cell_type": "code",
   "execution_count": 43,
   "id": "ca2589b6",
   "metadata": {},
   "outputs": [
    {
     "data": {
      "text/plain": [
       "603"
      ]
     },
     "execution_count": 43,
     "metadata": {},
     "output_type": "execute_result"
    }
   ],
   "source": [
    "def find_low_points(grid: [[int]]) -> [(int, int)]:\n",
    "    low_points = []\n",
    "\n",
    "    for y, row in enumerate(grid):\n",
    "        for x, cell in enumerate(row):\n",
    "            for (nx, ny) in neighbours4(x, y):\n",
    "                if nx < 0 or ny < 0 or nx >= len(row) or ny >= len(grid):\n",
    "                    continue\n",
    "                if grid[ny][nx] <= cell:\n",
    "                    break\n",
    "            else:\n",
    "                low_points.append((x, y))\n",
    "    return low_points\n",
    "\n",
    "\n",
    "def calclualate_risk(grid: [[int]]) -> int:\n",
    "    low_points = find_low_points(grid)\n",
    "    return sum(grid[y][x] + 1 for (x, y) in low_points)\n",
    "\n",
    "\n",
    "def parse_data(line):\n",
    "    return mapt(int, line.strip())\n",
    "\n",
    "\n",
    "data9 = Input(9, parse_data)\n",
    "calclualate_risk(data9)"
   ]
  },
  {
   "cell_type": "code",
   "execution_count": 44,
   "id": "f89f259a",
   "metadata": {},
   "outputs": [],
   "source": [
    "assert _ == 603, 'Day 9.1'"
   ]
  },
  {
   "cell_type": "code",
   "execution_count": 45,
   "id": "4f72f7bd",
   "metadata": {},
   "outputs": [
    {
     "data": {
      "text/plain": [
       "786780"
      ]
     },
     "execution_count": 45,
     "metadata": {},
     "output_type": "execute_result"
    }
   ],
   "source": [
    "def find_basins(grid: [[int]]) -> [[(int, int)]]:\n",
    "    roots = find_low_points(grid)\n",
    "\n",
    "    basins = []\n",
    "\n",
    "    xmax = len(grid[0])\n",
    "    ymax = len(grid)\n",
    "\n",
    "    for root in roots:\n",
    "        basin = [root]\n",
    "        to_explore = [root]\n",
    "\n",
    "        while to_explore:\n",
    "            x, y = to_explore.pop()\n",
    "\n",
    "            for (nx, ny) in neighbours4(x, y):\n",
    "                if nx < 0 or ny < 0 or nx >= xmax or ny >= ymax:\n",
    "                    # out of bounds\n",
    "                    continue\n",
    "\n",
    "                if grid[ny][nx] == 9:\n",
    "                    # hit a high point, and cannot continue\n",
    "                    continue\n",
    "\n",
    "                if (nx, ny) in basin:\n",
    "                    # seen before, can ignore this time\n",
    "                    continue\n",
    "                to_explore.append((nx, ny))\n",
    "                basin.append((nx, ny))\n",
    "\n",
    "        basins.append(basin)\n",
    "    return basins\n",
    "\n",
    "\n",
    "def avoid_largest_basins(grid: [[int]]) -> int:\n",
    "    basins = find_basins(grid)\n",
    "    basins = sorted(basins, key=lambda b: len(b), reverse=True)\n",
    "    return len(basins[0]) * len(basins[1]) * len(basins[2])\n",
    "\n",
    "\n",
    "avoid_largest_basins(data9)"
   ]
  },
  {
   "cell_type": "markdown",
   "id": "fa3e511a",
   "metadata": {},
   "source": [
    "## [Day 10](https://adventofcode.com/2021/day/10)\n",
    "\n",
    "Using a stack here makes life a lot simpler, it's a classic parsing technique."
   ]
  },
  {
   "cell_type": "code",
   "execution_count": 46,
   "id": "e334fe4c",
   "metadata": {},
   "outputs": [
    {
     "data": {
      "text/plain": [
       "464991"
      ]
     },
     "execution_count": 46,
     "metadata": {},
     "output_type": "execute_result"
    }
   ],
   "source": [
    "def is_valid_line(line: str) -> (bool, str):\n",
    "    \"\"\"\n",
    "    Checks if line is valid, if it is return True and any missing\n",
    "    characters, otherwise False and the first offending character.\n",
    "    \"\"\"\n",
    "    stack = []\n",
    "\n",
    "    brackets = {\"[\": \"]\", \"(\": \")\", \"<\": \">\", \"{\": \"}\"}\n",
    "    close_brackets = dict((val, key) for key, val in brackets.items())\n",
    "\n",
    "    for char in line:\n",
    "        if char in brackets:\n",
    "            # new opening bracket\n",
    "            stack.append(char)\n",
    "            continue\n",
    "        if stack[-1] != close_brackets[char]:\n",
    "            # got a different close bracket, this is an error\n",
    "            return False, char\n",
    "        stack.pop()\n",
    "    return True, \"\".join(brackets[k] for k in stack[::-1])\n",
    "\n",
    "\n",
    "def find_syntax_error_score(lines):\n",
    "    scores = {\n",
    "        \")\": 3,\n",
    "        \"]\": 57,\n",
    "        \"}\": 1197,\n",
    "        \">\": 25137,\n",
    "    }\n",
    "    total_score = 0\n",
    "    for line in lines:\n",
    "        is_valid, error_char = is_valid_line(line)\n",
    "        if not is_valid:\n",
    "            total_score += scores[error_char]\n",
    "    return total_score\n",
    "\n",
    "\n",
    "data10 = Input(10)\n",
    "find_syntax_error_score(data10)"
   ]
  },
  {
   "cell_type": "code",
   "execution_count": 47,
   "id": "32c69fb0",
   "metadata": {},
   "outputs": [],
   "source": [
    "assert _ == 464991, 'Day 10.1'"
   ]
  },
  {
   "cell_type": "code",
   "execution_count": 48,
   "id": "29d245e2",
   "metadata": {},
   "outputs": [
    {
     "data": {
      "text/plain": [
       "3662008566"
      ]
     },
     "execution_count": 48,
     "metadata": {},
     "output_type": "execute_result"
    }
   ],
   "source": [
    "def calculate_autocomplete_score(chars):\n",
    "    scores = {\n",
    "        \")\": 1,\n",
    "        \"]\": 2,\n",
    "        \"}\": 3,\n",
    "        \">\": 4,\n",
    "    }\n",
    "    score = 0\n",
    "\n",
    "    for char in chars:\n",
    "        score *= 5\n",
    "        score += scores[char]\n",
    "    return score\n",
    "\n",
    "\n",
    "def find_autocomplete_score(lines):\n",
    "    scores = []\n",
    "\n",
    "    for line in lines:\n",
    "        is_valid, missing_chars = is_valid_line(line)\n",
    "        if is_valid:\n",
    "            scores.append(calculate_autocomplete_score(missing_chars))\n",
    "\n",
    "    sorted_scores = sorted(scores)\n",
    "    mid_index = int(len(sorted_scores) / 2)\n",
    "    return sorted_scores[mid_index]\n",
    "\n",
    "\n",
    "find_autocomplete_score(data10)"
   ]
  },
  {
   "cell_type": "code",
   "execution_count": 49,
   "id": "927eaac4",
   "metadata": {},
   "outputs": [],
   "source": [
    "assert _ == 3662008566, 'Day 10.2'"
   ]
  },
  {
   "cell_type": "markdown",
   "id": "54355beb",
   "metadata": {},
   "source": [
    "## [Day 11](https://adventofcode.com/2021/day/11)\n",
    "\n",
    "Today's was quite fun! The only real difficulty was reading the question.. using `>= 9` held me up for much longer than it should have!"
   ]
  },
  {
   "cell_type": "code",
   "execution_count": 50,
   "id": "454103ca",
   "metadata": {},
   "outputs": [
    {
     "data": {
      "text/plain": [
       "1743"
      ]
     },
     "execution_count": 50,
     "metadata": {},
     "output_type": "execute_result"
    }
   ],
   "source": [
    "def advance_octopus_grid(octopus_grid: [[int]]) -> ([[int]], int):\n",
    "    \"\"\"\n",
    "    Advances all octopuses state.\n",
    "\n",
    "    Returns a new grid of octopusses and the number that flashed during\n",
    "    this step.\n",
    "    \"\"\"\n",
    "    octopus_grid = [l.copy() for l in octopus_grid]\n",
    "    # first advance all values\n",
    "    remaining_flashes = set()\n",
    "    for x in range(10):\n",
    "        for y in range(10):\n",
    "            octopus_grid[y][x] += 1\n",
    "\n",
    "            if octopus_grid[y][x] > 9:\n",
    "                remaining_flashes.add((x, y))\n",
    "\n",
    "    did_flash = set()\n",
    "    while remaining_flashes:\n",
    "        x, y = remaining_flashes.pop()\n",
    "\n",
    "        if (x, y) in did_flash:\n",
    "            # this octopus has flashed, ignore\n",
    "            continue\n",
    "\n",
    "        for nx, ny in neighbours8(x, y):\n",
    "            if nx < 0 or nx > 9 or ny < 0 or ny > 9:\n",
    "                # out of bounds, ignore\n",
    "                continue\n",
    "\n",
    "            octopus_grid[ny][nx] += 1\n",
    "\n",
    "            if octopus_grid[ny][nx] > 9:\n",
    "                remaining_flashes.add((nx, ny))\n",
    "\n",
    "        did_flash.add((x, y))\n",
    "\n",
    "    # For all that flashed, set their energy to 0\n",
    "    for x, y in list(did_flash):\n",
    "        octopus_grid[y][x] = 0\n",
    "\n",
    "    return octopus_grid, len(did_flash)\n",
    "\n",
    "\n",
    "def count_flashes(octopus_grid: [[int]], n: int) -> int:\n",
    "    total_flashes = 0\n",
    "\n",
    "    for _ in range(n):\n",
    "        octopus_grid, flashes = advance_octopus_grid(octopus_grid)\n",
    "        total_flashes += flashes\n",
    "    return total_flashes\n",
    "\n",
    "\n",
    "data11 = \"\"\"1443668646\n",
    "7686735716\n",
    "4261576231\n",
    "3361258654\n",
    "4852532611\n",
    "5587113732\n",
    "1224426757\n",
    "5155565133\n",
    "6488377862\n",
    "8267833811\"\"\".split(\n",
    "    \"\\n\"\n",
    ")\n",
    "\n",
    "data11 = [list(mapt(int, l)) for l in data11]\n",
    "\n",
    "count_flashes(data11, 100)"
   ]
  },
  {
   "cell_type": "code",
   "execution_count": 51,
   "id": "048ffb97",
   "metadata": {},
   "outputs": [],
   "source": [
    "assert _ == 1743"
   ]
  },
  {
   "cell_type": "code",
   "execution_count": 52,
   "id": "d730ff6a",
   "metadata": {},
   "outputs": [
    {
     "data": {
      "text/plain": [
       "364"
      ]
     },
     "execution_count": 52,
     "metadata": {},
     "output_type": "execute_result"
    }
   ],
   "source": [
    "def find_first_simultaneous_flash(octopus_grid: [[int]]) -> int:\n",
    "    for step in count(1):\n",
    "        octopus_grid, flashes = advance_octopus_grid(octopus_grid)\n",
    "        if flashes == 100:\n",
    "            break\n",
    "    return step\n",
    "\n",
    "\n",
    "find_first_simultaneous_flash(data11)"
   ]
  },
  {
   "cell_type": "code",
   "execution_count": 53,
   "id": "150ffe88",
   "metadata": {},
   "outputs": [],
   "source": [
    "assert _ == 364"
   ]
  },
  {
   "cell_type": "markdown",
   "id": "61fbe9ce",
   "metadata": {},
   "source": [
    "## [Day 12](https://adventofcode.com/2021/day/12)\n",
    "\n",
    "First graph question! Below uses an adjacency list to keep track of connected nodes, and performs a depth-first-search on the tree, recursively exploring a single path until it terminates and tracking branches as we go. There is undoubtedly an efficient technique for reusing explored paths, which I may come and rewrite at some point."
   ]
  },
  {
   "cell_type": "code",
   "execution_count": 54,
   "id": "551f44c7",
   "metadata": {},
   "outputs": [],
   "source": [
    "def find_all_paths(tree, multi_visit=False, node=\"start\", current_path=None):\n",
    "    if current_path is None:\n",
    "        current_path = [\"start\"]\n",
    "\n",
    "    if node == \"end\":\n",
    "        yield current_path\n",
    "\n",
    "    for child_node in tree[node]:\n",
    "        path = current_path[:]\n",
    "\n",
    "        if child_node.islower() and child_node in path:\n",
    "            if not multi_visit:\n",
    "                # cannot revisit a small cave\n",
    "                continue\n",
    "            if current_path[0] == \"+\":\n",
    "                # already visited a small cave in this path, cannot revisit\n",
    "                continue\n",
    "            if child_node in (\"start\", \"end\"):\n",
    "                # do not allow visiting end roots more than once\n",
    "                continue\n",
    "            # mark this path to say we've visited a small cave already\n",
    "            path.insert(0, \"+\")\n",
    "\n",
    "        path.append(child_node)\n",
    "\n",
    "        yield from find_all_paths(tree, multi_visit, child_node, path)\n",
    "\n",
    "\n",
    "def count_paths(tree, multi_visit=False):\n",
    "    path_count = 0\n",
    "    for path in find_all_paths(tree, multi_visit):\n",
    "        path_count += 1\n",
    "    return path_count\n",
    "\n",
    "\n",
    "def parse_input(lines):\n",
    "    nodes = defaultdict(list)\n",
    "\n",
    "    for line in lines:\n",
    "        left, right = line.strip().split(\"-\")\n",
    "        # connections are bi-directional\n",
    "        nodes[left].append(right)\n",
    "        nodes[right].append(left)\n",
    "\n",
    "    return nodes"
   ]
  },
  {
   "cell_type": "code",
   "execution_count": 55,
   "id": "ab75469d",
   "metadata": {},
   "outputs": [
    {
     "data": {
      "text/plain": [
       "3887"
      ]
     },
     "execution_count": 55,
     "metadata": {},
     "output_type": "execute_result"
    }
   ],
   "source": [
    "data12 = Input(12, parse_input, whole_file=True)\n",
    "count_paths(data12, False)"
   ]
  },
  {
   "cell_type": "code",
   "execution_count": 56,
   "id": "b5683e9d",
   "metadata": {},
   "outputs": [],
   "source": [
    "assert _ == 3887, 'Day 12.1'"
   ]
  },
  {
   "cell_type": "code",
   "execution_count": 57,
   "id": "37280e91",
   "metadata": {},
   "outputs": [
    {
     "name": "stdout",
     "output_type": "stream",
     "text": [
      "CPU times: user 1.78 s, sys: 4.05 ms, total: 1.78 s\n",
      "Wall time: 1.78 s\n"
     ]
    },
    {
     "data": {
      "text/plain": [
       "104834"
      ]
     },
     "execution_count": 57,
     "metadata": {},
     "output_type": "execute_result"
    }
   ],
   "source": [
    "%%time\n",
    "count_paths(data12, True)"
   ]
  },
  {
   "cell_type": "code",
   "execution_count": 58,
   "id": "76747eff",
   "metadata": {},
   "outputs": [],
   "source": [
    "assert _ == 104834, 'Day 12.2'"
   ]
  },
  {
   "cell_type": "markdown",
   "id": "0c4e9dac",
   "metadata": {},
   "source": [
    "## [Day 13: Transparent Origami](https://adventofcode.com/2021/day/13)\n",
    "\n",
    "Today's problem wasn't too tricky, the only thing to recognise here was how to perform the folding of the grid. The question tells us that we're always folding UP or LEFT, so we only need to move points that are higher in x or y respectively."
   ]
  },
  {
   "cell_type": "code",
   "execution_count": 101,
   "id": "64bfebca",
   "metadata": {},
   "outputs": [
    {
     "data": {
      "text/plain": [
       "602"
      ]
     },
     "execution_count": 101,
     "metadata": {},
     "output_type": "execute_result"
    }
   ],
   "source": [
    "def perform_fold(grid, axis, fold_point):\n",
    "    # which points are being flipped, x or y?\n",
    "    index = 1 if axis == \"y\" else 0\n",
    "\n",
    "    new_grid = set()\n",
    "    for x, y in grid:\n",
    "        new_point = [x, y]\n",
    "\n",
    "        # we only care about points on the other side of the fold\n",
    "        if new_point[index] > fold_point:\n",
    "            # as we're folding LEFT or UP, this is negative\n",
    "            distance_to_fold = new_point[index] - fold_point\n",
    "            new_point[index] -= 2 * distance_to_fold\n",
    "        new_grid.add(tuple(new_point))\n",
    "    return list(new_grid)\n",
    "\n",
    "\n",
    "def fold_grid(grid, folds):\n",
    "    for fold in folds:\n",
    "        axis, fold_point = fold\n",
    "        grid = perform_fold(grid, axis, fold_point)\n",
    "    return grid\n",
    "\n",
    "\n",
    "def print_grid(grid):\n",
    "    max_x = max(x for x, _ in grid)\n",
    "    max_y = max(y for _, y in grid)\n",
    "\n",
    "    for y in range(max_y + 1):\n",
    "        row = []\n",
    "        for x in range(max_x + 1):\n",
    "            char = \"#\" if (x, y) in grid else \".\"\n",
    "            row.append(char)\n",
    "        print(\"\".join(row))\n",
    "\n",
    "\n",
    "def count_points_after_folds(grid, folds, display_output=False):\n",
    "    grid = fold_grid(grid, folds)\n",
    "    if display_output:\n",
    "        print_grid(grid)\n",
    "    return len(grid)\n",
    "\n",
    "\n",
    "def parse_input(lines):\n",
    "    grid = []\n",
    "    folds = []\n",
    "\n",
    "    for line in lines:\n",
    "        line = line.strip()\n",
    "\n",
    "        if not line:\n",
    "            continue\n",
    "\n",
    "        if \"fold\" in line:\n",
    "            left_chunk, value = line.split('=')\n",
    "            axis = left_chunk[-1]\n",
    "            folds.append((axis, int(value)))\n",
    "        else:\n",
    "            x, y = line.split(\",\")\n",
    "            point = (int(x), int(y))\n",
    "            grid.append(point)\n",
    "    return grid, folds\n",
    "\n",
    "\n",
    "data13 = Input(13, parse_input, whole_file=True)\n",
    "count_points_after_folds(data13[0], data13[1][:1])"
   ]
  },
  {
   "cell_type": "code",
   "execution_count": 99,
   "id": "7c7e9984",
   "metadata": {},
   "outputs": [],
   "source": [
    "assert _ == 602, \"Day 13.1\""
   ]
  },
  {
   "cell_type": "code",
   "execution_count": 100,
   "id": "c5f6c78e",
   "metadata": {},
   "outputs": [
    {
     "name": "stdout",
     "output_type": "stream",
     "text": [
      " ##   ##  ####   ## #  # ####  ##  #  #\n",
      "#  # #  # #       # #  #    # #  # # # \n",
      "#    #  # ###     # ####   #  #    ##  \n",
      "#    #### #       # #  #  #   #    # # \n",
      "#  # #  # #    #  # #  # #    #  # # # \n",
      " ##  #  # #     ##  #  # ####  ##  #  #\n"
     ]
    },
    {
     "data": {
      "text/plain": [
       "92"
      ]
     },
     "execution_count": 100,
     "metadata": {},
     "output_type": "execute_result"
    }
   ],
   "source": [
    "count_points_after_folds(data13[0], data13[1], True)"
   ]
  },
  {
   "cell_type": "code",
   "execution_count": 93,
   "id": "fab54257",
   "metadata": {},
   "outputs": [],
   "source": [
    "assert _ == 92, \"Day 13.2\""
   ]
  },
  {
   "cell_type": "markdown",
   "id": "497dbdf0",
   "metadata": {},
   "source": [
    "## [Day 14](https://adventofcode.com/2021/day/14)\n",
    "\n",
    "Another problem that cannot be brute forced, as the memory complexity gets out of hand quite quickly. I started with a simple recursive solution, not knowing that the state of the overall polymer wouldn't be required for the second part... "
   ]
  },
  {
   "cell_type": "code",
   "execution_count": 174,
   "id": "69d00062",
   "metadata": {},
   "outputs": [
    {
     "data": {
      "text/plain": [
       "2891"
      ]
     },
     "execution_count": 174,
     "metadata": {},
     "output_type": "execute_result"
    }
   ],
   "source": [
    "def grow_poylmer(polymer, rules):\n",
    "    pairs = [a + b for a, b in zip(polymer, polymer[1:])]\n",
    "    new_polymer = [polymer[0]]\n",
    "\n",
    "    for pair in pairs:\n",
    "        if pair in rules:\n",
    "            new_polymer.append(rules[pair])\n",
    "        new_polymer.append(pair[1])\n",
    "    return \"\".join(new_polymer)\n",
    "\n",
    "\n",
    "def polymerization(polymer, rules):\n",
    "    for _ in range(10):\n",
    "        polymer = grow_poylmer(polymer, rules)\n",
    "    chars = Counter(polymer)\n",
    "    counts = chars.most_common()\n",
    "    return counts[0][1] - counts[-1][1]\n",
    "\n",
    "\n",
    "def parse_input(lines):\n",
    "    polymer = None\n",
    "    rules = {}\n",
    "\n",
    "    for line in lines:\n",
    "        line = line.strip()\n",
    "\n",
    "        if not polymer:\n",
    "            polymer = line\n",
    "        elif not line:\n",
    "            continue\n",
    "        else:\n",
    "            pair, char = line.split(\" -> \")\n",
    "            rules[pair] = char\n",
    "    return polymer, rules\n",
    "\n",
    "\n",
    "data14 = parse_input(test_input)\n",
    "data14 = Input(14, parse_input, whole_file=True)\n",
    "polymerization(*data14)"
   ]
  },
  {
   "cell_type": "code",
   "execution_count": 120,
   "id": "e4090353",
   "metadata": {},
   "outputs": [],
   "source": [
    "assert _ == 2891, 'Day 14.1'"
   ]
  },
  {
   "cell_type": "markdown",
   "id": "32be00a5",
   "metadata": {},
   "source": [
    "Similar to the lantern fish from day 6, the brute force solution simply will not work for the second part. Again the key observation is that the order of what is growing is not required for the result, so we only need to track the pair and character frequencies."
   ]
  },
  {
   "cell_type": "code",
   "execution_count": 176,
   "id": "87533d14",
   "metadata": {},
   "outputs": [
    {
     "data": {
      "text/plain": [
       "4607749009683"
      ]
     },
     "execution_count": 176,
     "metadata": {},
     "output_type": "execute_result"
    }
   ],
   "source": [
    "def polymerization_count(polymer, rules, n=40):\n",
    "    # rather than keep track of the entire polymer, instead track the growth\n",
    "    pair_counts = defaultdict(int)\n",
    "    char_counts = defaultdict(int)\n",
    "\n",
    "    # initalise our tracking dicts\n",
    "    for a, b in zip(polymer, polymer[1:]):\n",
    "        pair_counts[a + b] += 1\n",
    "\n",
    "    for char in polymer:\n",
    "        char_counts[char] += 1\n",
    "\n",
    "    for _ in range(n):\n",
    "        current_occurances = list(pair_counts.items())\n",
    "        for pair, occurance in current_occurances:\n",
    "            if pair in rules:\n",
    "                new_char = rules[pair]\n",
    "                # all current pairs are broken...\n",
    "                pair_counts[pair] -= occurance\n",
    "                # ...and new ones created\n",
    "                pair_counts[pair[0] + new_char] += occurance\n",
    "                pair_counts[new_char + pair[1]] += occurance\n",
    "\n",
    "                char_counts[new_char] += occurance\n",
    "\n",
    "    return max(char_counts.values()) - min(char_counts.values())\n",
    "\n",
    "\n",
    "polymerization_count(*data14)"
   ]
  },
  {
   "cell_type": "code",
   "execution_count": 170,
   "id": "f4cbb07c",
   "metadata": {},
   "outputs": [],
   "source": [
    "assert _ == 4607749009683, 'Day 14.2'"
   ]
  }
 ],
 "metadata": {
  "kernelspec": {
   "display_name": "Python 3 (ipykernel)",
   "language": "python",
   "name": "python3"
  },
  "language_info": {
   "codemirror_mode": {
    "name": "ipython",
    "version": 3
   },
   "file_extension": ".py",
   "mimetype": "text/x-python",
   "name": "python",
   "nbconvert_exporter": "python",
   "pygments_lexer": "ipython3",
   "version": "3.9.7"
  }
 },
 "nbformat": 4,
 "nbformat_minor": 5
}
