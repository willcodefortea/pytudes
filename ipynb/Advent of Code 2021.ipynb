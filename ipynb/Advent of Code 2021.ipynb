{
 "cells": [
  {
   "cell_type": "markdown",
   "id": "02e9fe55",
   "metadata": {},
   "source": [
    "# [Advent of Code 2021](https://adventofcode.com/2021)"
   ]
  },
  {
   "cell_type": "markdown",
   "id": "c1d06a3d",
   "metadata": {},
   "source": [
    "# The toolbox\n",
    "\n",
    "\n",
    "Generalised pieces of code that either can be used in multiple questions or that simply makes understand the implementation easier."
   ]
  },
  {
   "cell_type": "code",
   "execution_count": 509,
   "id": "2f400016",
   "metadata": {},
   "outputs": [],
   "source": [
    "from collections import defaultdict, Counter, namedtuple\n",
    "from itertools import chain, count\n",
    "import operator\n",
    "\n",
    "\n",
    "def Input(day, parser=str.strip, whole_file=False):\n",
    "    \"Fetch the data input from disk.\"\n",
    "    filename = f\"../data/advent2021/input{day}.txt\"\n",
    "    with open(filename) as fin:\n",
    "        if whole_file:\n",
    "            return parser(fin)\n",
    "        return mapt(parser, fin)\n",
    "\n",
    "\n",
    "def mapt(fn, *args):\n",
    "    \"Do a map, and convert the results to a tuple\"\n",
    "    return tuple(map(fn, *args))\n",
    "\n",
    "\n",
    "avg = lambda n: sum(n) / len(n)\n",
    "\n",
    "\n",
    "NEIGHBOUR8_DELTAS = (\n",
    "    (-1, -1), (-1, 0), (-1, 1),\n",
    "    ( 0, -1),          ( 0, 1),\n",
    "    ( 1, -1), ( 1, 0), ( 1, 1),\n",
    ")\n",
    "\n",
    "NEIGHBOUR4_DELTAS = (\n",
    "              (-1, 0),\n",
    "    ( 0, -1),          ( 0, 1),\n",
    "              ( 1, 0),\n",
    ")\n",
    "\n",
    "\n",
    "def neighbours4(x, y):\n",
    "    return tuple((x + dx, y + dy) for dx, dy in NEIGHBOUR4_DELTAS)\n",
    "\n",
    "\n",
    "def neighbours8(x, y):\n",
    "    return tuple((x + dx, y + dy) for dx, dy in NEIGHBOUR8_DELTAS)\n"
   ]
  },
  {
   "cell_type": "markdown",
   "id": "79fdda12",
   "metadata": {},
   "source": [
    "## [Day 1](https://adventofcode.com/2021/day/1)"
   ]
  },
  {
   "cell_type": "code",
   "execution_count": 510,
   "id": "f68cbe3b",
   "metadata": {},
   "outputs": [],
   "source": [
    "def count_increasing_measurements(scans):\n",
    "    return sum(scan > scans[index - 1] for index, scan in enumerate(scans[1:], 1))"
   ]
  },
  {
   "cell_type": "code",
   "execution_count": 511,
   "id": "6174b9ec",
   "metadata": {},
   "outputs": [
    {
     "data": {
      "text/plain": [
       "1121"
      ]
     },
     "execution_count": 511,
     "metadata": {},
     "output_type": "execute_result"
    }
   ],
   "source": [
    "data1 = Input(1, int)\n",
    "count_increasing_measurements(data1)"
   ]
  },
  {
   "cell_type": "code",
   "execution_count": 512,
   "id": "bf587fea",
   "metadata": {},
   "outputs": [],
   "source": [
    "assert _ == 1121, 'Day 1.1'"
   ]
  },
  {
   "cell_type": "code",
   "execution_count": 513,
   "id": "ed89ab74",
   "metadata": {},
   "outputs": [
    {
     "data": {
      "text/plain": [
       "1065"
      ]
     },
     "execution_count": 513,
     "metadata": {},
     "output_type": "execute_result"
    }
   ],
   "source": [
    "chunks = [data1[i:i + 3] for i in range(len(data1) - 2)]\n",
    "count_increasing_measurements(mapt(sum, chunks))"
   ]
  },
  {
   "cell_type": "code",
   "execution_count": 514,
   "id": "c169bbf7",
   "metadata": {},
   "outputs": [],
   "source": [
    "assert _ == 1065, 'Day 1.2'"
   ]
  },
  {
   "cell_type": "markdown",
   "id": "089d2753",
   "metadata": {},
   "source": [
    "## [Day 2](https://adventofcode.com/2021/day/2)"
   ]
  },
  {
   "cell_type": "code",
   "execution_count": 515,
   "id": "4a9e9673",
   "metadata": {},
   "outputs": [
    {
     "data": {
      "text/plain": [
       "2036120"
      ]
     },
     "execution_count": 515,
     "metadata": {},
     "output_type": "execute_result"
    }
   ],
   "source": [
    "def follow_commands(commands):\n",
    "    x = d = 0\n",
    "    for direction, amount in commands:\n",
    "        if direction == \"forward\":\n",
    "            x += amount\n",
    "        elif direction == \"down\":\n",
    "            d += amount\n",
    "        elif direction == \"up\":\n",
    "            d -= amount\n",
    "        else:\n",
    "            print(\"unknown command!\")\n",
    "    return x * d\n",
    "\n",
    "\n",
    "def parse_input_2(line):\n",
    "    chunks = line.split(\" \")\n",
    "    return chunks[0], int(chunks[1])\n",
    "\n",
    "\n",
    "data2 = Input(2, parse_input_2)\n",
    "follow_commands(data2)"
   ]
  },
  {
   "cell_type": "code",
   "execution_count": 516,
   "id": "402663c6",
   "metadata": {},
   "outputs": [],
   "source": [
    "assert _ == 2036120, \"Day 2.1\""
   ]
  },
  {
   "cell_type": "code",
   "execution_count": 517,
   "id": "2dfa6170",
   "metadata": {},
   "outputs": [
    {
     "data": {
      "text/plain": [
       "2015547716"
      ]
     },
     "execution_count": 517,
     "metadata": {},
     "output_type": "execute_result"
    }
   ],
   "source": [
    "def follow_commands(commands):\n",
    "    x = d = aim = 0\n",
    "    for direction, amount in commands:\n",
    "        if direction == \"forward\":\n",
    "            x += amount\n",
    "            d += aim * amount\n",
    "        elif direction == \"down\":\n",
    "            aim += amount\n",
    "        elif direction == \"up\":\n",
    "            aim -= amount\n",
    "        else:\n",
    "            print(\"unknown command!\")\n",
    "    return x * d\n",
    "\n",
    "\n",
    "follow_commands(data2)"
   ]
  },
  {
   "cell_type": "code",
   "execution_count": 518,
   "id": "1b8c1ae6",
   "metadata": {},
   "outputs": [],
   "source": [
    "assert _ == 2015547716, \"Day 2.2\""
   ]
  },
  {
   "cell_type": "markdown",
   "id": "7de0e0a7",
   "metadata": {},
   "source": [
    "## [Day 3](https://adventofcode.com/2021/day/3)\n",
    "\n",
    "Not the prettiest, but a nice example of using `zip` to unzip the string into individual digits."
   ]
  },
  {
   "cell_type": "code",
   "execution_count": 519,
   "id": "d7d68b67",
   "metadata": {},
   "outputs": [
    {
     "data": {
      "text/plain": [
       "3969000"
      ]
     },
     "execution_count": 519,
     "metadata": {},
     "output_type": "execute_result"
    }
   ],
   "source": [
    "def find_power_consumption(report: list[list[int]]) -> int:\n",
    "    digits = list(zip(*report))\n",
    "    avg_bits = [round(avg(digits[bit_index])) for bit_index in range(len(digits))]\n",
    "\n",
    "    most_common = lambda index: str(avg_bits[index])\n",
    "    least_common = lambda index: str(int(not avg_bits[index]))\n",
    "\n",
    "    gamma = \"\".join(mapt(most_common, range(len(digits))))\n",
    "    epsilon = \"\".join(mapt(least_common, range(len(digits))))\n",
    "    return int(gamma, 2) * int(epsilon, 2)\n",
    "\n",
    "\n",
    "def parse_input(line):\n",
    "    return mapt(int, line.strip())\n",
    "\n",
    "\n",
    "data3 = Input(3, parse_input)\n",
    "find_power_consumption(data3)"
   ]
  },
  {
   "cell_type": "code",
   "execution_count": 520,
   "id": "a1ee480a",
   "metadata": {},
   "outputs": [],
   "source": [
    "assert _ == 3969000, 'Day 3.1'"
   ]
  },
  {
   "cell_type": "markdown",
   "id": "17cb4b4b",
   "metadata": {},
   "source": [
    "Part two was fun, here we continue to abuse bools and recurse through `bit_criteria` to remove digits."
   ]
  },
  {
   "cell_type": "code",
   "execution_count": 521,
   "id": "361cdfee",
   "metadata": {},
   "outputs": [
    {
     "data": {
      "text/plain": [
       "4267809"
      ]
     },
     "execution_count": 521,
     "metadata": {},
     "output_type": "execute_result"
    }
   ],
   "source": [
    "def bit_criteria(\n",
    "    report: list[list[int]], keep_most_common: bool, bit_index: int = 0\n",
    ") -> int:\n",
    "    if len(report) == 1:\n",
    "        return report[0]\n",
    "\n",
    "    digits = list(zip(*report))\n",
    "    avg_bit = avg(digits[bit_index])\n",
    "\n",
    "    # I can't be bothered to use Decimal ROUND UP here...\n",
    "    most_common = 1 if avg_bit == 0.5 else round(avg_bit)\n",
    "\n",
    "    winning_bit = most_common if keep_most_common else int(not most_common)\n",
    "\n",
    "    return bit_criteria(\n",
    "        [line for line in report if line[bit_index] == winning_bit],\n",
    "        keep_most_common,\n",
    "        bit_index + 1,\n",
    "    )\n",
    "\n",
    "\n",
    "def find_life_support_rating(report: list[list[int]]) -> int:\n",
    "    oxygen_generator = bit_criteria(report[:], True)\n",
    "    co2_scrubber = bit_criteria(report[:], False)\n",
    "\n",
    "    to_int = lambda bits: int(\"\".join(mapt(str, bits)), 2)\n",
    "\n",
    "    return to_int(oxygen_generator) * to_int(co2_scrubber)\n",
    "\n",
    "\n",
    "find_life_support_rating(data3)"
   ]
  },
  {
   "cell_type": "code",
   "execution_count": 522,
   "id": "46896a98",
   "metadata": {},
   "outputs": [],
   "source": [
    "assert _ == 4267809, 'Day 3.2'"
   ]
  },
  {
   "cell_type": "markdown",
   "id": "76fb01e6",
   "metadata": {},
   "source": [
    "## [Day 4](https://adventofcode.com/2021/day/4)\n",
    "\n",
    "Not particularly clean, and I don't really think all the sets are required, I could have simply read out rows and cols from a larger list! Oh well, did the job."
   ]
  },
  {
   "cell_type": "code",
   "execution_count": 523,
   "id": "647025a7",
   "metadata": {},
   "outputs": [
    {
     "data": {
      "text/plain": [
       "8580"
      ]
     },
     "execution_count": 523,
     "metadata": {},
     "output_type": "execute_result"
    }
   ],
   "source": [
    "BingoBoard = namedtuple(\"BingoBoard\", \"rows,cols\")\n",
    "\n",
    "\n",
    "def play_bingo(numbers: [int], boards: [BingoBoard], win_last: bool = False) -> int:\n",
    "    # translate boards to a list of sets so we can easily remove seen numbers\n",
    "    board_nums = dict(\n",
    "        (boardId, [*[set(r) for r in board.rows], *[set(c) for c in board.cols]])\n",
    "        for boardId, board in enumerate(boards)\n",
    "    )\n",
    "\n",
    "    # keep track of the most recent winningi board\n",
    "    winning_board = None\n",
    "\n",
    "    # track boards that are still in play\n",
    "    active_boards = set(board_nums.keys())\n",
    "\n",
    "    seen_numbers = set()\n",
    "    for number in numbers:\n",
    "        seen_numbers.add(number)\n",
    "\n",
    "        for board_id in list(active_boards):\n",
    "            for row_or_col_nums in board_nums[board_id]:\n",
    "                row_or_col_nums -= seen_numbers\n",
    "                if len(row_or_col_nums) == 0:\n",
    "                    # Don't exit now as we'll need to remove this number\n",
    "                    # from the row or col too!\n",
    "                    winning_board = board_id\n",
    "\n",
    "                    if board_id in active_boards:\n",
    "                        active_boards.remove(board_id)\n",
    "\n",
    "        have_a_winner = not win_last and winning_board is not None\n",
    "        should_last_win = win_last and len(active_boards) == 0\n",
    "        if have_a_winner or should_last_win:\n",
    "            break\n",
    "\n",
    "    if winning_board:\n",
    "        remaining = set()\n",
    "        for nums in board_nums[winning_board]:\n",
    "            remaining |= nums\n",
    "        return sum(remaining) * number\n",
    "\n",
    "    print(\"No winning board found!\")\n",
    "    return -1\n",
    "\n",
    "\n",
    "def parse_input(lines: [str]) -> [[int], [BingoBoard]]:\n",
    "    numbers = []\n",
    "    boards = []\n",
    "\n",
    "    for line in lines:\n",
    "        if not numbers:\n",
    "            numbers = mapt(int, line.strip().split(\",\"))\n",
    "            continue\n",
    "\n",
    "        if not line.strip():\n",
    "            # add a new board\n",
    "            boards.append(BingoBoard([], []))\n",
    "            continue\n",
    "        boards[-1].rows.append(mapt(int, line.strip().split()))\n",
    "\n",
    "    # rotate rows into cols\n",
    "    for board in boards:\n",
    "        board.cols.extend((list(zip(*board.rows))))\n",
    "\n",
    "    return (numbers, boards)\n",
    "\n",
    "\n",
    "data4 = Input(4, parse_input, whole_file=True)\n",
    "play_bingo(*data4)"
   ]
  },
  {
   "cell_type": "code",
   "execution_count": 524,
   "id": "861e98f8",
   "metadata": {},
   "outputs": [],
   "source": [
    "assert _ == 8580, \"Day 4.1\""
   ]
  },
  {
   "cell_type": "code",
   "execution_count": 525,
   "id": "c3f4f8b1",
   "metadata": {},
   "outputs": [
    {
     "data": {
      "text/plain": [
       "9576"
      ]
     },
     "execution_count": 525,
     "metadata": {},
     "output_type": "execute_result"
    }
   ],
   "source": [
    "play_bingo(*data4, win_last=True)"
   ]
  },
  {
   "cell_type": "code",
   "execution_count": 526,
   "id": "8919ca3c",
   "metadata": {},
   "outputs": [],
   "source": [
    "assert _ == 9576, \"Day 4.2\""
   ]
  },
  {
   "cell_type": "markdown",
   "id": "cebe7f82",
   "metadata": {},
   "source": [
    "## [Day 5](https://adventofcode.com/2021/day/5)\n",
    "\n",
    "Slight trick on this one was to sort the inputs so we knew we'd always be _increasing_ in x or y, makes finding the delta much simpler."
   ]
  },
  {
   "cell_type": "code",
   "execution_count": 527,
   "id": "00ce81cd",
   "metadata": {},
   "outputs": [
    {
     "data": {
      "text/plain": [
       "6710"
      ]
     },
     "execution_count": 527,
     "metadata": {},
     "output_type": "execute_result"
    }
   ],
   "source": [
    "Point = namedtuple(\"Point\", \"x,y\")\n",
    "\n",
    "\n",
    "def count_overlapping_points(point_lines, horizontal_only=True):\n",
    "    area = Counter()\n",
    "\n",
    "    if horizontal_only:\n",
    "        point_lines = [\n",
    "            line\n",
    "            for line in point_lines\n",
    "            if line[0].x == line[1].x or line[0].y == line[1].y\n",
    "        ]\n",
    "\n",
    "    for start, stop in point_lines:\n",
    "        if start.x == stop.x:\n",
    "            delta = Point(0, 1)\n",
    "        elif start.y == stop.y:\n",
    "            delta = Point(1, 0)\n",
    "        elif start.y < stop.y:\n",
    "            delta = Point(1, 1)\n",
    "        else:\n",
    "            delta = Point(1, -1)\n",
    "\n",
    "        line = [start]\n",
    "        while line[-1] != stop:\n",
    "            last_point = line[-1]\n",
    "            next_point = Point(last_point.x + delta.x, last_point.y + delta.y)\n",
    "            line.append(next_point)\n",
    "\n",
    "        area.update(line)\n",
    "\n",
    "    return len([val for _, val in area.items() if val >= 2])\n",
    "\n",
    "\n",
    "def parse_input(line):\n",
    "    chunks = line.split(\" -> \")\n",
    "    points = (\n",
    "        Point(*mapt(int, chunks[0].split(\",\"))),\n",
    "        Point(*mapt(int, chunks[1].split(\",\"))),\n",
    "    )\n",
    "\n",
    "    # sorting the points ensures we start from the left most one first\n",
    "    return sorted(points)\n",
    "\n",
    "\n",
    "data5 = Input(5, parse_input)\n",
    "count_overlapping_points(data5)"
   ]
  },
  {
   "cell_type": "code",
   "execution_count": 528,
   "id": "2213872d",
   "metadata": {},
   "outputs": [],
   "source": [
    "assert _ == 6710, 'Day 5.1'"
   ]
  },
  {
   "cell_type": "code",
   "execution_count": 529,
   "id": "4c59a481",
   "metadata": {},
   "outputs": [
    {
     "data": {
      "text/plain": [
       "20121"
      ]
     },
     "execution_count": 529,
     "metadata": {},
     "output_type": "execute_result"
    }
   ],
   "source": [
    "count_overlapping_points(data5, horizontal_only=False)"
   ]
  },
  {
   "cell_type": "code",
   "execution_count": 530,
   "id": "3158dbf5",
   "metadata": {},
   "outputs": [],
   "source": [
    "assert _ == 20121, 'Day 5.2'"
   ]
  },
  {
   "cell_type": "code",
   "execution_count": 531,
   "id": "5174f0ca",
   "metadata": {},
   "outputs": [],
   "source": [
    "## Day 6"
   ]
  },
  {
   "cell_type": "code",
   "execution_count": 532,
   "id": "c20b6f56",
   "metadata": {},
   "outputs": [],
   "source": [
    "def grow_lantern_fish(fish: [int], remaining_days: int):\n",
    "    if remaining_days == 0:\n",
    "        return fish\n",
    "    \n",
    "    next_generation = []\n",
    "    for f in fish:\n",
    "        next_val = f - 1\n",
    "        # -1 here as the zeroth day counts\n",
    "        if next_val == -1:\n",
    "            next_generation.append(8)\n",
    "            next_val = 6\n",
    "        next_generation.append(next_val)\n",
    "    return grow_lantern_fish(next_generation, remaining_days - 1)\n",
    "        \n",
    "            \n",
    "\n",
    "# x = ab^r\n",
    "# a = len(input_data)\n",
    "data5_input = \"1,5,5,1,5,1,5,3,1,3,2,4,3,4,1,1,3,5,4,4,2,1,2,1,2,1,2,1,5,2,1,5,1,2,2,1,5,5,5,1,1,1,5,1,3,4,5,1,2,2,5,5,3,4,5,4,4,1,4,5,3,4,4,5,2,4,2,2,1,3,4,3,2,3,4,1,4,4,4,5,1,3,4,2,5,4,5,3,1,4,1,1,1,2,4,2,1,5,1,4,5,3,3,4,1,1,4,3,4,1,1,1,5,4,3,5,2,4,1,1,2,3,2,4,4,3,3,5,3,1,4,5,5,4,3,3,5,1,5,3,5,2,5,1,5,5,2,3,3,1,1,2,2,4,3,1,5,1,1,3,1,4,1,2,3,5,5,1,2,3,4,3,4,1,1,5,5,3,3,4,5,1,1,4,1,4,1,3,5,5,1,4,3,1,3,5,5,5,5,5,2,2,1,2,4,1,5,3,3,5,4,5,4,1,5,1,5,1,2,5,4,5,5,3,2,2,2,5,4,4,3,3,1,4,1,2,3,1,5,4,5,3,4,1,1,2,2,1,2,5,1,1,1,5,4,5,2,1,4,4,1,1,3,3,1,3,2,1,5,2,3,4,5,3,5,4,3,1,3,5,5,5,5,2,1,1,4,2,5,1,5,1,3,4,3,5,5,1,4,3\"\n",
    "data5 = mapt(int, data5_input.split(','))\n",
    "\n",
    "# len(grow_lantern_fish(data5, 80))"
   ]
  },
  {
   "cell_type": "code",
   "execution_count": 533,
   "id": "fe9c5049",
   "metadata": {},
   "outputs": [
    {
     "data": {
      "text/plain": [
       "1572358335990"
      ]
     },
     "execution_count": 533,
     "metadata": {},
     "output_type": "execute_result"
    }
   ],
   "source": [
    "def count_fish_in_state(fish: [int], days: int) -> int:\n",
    "    # find the fish in each state, creating a list of length 8\n",
    "    days_state = [fish.count(days_left) for days_left in range(9)]\n",
    "\n",
    "    for _ in range(days):\n",
    "        reproducing_fish = days_state[0]\n",
    "        # remove the fish that have reproduced\n",
    "        days_state = days_state[1:]\n",
    "        # reset day 8 with new fish\n",
    "        days_state.append(reproducing_fish)\n",
    "        # move that have reproduced to day 6\n",
    "        days_state[6] += reproducing_fish\n",
    "    return sum(days_state)\n",
    "\n",
    "count_fish_in_state(data5, 256)"
   ]
  },
  {
   "cell_type": "code",
   "execution_count": 534,
   "id": "efaab1fd",
   "metadata": {},
   "outputs": [],
   "source": [
    "assert _ == 1572358335990"
   ]
  },
  {
   "cell_type": "markdown",
   "id": "0faaeb9c",
   "metadata": {},
   "source": [
    "## [Day 7](https://adventofcode.com/2021/day/7)\n",
    "\n",
    "Here, we're looking to minimise [aggregating discrepancies](https://www.johnmyleswhite.com/notebook/2013/03/22/modes-medians-and-means-an-unifying-perspective/).\n",
    "\n",
    "For part one, we're looking at **absolute deviation**, or that the value of the discrepancy increases linearly with the distance from it. We're seeking to minimise this value, which equates to the median value of the set."
   ]
  },
  {
   "cell_type": "code",
   "execution_count": 584,
   "id": "ece09298",
   "metadata": {},
   "outputs": [
    {
     "data": {
      "text/plain": [
       "341534"
      ]
     },
     "execution_count": 584,
     "metadata": {},
     "output_type": "execute_result"
    }
   ],
   "source": [
    "def align_crab_subs(positions):\n",
    "    positions = sorted(positions)\n",
    "    median = positions[int(len(positions) / 2)]\n",
    "    return sum(abs(pos - median) for pos in positions)\n",
    "\n",
    "\n",
    "data7 = Input(7, lambda l: mapt(int, l.split(\",\")))[0]\n",
    "align_crab_subs(data7)"
   ]
  },
  {
   "cell_type": "code",
   "execution_count": 562,
   "id": "4cf99caa",
   "metadata": {},
   "outputs": [],
   "source": [
    "assert _ == 341534, 'Day 7.1'"
   ]
  },
  {
   "cell_type": "markdown",
   "id": "fa847cbd",
   "metadata": {},
   "source": [
    "Then for part two, we're told that it's the sum of integers up to a limit, the more general form of which is `sum(1..n) -> n(n+1)/2` ([wikipedia](https://en.wikipedia.org/wiki/1_%2B_2_%2B_3_%2B_4_%2B_%E2%8B%AF)). If we expand we have `n^2 + n / 2` and because `n^2 >> n` we can make an approximation that we're looking to minimise the the average square distance, which is another way of expressing the mean.\n",
    "\n",
    "This tells us the we can expect the answer to be around the mean value, "
   ]
  },
  {
   "cell_type": "code",
   "execution_count": 580,
   "id": "b99e6af2",
   "metadata": {},
   "outputs": [
    {
     "data": {
      "text/plain": [
       "93397632"
      ]
     },
     "execution_count": 580,
     "metadata": {},
     "output_type": "execute_result"
    }
   ],
   "source": [
    "def align_crab_subs2(positions):\n",
    "    mean = int(avg(positions))\n",
    "    return sum(int(abs(pos - mean) * (abs(pos - mean) + 1) / 2) for pos in positions)\n",
    "\n",
    "\n",
    "def non_linear_cost(crab_position, target_position):\n",
    "    distance_required = abs(crab_position - target_position)\n",
    "    return sum(range(1, distance_required + 1))\n",
    "\n",
    "\n",
    "align_crab_subs2(data7)"
   ]
  },
  {
   "cell_type": "code",
   "execution_count": 581,
   "id": "4bbbdd12",
   "metadata": {},
   "outputs": [],
   "source": [
    "assert _ == 93397632, 'Day 7.2'"
   ]
  },
  {
   "cell_type": "markdown",
   "id": "c6bec074",
   "metadata": {},
   "source": [
    "## [Day 8](https://adventofcode.com/2021/day/8)"
   ]
  },
  {
   "cell_type": "code",
   "execution_count": 557,
   "id": "a72a33d4",
   "metadata": {},
   "outputs": [
    {
     "data": {
      "text/plain": [
       "362"
      ]
     },
     "execution_count": 557,
     "metadata": {},
     "output_type": "execute_result"
    }
   ],
   "source": [
    "def count_easy_digits(mappings: [[str], [str]]) -> int:\n",
    "    outputs = [out for _, out in mappings]\n",
    "    return sum(len(digits) in (2, 3, 4, 7) for digits in chain(*outputs))\n",
    "\n",
    "\n",
    "def parse_input(line):\n",
    "    inputs, outputs = line.strip().split(\" | \")\n",
    "    return inputs.split(\" \"), outputs.split(\" \")\n",
    "\n",
    "\n",
    "data8 = Input(8, parse_input)\n",
    "count_easy_digits(data8)"
   ]
  },
  {
   "cell_type": "code",
   "execution_count": 540,
   "id": "1e4f02e9",
   "metadata": {},
   "outputs": [],
   "source": [
    "assert _ == 362, \"Day 8.1\""
   ]
  },
  {
   "cell_type": "markdown",
   "id": "1f2cb8b2",
   "metadata": {},
   "source": [
    "For the second part I spent a bunch of time staring at the digits and figuring out the logical combinations for them. I did toy with creating a general solution for this but it didn't seem worth it given the number of characters!"
   ]
  },
  {
   "cell_type": "code",
   "execution_count": 559,
   "id": "def3cb7a",
   "metadata": {},
   "outputs": [
    {
     "data": {
      "text/plain": [
       "1020159"
      ]
     },
     "execution_count": 559,
     "metadata": {},
     "output_type": "execute_result"
    }
   ],
   "source": [
    "def created_digit_to_code_map(codes):\n",
    "    mapping = {}\n",
    "    lengths = defaultdict(list)\n",
    "\n",
    "    for code in codes:\n",
    "        lengths[len(code)].append(frozenset(code))\n",
    "\n",
    "    # Map unqiue lengths\n",
    "    mapping[1] = lengths[2][0]\n",
    "    mapping[4] = lengths[4][0]\n",
    "    mapping[7] = lengths[3][0]\n",
    "    mapping[8] = lengths[7][0]\n",
    "\n",
    "    # 0, 6, 9\n",
    "    for code in lengths[6]:\n",
    "        # 6 does not contain 1\n",
    "        if not mapping[1].issubset(code):\n",
    "            mapping[6] = code\n",
    "        # 9 containes 4\n",
    "        elif mapping[4].issubset(code):\n",
    "            mapping[9] = code\n",
    "        # must be 0\n",
    "        else:\n",
    "            mapping[0] = code\n",
    "\n",
    "    # 2, 3, 5\n",
    "    for code in lengths[5]:\n",
    "        # 3 contains 1\n",
    "        if mapping[1].issubset(code):\n",
    "            mapping[3] = code\n",
    "        # 5 is a subset of 9\n",
    "        elif code.issubset(mapping[9]):\n",
    "            mapping[5] = code\n",
    "        # must be 2\n",
    "        else:\n",
    "            mapping[2] = code\n",
    "    return mapping\n",
    "\n",
    "\n",
    "def build_mapping(mappings: [[str], [str]]):\n",
    "    total = 0\n",
    "    for inputs, outputs in mappings:\n",
    "        mapping = created_digit_to_code_map(inputs)\n",
    "\n",
    "        code_to_num = dict((chars, val) for val, chars in mapping.items())\n",
    "        digits = [code_to_num[frozenset(out)] for out in outputs]\n",
    "        num = 0\n",
    "        for out in outputs:\n",
    "            num *= 10\n",
    "            num += code_to_num[frozenset(out)]\n",
    "        total += num\n",
    "    return total\n",
    "\n",
    "\n",
    "build_mapping(data8)"
   ]
  },
  {
   "cell_type": "code",
   "execution_count": 542,
   "id": "8cb85cb4",
   "metadata": {},
   "outputs": [],
   "source": [
    "assert _ == 1020159, 'Day 8.2'"
   ]
  },
  {
   "cell_type": "markdown",
   "id": "6a948f4a",
   "metadata": {},
   "source": [
    "## [Day 9](https://adventofcode.com/2021/day/9)"
   ]
  },
  {
   "cell_type": "code",
   "execution_count": 554,
   "id": "7b3fd4de",
   "metadata": {},
   "outputs": [
    {
     "data": {
      "text/plain": [
       "603"
      ]
     },
     "execution_count": 554,
     "metadata": {},
     "output_type": "execute_result"
    }
   ],
   "source": [
    "def find_low_points(grid: [[int]]) -> [(int, int)]:\n",
    "    low_points = []\n",
    "\n",
    "    for y, row in enumerate(grid):\n",
    "        for x, cell in enumerate(row):\n",
    "            for (nx, ny) in neighbours4(x, y):\n",
    "                if nx < 0 or ny < 0 or nx >= len(row) or ny >= len(grid):\n",
    "                    continue\n",
    "                if grid[ny][nx] <= cell:\n",
    "                    break\n",
    "            else:\n",
    "                low_points.append((x, y))\n",
    "    return low_points\n",
    "\n",
    "\n",
    "def calclualate_risk(grid: [[int]]) -> int:\n",
    "    low_points = find_low_points(grid)\n",
    "    return sum(grid[y][x] + 1 for (x, y) in low_points)\n",
    "\n",
    "\n",
    "def parse_data(line):\n",
    "    return mapt(int, line.strip())\n",
    "\n",
    "\n",
    "data9 = Input(9, parse_data)\n",
    "calclualate_risk(data9)"
   ]
  },
  {
   "cell_type": "code",
   "execution_count": 544,
   "id": "dbeb8724",
   "metadata": {},
   "outputs": [],
   "source": [
    "assert _ == 603, 'Day 9.1'"
   ]
  },
  {
   "cell_type": "code",
   "execution_count": 555,
   "id": "6a8cd0fc",
   "metadata": {},
   "outputs": [
    {
     "data": {
      "text/plain": [
       "786780"
      ]
     },
     "execution_count": 555,
     "metadata": {},
     "output_type": "execute_result"
    }
   ],
   "source": [
    "def find_basins(grid: [[int]]) -> [[(int, int)]]:\n",
    "    roots = find_low_points(grid)\n",
    "\n",
    "    basins = []\n",
    "\n",
    "    xmax = len(grid[0])\n",
    "    ymax = len(grid)\n",
    "\n",
    "    for root in roots:\n",
    "        basin = [root]\n",
    "        to_explore = [root]\n",
    "\n",
    "        while to_explore:\n",
    "            x, y = to_explore.pop()\n",
    "\n",
    "            for (nx, ny) in neighbours4(x, y):\n",
    "                if nx < 0 or ny < 0 or nx >= xmax or ny >= ymax:\n",
    "                    # out of bounds\n",
    "                    continue\n",
    "\n",
    "                if grid[ny][nx] == 9:\n",
    "                    # hit a high point, and cannot continue\n",
    "                    continue\n",
    "\n",
    "                if (nx, ny) in basin:\n",
    "                    # seen before, can ignore this time\n",
    "                    continue\n",
    "                to_explore.append((nx, ny))\n",
    "                basin.append((nx, ny))\n",
    "\n",
    "        basins.append(basin)\n",
    "    return basins\n",
    "\n",
    "\n",
    "def avoid_largest_basins(grid: [[int]]) -> int:\n",
    "    basins = find_basins(grid)\n",
    "    basins = sorted(basins, key=lambda b: len(b), reverse=True)\n",
    "    return len(basins[0]) * len(basins[1]) * len(basins[2])\n",
    "\n",
    "\n",
    "avoid_largest_basins(data9)"
   ]
  },
  {
   "cell_type": "markdown",
   "id": "674b2d4c",
   "metadata": {},
   "source": [
    "## [Day 10](https://adventofcode.com/2021/day/10)\n",
    "\n",
    "Using a stack here makes life a lot simpler, it's a classic parsing technique."
   ]
  },
  {
   "cell_type": "code",
   "execution_count": 546,
   "id": "018f3ae0",
   "metadata": {},
   "outputs": [
    {
     "data": {
      "text/plain": [
       "464991"
      ]
     },
     "execution_count": 546,
     "metadata": {},
     "output_type": "execute_result"
    }
   ],
   "source": [
    "def is_valid_line(line: str) -> (bool, str):\n",
    "    \"\"\"\n",
    "    Checks if line is valid, if it is return True and any missing\n",
    "    characters, otherwise False and the first offending character.\n",
    "    \"\"\"\n",
    "    stack = []\n",
    "\n",
    "    brackets = {\"[\": \"]\", \"(\": \")\", \"<\": \">\", \"{\": \"}\"}\n",
    "    close_brackets = dict((val, key) for key, val in brackets.items())\n",
    "\n",
    "    for char in line:\n",
    "        if char in brackets:\n",
    "            # new opening bracket\n",
    "            stack.append(char)\n",
    "            continue\n",
    "        if stack[-1] != close_brackets[char]:\n",
    "            # got a different close bracket, this is an error\n",
    "            return False, char\n",
    "        stack.pop()\n",
    "    return True, \"\".join(brackets[k] for k in stack[::-1])\n",
    "\n",
    "\n",
    "def find_syntax_error_score(lines):\n",
    "    scores = {\n",
    "        \")\": 3,\n",
    "        \"]\": 57,\n",
    "        \"}\": 1197,\n",
    "        \">\": 25137,\n",
    "    }\n",
    "    total_score = 0\n",
    "    for line in lines:\n",
    "        is_valid, error_char = is_valid_line(line)\n",
    "        if not is_valid:\n",
    "            total_score += scores[error_char]\n",
    "    return total_score\n",
    "\n",
    "\n",
    "data10 = Input(10)\n",
    "find_syntax_error_score(data10)"
   ]
  },
  {
   "cell_type": "code",
   "execution_count": 547,
   "id": "bf77710c",
   "metadata": {},
   "outputs": [],
   "source": [
    "assert _ == 464991, 'Day 10.1'"
   ]
  },
  {
   "cell_type": "code",
   "execution_count": 548,
   "id": "553f9f7f",
   "metadata": {},
   "outputs": [
    {
     "data": {
      "text/plain": [
       "3662008566"
      ]
     },
     "execution_count": 548,
     "metadata": {},
     "output_type": "execute_result"
    }
   ],
   "source": [
    "def calculate_autocomplete_score(chars):\n",
    "    scores = {\n",
    "        \")\": 1,\n",
    "        \"]\": 2,\n",
    "        \"}\": 3,\n",
    "        \">\": 4,\n",
    "    }\n",
    "    score = 0\n",
    "\n",
    "    for char in chars:\n",
    "        score *= 5\n",
    "        score += scores[char]\n",
    "    return score\n",
    "\n",
    "\n",
    "def find_autocomplete_score(lines):\n",
    "    scores = []\n",
    "\n",
    "    for line in lines:\n",
    "        is_valid, missing_chars = is_valid_line(line)\n",
    "        if is_valid:\n",
    "            scores.append(calculate_autocomplete_score(missing_chars))\n",
    "\n",
    "    sorted_scores = sorted(scores)\n",
    "    mid_index = int(len(sorted_scores) / 2)\n",
    "    return sorted_scores[mid_index]\n",
    "\n",
    "\n",
    "find_autocomplete_score(data10)"
   ]
  },
  {
   "cell_type": "code",
   "execution_count": 549,
   "id": "3902fdb0",
   "metadata": {},
   "outputs": [],
   "source": [
    "assert _ == 3662008566, 'Day 10.2'"
   ]
  },
  {
   "cell_type": "markdown",
   "id": "cab071df",
   "metadata": {},
   "source": [
    "## [Day 11](https://adventofcode.com/2021/day/11)\n",
    "\n",
    "Today's was quite fun! The only real difficulty was reading the question.. using `>= 9` held me up for much longer than it should have!"
   ]
  },
  {
   "cell_type": "code",
   "execution_count": 550,
   "id": "84cff1b6",
   "metadata": {},
   "outputs": [
    {
     "data": {
      "text/plain": [
       "1743"
      ]
     },
     "execution_count": 550,
     "metadata": {},
     "output_type": "execute_result"
    }
   ],
   "source": [
    "def advance_octopus_grid(octopus_grid: [[int]]) -> ([[int]], int):\n",
    "    \"\"\"\n",
    "    Advances all octopuses state.\n",
    "\n",
    "    Returns a new grid of octopusses and the number that flashed during\n",
    "    this step.\n",
    "    \"\"\"\n",
    "    octopus_grid = [l.copy() for l in octopus_grid]\n",
    "    # first advance all values\n",
    "    remaining_flashes = set()\n",
    "    for x in range(10):\n",
    "        for y in range(10):\n",
    "            octopus_grid[y][x] += 1\n",
    "\n",
    "            if octopus_grid[y][x] > 9:\n",
    "                remaining_flashes.add((x, y))\n",
    "\n",
    "    did_flash = set()\n",
    "    while remaining_flashes:\n",
    "        x, y = remaining_flashes.pop()\n",
    "\n",
    "        if (x, y) in did_flash:\n",
    "            # this octopus has flashed, ignore\n",
    "            continue\n",
    "\n",
    "        for nx, ny in neighbours8(x, y):\n",
    "            if nx < 0 or nx > 9 or ny < 0 or ny > 9:\n",
    "                # out of bounds, ignore\n",
    "                continue\n",
    "\n",
    "            octopus_grid[ny][nx] += 1\n",
    "\n",
    "            if octopus_grid[ny][nx] > 9:\n",
    "                remaining_flashes.add((nx, ny))\n",
    "\n",
    "        did_flash.add((x, y))\n",
    "\n",
    "    # For all that flashed, set their energy to 0\n",
    "    for x, y in list(did_flash):\n",
    "        octopus_grid[y][x] = 0\n",
    "\n",
    "    return octopus_grid, len(did_flash)\n",
    "\n",
    "\n",
    "def count_flashes(octopus_grid: [[int]], n: int) -> int:\n",
    "    total_flashes = 0\n",
    "\n",
    "    for _ in range(n):\n",
    "        octopus_grid, flashes = advance_octopus_grid(octopus_grid)\n",
    "        total_flashes += flashes\n",
    "    return total_flashes\n",
    "\n",
    "\n",
    "data8 = \"\"\"1443668646\n",
    "7686735716\n",
    "4261576231\n",
    "3361258654\n",
    "4852532611\n",
    "5587113732\n",
    "1224426757\n",
    "5155565133\n",
    "6488377862\n",
    "8267833811\"\"\".split(\n",
    "    \"\\n\"\n",
    ")\n",
    "\n",
    "data8 = [list(mapt(int, l)) for l in data8]\n",
    "\n",
    "count_flashes(data8, 100)"
   ]
  },
  {
   "cell_type": "code",
   "execution_count": 551,
   "id": "17e41bb1",
   "metadata": {},
   "outputs": [],
   "source": [
    "assert _ == 1743"
   ]
  },
  {
   "cell_type": "code",
   "execution_count": 552,
   "id": "4774d753",
   "metadata": {},
   "outputs": [
    {
     "data": {
      "text/plain": [
       "364"
      ]
     },
     "execution_count": 552,
     "metadata": {},
     "output_type": "execute_result"
    }
   ],
   "source": [
    "def find_first_simultaneous_flash(octopus_grid: [[int]]) -> int:\n",
    "    for step in count(1):\n",
    "        octopus_grid, flashes = advance_octopus_grid(octopus_grid)\n",
    "        if flashes == 100:\n",
    "            break\n",
    "    return step\n",
    "\n",
    "\n",
    "find_first_simultaneous_flash(data8)"
   ]
  },
  {
   "cell_type": "code",
   "execution_count": 553,
   "id": "453f9052",
   "metadata": {},
   "outputs": [],
   "source": [
    "assert _ == 364"
   ]
  }
 ],
 "metadata": {
  "kernelspec": {
   "display_name": "Python 3 (ipykernel)",
   "language": "python",
   "name": "python3"
  },
  "language_info": {
   "codemirror_mode": {
    "name": "ipython",
    "version": 3
   },
   "file_extension": ".py",
   "mimetype": "text/x-python",
   "name": "python",
   "nbconvert_exporter": "python",
   "pygments_lexer": "ipython3",
   "version": "3.9.7"
  }
 },
 "nbformat": 4,
 "nbformat_minor": 5
}
