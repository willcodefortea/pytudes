{
 "cells": [
  {
   "cell_type": "markdown",
   "id": "02e9fe55",
   "metadata": {},
   "source": [
    "# [Advent of Code 2021](https://adventofcode.com/2021)"
   ]
  },
  {
   "cell_type": "markdown",
   "id": "c1d06a3d",
   "metadata": {},
   "source": [
    "# The toolbox\n",
    "\n",
    "\n",
    "Generalised pieces of code that either can be used in multiple questions or that simply makes understand the implementation easier."
   ]
  },
  {
   "cell_type": "code",
   "execution_count": 173,
   "id": "2f400016",
   "metadata": {},
   "outputs": [],
   "source": [
    "from collections import Counter\n",
    "import operator\n",
    "\n",
    "def Input(day, parser=str.strip, whole_file=False):\n",
    "    \"Fetch the data input from disk.\"\n",
    "    filename = f'../data/advent2021/input{day}.txt'\n",
    "    with open(filename) as fin:\n",
    "        return mapt(parser, fin)\n",
    "\n",
    "    \n",
    "def mapt(fn, *args): \n",
    "    \"Do a map, and convert the results to a tuple\"\n",
    "    return tuple(map(fn, *args))\n",
    "\n",
    "avg = lambda n: sum(n) / len(n)"
   ]
  },
  {
   "cell_type": "markdown",
   "id": "79fdda12",
   "metadata": {},
   "source": [
    "## [Day 1](https://adventofcode.com/2021/day/1)"
   ]
  },
  {
   "cell_type": "code",
   "execution_count": 50,
   "id": "f68cbe3b",
   "metadata": {},
   "outputs": [],
   "source": [
    "def count_increasing_measurements(scans):\n",
    "    return sum(\n",
    "        scan > scans[index - 1]\n",
    "        for index, scan in enumerate(scans[1:], 1)\n",
    "    )"
   ]
  },
  {
   "cell_type": "code",
   "execution_count": 46,
   "id": "6174b9ec",
   "metadata": {},
   "outputs": [
    {
     "data": {
      "text/plain": [
       "1121"
      ]
     },
     "execution_count": 46,
     "metadata": {},
     "output_type": "execute_result"
    }
   ],
   "source": [
    "data1 = Input(1, int)\n",
    "count_increasing_measurements(data1)"
   ]
  },
  {
   "cell_type": "code",
   "execution_count": 47,
   "id": "bf587fea",
   "metadata": {},
   "outputs": [],
   "source": [
    "assert _ == 1121, 'Day 1.1'"
   ]
  },
  {
   "cell_type": "code",
   "execution_count": 48,
   "id": "ed89ab74",
   "metadata": {},
   "outputs": [
    {
     "data": {
      "text/plain": [
       "1065"
      ]
     },
     "execution_count": 48,
     "metadata": {},
     "output_type": "execute_result"
    }
   ],
   "source": [
    "chunks = [data1[i:i + 3] for i in range(len(data1) - 2)]\n",
    "count_increasing_measurements(mapt(sum, chunks))"
   ]
  },
  {
   "cell_type": "code",
   "execution_count": 49,
   "id": "c169bbf7",
   "metadata": {},
   "outputs": [],
   "source": [
    "assert _ == 1065, 'Day 1.2'"
   ]
  },
  {
   "cell_type": "markdown",
   "id": "00a485fe",
   "metadata": {},
   "source": [
    "## [Day 2](https://adventofcode.com/2021/day/2)"
   ]
  },
  {
   "cell_type": "code",
   "execution_count": 57,
   "id": "80664f05",
   "metadata": {},
   "outputs": [
    {
     "data": {
      "text/plain": [
       "2036120"
      ]
     },
     "execution_count": 57,
     "metadata": {},
     "output_type": "execute_result"
    }
   ],
   "source": [
    "def follow_commands(commands):\n",
    "    x = d = 0\n",
    "    for direction, amount in commands:\n",
    "        if direction == 'forward':\n",
    "            x += amount\n",
    "        elif direction == 'down':\n",
    "            d += amount\n",
    "        elif direction == 'up':\n",
    "            d -= amount\n",
    "        else:\n",
    "            print('unknown command!')\n",
    "    return x * d\n",
    "\n",
    "def parse_input_2(line):\n",
    "    chunks = line.split(' ')\n",
    "    return chunks[0], int(chunks[1])\n",
    "\n",
    "data2 = Input(2, parse_input_2)\n",
    "follow_commands(data2)"
   ]
  },
  {
   "cell_type": "code",
   "execution_count": 58,
   "id": "b8afa35a",
   "metadata": {},
   "outputs": [],
   "source": [
    "assert _ == 2036120, \"Day 2.1\""
   ]
  },
  {
   "cell_type": "code",
   "execution_count": 62,
   "id": "98c7b8d9",
   "metadata": {},
   "outputs": [
    {
     "data": {
      "text/plain": [
       "2015547716"
      ]
     },
     "execution_count": 62,
     "metadata": {},
     "output_type": "execute_result"
    }
   ],
   "source": [
    "def follow_commands(commands):\n",
    "    x = d = aim = 0\n",
    "    for direction, amount in commands:\n",
    "        if direction == 'forward':\n",
    "            x += amount\n",
    "            d += aim * amount\n",
    "        elif direction == 'down':\n",
    "            aim += amount\n",
    "        elif direction == 'up':\n",
    "            aim -= amount\n",
    "        else:\n",
    "            print('unknown command!')\n",
    "    return x * d\n",
    "\n",
    "follow_commands(data2)"
   ]
  },
  {
   "cell_type": "code",
   "execution_count": 60,
   "id": "0ab1e6c1",
   "metadata": {},
   "outputs": [],
   "source": [
    "assert _ == 2015547716, \"Day 2.2\""
   ]
  },
  {
   "cell_type": "markdown",
   "id": "1e648ff4",
   "metadata": {},
   "source": [
    "## [Day 3](https://adventofcode.com/2021/day/3)\n",
    "\n",
    "Not the prettiest, but a nice example of using `zip` to unzip the string into individual digits."
   ]
  },
  {
   "cell_type": "code",
   "execution_count": 184,
   "id": "b129035d",
   "metadata": {},
   "outputs": [
    {
     "data": {
      "text/plain": [
       "3969000"
      ]
     },
     "execution_count": 184,
     "metadata": {},
     "output_type": "execute_result"
    }
   ],
   "source": [
    "def find_power_consumption(report: list[list[int]]) -> int:\n",
    "    digits = list(zip(*report))\n",
    "    avg_bits = [round(avg(digits[bit_index])) for bit_index in range(len(digits))]\n",
    "        \n",
    "    most_common = lambda index: str(avg_bits[index])\n",
    "    least_common = lambda index: str(int(not avg_bits[index]))\n",
    "        \n",
    "    gamma = ''.join(mapt(most_common, range(len(digits))))\n",
    "    epsilon = ''.join(mapt(least_common, range(len(digits))))\n",
    "    return int(gamma, 2) * int(epsilon, 2)\n",
    "    \n",
    "\n",
    "test_data = \"\"\"00100\n",
    "11110\n",
    "10110\n",
    "10111\n",
    "10101\n",
    "01111\n",
    "00111\n",
    "11100\n",
    "10000\n",
    "11001\n",
    "00010\n",
    "01010\"\"\".split('\\n')\n",
    "\n",
    "def parse_input(line):\n",
    "    return mapt(int, line.strip())\n",
    "\n",
    "assert find_power_consumption(mapt(parse_input,test_data)) == 198\n",
    "\n",
    "data3 = Input(3, parse_input)\n",
    "find_power_consumption(data3)"
   ]
  },
  {
   "cell_type": "code",
   "execution_count": 100,
   "id": "34152997",
   "metadata": {},
   "outputs": [],
   "source": [
    "assert _ == 3969000, 'Day 3.1'"
   ]
  },
  {
   "cell_type": "markdown",
   "id": "f66d3836",
   "metadata": {},
   "source": [
    "Part two was fun, here we continue to abuse bools and recurse through `bit_criteria` to remove digits."
   ]
  },
  {
   "cell_type": "code",
   "execution_count": 187,
   "id": "b3a28c53",
   "metadata": {},
   "outputs": [
    {
     "data": {
      "text/plain": [
       "4267809"
      ]
     },
     "execution_count": 187,
     "metadata": {},
     "output_type": "execute_result"
    }
   ],
   "source": [
    "def bit_criteria(report: list[list[int]], keep_most_common: bool, bit_index: int=0) -> int:\n",
    "    if len(report) == 1:\n",
    "        return report[0]\n",
    "\n",
    "    digits = list(zip(*report))\n",
    "    avg_bit = avg(digits[bit_index])\n",
    "\n",
    "    # I can't be bothered to use Decimal ROUND UP here...\n",
    "    most_common = 1 if avg_bit == 0.5 else round(avg_bit)\n",
    "    \n",
    "    winning_bit = most_common if keep_most_common else int(not most_common)\n",
    "        \n",
    "    return bit_criteria(\n",
    "        [line for line in report if line[bit_index] == winning_bit],\n",
    "        keep_most_common,\n",
    "        bit_index + 1\n",
    "    )\n",
    "\n",
    "def find_life_support_rating(report: list[list[int]]) -> int:\n",
    "    oxygen_generator = bit_criteria(report[:], True)\n",
    "    co2_scrubber = bit_criteria(report[:], False)\n",
    "\n",
    "    to_int = lambda bits : int(''.join(mapt(str, bits)), 2)\n",
    "    \n",
    "    return to_int(oxygen_generator) * to_int(co2_scrubber)\n",
    "\n",
    "\n",
    "assert find_life_support_rating(mapt(parse_input, test_data)) == 230\n",
    "find_life_support_rating(data3)"
   ]
  },
  {
   "cell_type": "code",
   "execution_count": 172,
   "id": "ba6f45ca",
   "metadata": {},
   "outputs": [],
   "source": [
    "assert _ == 4267809, 'Day 3.2'"
   ]
  }
 ],
 "metadata": {
  "kernelspec": {
   "display_name": "Python 3 (ipykernel)",
   "language": "python",
   "name": "python3"
  },
  "language_info": {
   "codemirror_mode": {
    "name": "ipython",
    "version": 3
   },
   "file_extension": ".py",
   "mimetype": "text/x-python",
   "name": "python",
   "nbconvert_exporter": "python",
   "pygments_lexer": "ipython3",
   "version": "3.9.7"
  }
 },
 "nbformat": 4,
 "nbformat_minor": 5
}
