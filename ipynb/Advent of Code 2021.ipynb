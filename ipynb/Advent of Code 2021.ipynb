{
 "cells": [
  {
   "cell_type": "markdown",
   "id": "02e9fe55",
   "metadata": {},
   "source": [
    "# [Advent of Code 2021](https://adventofcode.com/2021)"
   ]
  },
  {
   "cell_type": "markdown",
   "id": "c1d06a3d",
   "metadata": {},
   "source": [
    "# The toolbox\n",
    "\n",
    "\n",
    "Generalised pieces of code that either can be used in multiple questions or that simply makes understand the implementation easier."
   ]
  },
  {
   "cell_type": "code",
   "execution_count": 124,
   "id": "2f400016",
   "metadata": {},
   "outputs": [],
   "source": [
    "from collections import Counter, namedtuple\n",
    "from itertools import chain\n",
    "import operator\n",
    "\n",
    "\n",
    "def Input(day, parser=str.strip, whole_file=False):\n",
    "    \"Fetch the data input from disk.\"\n",
    "    filename = f\"../data/advent2021/input{day}.txt\"\n",
    "    with open(filename) as fin:\n",
    "        if whole_file:\n",
    "            return parser(fin)\n",
    "        return mapt(parser, fin)\n",
    "\n",
    "\n",
    "def mapt(fn, *args):\n",
    "    \"Do a map, and convert the results to a tuple\"\n",
    "    return tuple(map(fn, *args))\n",
    "\n",
    "\n",
    "avg = lambda n: sum(n) / len(n)"
   ]
  },
  {
   "cell_type": "markdown",
   "id": "79fdda12",
   "metadata": {},
   "source": [
    "## [Day 1](https://adventofcode.com/2021/day/1)"
   ]
  },
  {
   "cell_type": "code",
   "execution_count": 25,
   "id": "f68cbe3b",
   "metadata": {},
   "outputs": [],
   "source": [
    "def count_increasing_measurements(scans):\n",
    "    return sum(scan > scans[index - 1] for index, scan in enumerate(scans[1:], 1))"
   ]
  },
  {
   "cell_type": "code",
   "execution_count": 26,
   "id": "6174b9ec",
   "metadata": {},
   "outputs": [
    {
     "data": {
      "text/plain": [
       "1121"
      ]
     },
     "execution_count": 26,
     "metadata": {},
     "output_type": "execute_result"
    }
   ],
   "source": [
    "data1 = Input(1, int)\n",
    "count_increasing_measurements(data1)"
   ]
  },
  {
   "cell_type": "code",
   "execution_count": 27,
   "id": "bf587fea",
   "metadata": {},
   "outputs": [],
   "source": [
    "assert _ == 1121, 'Day 1.1'"
   ]
  },
  {
   "cell_type": "code",
   "execution_count": 28,
   "id": "ed89ab74",
   "metadata": {},
   "outputs": [
    {
     "data": {
      "text/plain": [
       "1065"
      ]
     },
     "execution_count": 28,
     "metadata": {},
     "output_type": "execute_result"
    }
   ],
   "source": [
    "chunks = [data1[i:i + 3] for i in range(len(data1) - 2)]\n",
    "count_increasing_measurements(mapt(sum, chunks))"
   ]
  },
  {
   "cell_type": "code",
   "execution_count": 29,
   "id": "c169bbf7",
   "metadata": {},
   "outputs": [],
   "source": [
    "assert _ == 1065, 'Day 1.2'"
   ]
  },
  {
   "cell_type": "markdown",
   "id": "089d2753",
   "metadata": {},
   "source": [
    "## [Day 2](https://adventofcode.com/2021/day/2)"
   ]
  },
  {
   "cell_type": "code",
   "execution_count": 30,
   "id": "4a9e9673",
   "metadata": {},
   "outputs": [
    {
     "data": {
      "text/plain": [
       "2036120"
      ]
     },
     "execution_count": 30,
     "metadata": {},
     "output_type": "execute_result"
    }
   ],
   "source": [
    "def follow_commands(commands):\n",
    "    x = d = 0\n",
    "    for direction, amount in commands:\n",
    "        if direction == \"forward\":\n",
    "            x += amount\n",
    "        elif direction == \"down\":\n",
    "            d += amount\n",
    "        elif direction == \"up\":\n",
    "            d -= amount\n",
    "        else:\n",
    "            print(\"unknown command!\")\n",
    "    return x * d\n",
    "\n",
    "\n",
    "def parse_input_2(line):\n",
    "    chunks = line.split(\" \")\n",
    "    return chunks[0], int(chunks[1])\n",
    "\n",
    "\n",
    "data2 = Input(2, parse_input_2)\n",
    "follow_commands(data2)"
   ]
  },
  {
   "cell_type": "code",
   "execution_count": 31,
   "id": "402663c6",
   "metadata": {},
   "outputs": [],
   "source": [
    "assert _ == 2036120, \"Day 2.1\""
   ]
  },
  {
   "cell_type": "code",
   "execution_count": 32,
   "id": "2dfa6170",
   "metadata": {},
   "outputs": [
    {
     "data": {
      "text/plain": [
       "2015547716"
      ]
     },
     "execution_count": 32,
     "metadata": {},
     "output_type": "execute_result"
    }
   ],
   "source": [
    "def follow_commands(commands):\n",
    "    x = d = aim = 0\n",
    "    for direction, amount in commands:\n",
    "        if direction == \"forward\":\n",
    "            x += amount\n",
    "            d += aim * amount\n",
    "        elif direction == \"down\":\n",
    "            aim += amount\n",
    "        elif direction == \"up\":\n",
    "            aim -= amount\n",
    "        else:\n",
    "            print(\"unknown command!\")\n",
    "    return x * d\n",
    "\n",
    "\n",
    "follow_commands(data2)"
   ]
  },
  {
   "cell_type": "code",
   "execution_count": 33,
   "id": "1b8c1ae6",
   "metadata": {},
   "outputs": [],
   "source": [
    "assert _ == 2015547716, \"Day 2.2\""
   ]
  },
  {
   "cell_type": "markdown",
   "id": "7de0e0a7",
   "metadata": {},
   "source": [
    "## [Day 3](https://adventofcode.com/2021/day/3)\n",
    "\n",
    "Not the prettiest, but a nice example of using `zip` to unzip the string into individual digits."
   ]
  },
  {
   "cell_type": "code",
   "execution_count": 137,
   "id": "d7d68b67",
   "metadata": {},
   "outputs": [
    {
     "data": {
      "text/plain": [
       "3969000"
      ]
     },
     "execution_count": 137,
     "metadata": {},
     "output_type": "execute_result"
    }
   ],
   "source": [
    "def find_power_consumption(report: list[list[int]]) -> int:\n",
    "    digits = list(zip(*report))\n",
    "    avg_bits = [round(avg(digits[bit_index])) for bit_index in range(len(digits))]\n",
    "\n",
    "    most_common = lambda index: str(avg_bits[index])\n",
    "    least_common = lambda index: str(int(not avg_bits[index]))\n",
    "\n",
    "    gamma = \"\".join(mapt(most_common, range(len(digits))))\n",
    "    epsilon = \"\".join(mapt(least_common, range(len(digits))))\n",
    "    return int(gamma, 2) * int(epsilon, 2)\n",
    "\n",
    "\n",
    "def parse_input(line):\n",
    "    return mapt(int, line.strip())\n",
    "\n",
    "\n",
    "data3 = Input(3, parse_input)\n",
    "find_power_consumption(data3)"
   ]
  },
  {
   "cell_type": "code",
   "execution_count": 35,
   "id": "a1ee480a",
   "metadata": {},
   "outputs": [],
   "source": [
    "assert _ == 3969000, 'Day 3.1'"
   ]
  },
  {
   "cell_type": "markdown",
   "id": "17cb4b4b",
   "metadata": {},
   "source": [
    "Part two was fun, here we continue to abuse bools and recurse through `bit_criteria` to remove digits."
   ]
  },
  {
   "cell_type": "code",
   "execution_count": 36,
   "id": "361cdfee",
   "metadata": {},
   "outputs": [
    {
     "data": {
      "text/plain": [
       "4267809"
      ]
     },
     "execution_count": 36,
     "metadata": {},
     "output_type": "execute_result"
    }
   ],
   "source": [
    "def bit_criteria(\n",
    "    report: list[list[int]], keep_most_common: bool, bit_index: int = 0\n",
    ") -> int:\n",
    "    if len(report) == 1:\n",
    "        return report[0]\n",
    "\n",
    "    digits = list(zip(*report))\n",
    "    avg_bit = avg(digits[bit_index])\n",
    "\n",
    "    # I can't be bothered to use Decimal ROUND UP here...\n",
    "    most_common = 1 if avg_bit == 0.5 else round(avg_bit)\n",
    "\n",
    "    winning_bit = most_common if keep_most_common else int(not most_common)\n",
    "\n",
    "    return bit_criteria(\n",
    "        [line for line in report if line[bit_index] == winning_bit],\n",
    "        keep_most_common,\n",
    "        bit_index + 1,\n",
    "    )\n",
    "\n",
    "\n",
    "def find_life_support_rating(report: list[list[int]]) -> int:\n",
    "    oxygen_generator = bit_criteria(report[:], True)\n",
    "    co2_scrubber = bit_criteria(report[:], False)\n",
    "\n",
    "    to_int = lambda bits: int(\"\".join(mapt(str, bits)), 2)\n",
    "\n",
    "    return to_int(oxygen_generator) * to_int(co2_scrubber)\n",
    "\n",
    "\n",
    "assert find_life_support_rating(mapt(parse_input, test_data)) == 230\n",
    "find_life_support_rating(data3)"
   ]
  },
  {
   "cell_type": "code",
   "execution_count": 37,
   "id": "46896a98",
   "metadata": {},
   "outputs": [],
   "source": [
    "assert _ == 4267809, 'Day 3.2'"
   ]
  },
  {
   "cell_type": "markdown",
   "id": "76fb01e6",
   "metadata": {},
   "source": [
    "## [Day 4](https://adventofcode.com/2021/day/4)\n",
    "\n",
    "Not particularly clean, and I don't really think all the sets are required, I could have simply read out rows and cols from a larger list! Oh well, did the job"
   ]
  },
  {
   "cell_type": "code",
   "execution_count": 138,
   "id": "647025a7",
   "metadata": {},
   "outputs": [
    {
     "data": {
      "text/plain": [
       "8580"
      ]
     },
     "execution_count": 138,
     "metadata": {},
     "output_type": "execute_result"
    }
   ],
   "source": [
    "BingoBoard = namedtuple(\"BingoBoard\", \"rows,cols\")\n",
    "\n",
    "\n",
    "def play_bingo(numbers: [int], boards: [BingoBoard], win_last: bool = False) -> int:\n",
    "    # translate boards to a list of sets so we can easily remove seen numbers\n",
    "    board_nums = dict(\n",
    "        (boardId, [*[set(r) for r in board.rows], *[set(c) for c in board.cols]])\n",
    "        for boardId, board in enumerate(boards)\n",
    "    )\n",
    "\n",
    "    # keep track of the most recent winningi board\n",
    "    winning_board = None\n",
    "\n",
    "    # track boards that are still in play\n",
    "    active_boards = set(board_nums.keys())\n",
    "\n",
    "    seen_numbers = set()\n",
    "    for number in numbers:\n",
    "        seen_numbers.add(number)\n",
    "\n",
    "        for board_id in list(active_boards):\n",
    "            for row_or_col_nums in board_nums[board_id]:\n",
    "                row_or_col_nums -= seen_numbers\n",
    "                if len(row_or_col_nums) == 0:\n",
    "                    # Don't exit now as we'll need to remove this number\n",
    "                    # from the row or col too!\n",
    "                    winning_board = board_id\n",
    "\n",
    "                    if board_id in active_boards:\n",
    "                        active_boards.remove(board_id)\n",
    "\n",
    "        have_a_winner = not win_last and winning_board is not None\n",
    "        should_last_win = win_last and len(active_boards) == 0\n",
    "        if have_a_winner or should_last_win:\n",
    "            break\n",
    "\n",
    "    if winning_board:\n",
    "        remaining = set()\n",
    "        for nums in board_nums[winning_board]:\n",
    "            remaining |= nums\n",
    "        return sum(remaining) * number\n",
    "\n",
    "    print(\"No winning board found!\")\n",
    "    return -1\n",
    "\n",
    "\n",
    "def parse_input(lines: [str]) -> [[int], [BingoBoard]]:\n",
    "    numbers = []\n",
    "    boards = []\n",
    "\n",
    "    for line in lines:\n",
    "        if not numbers:\n",
    "            numbers = mapt(int, line.strip().split(\",\"))\n",
    "            continue\n",
    "\n",
    "        if not line.strip():\n",
    "            # add a new board\n",
    "            boards.append(BingoBoard([], []))\n",
    "            continue\n",
    "        boards[-1].rows.append(mapt(int, line.strip().split()))\n",
    "\n",
    "    # rotate rows into cols\n",
    "    for board in boards:\n",
    "        board.cols.extend((list(zip(*board.rows))))\n",
    "\n",
    "    return (numbers, boards)\n",
    "\n",
    "\n",
    "data4 = Input(4, parse_input, whole_file=True)\n",
    "play_bingo(*data4)"
   ]
  },
  {
   "cell_type": "code",
   "execution_count": 139,
   "id": "97c06670",
   "metadata": {},
   "outputs": [],
   "source": [
    "assert _ == 8580, \"Day 4.1\""
   ]
  },
  {
   "cell_type": "code",
   "execution_count": 72,
   "id": "c3f4f8b1",
   "metadata": {},
   "outputs": [
    {
     "data": {
      "text/plain": [
       "9576"
      ]
     },
     "execution_count": 72,
     "metadata": {},
     "output_type": "execute_result"
    }
   ],
   "source": [
    "play_bingo(*data4, win_last=True)"
   ]
  },
  {
   "cell_type": "code",
   "execution_count": 67,
   "id": "c7ec9033",
   "metadata": {},
   "outputs": [],
   "source": [
    "assert _ == 9576, \"Day 4.2\""
   ]
  },
  {
   "cell_type": "markdown",
   "id": "7151b427",
   "metadata": {},
   "source": [
    "## [Day 5](https://adventofcode.com/2021/day/5)\n",
    "\n",
    "Slight trick on this one was to sort the inputs so we knew we'd always be _increasing_ in x or y, makes finding the delta much simpler."
   ]
  },
  {
   "cell_type": "code",
   "execution_count": 140,
   "id": "cacec42b",
   "metadata": {},
   "outputs": [
    {
     "data": {
      "text/plain": [
       "6710"
      ]
     },
     "execution_count": 140,
     "metadata": {},
     "output_type": "execute_result"
    }
   ],
   "source": [
    "Point = namedtuple(\"Point\", \"x,y\")\n",
    "\n",
    "\n",
    "def count_overlapping_points(point_lines, horizontal_only=True):\n",
    "    area = Counter()\n",
    "\n",
    "    if horizontal_only:\n",
    "        point_lines = [\n",
    "            line\n",
    "            for line in point_lines\n",
    "            if line[0].x == line[1].x or line[0].y == line[1].y\n",
    "        ]\n",
    "\n",
    "    for start, stop in point_lines:\n",
    "        if start.x == stop.x:\n",
    "            delta = Point(0, 1)\n",
    "        elif start.y == stop.y:\n",
    "            delta = Point(1, 0)\n",
    "        elif start.y < stop.y:\n",
    "            delta = Point(1, 1)\n",
    "        else:\n",
    "            delta = Point(1, -1)\n",
    "\n",
    "        line = [start]\n",
    "        while line[-1] != stop:\n",
    "            last_point = line[-1]\n",
    "            next_point = Point(last_point.x + delta.x, last_point.y + delta.y)\n",
    "            line.append(next_point)\n",
    "\n",
    "        area.update(line)\n",
    "\n",
    "    return len([val for _, val in area.items() if val >= 2])\n",
    "\n",
    "\n",
    "def parse_input(line):\n",
    "    chunks = line.split(\" -> \")\n",
    "    points = (\n",
    "        Point(*mapt(int, chunks[0].split(\",\"))),\n",
    "        Point(*mapt(int, chunks[1].split(\",\"))),\n",
    "    )\n",
    "\n",
    "    # sorting the points ensure we start from the left most one first\n",
    "    return sorted(points)\n",
    "\n",
    "\n",
    "data5 = Input(5, parse_input)\n",
    "count_overlapping_points(data5)"
   ]
  },
  {
   "cell_type": "code",
   "execution_count": 141,
   "id": "6cc1d99b",
   "metadata": {},
   "outputs": [],
   "source": [
    "assert _ == 6710, 'Day 5.1'"
   ]
  },
  {
   "cell_type": "code",
   "execution_count": 135,
   "id": "fca392dd",
   "metadata": {},
   "outputs": [
    {
     "data": {
      "text/plain": [
       "20121"
      ]
     },
     "execution_count": 135,
     "metadata": {},
     "output_type": "execute_result"
    }
   ],
   "source": [
    "count_overlapping_points(data5, horizontal_only=False)"
   ]
  },
  {
   "cell_type": "code",
   "execution_count": 134,
   "id": "f0596f7a",
   "metadata": {},
   "outputs": [],
   "source": [
    "assert _ == 20121, 'Day 5.2'"
   ]
  }
 ],
 "metadata": {
  "kernelspec": {
   "display_name": "Python 3 (ipykernel)",
   "language": "python",
   "name": "python3"
  },
  "language_info": {
   "codemirror_mode": {
    "name": "ipython",
    "version": 3
   },
   "file_extension": ".py",
   "mimetype": "text/x-python",
   "name": "python",
   "nbconvert_exporter": "python",
   "pygments_lexer": "ipython3",
   "version": "3.9.7"
  }
 },
 "nbformat": 4,
 "nbformat_minor": 5
}
