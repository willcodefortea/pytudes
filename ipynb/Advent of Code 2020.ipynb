{
 "cells": [
  {
   "cell_type": "markdown",
   "metadata": {},
   "source": [
    "# [Advent of Code 2020](https://adventofcode.com/2020)"
   ]
  },
  {
   "cell_type": "markdown",
   "metadata": {},
   "source": [
    "# The toolbox\n",
    "\n",
    "\n",
    "Generalised pieces of code that either can be used in multiple questions or that simply makes understand the implementation easier."
   ]
  },
  {
   "cell_type": "code",
   "execution_count": 759,
   "metadata": {},
   "outputs": [],
   "source": [
    "import math\n",
    "import operator\n",
    "import re\n",
    "from collections import Counter, defaultdict, deque, namedtuple\n",
    "from functools import partial, reduce\n",
    "from itertools import chain, cycle, count, islice, starmap, product\n",
    "from io import StringIO\n",
    "\n",
    "\n",
    "def Input(day, parser=str.strip, whole_file=False):\n",
    "    \"Fetch the data input from disk.\"\n",
    "    filename = f'../data/advent2020/input{day}.txt'\n",
    "    with open(filename) as fin:\n",
    "        return mapt(parser, fin)\n",
    "\n",
    "    \n",
    "def mapt(fn, *args): \n",
    "    \"Do a map, and convert the results to a tuple\"\n",
    "    return tuple(map(fn, *args))\n",
    "\n",
    "\n",
    "def quantify(data, predictate=bool):\n",
    "    \"Count how many items in an iterable have predicated(item) True\"\n",
    "    return sum(map(predictate, data))\n",
    "\n",
    "\n",
    "def nth(iterable, n, default=None):\n",
    "    \"Returns the nth item or a default value\"\n",
    "    return next(islice(iterable, n, None), default)\n",
    "\n",
    "\n",
    "cat = lambda s: ''.join(s)\n",
    "\n",
    "# coordindate deltas for 8 neighbours\n",
    "NEIGHBOUR8_DELTAS = (\n",
    "    (-1, -1), (-1, 0), (-1, 1),\n",
    "    ( 0, -1),          ( 0, 1),\n",
    "    ( 1, -1), ( 1, 0), ( 1, 1),\n",
    ")\n",
    "\n",
    "\n",
    "def neighbours8(x, y):\n",
    "    \"\"\n",
    "    return tuple(\n",
    "        (x + dx, y + dy)\n",
    "        for dx, dy in NEIGHBOUR8_DELTAS\n",
    "    )"
   ]
  },
  {
   "cell_type": "markdown",
   "metadata": {},
   "source": [
    "## [Day 1: Report Repair](https://adventofcode.com/2020/day/1)\n",
    "\n",
    "As usual, things start off easy enough, nested looping with a computationally simple upper bound. Finding numbers that add to 2020 and then returning their multiple."
   ]
  },
  {
   "cell_type": "code",
   "execution_count": 441,
   "metadata": {},
   "outputs": [],
   "source": [
    "def find_2020(nums: [int]) -> int:\n",
    "    for index, n1 in enumerate(nums):\n",
    "        for n2 in nums[index:]:\n",
    "            if n1 + n2 == 2020:\n",
    "                return n1 * n2\n",
    "    raise Exception('Unable to find solution')"
   ]
  },
  {
   "cell_type": "code",
   "execution_count": 442,
   "metadata": {},
   "outputs": [
    {
     "output_type": "execute_result",
     "data": {
      "text/plain": [
       "1006176"
      ]
     },
     "metadata": {},
     "execution_count": 442
    }
   ],
   "source": [
    "data1 = Input(1, int)\n",
    "find_2020(data1)"
   ]
  },
  {
   "cell_type": "code",
   "execution_count": 443,
   "metadata": {},
   "outputs": [],
   "source": [
    "assert _ == 1006176, 'Day 1.1'"
   ]
  },
  {
   "cell_type": "code",
   "execution_count": 444,
   "metadata": {},
   "outputs": [
    {
     "output_type": "execute_result",
     "data": {
      "text/plain": [
       "199132160"
      ]
     },
     "metadata": {},
     "execution_count": 444
    }
   ],
   "source": [
    "# part 2\n",
    "def find_2020_3(nums: [int]) -> int:\n",
    "    for index, n1 in enumerate(nums):\n",
    "        for jindex, n2 in enumerate(nums[index+1:]):\n",
    "            for n3 in nums[jindex+1:]:\n",
    "                if n1 + n2 + n3 == 2020:\n",
    "                    return n1 * n2 * n3\n",
    "    raise Exception('Unable to find solution')\n",
    "\n",
    "find_2020_3(data1)"
   ]
  },
  {
   "cell_type": "code",
   "execution_count": 445,
   "metadata": {},
   "outputs": [],
   "source": [
    "assert _ == 199132160, 'Day 1.2'"
   ]
  },
  {
   "cell_type": "markdown",
   "metadata": {},
   "source": [
    "# [Day 2: Password Philosophy](https://adventofcode.com/2020/day/2)"
   ]
  },
  {
   "cell_type": "code",
   "execution_count": 446,
   "metadata": {},
   "outputs": [],
   "source": [
    "def is_valid_password(password: str, rule: (str, int, int)) -> bool:\n",
    "    match, lower, upper = rule\n",
    "    occurance = quantify(password, lambda c: c == match)\n",
    "    return lower <= occurance <= upper"
   ]
  },
  {
   "cell_type": "code",
   "execution_count": 447,
   "metadata": {},
   "outputs": [
    {
     "output_type": "execute_result",
     "data": {
      "text/plain": [
       "600"
      ]
     },
     "metadata": {},
     "execution_count": 447
    }
   ],
   "source": [
    "def password_and_match(line):\n",
    "    chunks = re.sub('[-:]', ' ', line).strip().split(' ')\n",
    "    lower, upper, match, _, password = chunks\n",
    "    return password, (match, int(lower), int(upper))\n",
    "\n",
    "data2 = Input(2, password_and_match)\n",
    "quantify(starmap(is_valid_password, data2))"
   ]
  },
  {
   "cell_type": "code",
   "execution_count": 448,
   "metadata": {},
   "outputs": [],
   "source": [
    "assert _ == 600, 'Day 2.1'"
   ]
  },
  {
   "cell_type": "code",
   "execution_count": 449,
   "metadata": {},
   "outputs": [
    {
     "output_type": "execute_result",
     "data": {
      "text/plain": [
       "245"
      ]
     },
     "metadata": {},
     "execution_count": 449
    }
   ],
   "source": [
    "# part 2\n",
    "def is_valid_password2(password: str, rule: (str, int, int)) -> bool:\n",
    "    match, lower, upper = rule\n",
    "    is_match = lambda n: password[n - 1] == match\n",
    "    matches = int(is_match(lower)) + int(is_match(upper))\n",
    "    return matches == 1\n",
    "\n",
    "quantify(starmap(is_valid_password2, data2))"
   ]
  },
  {
   "cell_type": "code",
   "execution_count": 450,
   "metadata": {},
   "outputs": [],
   "source": [
    "assert _ == 245, 'Day 2.2'"
   ]
  },
  {
   "cell_type": "markdown",
   "metadata": {},
   "source": [
    "# [Day 3: Toboggan Trajectory](https://adventofcode.com/2020/day/3)\n",
    "\n",
    "Here we can simply make use of some modulo arithmitic to loop back through the row when we attempt to index it out of bounds."
   ]
  },
  {
   "cell_type": "code",
   "execution_count": 451,
   "metadata": {},
   "outputs": [
    {
     "output_type": "execute_result",
     "data": {
      "text/plain": [
       "151"
      ]
     },
     "metadata": {},
     "execution_count": 451
    }
   ],
   "source": [
    "def count_trees(grid: [str], x_step: int, y_step: int):\n",
    "    path = []\n",
    "    for index, row in enumerate(grid[::y_step]):\n",
    "        char_index = (x_step * index) % len(row)\n",
    "        path.append(row[char_index])\n",
    "    return quantify(path, lambda c: c == '#')\n",
    "    \n",
    "\n",
    "data3 = Input(3)\n",
    "count_trees(data3, 3, 1)"
   ]
  },
  {
   "cell_type": "code",
   "execution_count": 452,
   "metadata": {},
   "outputs": [],
   "source": [
    "assert _ == 151, 'Day 4.1'"
   ]
  },
  {
   "cell_type": "code",
   "execution_count": 453,
   "metadata": {},
   "outputs": [
    {
     "output_type": "execute_result",
     "data": {
      "text/plain": [
       "7540141059"
      ]
     },
     "metadata": {},
     "execution_count": 453
    }
   ],
   "source": [
    "# part 2\n",
    "count_trees_3 = partial(count_trees, data3)\n",
    "steps = ((1, 1), (3, 1), (5, 1), (7, 1), (1, 2))\n",
    "reduce(\n",
    "    operator.mul,\n",
    "    starmap(count_trees_3, steps)\n",
    ")"
   ]
  },
  {
   "cell_type": "code",
   "execution_count": 454,
   "metadata": {},
   "outputs": [],
   "source": [
    "assert _ == 7540141059, 'Day 3.2'"
   ]
  },
  {
   "source": [
    "# [Day 4: Passport Processing](https://adventofcode.com/2020/day/4)\n",
    "\n",
    "This one was a bit fiddly in terms of the regexes, I had an error thanks to not ensuring the match ended at the end of a line (i.e. missing a `$`.)"
   ],
   "cell_type": "markdown",
   "metadata": {}
  },
  {
   "source": [
    "validators = {\n",
    "    'byr': lambda x: 1920 <= int(re.match('\\d{4}$', x)[0]) <= 2002,\n",
    "    'iyr': lambda x: 2010 <= int(re.match('\\d{4}$', x)[0]) <= 2020,\n",
    "    'eyr': lambda x: 2020 <= int(re.match('\\d{4}$', x)[0]) <= 2030,\n",
    "    'hgt': lambda x: (\n",
    "        150 <= int(re.match('(\\d+)(?:cm|in)$', x)[1]) <= 193\n",
    "        if re.match('\\d+(cm|in)$', x)[1] == 'cm' else\n",
    "        59 <= int(re.match('(\\d+)(?:cm|in)$', x)[1]) <= 76\n",
    "    ),\n",
    "    'hcl': lambda x: bool(re.match('#[0-9a-f]{6}$', x)),\n",
    "    'ecl': lambda x: bool(re.match('amb|blu|brn|gry|grn|hzl|oth$', x)),\n",
    "    'pid': lambda x: bool(re.match('\\d{9}$', x)),\n",
    "    'cid': lambda x: True\n",
    "}\n",
    "\n",
    "def is_valid_passport(passport, validate_fields=False):\n",
    "    required = set(['byr', 'iyr', 'eyr', 'hgt', 'hcl', 'ecl', 'pid'])\n",
    "    if len(required - set([key for key, _ in passport])) > 0:\n",
    "        return False\n",
    "\n",
    "    if validate_fields:\n",
    "        try:\n",
    "            return all(\n",
    "                validators[key](value)\n",
    "                for key, value\n",
    "                in passport\n",
    "            )\n",
    "        except TypeError:\n",
    "            # regexes may not match, and will error if we attempt to index them\n",
    "            return False\n",
    "    return True\n",
    "\n",
    "\n",
    "def parse_data(data):\n",
    "    passports = [[]]\n",
    "    for line in data:\n",
    "        if not line.strip():\n",
    "            # Move onto the next passport\n",
    "            passports.append([])\n",
    "            continue\n",
    "        passports[-1].extend(\n",
    "            re.findall(r'(\\w+):([\\w#\\d]+)\\b', line)\n",
    "        )\n",
    "        \n",
    "    if not passports[-1]:\n",
    "        passports.pop()\n",
    "    \n",
    "    return passports"
   ],
   "cell_type": "code",
   "metadata": {},
   "execution_count": 455,
   "outputs": []
  },
  {
   "cell_type": "code",
   "execution_count": 456,
   "metadata": {},
   "outputs": [
    {
     "output_type": "execute_result",
     "data": {
      "text/plain": [
       "235"
      ]
     },
     "metadata": {},
     "execution_count": 456
    }
   ],
   "source": [
    "input4 = parse_data(Input(4))\n",
    "quantify(map(is_valid_passport, input4))"
   ]
  },
  {
   "cell_type": "code",
   "execution_count": 457,
   "metadata": {},
   "outputs": [],
   "source": [
    "assert _ == 235, 'Day 4.1'"
   ]
  },
  {
   "cell_type": "code",
   "execution_count": 458,
   "metadata": {},
   "outputs": [
    {
     "output_type": "execute_result",
     "data": {
      "text/plain": [
       "194"
      ]
     },
     "metadata": {},
     "execution_count": 458
    }
   ],
   "source": [
    "# part 2\n",
    "is_valid_passport_strict = lambda passport: is_valid_passport(passport, True)\n",
    "quantify(map(is_valid_passport_strict, input4))"
   ]
  },
  {
   "cell_type": "code",
   "execution_count": 459,
   "metadata": {},
   "outputs": [],
   "source": [
    "assert _ == 194, 'Day 4.2'"
   ]
  },
  {
   "source": [
    "# [Day 5: Binary Boarding](https://adventofcode.com/2020/day/5)\n",
    "\n",
    "Today's one invovled writing a reverse binary search, rather than looking for a value in a sorted list, we're instead given the steps to perform to find our seat.\n",
    "\n",
    "For the second part we just loop through the list of sorted seat IDs until we find a gap, the gap being our seat.\n"
   ],
   "cell_type": "markdown",
   "metadata": {}
  },
  {
   "cell_type": "code",
   "execution_count": 460,
   "metadata": {},
   "outputs": [],
   "source": [
    "def reverse_binary(steps: str, lower: int, upper: int) -> int:\n",
    "    step = steps[0]\n",
    "    pivot = lower + (upper - lower) // 2\n",
    "    if step in ('F', 'L'):\n",
    "        if len(steps) == 1:\n",
    "            return lower\n",
    "        return reverse_binary(steps[1:], lower, pivot)\n",
    "    else:\n",
    "        if len(steps) == 1:\n",
    "            return upper\n",
    "        return reverse_binary(steps[1:], pivot + 1, upper)\n",
    "\n",
    "def docode_boarding_pass(boarding_pass: str) -> (int, int, int):\n",
    "    row = reverse_binary(boarding_pass[:7], 0, 127)\n",
    "    col = reverse_binary(boarding_pass[7:], 0, 7)\n",
    "    seat_id = row * 8 + col\n",
    "    return (row, col, seat_id)"
   ]
  },
  {
   "cell_type": "code",
   "execution_count": 461,
   "metadata": {},
   "outputs": [
    {
     "output_type": "execute_result",
     "data": {
      "text/plain": [
       "926"
      ]
     },
     "metadata": {},
     "execution_count": 461
    }
   ],
   "source": [
    "input5 = Input(5)\n",
    "\n",
    "decoded_passes = mapt(docode_boarding_pass, input5)\n",
    "seat_ids = tuple(seat_id for _, _, seat_id in decoded_passes)\n",
    "max(seat_ids)"
   ]
  },
  {
   "cell_type": "code",
   "execution_count": 462,
   "metadata": {},
   "outputs": [],
   "source": [
    "assert _ == 926, 'Day 5.1'"
   ]
  },
  {
   "cell_type": "code",
   "execution_count": 463,
   "metadata": {},
   "outputs": [
    {
     "output_type": "execute_result",
     "data": {
      "text/plain": [
       "657"
      ]
     },
     "metadata": {},
     "execution_count": 463
    }
   ],
   "source": [
    "# part 2\n",
    "def find_missing_seat_id(seat_ids):\n",
    "    sorted_ids = sorted(seat_ids)\n",
    "    prev = sorted_ids[0]\n",
    "\n",
    "    for seat_id in sorted_ids[1:]:\n",
    "        if seat_id - 2 == prev:\n",
    "            return seat_id - 1\n",
    "        \n",
    "        prev = seat_id\n",
    "\n",
    "find_missing_seat_id(seat_ids)"
   ]
  },
  {
   "cell_type": "code",
   "execution_count": 464,
   "metadata": {},
   "outputs": [],
   "source": [
    "assert _ == 657, 'Day 5.2'"
   ]
  },
  {
   "source": [
    "# [Day 6: Custom Customs](https://adventofcode.com/2020/day/6)\n",
    "\n",
    "Today's question was pretty straightforward, just involving some set-wise combinations. The answers I've given are quite terse (and in fact, slower than they're for-loop counterparts), but I enjoy them!"
   ],
   "cell_type": "markdown",
   "metadata": {}
  },
  {
   "cell_type": "code",
   "execution_count": 465,
   "metadata": {
    "tags": []
   },
   "outputs": [],
   "source": [
    "def group_answers(lines):\n",
    "    groups = [[]]\n",
    "    for line in lines:\n",
    "        line = line.strip()\n",
    "        if not line:\n",
    "            groups.append([])\n",
    "            continue\n",
    "        groups[-1].append(line)\n",
    "    \n",
    "    if not groups[-1]:\n",
    "        groups.pop()\n",
    "    \n",
    "    return groups\n",
    "\n",
    "input6 = group_answers(Input(6))"
   ]
  },
  {
   "cell_type": "code",
   "execution_count": 500,
   "metadata": {},
   "outputs": [
    {
     "output_type": "execute_result",
     "data": {
      "text/plain": [
       "6662"
      ]
     },
     "metadata": {},
     "execution_count": 500
    }
   ],
   "source": [
    "sum(\n",
    "    map(\n",
    "        lambda d: len(reduce(operator.or_, map(set, d))),\n",
    "        input6\n",
    "    )\n",
    ")"
   ]
  },
  {
   "cell_type": "code",
   "execution_count": 467,
   "metadata": {},
   "outputs": [],
   "source": [
    "assert _ == 6662, 'Day 6.1'"
   ]
  },
  {
   "cell_type": "code",
   "execution_count": 498,
   "metadata": {},
   "outputs": [
    {
     "output_type": "stream",
     "name": "stdout",
     "text": [
      "CPU times: user 2.06 ms, sys: 0 ns, total: 2.06 ms\nWall time: 2.07 ms\n"
     ]
    },
    {
     "output_type": "execute_result",
     "data": {
      "text/plain": [
       "3382"
      ]
     },
     "metadata": {},
     "execution_count": 498
    }
   ],
   "source": [
    "# part 2\n",
    "sum(\n",
    "    map(\n",
    "        lambda d: len(reduce(operator.and_, map(set, d))),\n",
    "        input6\n",
    "    )\n",
    ")"
   ]
  },
  {
   "cell_type": "code",
   "execution_count": 469,
   "metadata": {},
   "outputs": [],
   "source": [
    "assert _ == 3382, 'Day 6.2'"
   ]
  },
  {
   "source": [
    "# [Day 7: Handy Haversacks](https://adventofcode.com/2020/day/7)\n",
    "\n",
    "This is the first tree-like problem of the year! I've implemented an [adjacency list](https://en.wikipedia.org/wiki/Adjacency_list) to keep track of the relations, but this means having to invert the list for the first part. Perhaps a more generic tree would have been useful, we'll see if it comes up again!"
   ],
   "cell_type": "markdown",
   "metadata": {}
  },
  {
   "cell_type": "code",
   "execution_count": 615,
   "metadata": {},
   "outputs": [],
   "source": [
    "def parse_rules(rules):\n",
    "    contents = defaultdict(list)\n",
    "    color_search = re.compile('(\\d+) (\\w+\\s\\w+) bags?,?\\.?')\n",
    "    for rule in rules:\n",
    "        bag_colour = cat(rule.split(' ')[:2])\n",
    "        for num, colour in color_search.findall(rule):\n",
    "            contents[bag_colour].append((int(num), colour))\n",
    "    return contents\n",
    "\n",
    "\n",
    "\n",
    "def count_allowed_bags(initial_colour, rules):\n",
    "    inverted_rules = defaultdict(list)\n",
    "\n",
    "    for container_colour, allowed_bags in rules.items():\n",
    "        for _, bag_colour in allowed_bags:\n",
    "            inverted_rules[bag_colour].append(container_colour)\n",
    "\n",
    "    allowed = set()\n",
    "    to_follow = inverted_rules[initial_colour][:]\n",
    "    while to_follow:\n",
    "        colour = to_follow.pop(0)\n",
    "        allowed.add(colour)\n",
    "        to_follow.extend(inverted_rules[colour])\n",
    "\n",
    "    return len(allowed)"
   ]
  },
  {
   "cell_type": "code",
   "execution_count": 628,
   "metadata": {
    "tags": []
   },
   "outputs": [
    {
     "output_type": "execute_result",
     "data": {
      "text/plain": [
       "370"
      ]
     },
     "metadata": {},
     "execution_count": 628
    }
   ],
   "source": [
    "input7 = parse_rules(Input(7))\n",
    "count_allowed_bags('shiny gold', input7)"
   ]
  },
  {
   "cell_type": "code",
   "execution_count": 584,
   "metadata": {},
   "outputs": [],
   "source": [
    "assert _ == 370, 'Day 7.1'"
   ]
  },
  {
   "cell_type": "code",
   "execution_count": 595,
   "metadata": {
    "tags": []
   },
   "outputs": [],
   "source": [
    "# part 2\n",
    "def count_required_bags(initial_colour, rules):\n",
    "    to_follow = [(1, initial_colour)]\n",
    "    required = 0\n",
    "\n",
    "    while to_follow:\n",
    "        num, colour = to_follow.pop(0)\n",
    "        \n",
    "        for next_rule in rules[colour]:\n",
    "            # rather than duplicate the rule num times, just duplicate\n",
    "            # the number of bags\n",
    "            next_num, next_bag_colour = next_rule\n",
    "            to_follow.append((next_num * num, next_bag_colour))\n",
    "        required += num\n",
    "\n",
    "    # the amount will be off by 1 as we count the initial bag\n",
    "    return required - 1"
   ]
  },
  {
   "cell_type": "code",
   "execution_count": 629,
   "metadata": {
    "tags": []
   },
   "outputs": [
    {
     "output_type": "execute_result",
     "data": {
      "text/plain": [
       "29547"
      ]
     },
     "metadata": {},
     "execution_count": 629
    }
   ],
   "source": [
    "count_required_bags('shiny gold', input7)"
   ]
  },
  {
   "cell_type": "code",
   "execution_count": 605,
   "metadata": {},
   "outputs": [],
   "source": [
    "assert _ == 29547, 'Day 7.2'"
   ]
  },
  {
   "source": [
    "# [Day 8: Handheld Halting](https://adventofcode.com/2020/day/8)\n",
    "\n",
    "This is the first code parsing puzzle of the year, if previous years are anything to go by this may not be the last! Nothing particular complex here, just parse the operations and perform them, exiting when a loop is detected or we've reached the end of the program."
   ],
   "cell_type": "markdown",
   "metadata": {}
  },
  {
   "cell_type": "code",
   "execution_count": 678,
   "metadata": {},
   "outputs": [
    {
     "output_type": "execute_result",
     "data": {
      "text/plain": [
       "1200"
      ]
     },
     "metadata": {},
     "execution_count": 678
    }
   ],
   "source": [
    "def parse_op(line: str) -> (str, int):\n",
    "    op, num = re.match('(\\w+) \\+?(-?\\d+)', line).groups()\n",
    "    return (op, int(num))\n",
    "\n",
    "\n",
    "def run_ops(ops) -> (int, str):\n",
    "    accumulator = 0\n",
    "    op_index = 0\n",
    "    \n",
    "    seen = set()\n",
    "    exit_code = None\n",
    "\n",
    "    while True:\n",
    "        if op_index in seen:\n",
    "            exit_code = 'loop'\n",
    "            break\n",
    "\n",
    "        if op_index == len(ops):\n",
    "            exit_code = 'exit'\n",
    "            break\n",
    "\n",
    "        step = 1\n",
    "        op, val = ops[op_index]\n",
    "\n",
    "        if op == 'acc':\n",
    "            accumulator += val\n",
    "        elif op == 'jmp':\n",
    "            step = val\n",
    "        \n",
    "        seen.add(op_index)\n",
    "        op_index += step\n",
    "\n",
    "    return accumulator, exit_code\n",
    "\n",
    "\n",
    "inputs8 = Input(8, parse_op)\n",
    "run_ops(inputs8)[0]"
   ]
  },
  {
   "cell_type": "code",
   "execution_count": 656,
   "metadata": {},
   "outputs": [],
   "source": [
    "assert _ == 1200, 'Day 8.1'"
   ]
  },
  {
   "cell_type": "code",
   "execution_count": 681,
   "metadata": {},
   "outputs": [
    {
     "output_type": "execute_result",
     "data": {
      "text/plain": [
       "1023"
      ]
     },
     "metadata": {},
     "execution_count": 681
    }
   ],
   "source": [
    "def modify_instructions(ops: (int,)) -> int:\n",
    "    for index, (op, val) in enumerate(ops):\n",
    "        if op == 'jmp':\n",
    "            new_op = 'noop'\n",
    "        elif op == 'noop':\n",
    "            new_op = 'jmp'\n",
    "        else:\n",
    "            continue\n",
    "\n",
    "        new_ops = list(ops)\n",
    "        new_ops[index] = (new_op, val)\n",
    "    \n",
    "        accumulator, exit_code = run_ops(new_ops)\n",
    "\n",
    "        if exit_code == 'exit':\n",
    "            return accumulator\n",
    "    raise Exception('Unable to find solution')\n",
    "\n",
    "modify_instructions(inputs8)"
   ]
  },
  {
   "cell_type": "code",
   "execution_count": 654,
   "metadata": {},
   "outputs": [],
   "source": [
    "assert _ == 1023, 'Day 8.2'"
   ]
  },
  {
   "source": [
    "# [Day 9: Encoding Error](https://adventofcode.com/2020/day/9)\n",
    "\n",
    "Cracking the XMAS cipher, fun! For the second part of this problem I precalculate the sums that will be required by adding each value in the sequnce to all the values that appeared before it. This means we can find the sum of any range of values by subtracting the lower value in the range from the top.\n",
    "\n",
    "Granted, this would stil execute quite quickly given the size of the dataset, but it's still a nicer solution."
   ],
   "cell_type": "markdown",
   "metadata": {}
  },
  {
   "cell_type": "code",
   "execution_count": 719,
   "metadata": {},
   "outputs": [],
   "source": [
    "def is_valid_xmas_data(index, sequence, preamble_length=25):\n",
    "    if index < preamble_length:\n",
    "        raise Exception('Index must be larger than the preamble')\n",
    "\n",
    "    target = sequence[index]\n",
    "    start = index - preamble_length\n",
    "\n",
    "    for i, n1 in enumerate(sequence[start:index], start):\n",
    "        for n2 in sequence[i:index]:\n",
    "            if n1 + n2 == target:\n",
    "                return True\n",
    "    return False\n",
    "\n",
    "\n",
    "def find_first_non_matching_xmas(sequence, preamble_length=25):\n",
    "    for index in range(preamble_length, len(sequence)):\n",
    "        if not is_valid_xmas_data(index, sequence, preamble_length):\n",
    "            return sequence[index]\n",
    "    raise Exception('Solution not found')"
   ]
  },
  {
   "cell_type": "code",
   "execution_count": 718,
   "metadata": {},
   "outputs": [
    {
     "output_type": "execute_result",
     "data": {
      "text/plain": [
       "1309761972"
      ]
     },
     "metadata": {},
     "execution_count": 718
    }
   ],
   "source": [
    "input9 = Input(9, int)\n",
    "find_first_non_matching_xmas(input9)"
   ]
  },
  {
   "cell_type": "code",
   "execution_count": null,
   "metadata": {},
   "outputs": [],
   "source": [
    "assert _ == 1309761972, 'Day 9.1'"
   ]
  },
  {
   "cell_type": "code",
   "execution_count": 720,
   "metadata": {
    "tags": []
   },
   "outputs": [
    {
     "output_type": "execute_result",
     "data": {
      "text/plain": [
       "177989832"
      ]
     },
     "metadata": {},
     "execution_count": 720
    }
   ],
   "source": [
    "# part 2\n",
    "def find_xmas_encryption_weakness(target, sequence):\n",
    "    # precompute all the sums we'll require from the list[]\n",
    "    sums = [sequence[0]]\n",
    "    for n in sequence:\n",
    "        sums.append(n + sums[-1])\n",
    "    \n",
    "    for start_index, sum_start in enumerate(sums):\n",
    "        for end_index, sum_end in enumerate(sums[start_index + 1:], start_index):\n",
    "            if sum_end - sum_start == target:\n",
    "                sequence_slice = sequence[start_index:end_index + 1]\n",
    "                return min(sequence_slice) + max(sequence_slice)\n",
    "\n",
    "            if sum_end - sum_start > target:\n",
    "                break\n",
    "    raise Exception('Solution not found')\n",
    "\n",
    "find_xmas_encryption_weakness(1309761972, input9)"
   ]
  },
  {
   "cell_type": "code",
   "execution_count": 711,
   "metadata": {},
   "outputs": [],
   "source": [
    "assert _ == 177989832, 'Day 9.2'"
   ]
  },
  {
   "source": [
    "# [Day 10: Adapter Array](https://adventofcode.com/2020/day/10)\n",
    "\n",
    "I solved this problem using [dynamic programming](https://en.wikipedia.org/wiki/Dynamic_programming) which is a fancy way of saying that pure-function calls are memoized and therefore not repeatedly called. In this case, rather than looking forward when counting paths (\"how many ways can I arrive at X?\") we look back (\"How many ways can I get here?\"). This allows us to make use of previous results and simply combine them at each new step."
   ],
   "cell_type": "markdown",
   "metadata": {}
  },
  {
   "cell_type": "code",
   "execution_count": 736,
   "metadata": {},
   "outputs": [],
   "source": [
    "def find_joltage_chain_diffs(adapters):\n",
    "    adapters = sorted(adapters)\n",
    "    # add the built in power adapters\n",
    "    adapters.append(adapters[-1] + 3)\n",
    "\n",
    "    joltage = 0\n",
    "\n",
    "    diffs = {1: 0, 3: 0}\n",
    "\n",
    "    for adapter in adapters:\n",
    "        diff = adapter - joltage\n",
    "        diffs[diff] += 1\n",
    "\n",
    "        joltage = adapter\n",
    "    \n",
    "    return diffs\n",
    "\n",
    "def multiply_diffs(adapters):\n",
    "    diffs = find_joltage_chain_diffs(adapters)\n",
    "    return diffs[1] * diffs[3]"
   ]
  },
  {
   "cell_type": "code",
   "execution_count": 737,
   "metadata": {},
   "outputs": [
    {
     "output_type": "execute_result",
     "data": {
      "text/plain": [
       "2112"
      ]
     },
     "metadata": {},
     "execution_count": 737
    }
   ],
   "source": [
    "adapters = Input(10, int)\n",
    "multiply_diffs(adapters)"
   ]
  },
  {
   "cell_type": "code",
   "execution_count": 738,
   "metadata": {},
   "outputs": [],
   "source": [
    "assert _ == 2112, 'Day 10.1'"
   ]
  },
  {
   "cell_type": "code",
   "execution_count": 149,
   "metadata": {},
   "outputs": [
    {
     "output_type": "execute_result",
     "data": {
      "text/plain": [
       "3022415986688"
      ]
     },
     "metadata": {},
     "execution_count": 149
    }
   ],
   "source": [
    "# part 2\n",
    "def count_combinations(adapters):\n",
    "    adapters = sorted(adapters)\n",
    "    adapters.append(adapters[-1] + 3)\n",
    "    adapters.insert(0, 0)\n",
    "\n",
    "    chains = {0: 1}\n",
    "\n",
    "    # For each adadpter, find the number of paths for the numbers\n",
    "    # _before_ it and combine\n",
    "    for index, adapter in enumerate(adapters):\n",
    "        start_index = max(index - 4, 0)\n",
    "        for prev_adapter in adapters[start_index:index]:\n",
    "            if adapter - prev_adapter > 3:\n",
    "                # Cannot be reached, so skip\n",
    "                continue\n",
    "            chains[adapter] = chains.get(adapter, 0) + chains[prev_adapter]\n",
    "    \n",
    "    return chains[adapters[-1]]\n",
    "\n",
    "count_combinations(adapters)"
   ]
  },
  {
   "cell_type": "code",
   "execution_count": 824,
   "metadata": {},
   "outputs": [],
   "source": [
    "assert _ == 3022415986688, 'Day 10.2'"
   ]
  },
  {
   "source": [
    "# [Day 11: Seating System](https://adventofcode.com/2020/day/11)\n",
    "\n",
    "Cellular automata! Always fun to explore. Common pitfalls with this type of problem is updating the same grid, not cloning a new one.\n",
    "\n"
   ],
   "cell_type": "markdown",
   "metadata": {}
  },
  {
   "cell_type": "code",
   "execution_count": 742,
   "metadata": {
    "tags": []
   },
   "outputs": [
    {
     "output_type": "execute_result",
     "data": {
      "text/plain": [
       "2277"
      ]
     },
     "metadata": {},
     "execution_count": 742
    }
   ],
   "source": [
    "def bounded_neighbours8(x, y, max_x, max_y, grid):\n",
    "    return tuple(\n",
    "        (x1, y1) for x1, y1 in neighbours8(x, y)\n",
    "        if x1 >= 0 and x1 < max_x and y1 >= 0 and y1 < max_y\n",
    "    )\n",
    "\n",
    "\n",
    "OCCUPIED = '#'\n",
    "EMPTY = 'L'\n",
    "FLOOR = '.'\n",
    "\n",
    "\n",
    "def advance_time(seat_layout, find_neighbours, occupied_limit):\n",
    "    # clone layout to a new list\n",
    "    next_layout = [row[:] for row in seat_layout]\n",
    "    max_x = len(seat_layout[0])\n",
    "    max_y = len(seat_layout)\n",
    "\n",
    "    coordinates = product(range(len(seat_layout[0])), range(len(seat_layout)))\n",
    "\n",
    "    for x, y in coordinates:\n",
    "        if seat_layout[y][x] == FLOOR:\n",
    "            continue\n",
    "\n",
    "        neighbours = [\n",
    "            seat_layout[y1][x1]\n",
    "            for x1, y1 in find_neighbours(x, y, max_x, max_y, seat_layout)\n",
    "        ]\n",
    "        occupied = quantify(neighbours, lambda x: x == OCCUPIED)\n",
    "        \n",
    "        if seat_layout[y][x] == EMPTY and occupied == 0:\n",
    "            next_layout[y][x] = OCCUPIED\n",
    "        elif seat_layout[y][x] == OCCUPIED and occupied >= occupied_limit:\n",
    "            next_layout[y][x] = EMPTY\n",
    "    return next_layout\n",
    "   \n",
    "\n",
    "def advance_until_stable(seat_layout, find_neighbours=bounded_neighbours8, occupied_limit=4):\n",
    "    prev_layout = seat_layout\n",
    "    for t in count():\n",
    "        next_layout = advance_time(prev_layout, find_neighbours, occupied_limit)\n",
    "        if cat(map(cat, prev_layout)) == cat(map(cat, next_layout)):\n",
    "            break\n",
    "\n",
    "        prev_layout = next_layout\n",
    "\n",
    "    return next_layout\n",
    "\n",
    "input11 = list(Input(11, lambda line: list(line.strip())))\n",
    "quantify(\n",
    "    cat(map(cat, advance_until_stable(input11))),\n",
    "    lambda x: x == OCCUPIED\n",
    ")"
   ]
  },
  {
   "cell_type": "code",
   "execution_count": 870,
   "metadata": {},
   "outputs": [],
   "source": [
    "assert _ == 2277, \"Day 11.1\""
   ]
  },
  {
   "cell_type": "code",
   "execution_count": 236,
   "metadata": {
    "tags": []
   },
   "outputs": [
    {
     "output_type": "execute_result",
     "data": {
      "text/plain": [
       "2026"
      ]
     },
     "metadata": {},
     "execution_count": 236
    }
   ],
   "source": [
    "# part 2\n",
    "\n",
    "def bounded_neighbours8_sight(x, y, max_x, max_y, grid):\n",
    "    # Build iterators of each explorable direction\n",
    "    # this has to be done within a lambda otherwise the generators\n",
    "    # will have the final value of dx and dy.\n",
    "    build_sightline = lambda dx, dy: ((x + d * dx, y + d * dy) for d in count(1))\n",
    "    sightlines = [\n",
    "        build_sightline(dx, dy)\n",
    "        for (dx, dy) in NEIGHBOUR8_DELTAS\n",
    "    ]\n",
    "    \n",
    "    neighbours = []\n",
    "\n",
    "    # Explore each sightline until we reach the end of it\n",
    "    for sightline in sightlines:\n",
    "        for x1, y1 in sightline:\n",
    "            try:\n",
    "                if grid[y1][x1] != FLOOR:\n",
    "                    neighbours.append((x1, y1))\n",
    "                    break\n",
    "            except IndexError:\n",
    "                # Sightline out of bounds\n",
    "                break\n",
    "    return neighbours\n",
    "\n",
    "\n",
    "quantify(\n",
    "    cat(map(cat, advance_until_stable(input11, bounded_neighbours8_sight, 5))),\n",
    "    lambda x: x == OCCUPIED\n",
    ")"
   ]
  },
  {
   "cell_type": "code",
   "execution_count": null,
   "metadata": {},
   "outputs": [],
   "source": [
    "assaert _ == 2066, 'Day 11.2'"
   ]
  },
  {
   "source": [
    "# [Day 12: Rain Risk](https://adventofcode.com/2020/day/12)\n",
    "\n",
    "We're tasked with following a set of actions on a cartesian grid. I choose to represent our current heading and position as imaginary numbers, making rotations extremely easy to compute. As a result, the second part was very simple! (Which was a nice surprise.)"
   ],
   "cell_type": "markdown",
   "metadata": {}
  },
  {
   "cell_type": "code",
   "execution_count": 749,
   "metadata": {},
   "outputs": [
    {
     "output_type": "execute_result",
     "data": {
      "text/plain": [
       "445"
      ]
     },
     "metadata": {},
     "execution_count": 749
    }
   ],
   "source": [
    "def turn(degrees, pos):\n",
    "    rotation = degrees // 90 \n",
    "    return pos * pow(1j, rotation)\n",
    "\n",
    "\n",
    "def follow_actions(actions):\n",
    "    heading = 1 + 0j\n",
    "    posisition = 0 + 0j\n",
    "    \n",
    "    action_map = {'N': 1j, 'S': -1j, 'E': 1, 'W': -1}\n",
    "\n",
    "\n",
    "    for action, value in actions:\n",
    "        if action in action_map:        posisition += value * action_map[action]\n",
    "        elif action == 'L':             heading = turn(value, heading)\n",
    "        elif action == 'R':             heading = turn(-value, heading)\n",
    "        elif action == 'F':             posisition += value * heading\n",
    "\n",
    "    return int(abs(posisition.real) + abs(posisition.imag))\n",
    "\n",
    "\n",
    "parse_line = lambda line: (line[0], int(line[1:]))\n",
    "\n",
    "actions = Input(12, parse_line)\n",
    "follow_actions(actions)\n"
   ]
  },
  {
   "cell_type": "code",
   "execution_count": 947,
   "metadata": {},
   "outputs": [],
   "source": [
    "assert _ == 445, 'Day 12.2'"
   ]
  },
  {
   "cell_type": "code",
   "execution_count": 746,
   "metadata": {
    "tags": []
   },
   "outputs": [
    {
     "output_type": "execute_result",
     "data": {
      "text/plain": [
       "42495"
      ]
     },
     "metadata": {},
     "execution_count": 746
    }
   ],
   "source": [
    "# part 2\n",
    "def follow_actions(actions):\n",
    "    way_point = 10 + 1j\n",
    "    posisition = 0 + 0j\n",
    "\n",
    "    action_map = {'N': 1j, 'S': -1j, 'E': 1, 'W': -1}\n",
    "\n",
    "    for action, value in actions:\n",
    "        if action in action_map:    way_point += value * action_map[action]\n",
    "        elif action == 'L':         way_point = turn(value, way_point)\n",
    "        elif action == 'R':         way_point = turn(-value, way_point)\n",
    "        elif action == 'F':         posisition += way_point * value\n",
    "        else:                       raise Exception('unkown action')\n",
    "\n",
    "    return int(abs(posisition.real) + abs(posisition.imag))\n",
    "\n",
    "follow_actions(actions)"
   ]
  },
  {
   "cell_type": "code",
   "execution_count": 998,
   "metadata": {},
   "outputs": [],
   "source": [
    "assert _ == 42495, 'Day 12.2'"
   ]
  },
  {
   "source": [
    "# [Day 13: Shuttle Search](https://adventofcode.com/2020/day/13)\n",
    "\n",
    "This problem was of a new breed to me, and quite annoying to solve. I broke, and had to check how to solve it (it was clear that the bus ids being prime was a crucial factor, but I could not see why). The solution was to create a set of equations of the form\n",
    "\n",
    "```\n",
    "    x = a_i (mod n1),\n",
    "```\n",
    "\n",
    "(with x in this case as 0), and then use the [chinese remainder theorem](https://en.wikipedia.org/wiki/Chinese_remainder_theorem) to find the solution."
   ],
   "cell_type": "markdown",
   "metadata": {}
  },
  {
   "cell_type": "code",
   "execution_count": 753,
   "metadata": {},
   "outputs": [
    {
     "output_type": "execute_result",
     "data": {
      "text/plain": [
       "4782"
      ]
     },
     "metadata": {},
     "execution_count": 753
    }
   ],
   "source": [
    "def find_earliest_bus(earliest_departure_time, bus_ids):\n",
    "    valid_bus_ids = [int(bus_id) for bus_id in bus_ids if bus_id != 'x']\n",
    "    closest_bus_id = min(valid_bus_ids, key=lambda bus_id: wait_for_bus(bus_id, earliest_departure_time))\n",
    "    return closest_bus_id * wait_for_bus(closest_bus_id, earliest_departure_time)\n",
    "\n",
    "\n",
    "def wait_for_bus(bus_id, t):\n",
    "    return 0 if t % bus_id == 0 else bus_id - t % bus_id\n",
    "\n",
    "\n",
    "def parse_input(lines):\n",
    "    return (int(lines[0]), lines[1].split(','))\n",
    "\n",
    "input13 = parse_input(Input(13))\n",
    "find_earliest_bus(*input13)\n"
   ]
  },
  {
   "cell_type": "code",
   "execution_count": 14,
   "metadata": {},
   "outputs": [],
   "source": [
    "assert _ == 4782, 'Day 13.1'"
   ]
  },
  {
   "cell_type": "code",
   "execution_count": 755,
   "metadata": {},
   "outputs": [
    {
     "output_type": "execute_result",
     "data": {
      "text/plain": [
       "1118684865113056"
      ]
     },
     "metadata": {},
     "execution_count": 755
    }
   ],
   "source": [
    "# part 2\n",
    "# Code for the chinese remainder was taken from the internet, I forget where. :(\n",
    "def chinese_remainder(n, a):\n",
    "    sum = 0\n",
    "    prod = reduce(lambda a, b: a*b, n)\n",
    "    for n_i, a_i in zip(n, a):\n",
    "        p = prod // n_i\n",
    "        sum += a_i * mul_inv(p, n_i) * p\n",
    "    return sum % prod \n",
    " \n",
    " \n",
    "def mul_inv(a, b):\n",
    "    b0 = b\n",
    "    x0, x1 = 0, 1\n",
    "    if b == 1: return 1\n",
    "    while a > 1:\n",
    "        q = a // b\n",
    "        a, b = b, a%b\n",
    "        x0, x1 = x1 - q * x0, x0\n",
    "    if x1 < 0: x1 += b0\n",
    "    return x1\n",
    "\n",
    "def find_t(bus_ids):\n",
    "    bus_ids = tuple(\n",
    "        (int(bus_id), int(bus_id) - idx)\n",
    "        for idx, bus_id in enumerate(bus_ids)\n",
    "        if bus_id != 'x'\n",
    "    )\n",
    "\n",
    "    n, a = zip(*bus_ids)\n",
    "\n",
    "    return chinese_remainder(n, a)\n",
    "\n",
    "\n",
    "find_t(input13[1])"
   ]
  },
  {
   "cell_type": "code",
   "execution_count": null,
   "metadata": {},
   "outputs": [],
   "source": [
    "assert _ == 1118684865113056, 'Day 13.2'"
   ]
  },
  {
   "source": [
    "# [Day 14: Docking Data](https://adventofcode.com/2020/day/14)\n",
    "\n",
    "Nothing too special about this one, I think my solution to the second part is a bit heavy handed - there's probably a simpler approach to finding all the possible masks."
   ],
   "cell_type": "markdown",
   "metadata": {}
  },
  {
   "cell_type": "code",
   "execution_count": 756,
   "metadata": {},
   "outputs": [
    {
     "output_type": "execute_result",
     "data": {
      "text/plain": [
       "14862056079561"
      ]
     },
     "metadata": {},
     "execution_count": 756
    }
   ],
   "source": [
    "def apply_mask_v1(mask, location, value):\n",
    "    ones = int(mask.replace('X', '0'), 2)\n",
    "    zeros = int(mask.replace('X', '1'), 2)\n",
    "    return [(location, (value | ones) & zeros)]\n",
    "\n",
    "\n",
    "def run_mask(ops, apply_mask):\n",
    "    memory = {}\n",
    "\n",
    "    mask = ''\n",
    "    for opname, opvalue in ops:\n",
    "        if opname == 'mask':\n",
    "            mask = opvalue\n",
    "        else:\n",
    "            loc, val = opvalue\n",
    "            for location, value in apply_mask(mask, loc, val):\n",
    "                memory[location] = value\n",
    "    \n",
    "    return sum(memory.values())\n",
    "\n",
    "\n",
    "def parse_input(lines):\n",
    "    ops = []\n",
    "    \n",
    "    for line in lines:\n",
    "        if line.startswith('mask'):\n",
    "            op = 'mask'\n",
    "            val = line.split('=')[1].strip()\n",
    "        elif line.startswith('mem'):\n",
    "            op = 'mem'\n",
    "            val = mapt(int, re.findall('\\d+', line))\n",
    "        else:\n",
    "            raise Exception(f'Unknown operation, {line}')\n",
    "        ops.append((op, val))\n",
    "\n",
    "    return ops\n",
    "\n",
    "input14 = parse_input(Input(14))\n",
    "run_mask(input14, apply_mask_v1)"
   ]
  },
  {
   "cell_type": "code",
   "execution_count": null,
   "metadata": {},
   "outputs": [],
   "source": [
    "assert _ == 14862056079561, 'Day 14'"
   ]
  },
  {
   "cell_type": "code",
   "execution_count": 143,
   "metadata": {
    "tags": []
   },
   "outputs": [
    {
     "output_type": "execute_result",
     "data": {
      "text/plain": [
       "3296185383161"
      ]
     },
     "metadata": {},
     "execution_count": 143
    }
   ],
   "source": [
    "# part 2\n",
    "def expland_floating_mask(mask, masks=None):\n",
    "    if masks is None:\n",
    "        masks = []\n",
    "\n",
    "    if 'X' not in mask:\n",
    "        masks.append(mask)\n",
    "        return masks\n",
    "\n",
    "    for char in '01':\n",
    "        new_mask = mask.replace('X', char, 1)\n",
    "        expland_floating_mask(new_mask, masks)\n",
    "    \n",
    "    return masks\n",
    "\n",
    "\n",
    "def apply_mask_v2(mask, location, value):\n",
    "    ones = int(mask.replace('X', '1'), 2)\n",
    "    val = location | ones\n",
    "\n",
    "    # Now that we've applied the static ones, as we'll be AND-ing the\n",
    "    # new masks, we can ignore the zeros by replacing them with 1s\n",
    "    mask = mask.replace('0', '1')\n",
    "    new_locations = [\n",
    "        val & int(new_mask, 2)\n",
    "        for new_mask in expland_floating_mask(mask)\n",
    "    ]\n",
    "    return zip(new_locations, [value] * len(new_locations))\n",
    "\n",
    "\n",
    "run_mask(input14, apply_mask_v2)"
   ]
  },
  {
   "cell_type": "code",
   "execution_count": 136,
   "metadata": {},
   "outputs": [],
   "source": [
    "assert _ == 3296185383161, 'Day 14.2'"
   ]
  },
  {
   "source": [
    "# [Day 15: Rambunctious Recitation](https://adventofcode.com/2020/day/15)\n",
    "\n",
    "Again, nothing particularly interesting in this solution, but slightly surprised that the same answer for part 1 could be used for part 2. I imagine if a less efficient approach would be used, there'd be a problem. "
   ],
   "cell_type": "markdown",
   "metadata": {}
  },
  {
   "cell_type": "code",
   "execution_count": 757,
   "metadata": {},
   "outputs": [
    {
     "output_type": "execute_result",
     "data": {
      "text/plain": [
       "240"
      ]
     },
     "metadata": {},
     "execution_count": 757
    }
   ],
   "source": [
    "def play_counting_game(starting_numbers, limit):\n",
    "    last_spoken = {}\n",
    "\n",
    "    for idx, num in enumerate(starting_numbers):\n",
    "        last_spoken[num] = idx + 1\n",
    "\n",
    "    for idx in range(idx + 1, limit):\n",
    "        last_idx = last_spoken.get(num, idx)\n",
    "        last_spoken[num] = idx\n",
    "        num = idx - last_idx\n",
    "\n",
    "    return num\n",
    "\n",
    "play_counting_game([14,8,16,0,1,17], limit=2020)"
   ]
  },
  {
   "cell_type": "code",
   "execution_count": null,
   "metadata": {},
   "outputs": [],
   "source": [
    "assert _ == 240, 'Day 15.1'"
   ]
  },
  {
   "cell_type": "code",
   "execution_count": 758,
   "metadata": {},
   "outputs": [
    {
     "output_type": "execute_result",
     "data": {
      "text/plain": [
       "505"
      ]
     },
     "metadata": {},
     "execution_count": 758
    }
   ],
   "source": [
    "# part 2\n",
    "play_counting_game([14,8,16,0,1,17], limit=30000000)"
   ]
  },
  {
   "cell_type": "code",
   "execution_count": 760,
   "metadata": {},
   "outputs": [],
   "source": [
    "assert _ == 505, 'Day 15.2'"
   ]
  },
  {
   "source": [
    "# [Day 16: Ticket Translation](https://adventofcode.com/2020/day/16)\n",
    "\n",
    "This problem, although quite simple, took me a while thanks to abusing python's loose typing (/ my idiocy). I was checking the validity of a ticket by returning the value that did not match any rule - treating truthy values (i.e. postive ints) as a failing ticket. Unfortunately, my input had zeros in, which should have failed. But, 0 is considered falsey, so I was erroronously counting invalid tickets. Painful!"
   ],
   "cell_type": "markdown",
   "metadata": {}
  },
  {
   "cell_type": "code",
   "execution_count": 396,
   "metadata": {
    "tags": []
   },
   "outputs": [
    {
     "output_type": "execute_result",
     "data": {
      "text/plain": [
       "27802"
      ]
     },
     "metadata": {},
     "execution_count": 396
    }
   ],
   "source": [
    "Rule = namedtuple('Rule', 'name,ranges')\n",
    "\n",
    "\n",
    "def apply_rule(rule, val):\n",
    "    return (rule.ranges[0] <= val <= rule.ranges[1] or\n",
    "            rule.ranges[2] <= val <= rule.ranges[3])\n",
    "\n",
    "\n",
    "def is_valid_ticket(rules, ticket) -> (bool, int):\n",
    "    for val in ticket:\n",
    "        for rule in rules:\n",
    "            if apply_rule(rule, val):\n",
    "                break\n",
    "        else:\n",
    "            return False, val\n",
    "    return True, None\n",
    "\n",
    "\n",
    "def find_error_rate(rules, tickets):\n",
    "    error_rate = 0\n",
    "    for ticket in tickets:\n",
    "        is_valid, invalid_field = is_valid_ticket(rules, ticket)\n",
    "        if not is_valid:\n",
    "            error_rate += invalid_field\n",
    "    return error_rate\n",
    "\n",
    "\n",
    "\n",
    "def parse_input(lines):\n",
    "    rules = []\n",
    "\n",
    "    lines_iter = iter(lines)\n",
    "    for line in lines_iter:\n",
    "        if not line:\n",
    "            break\n",
    "        match = re.match('(.*): (\\d+)-(\\d+) or (\\d+)-(\\d+)', line)\n",
    "        rule_name = match.groups()[0]\n",
    "        ranges = tuple(int(n) for n in match.groups()[1:])\n",
    "\n",
    "        rules.append(\n",
    "            Rule(rule_name, ranges)\n",
    "        )\n",
    "\n",
    "    parse_ticket = lambda l: mapt(int, re.findall('\\d+', l))\n",
    "    parse_ticket = lambda l: mapt(int, l.split(','))\n",
    "    next(lines_iter)\n",
    "    our_ticket = parse_ticket(next(lines_iter))\n",
    "    next(lines_iter)\n",
    "\n",
    "    next(lines_iter)\n",
    "    other_tickets = mapt(parse_ticket, lines_iter)\n",
    "\n",
    "    return rules, our_ticket, other_tickets\n",
    "\n",
    "input16 = parse_input(Input(16))\n",
    "\n",
    "find_error_rate(input16[0], input16[2])"
   ]
  },
  {
   "cell_type": "code",
   "execution_count": 367,
   "metadata": {},
   "outputs": [],
   "source": [
    "assert _ == 27802, 'Day 16.1'"
   ]
  },
  {
   "cell_type": "code",
   "execution_count": 413,
   "metadata": {
    "tags": []
   },
   "outputs": [
    {
     "output_type": "execute_result",
     "data": {
      "text/plain": [
       "279139880759"
      ]
     },
     "metadata": {},
     "execution_count": 413
    }
   ],
   "source": [
    "# part 2\n",
    "def match_fields(rules, tickets):\n",
    "    valid_tickets = [\n",
    "        ticket\n",
    "        for ticket in tickets\n",
    "        if is_valid_ticket(rules, ticket)[0]\n",
    "    ]\n",
    "\n",
    "    num_fields = len(valid_tickets[0])\n",
    "    fields = dict(\n",
    "        (rule.name, set(range(num_fields)))\n",
    "        for rule in rules\n",
    "    )\n",
    "\n",
    "    for ticket in valid_tickets:\n",
    "        for idx, val in enumerate(ticket):\n",
    "            for rule in rules:\n",
    "                if not apply_rule(rule, val):\n",
    "                    # Rule failed, so it cannot apply to this index\n",
    "                    fields[rule.name] -= {idx}\n",
    "\n",
    "    # Reduce possible indexes by removing matches we're certain about\n",
    "    known_matches = [\n",
    "        (name, list(indexes)[0])\n",
    "        for name, indexes in fields.items()\n",
    "        if len(indexes) == 1\n",
    "    ]\n",
    "\n",
    "    while len(known_matches) != len(rules):\n",
    "        for name, idx in known_matches:\n",
    "            for rule in rules:\n",
    "                fields[rule.name] -= {idx}\n",
    "            \n",
    "                if len(fields[rule.name]) == 1:\n",
    "                    known_matches.append(\n",
    "                        (rule.name, list(fields[rule.name])[0])\n",
    "                    )\n",
    "    \n",
    "    return known_matches\n",
    "    \n",
    "\n",
    "def find_departure_code(rules, our_ticket, tickets):\n",
    "    fields = match_fields(rules, tickets)\n",
    "    res = 1\n",
    "    for name, idx in fields:\n",
    "        if name.startswith('departure'):\n",
    "            res *= our_ticket[idx]\n",
    "    return res\n",
    "\n",
    "\n",
    "find_departure_code(*input16)"
   ]
  },
  {
   "cell_type": "code",
   "execution_count": 407,
   "metadata": {},
   "outputs": [],
   "source": [
    "assert _ == 279139880759, 'Day 16.2'"
   ]
  },
  {
   "source": [
    "# [Day 17: Conway Cubes](https://adventofcode.com/2020/day/17)\n",
    "\n",
    "[Conway's Game of Life](https://en.wikipedia.org/wiki/Conway%27s_Game_of_Life) but in three and four dimensions. I treat the alive cells as those that are present in the current set."
   ],
   "cell_type": "markdown",
   "metadata": {}
  },
  {
   "cell_type": "code",
   "execution_count": 791,
   "metadata": {
    "tags": []
   },
   "outputs": [
    {
     "output_type": "execute_result",
     "data": {
      "text/plain": [
       "295"
      ]
     },
     "metadata": {},
     "execution_count": 791
    }
   ],
   "source": [
    "ACTIVE = '#'\n",
    "INACTIVE = '.'\n",
    "\n",
    "Point4 = namedtuple('Point', ['x', 'y', 'z', 'w'])\n",
    "\n",
    "# All possible deltas for dimensions up to 4\n",
    "DELTAS = [set(product((-1, 0, 1), repeat=d)) - {(0,) * d} for d in range(5)]\n",
    "\n",
    "\n",
    "def get_neighbours(point):\n",
    "    \"Find all neighbours for a given point in n dimenions.\"\n",
    "    return [\n",
    "        tuple(map(operator.add, point, delta))\n",
    "        for delta in DELTAS[len(point)]\n",
    "    ]\n",
    "\n",
    "\n",
    "def get_neighbour_counts(points):\n",
    "    \"\"\"Find all cells and how many of their neighbours are alive.\n",
    "\n",
    "    As we find all the neighbours of all the cells simultaneously,\n",
    "    by counting the number of time a given cell appears, we know \n",
    "    how many neighbours it currently has in the set.\n",
    "\n",
    "    As we only track living cells, we therefore know how many live\n",
    "    neighbours each one has.\n",
    "    \"\"\"\n",
    "    return Counter(chain.from_iterable(map(get_neighbours, points)))\n",
    "\n",
    "\n",
    "def perform_cycle(points):\n",
    "    \"Find the next state for all points.\"\n",
    "    return set(\n",
    "        point for point, alive_neighours\n",
    "        in get_neighbour_counts(points).items()\n",
    "        if alive_neighours == 3 or (alive_neighours == 2 and point in points)\n",
    "    )\n",
    "\n",
    "\n",
    "def count_active_cubes_after_cycles(points: set) -> int:\n",
    "    for _ in range(6):\n",
    "        points = perform_cycle(points)\n",
    "    return len(points)\n",
    "\n",
    "\n",
    "def parse_input(lines, num_dimensions):\n",
    "    points = set([\n",
    "        (x, y,) + (0,) * (num_dimensions - 2)\n",
    "        for y, line in enumerate(lines)\n",
    "        for x, char in enumerate(line)\n",
    "        if char == '#'\n",
    "    ])\n",
    "    return points\n",
    "\n",
    "\n",
    "input17 = parse_input(Input(17), num_dimensions=3)\n",
    "count_active_cubes_after_cycles(input17)"
   ]
  },
  {
   "cell_type": "code",
   "execution_count": 424,
   "metadata": {},
   "outputs": [],
   "source": [
    "assert _ == 295, 'Day 17.1'"
   ]
  },
  {
   "cell_type": "code",
   "execution_count": 785,
   "metadata": {
    "tags": []
   },
   "outputs": [
    {
     "output_type": "execute_result",
     "data": {
      "text/plain": [
       "1972"
      ]
     },
     "metadata": {},
     "execution_count": 785
    }
   ],
   "source": [
    "input17 = parse_input(Input(17), num_dimensions=4)\n",
    "count_active_cubes_after_cycles(input17)"
   ]
  },
  {
   "cell_type": "code",
   "execution_count": 431,
   "metadata": {},
   "outputs": [],
   "source": [
    "assert _ == 1972, 'Day 17.2'"
   ]
  },
  {
   "source": [
    "# [Day 18: Operation Order](https://adventofcode.com/2020/day/18)\n",
    "\n",
    "I've never written a full lexer / parser combination before, and perhaps this is overkill for the problem. But in doing so I learned a few things (like the [Shunting-yard algorithm](https://en.wikipedia.org/wiki/Shunting-yard_algorithm)) but it meant that the second part of the problem was extremely simple!"
   ],
   "cell_type": "markdown",
   "metadata": {}
  },
  {
   "cell_type": "code",
   "execution_count": 790,
   "metadata": {
    "tags": []
   },
   "outputs": [
    {
     "output_type": "execute_result",
     "data": {
      "text/plain": [
       "701339185745"
      ]
     },
     "metadata": {},
     "execution_count": 790
    }
   ],
   "source": [
    "Token = namedtuple('Token', ['name', 'value'])\n",
    "\n",
    "\n",
    "def math_lexer(expression):\n",
    "    \"Generates a token stream.\"    \n",
    "    stream = StringIO(expression)\n",
    "\n",
    "    token_map = {'+': 'ADD', '*': 'MUL', '(': 'OPEN_PAREN', ')': 'CLOSE_PAREN',}\n",
    "\n",
    "    while True:\n",
    "        char = stream.read(1)\n",
    "        if not char:\n",
    "            break\n",
    "\n",
    "        if not char.strip():\n",
    "            continue\n",
    "\n",
    "        if char in token_map:\n",
    "            yield Token(token_map[char], char)\n",
    "        else:\n",
    "            # we have a digit, consume the stream until we hit a break\n",
    "            val = ''\n",
    "            while char.isnumeric():\n",
    "                val += char\n",
    "                char = stream.read(1)\n",
    "\n",
    "            if char:\n",
    "                # we've read one extra char, go back one\n",
    "                # Note: we can't use relative seeking on a stringIO obj\n",
    "                stream.seek(stream.tell() - 1)\n",
    "\n",
    "            yield Token('INT', int(val))\n",
    "\n",
    "\n",
    "def math_parser(tokens, precedence):\n",
    "    \"Convert infix to postfix notation using shunting-yard algorithm\"\n",
    "    output = deque([])\n",
    "    op_stack = []\n",
    "\n",
    "    for token in tokens:\n",
    "        if token.name == 'INT':\n",
    "            output.append(token)\n",
    "        elif token.name in ('ADD', 'MUL'):\n",
    "            # Move all operators from stack onto the output\n",
    "            while (\n",
    "                op_stack and\n",
    "                op_stack[-1].name in ('ADD', 'MUL') and\n",
    "                precedence[op_stack[-1].name] >= precedence[token.name]\n",
    "            ):\n",
    "                output.append(op_stack.pop())\n",
    "            op_stack.append(token)\n",
    "        elif token.name == 'OPEN_PAREN':\n",
    "            op_stack.append(token)\n",
    "        elif token.name == 'CLOSE_PAREN':\n",
    "            # move all operators within the paren to the output\n",
    "            while True:\n",
    "                op_token = op_stack.pop()\n",
    "                if op_token.name == 'OPEN_PAREN':\n",
    "                    break\n",
    "                output.append(op_token)\n",
    "\n",
    "    # Move all remaining operations onto the output stack\n",
    "    while op_stack:\n",
    "        output.append(op_stack.pop())\n",
    "\n",
    "    return output\n",
    "\n",
    "\n",
    "def evaluate_expression(expression, precedence):\n",
    "    tokens = math_lexer(expression)\n",
    "    output_stack = math_parser(tokens, precedence)\n",
    "\n",
    "    result_stack = []\n",
    "    ops = {'ADD': operator.add, 'MUL': operator.mul}\n",
    "\n",
    "    for token in output_stack:\n",
    "        if token.name in ('ADD', 'MUL'):\n",
    "            lhs = result_stack.pop()\n",
    "            rhs = result_stack.pop()\n",
    "            out = ops[token.name](lhs, rhs)\n",
    "            result_stack.append(out)\n",
    "        else:\n",
    "            result_stack.append(token.value)\n",
    "    return result_stack[0]\n",
    "\n",
    "\n",
    "def sum_expressions(expressions, precedence):\n",
    "    return sum(\n",
    "         evaluate_expression(expression, precedence)\n",
    "         for expression in expressions\n",
    "    )\n",
    "\n",
    "\n",
    "input18 = Input(18)\n",
    "sum_expressions(input18, precedence={'ADD': 1, 'MUL': 1})"
   ]
  },
  {
   "cell_type": "code",
   "execution_count": null,
   "metadata": {},
   "outputs": [],
   "source": [
    "assert _ == 701339185745, 'Day 18.1'"
   ]
  },
  {
   "cell_type": "code",
   "execution_count": 564,
   "metadata": {},
   "outputs": [
    {
     "output_type": "execute_result",
     "data": {
      "text/plain": [
       "4208490449905"
      ]
     },
     "metadata": {},
     "execution_count": 564
    }
   ],
   "source": [
    "sum_expressions(input18, precedence={'ADD': 2, 'MUL': 1})"
   ]
  },
  {
   "cell_type": "code",
   "execution_count": null,
   "metadata": {},
   "outputs": [],
   "source": [
    "assert _ == 4208490449905, 'Day 18.2'"
   ]
  },
  {
   "source": [
    "# [Day 19: Monster Messages](https://adventofcode.com/2020/day/19)\n",
    "\n",
    "I initially parsed all of the rules and generated all the possible matches for the grammar. In part two however, modifying the grammar causes it to be infinite, so rather than attempting to generated matches to compare against, I rewrote to instead apply a rule to each message.\n",
    "\n",
    "The nature of the recursion means that alternatives are added to the end of a composition, so a depth-first approach can be used.\n",
    "\n",
    "By using generators, we don't need to fully explore a rule (sidestepping their infinite nature) and can simply check a single part of it before moving to the next.\n",
    "\n",
    "Each rule falls into the following categories,\n",
    "\n",
    "1. It is a terminator\n",
    "2. It is a composition of one or more sets of rules \n",
    "\n",
    "as we want to avoid materializing the full grammar set we can check letter by letter, removing the leading character on a successful match or stopping the generation as we cannot progress.\n"
   ],
   "cell_type": "markdown",
   "metadata": {}
  },
  {
   "cell_type": "code",
   "execution_count": 732,
   "metadata": {
    "tags": []
   },
   "outputs": [
    {
     "output_type": "execute_result",
     "data": {
      "text/plain": [
       "111"
      ]
     },
     "metadata": {},
     "execution_count": 732
    }
   ],
   "source": [
    "def generate_matches(rule_id, grammar, string):\n",
    "    if isinstance(grammar[rule_id], list):\n",
    "        # investigate the composition of sub rules\n",
    "        for rule_ids in grammar[rule_id]:\n",
    "            yield from check_rules(rule_ids, grammar, string)\n",
    "    else:\n",
    "        if string and string[0] == grammar[rule_id]:\n",
    "            # terminator matches, reduce string\n",
    "            yield string[1:]    \n",
    "    # Nothing matches, terminate.\n",
    "\n",
    "\n",
    "def check_rules(rule_ids, grammar, string):\n",
    "    if not rule_ids:\n",
    "        # no rules to check, we cannot go any further\n",
    "        yield string\n",
    "    else:\n",
    "        # check the left most rule, and continue\n",
    "        rule_id, *rule_ids = rule_ids\n",
    "        # for each sub rule, follow \n",
    "        for string in generate_matches(rule_id, grammar, string):\n",
    "            yield from check_rules(rule_ids, grammar, string)\n",
    "\n",
    "\n",
    "def is_member(grammar, string):\n",
    "    # membership is determined if the rules consume the entire string\n",
    "    return any(m == '' for m in generate_matches('0', grammar, string))\n",
    "\n",
    "\n",
    "def parse_input(lines):\n",
    "    rules = {}\n",
    "\n",
    "    for idx, line in enumerate(lines):\n",
    "        if not line:\n",
    "            break\n",
    "\n",
    "        rule_id, rule = line.split(': ')\n",
    "\n",
    "        if rule.startswith('\"'):\n",
    "            # terminator rule\n",
    "            rules[rule_id] = rule[1:-1]\n",
    "        else:\n",
    "            rules[rule_id] = [\n",
    "                comp.split(' ') for comp in rule.split(' | ')\n",
    "            ]\n",
    "    \n",
    "    data = lines[idx + 1:]\n",
    "    return rules, data\n",
    "    \n",
    "\n",
    "\n",
    "rules, data = parse_input(Input(19))\n",
    "sum([is_member(rules, d) for d in data])"
   ]
  },
  {
   "cell_type": "code",
   "execution_count": 722,
   "metadata": {},
   "outputs": [],
   "source": [
    "assert _ == 111, 'Day 19.1'"
   ]
  },
  {
   "cell_type": "code",
   "execution_count": 733,
   "metadata": {},
   "outputs": [
    {
     "output_type": "execute_result",
     "data": {
      "text/plain": [
       "343"
      ]
     },
     "metadata": {},
     "execution_count": 733
    }
   ],
   "source": [
    "# part 2\n",
    "rules = {**rules, '8': [['42'], ['42', '8']], '11': [['42', '31'], ['42', '11', '31']]}\n",
    "sum([is_member(rules, d) for d in data])"
   ]
  },
  {
   "cell_type": "code",
   "execution_count": null,
   "metadata": {},
   "outputs": [],
   "source": [
    "assert _ == 343, 'Day 19.2'"
   ]
  }
 ],
 "metadata": {
  "kernelspec": {
   "display_name": "Python 3",
   "language": "python",
   "name": "python3"
  },
  "language_info": {
   "codemirror_mode": {
    "name": "ipython",
    "version": 3
   },
   "file_extension": ".py",
   "mimetype": "text/x-python",
   "name": "python",
   "nbconvert_exporter": "python",
   "pygments_lexer": "ipython3",
   "version": "3.7.4-final"
  }
 },
 "nbformat": 4,
 "nbformat_minor": 2
}