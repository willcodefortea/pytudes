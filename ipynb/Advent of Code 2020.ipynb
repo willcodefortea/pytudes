{
 "cells": [
  {
   "cell_type": "markdown",
   "metadata": {},
   "source": [
    "# [Advent of Code 2020](https://adventofcode.com/2020)"
   ]
  },
  {
   "cell_type": "markdown",
   "metadata": {},
   "source": [
    "# The toolbox\n",
    "\n",
    "\n",
    "Generalised pieces of code that either can be used in multiple questions or that simply makes understand the implementation easier."
   ]
  },
  {
   "cell_type": "code",
   "execution_count": 13,
   "metadata": {},
   "outputs": [],
   "source": [
    "import operator\n",
    "import re\n",
    "from functools import partial, reduce\n",
    "from itertools import cycle, islice, starmap\n",
    "\n",
    "\n",
    "def Input(day, line_parser=str.strip):\n",
    "    \"Fetch the data input from disk.\"\n",
    "    filename = f'../data/advent2020/input{day}.txt'\n",
    "    with open(filename) as fin:\n",
    "        return mapt(line_parser, fin)\n",
    "\n",
    "    \n",
    "def mapt(fn, *args): \n",
    "    \"Do a map, and convert the results to a tuple\"\n",
    "    return tuple(map(fn, *args))\n",
    "\n",
    "\n",
    "def quantify(data, predictate=bool):\n",
    "    \"Count how many items in an iterable have predicated(item) True\"\n",
    "    return sum(map(predictate, data))\n",
    "\n",
    "\n",
    "def nth(iterable, n, default=None):\n",
    "    \"Returns the nth item or a default value\"\n",
    "    return next(islice(iterable, n, None), default)"
   ]
  },
  {
   "cell_type": "markdown",
   "metadata": {},
   "source": [
    "## [Day 1: Report Repair](https://adventofcode.com/2020/day/1)\n",
    "\n",
    "As usual, things start off easy enough, nested looping with a computationally simple upper bound. Finding numbers that add to 2020 and then returning their multiple."
   ]
  },
  {
   "cell_type": "code",
   "execution_count": 14,
   "metadata": {},
   "outputs": [],
   "source": [
    "def find_2020(nums: [int]) -> int:\n",
    "    for index, n1 in enumerate(nums):\n",
    "        for n2 in nums[index:]:\n",
    "            if n1 + n2 == 2020:\n",
    "                return n1 * n2\n",
    "    raise Exception('Unable to find solution')"
   ]
  },
  {
   "cell_type": "code",
   "execution_count": 15,
   "metadata": {},
   "outputs": [
    {
     "output_type": "execute_result",
     "data": {
      "text/plain": [
       "1006176"
      ]
     },
     "metadata": {},
     "execution_count": 15
    }
   ],
   "source": [
    "data1 = Input(1, int)\n",
    "find_2020(data1)"
   ]
  },
  {
   "cell_type": "code",
   "execution_count": 16,
   "metadata": {},
   "outputs": [],
   "source": [
    "assert _ == 1006176, 'Day 1.1'"
   ]
  },
  {
   "cell_type": "code",
   "execution_count": 17,
   "metadata": {},
   "outputs": [
    {
     "output_type": "execute_result",
     "data": {
      "text/plain": [
       "199132160"
      ]
     },
     "metadata": {},
     "execution_count": 17
    }
   ],
   "source": [
    "# part 2\n",
    "def find_2020_3(nums: [int]) -> int:\n",
    "    for index, n1 in enumerate(nums):\n",
    "        for jindex, n2 in enumerate(nums[index+1:]):\n",
    "            for n3 in nums[jindex+1:]:\n",
    "                if n1 + n2 + n3 == 2020:\n",
    "                    return n1 * n2 * n3\n",
    "    raise Exception('Unable to find solution')\n",
    "\n",
    "find_2020_3(data1)"
   ]
  },
  {
   "cell_type": "code",
   "execution_count": 18,
   "metadata": {},
   "outputs": [],
   "source": [
    "assert _ == 199132160, 'Day 1.2'"
   ]
  },
  {
   "cell_type": "markdown",
   "metadata": {},
   "source": [
    "# [Day 2: Password Philosophy](https://adventofcode.com/2020/day/2)"
   ]
  },
  {
   "cell_type": "code",
   "execution_count": 19,
   "metadata": {},
   "outputs": [],
   "source": [
    "def is_valid_password(password: str, rule: (str, int, int)) -> bool:\n",
    "    match, lower, upper = rule\n",
    "    occurance = quantify(password, lambda c: c == match)\n",
    "    return lower <= occurance <= upper"
   ]
  },
  {
   "cell_type": "code",
   "execution_count": 48,
   "metadata": {},
   "outputs": [
    {
     "output_type": "execute_result",
     "data": {
      "text/plain": [
       "600"
      ]
     },
     "metadata": {},
     "execution_count": 48
    }
   ],
   "source": [
    "def password_and_match(line):\n",
    "    chunks = re.sub('[-:]', ' ', line).strip().split(' ')\n",
    "    lower, upper, match, _, password = chunks\n",
    "    return password, (match, int(lower), int(upper))\n",
    "\n",
    "data2 = Input(2, password_and_match)\n",
    "quantify(starmap(is_valid_password, data2))"
   ]
  },
  {
   "cell_type": "code",
   "execution_count": 49,
   "metadata": {},
   "outputs": [],
   "source": [
    "assert _ == 600, 'Day 2.1'"
   ]
  },
  {
   "cell_type": "code",
   "execution_count": 53,
   "metadata": {},
   "outputs": [
    {
     "output_type": "execute_result",
     "data": {
      "text/plain": [
       "245"
      ]
     },
     "metadata": {},
     "execution_count": 53
    }
   ],
   "source": [
    "# part 2\n",
    "def is_valid_password2(password: str, rule: (str, int, int)) -> bool:\n",
    "    match, lower, upper = rule\n",
    "    is_match = lambda n: password[n - 1] == match\n",
    "    matches = int(is_match(lower)) + int(is_match(upper))\n",
    "    return matches == 1\n",
    "\n",
    "quantify(starmap(is_valid_password2, data2))"
   ]
  },
  {
   "cell_type": "code",
   "execution_count": 54,
   "metadata": {},
   "outputs": [],
   "source": [
    "assert _ == 245, 'Day 2.2'"
   ]
  },
  {
   "cell_type": "markdown",
   "metadata": {},
   "source": [
    "# [Day 3: Toboggan Trajectory](https://adventofcode.com/2020/day/3)\n",
    "\n",
    "Making use of `cycle` here means that account for the repeating behaviour of the grid. Equally we could have simply used some modular arithmitic but this is more fun (and execution time is trivial)."
   ]
  },
  {
   "cell_type": "code",
   "execution_count": 43,
   "metadata": {},
   "outputs": [
    {
     "output_type": "execute_result",
     "data": {
      "text/plain": [
       "151"
      ]
     },
     "metadata": {},
     "execution_count": 43
    }
   ],
   "source": [
    "def count_trees(grid: [str], x_step: int, y_step: int):\n",
    "    path = []\n",
    "    for index, row in enumerate(grid[::y_step]):\n",
    "        char_index = (x_step * index) % len(row)\n",
    "        path.append(row[char_index])\n",
    "    return quantify(path, lambda c: c == '#')\n",
    "    \n",
    "\n",
    "data3 = Input(3)\n",
    "count_trees(data3, 3, 1)"
   ]
  },
  {
   "cell_type": "code",
   "execution_count": 44,
   "metadata": {},
   "outputs": [],
   "source": [
    "assert _ == 151, 'Day 4.1'"
   ]
  },
  {
   "cell_type": "code",
   "execution_count": 45,
   "metadata": {},
   "outputs": [
    {
     "output_type": "execute_result",
     "data": {
      "text/plain": [
       "7540141059"
      ]
     },
     "metadata": {},
     "execution_count": 45
    }
   ],
   "source": [
    "# part 2\n",
    "count_trees_3 = partial(count_trees, data3)\n",
    "steps = ((1, 1), (3, 1), (5, 1), (7, 1), (1, 2))\n",
    "reduce(\n",
    "    operator.mul,\n",
    "    starmap(count_trees_3, steps)\n",
    ")"
   ]
  },
  {
   "cell_type": "code",
   "execution_count": 40,
   "metadata": {},
   "outputs": [],
   "source": [
    "assert _ == 7540141059, 'Day 3.2'"
   ]
  }
 ],
 "metadata": {
  "kernelspec": {
   "display_name": "Python 3",
   "language": "python",
   "name": "python3"
  },
  "language_info": {
   "codemirror_mode": {
    "name": "ipython",
    "version": 3
   },
   "file_extension": ".py",
   "mimetype": "text/x-python",
   "name": "python",
   "nbconvert_exporter": "python",
   "pygments_lexer": "ipython3",
   "version": "3.7.4-final"
  }
 },
 "nbformat": 4,
 "nbformat_minor": 2
}