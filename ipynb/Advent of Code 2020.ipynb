{
 "cells": [
  {
   "cell_type": "markdown",
   "metadata": {},
   "source": [
    "# [Advent of Code 2020](https://adventofcode.com/2020)"
   ]
  },
  {
   "cell_type": "markdown",
   "metadata": {},
   "source": [
    "# The toolbox\n",
    "\n",
    "\n",
    "Generalised pieces of code that either can be used in multiple questions or that simply makes understand the implementation easier."
   ]
  },
  {
   "cell_type": "code",
   "execution_count": 600,
   "metadata": {},
   "outputs": [],
   "source": [
    "import operator\n",
    "import re\n",
    "from collections import defaultdict\n",
    "from functools import partial, reduce\n",
    "from itertools import cycle, islice, starmap\n",
    "\n",
    "\n",
    "def Input(day, parser=str.strip, whole_file=False):\n",
    "    \"Fetch the data input from disk.\"\n",
    "    filename = f'../data/advent2020/input{day}.txt'\n",
    "    with open(filename) as fin:\n",
    "        return mapt(parser, fin)\n",
    "\n",
    "    \n",
    "def mapt(fn, *args): \n",
    "    \"Do a map, and convert the results to a tuple\"\n",
    "    return tuple(map(fn, *args))\n",
    "\n",
    "\n",
    "def quantify(data, predictate=bool):\n",
    "    \"Count how many items in an iterable have predicated(item) True\"\n",
    "    return sum(map(predictate, data))\n",
    "\n",
    "\n",
    "def nth(iterable, n, default=None):\n",
    "    \"Returns the nth item or a default value\"\n",
    "    return next(islice(iterable, n, None), default)\n",
    "\n",
    "cat = lambda s: ' '.join(s)"
   ]
  },
  {
   "cell_type": "markdown",
   "metadata": {},
   "source": [
    "## [Day 1: Report Repair](https://adventofcode.com/2020/day/1)\n",
    "\n",
    "As usual, things start off easy enough, nested looping with a computationally simple upper bound. Finding numbers that add to 2020 and then returning their multiple."
   ]
  },
  {
   "cell_type": "code",
   "execution_count": 441,
   "metadata": {},
   "outputs": [],
   "source": [
    "def find_2020(nums: [int]) -> int:\n",
    "    for index, n1 in enumerate(nums):\n",
    "        for n2 in nums[index:]:\n",
    "            if n1 + n2 == 2020:\n",
    "                return n1 * n2\n",
    "    raise Exception('Unable to find solution')"
   ]
  },
  {
   "cell_type": "code",
   "execution_count": 442,
   "metadata": {},
   "outputs": [
    {
     "output_type": "execute_result",
     "data": {
      "text/plain": [
       "1006176"
      ]
     },
     "metadata": {},
     "execution_count": 442
    }
   ],
   "source": [
    "data1 = Input(1, int)\n",
    "find_2020(data1)"
   ]
  },
  {
   "cell_type": "code",
   "execution_count": 443,
   "metadata": {},
   "outputs": [],
   "source": [
    "assert _ == 1006176, 'Day 1.1'"
   ]
  },
  {
   "cell_type": "code",
   "execution_count": 444,
   "metadata": {},
   "outputs": [
    {
     "output_type": "execute_result",
     "data": {
      "text/plain": [
       "199132160"
      ]
     },
     "metadata": {},
     "execution_count": 444
    }
   ],
   "source": [
    "# part 2\n",
    "def find_2020_3(nums: [int]) -> int:\n",
    "    for index, n1 in enumerate(nums):\n",
    "        for jindex, n2 in enumerate(nums[index+1:]):\n",
    "            for n3 in nums[jindex+1:]:\n",
    "                if n1 + n2 + n3 == 2020:\n",
    "                    return n1 * n2 * n3\n",
    "    raise Exception('Unable to find solution')\n",
    "\n",
    "find_2020_3(data1)"
   ]
  },
  {
   "cell_type": "code",
   "execution_count": 445,
   "metadata": {},
   "outputs": [],
   "source": [
    "assert _ == 199132160, 'Day 1.2'"
   ]
  },
  {
   "cell_type": "markdown",
   "metadata": {},
   "source": [
    "# [Day 2: Password Philosophy](https://adventofcode.com/2020/day/2)"
   ]
  },
  {
   "cell_type": "code",
   "execution_count": 446,
   "metadata": {},
   "outputs": [],
   "source": [
    "def is_valid_password(password: str, rule: (str, int, int)) -> bool:\n",
    "    match, lower, upper = rule\n",
    "    occurance = quantify(password, lambda c: c == match)\n",
    "    return lower <= occurance <= upper"
   ]
  },
  {
   "cell_type": "code",
   "execution_count": 447,
   "metadata": {},
   "outputs": [
    {
     "output_type": "execute_result",
     "data": {
      "text/plain": [
       "600"
      ]
     },
     "metadata": {},
     "execution_count": 447
    }
   ],
   "source": [
    "def password_and_match(line):\n",
    "    chunks = re.sub('[-:]', ' ', line).strip().split(' ')\n",
    "    lower, upper, match, _, password = chunks\n",
    "    return password, (match, int(lower), int(upper))\n",
    "\n",
    "data2 = Input(2, password_and_match)\n",
    "quantify(starmap(is_valid_password, data2))"
   ]
  },
  {
   "cell_type": "code",
   "execution_count": 448,
   "metadata": {},
   "outputs": [],
   "source": [
    "assert _ == 600, 'Day 2.1'"
   ]
  },
  {
   "cell_type": "code",
   "execution_count": 449,
   "metadata": {},
   "outputs": [
    {
     "output_type": "execute_result",
     "data": {
      "text/plain": [
       "245"
      ]
     },
     "metadata": {},
     "execution_count": 449
    }
   ],
   "source": [
    "# part 2\n",
    "def is_valid_password2(password: str, rule: (str, int, int)) -> bool:\n",
    "    match, lower, upper = rule\n",
    "    is_match = lambda n: password[n - 1] == match\n",
    "    matches = int(is_match(lower)) + int(is_match(upper))\n",
    "    return matches == 1\n",
    "\n",
    "quantify(starmap(is_valid_password2, data2))"
   ]
  },
  {
   "cell_type": "code",
   "execution_count": 450,
   "metadata": {},
   "outputs": [],
   "source": [
    "assert _ == 245, 'Day 2.2'"
   ]
  },
  {
   "cell_type": "markdown",
   "metadata": {},
   "source": [
    "# [Day 3: Toboggan Trajectory](https://adventofcode.com/2020/day/3)\n",
    "\n",
    "Here we can simply make use of some modulo arithmitic to loop back through the row when we attempt to index it out of bounds."
   ]
  },
  {
   "cell_type": "code",
   "execution_count": 451,
   "metadata": {},
   "outputs": [
    {
     "output_type": "execute_result",
     "data": {
      "text/plain": [
       "151"
      ]
     },
     "metadata": {},
     "execution_count": 451
    }
   ],
   "source": [
    "def count_trees(grid: [str], x_step: int, y_step: int):\n",
    "    path = []\n",
    "    for index, row in enumerate(grid[::y_step]):\n",
    "        char_index = (x_step * index) % len(row)\n",
    "        path.append(row[char_index])\n",
    "    return quantify(path, lambda c: c == '#')\n",
    "    \n",
    "\n",
    "data3 = Input(3)\n",
    "count_trees(data3, 3, 1)"
   ]
  },
  {
   "cell_type": "code",
   "execution_count": 452,
   "metadata": {},
   "outputs": [],
   "source": [
    "assert _ == 151, 'Day 4.1'"
   ]
  },
  {
   "cell_type": "code",
   "execution_count": 453,
   "metadata": {},
   "outputs": [
    {
     "output_type": "execute_result",
     "data": {
      "text/plain": [
       "7540141059"
      ]
     },
     "metadata": {},
     "execution_count": 453
    }
   ],
   "source": [
    "# part 2\n",
    "count_trees_3 = partial(count_trees, data3)\n",
    "steps = ((1, 1), (3, 1), (5, 1), (7, 1), (1, 2))\n",
    "reduce(\n",
    "    operator.mul,\n",
    "    starmap(count_trees_3, steps)\n",
    ")"
   ]
  },
  {
   "cell_type": "code",
   "execution_count": 454,
   "metadata": {},
   "outputs": [],
   "source": [
    "assert _ == 7540141059, 'Day 3.2'"
   ]
  },
  {
   "source": [
    "# [Day 4: Passport Processing](https://adventofcode.com/2020/day/4)\n",
    "\n",
    "This one was a bit fiddly in terms of the regexes, I had an error thanks to not ensuring the match ended at the end of a line (i.e. missing a `$`.)"
   ],
   "cell_type": "markdown",
   "metadata": {}
  },
  {
   "source": [
    "validators = {\n",
    "    'byr': lambda x: 1920 <= int(re.match('\\d{4}$', x)[0]) <= 2002,\n",
    "    'iyr': lambda x: 2010 <= int(re.match('\\d{4}$', x)[0]) <= 2020,\n",
    "    'eyr': lambda x: 2020 <= int(re.match('\\d{4}$', x)[0]) <= 2030,\n",
    "    'hgt': lambda x: (\n",
    "        150 <= int(re.match('(\\d+)(?:cm|in)$', x)[1]) <= 193\n",
    "        if re.match('\\d+(cm|in)$', x)[1] == 'cm' else\n",
    "        59 <= int(re.match('(\\d+)(?:cm|in)$', x)[1]) <= 76\n",
    "    ),\n",
    "    'hcl': lambda x: bool(re.match('#[0-9a-f]{6}$', x)),\n",
    "    'ecl': lambda x: bool(re.match('amb|blu|brn|gry|grn|hzl|oth$', x)),\n",
    "    'pid': lambda x: bool(re.match('\\d{9}$', x)),\n",
    "    'cid': lambda x: True\n",
    "}\n",
    "\n",
    "def is_valid_passport(passport, validate_fields=False):\n",
    "    required = set(['byr', 'iyr', 'eyr', 'hgt', 'hcl', 'ecl', 'pid'])\n",
    "    if len(required - set([key for key, _ in passport])) > 0:\n",
    "        return False\n",
    "\n",
    "    if validate_fields:\n",
    "        try:\n",
    "            return all(\n",
    "                validators[key](value)\n",
    "                for key, value\n",
    "                in passport\n",
    "            )\n",
    "        except TypeError:\n",
    "            # regexes may not match, and will error if we attempt to index them\n",
    "            return False\n",
    "    return True\n",
    "\n",
    "\n",
    "def parse_data(data):\n",
    "    passports = [[]]\n",
    "    for line in data:\n",
    "        if not line.strip():\n",
    "            # Move onto the next passport\n",
    "            passports.append([])\n",
    "            continue\n",
    "        passports[-1].extend(\n",
    "            re.findall(r'(\\w+):([\\w#\\d]+)\\b', line)\n",
    "        )\n",
    "        \n",
    "    if not passports[-1]:\n",
    "        passports.pop()\n",
    "    \n",
    "    return passports"
   ],
   "cell_type": "code",
   "metadata": {},
   "execution_count": 455,
   "outputs": []
  },
  {
   "cell_type": "code",
   "execution_count": 456,
   "metadata": {},
   "outputs": [
    {
     "output_type": "execute_result",
     "data": {
      "text/plain": [
       "235"
      ]
     },
     "metadata": {},
     "execution_count": 456
    }
   ],
   "source": [
    "input4 = parse_data(Input(4))\n",
    "quantify(map(is_valid_passport, input4))"
   ]
  },
  {
   "cell_type": "code",
   "execution_count": 457,
   "metadata": {},
   "outputs": [],
   "source": [
    "assert _ == 235, 'Day 4.1'"
   ]
  },
  {
   "cell_type": "code",
   "execution_count": 458,
   "metadata": {},
   "outputs": [
    {
     "output_type": "execute_result",
     "data": {
      "text/plain": [
       "194"
      ]
     },
     "metadata": {},
     "execution_count": 458
    }
   ],
   "source": [
    "# part 2\n",
    "is_valid_passport_strict = lambda passport: is_valid_passport(passport, True)\n",
    "quantify(map(is_valid_passport_strict, input4))"
   ]
  },
  {
   "cell_type": "code",
   "execution_count": 459,
   "metadata": {},
   "outputs": [],
   "source": [
    "assert _ == 194, 'Day 4.2'"
   ]
  },
  {
   "source": [
    "# [Day 5: Binary Boarding](https://adventofcode.com/2020/day/5)\n",
    "\n",
    "Today's one invovled writing a reverse binary search, rather than looking for a value in a sorted list, we're instead given the steps to perform to find our seat.\n",
    "\n",
    "For the second part we just loop through the list of sorted seat IDs until we find a gap, the gap being our seat.\n"
   ],
   "cell_type": "markdown",
   "metadata": {}
  },
  {
   "cell_type": "code",
   "execution_count": 460,
   "metadata": {},
   "outputs": [],
   "source": [
    "def reverse_binary(steps: str, lower: int, upper: int) -> int:\n",
    "    step = steps[0]\n",
    "    pivot = lower + (upper - lower) // 2\n",
    "    if step in ('F', 'L'):\n",
    "        if len(steps) == 1:\n",
    "            return lower\n",
    "        return reverse_binary(steps[1:], lower, pivot)\n",
    "    else:\n",
    "        if len(steps) == 1:\n",
    "            return upper\n",
    "        return reverse_binary(steps[1:], pivot + 1, upper)\n",
    "\n",
    "def docode_boarding_pass(boarding_pass: str) -> (int, int, int):\n",
    "    row = reverse_binary(boarding_pass[:7], 0, 127)\n",
    "    col = reverse_binary(boarding_pass[7:], 0, 7)\n",
    "    seat_id = row * 8 + col\n",
    "    return (row, col, seat_id)"
   ]
  },
  {
   "cell_type": "code",
   "execution_count": 461,
   "metadata": {},
   "outputs": [
    {
     "output_type": "execute_result",
     "data": {
      "text/plain": [
       "926"
      ]
     },
     "metadata": {},
     "execution_count": 461
    }
   ],
   "source": [
    "input5 = Input(5)\n",
    "\n",
    "decoded_passes = mapt(docode_boarding_pass, input5)\n",
    "seat_ids = tuple(seat_id for _, _, seat_id in decoded_passes)\n",
    "max(seat_ids)"
   ]
  },
  {
   "cell_type": "code",
   "execution_count": 462,
   "metadata": {},
   "outputs": [],
   "source": [
    "assert _ == 926, 'Day 5.1'"
   ]
  },
  {
   "cell_type": "code",
   "execution_count": 463,
   "metadata": {},
   "outputs": [
    {
     "output_type": "execute_result",
     "data": {
      "text/plain": [
       "657"
      ]
     },
     "metadata": {},
     "execution_count": 463
    }
   ],
   "source": [
    "# part 2\n",
    "def find_missing_seat_id(seat_ids):\n",
    "    sorted_ids = sorted(seat_ids)\n",
    "    prev = sorted_ids[0]\n",
    "\n",
    "    for seat_id in sorted_ids[1:]:\n",
    "        if seat_id - 2 == prev:\n",
    "            return seat_id - 1\n",
    "        \n",
    "        prev = seat_id\n",
    "\n",
    "find_missing_seat_id(seat_ids)"
   ]
  },
  {
   "cell_type": "code",
   "execution_count": 464,
   "metadata": {},
   "outputs": [],
   "source": [
    "assert _ == 657, 'Day 5.2'"
   ]
  },
  {
   "source": [
    "# [Day 6: Custom Customs](https://adventofcode.com/2020/day/6)\n",
    "\n",
    "Today's question was pretty straightforward, just involving some set-wise combinations. The answers I've given are quite terse (and in fact, slower than they're for-loop counterparts), but I enjoy them!"
   ],
   "cell_type": "markdown",
   "metadata": {}
  },
  {
   "cell_type": "code",
   "execution_count": 465,
   "metadata": {
    "tags": []
   },
   "outputs": [],
   "source": [
    "def group_answers(lines):\n",
    "    groups = [[]]\n",
    "    for line in lines:\n",
    "        line = line.strip()\n",
    "        if not line:\n",
    "            groups.append([])\n",
    "            continue\n",
    "        groups[-1].append(line)\n",
    "    \n",
    "    if not groups[-1]:\n",
    "        groups.pop()\n",
    "    \n",
    "    return groups\n",
    "\n",
    "input6 = group_answers(Input(6))"
   ]
  },
  {
   "cell_type": "code",
   "execution_count": 500,
   "metadata": {},
   "outputs": [
    {
     "output_type": "execute_result",
     "data": {
      "text/plain": [
       "6662"
      ]
     },
     "metadata": {},
     "execution_count": 500
    }
   ],
   "source": [
    "sum(\n",
    "    map(\n",
    "        lambda d: len(reduce(operator.or_, map(set, d))),\n",
    "        input6\n",
    "    )\n",
    ")"
   ]
  },
  {
   "cell_type": "code",
   "execution_count": 467,
   "metadata": {},
   "outputs": [],
   "source": [
    "assert _ == 6662, 'Day 6.1'"
   ]
  },
  {
   "cell_type": "code",
   "execution_count": 498,
   "metadata": {},
   "outputs": [
    {
     "output_type": "stream",
     "name": "stdout",
     "text": [
      "CPU times: user 2.06 ms, sys: 0 ns, total: 2.06 ms\nWall time: 2.07 ms\n"
     ]
    },
    {
     "output_type": "execute_result",
     "data": {
      "text/plain": [
       "3382"
      ]
     },
     "metadata": {},
     "execution_count": 498
    }
   ],
   "source": [
    "# part 2\n",
    "sum(\n",
    "    map(\n",
    "        lambda d: len(reduce(operator.and_, map(set, d))),\n",
    "        input6\n",
    "    )\n",
    ")"
   ]
  },
  {
   "cell_type": "code",
   "execution_count": 469,
   "metadata": {},
   "outputs": [],
   "source": [
    "assert _ == 3382, 'Day 6.2'"
   ]
  },
  {
   "source": [
    "# [Day 7: Handy Haversacks](https://adventofcode.com/2020/day/7)\n",
    "\n",
    "This is the first tree-like problem of the year! I've implemented an [adjacency list](https://en.wikipedia.org/wiki/Adjacency_list) to keep track of the relations, but this means having to invert the list for the first part."
   ],
   "cell_type": "markdown",
   "metadata": {}
  },
  {
   "cell_type": "code",
   "execution_count": 601,
   "metadata": {},
   "outputs": [],
   "source": [
    "class Node:\n",
    "    def __init__(self, data):\n",
    "        self.data = data\n",
    "        self._children = []\n",
    "        self.parent = None\n",
    "\n",
    "    def add_child(self, child):\n",
    "        self._children.append(child)\n",
    "    \n",
    "    def add_parent(self, parent):\n",
    "        if self.parent:\n",
    "            self.parent.remove_child(self)\n",
    "        \n",
    "        self.parent = parse_data\n",
    "\n",
    "        if self.parent:\n",
    "            self.parent.add_child(self)\n",
    "\n",
    "    @property\n",
    "    def root(self):\n",
    "        if not self.parent:\n",
    "            return self\n",
    "        return self.parent.root\n",
    "    \n",
    "\n",
    "def parse_rules(rules):\n",
    "    nodes = {}\n",
    "    color_search = re.compile('(\\d+) (\\w+\\s\\w+) bags?,?\\.?')\n",
    "    for rule in rules:\n",
    "        bag_colour = cat(rule.split(' ')[:2])\n",
    "        parent_node = nodes.get(bag_colour, None)\n",
    "        if not parent_node:\n",
    "            parent_node = Node((0, bag_colour))\n",
    "        for num, colour in color_search.findall(rule):\n",
    "            data = (int(num), colour)\n",
    "            node = Node(data)\n",
    "            contents[bag_colour].append((int(num), colour))\n",
    "    return contents\n",
    "\n",
    "\n",
    "def count_allowed_bags(colour, rules):\n",
    "    inverted_rules = defaultdict(list)\n",
    "\n",
    "    for container_colour, allowed_bags in rules.items():\n",
    "        for _, bag_colour in allowed_bags:\n",
    "            inverted_rules[bag_colour].append(container_colour)\n",
    "\n",
    "    allowed = set()\n",
    "    to_follow = inverted_rules[colour][:]\n",
    "\n",
    "    while to_follow:\n",
    "        allowed |= set(to_follow)\n",
    "        old = to_follow[:]\n",
    "        to_follow = []\n",
    "        for c in old:\n",
    "            to_follow.extend(inverted_rules[c])\n",
    "\n",
    "    return len(allowed)"
   ]
  },
  {
   "cell_type": "code",
   "execution_count": 602,
   "metadata": {
    "tags": []
   },
   "outputs": [
    {
     "output_type": "execute_result",
     "data": {
      "text/plain": [
       "370"
      ]
     },
     "metadata": {},
     "execution_count": 602
    }
   ],
   "source": [
    "input7 = parse_rules(Input(7))\n",
    "count_allowed_bags('shiny gold', input7)"
   ]
  },
  {
   "cell_type": "code",
   "execution_count": 584,
   "metadata": {},
   "outputs": [],
   "source": [
    "assert _ == 370, 'Day 7.1'"
   ]
  },
  {
   "cell_type": "code",
   "execution_count": 595,
   "metadata": {
    "tags": []
   },
   "outputs": [],
   "source": [
    "# part 2\n",
    "def count_required_bags(initial_colour, rules):\n",
    "    to_follow = [(1, initial_colour)]\n",
    "    required = 0\n",
    "\n",
    "    while to_follow:\n",
    "        num, colour = to_follow.pop(0)\n",
    "        \n",
    "        for next_rule in rules[colour]:\n",
    "            # rather than duplicate the rule num times, just duplicate\n",
    "            # the number of bags\n",
    "            next_num, next_bag_colour = next_rule\n",
    "            to_follow.append((next_num * num, next_bag_colour))\n",
    "        required += num\n",
    "\n",
    "    # the amount will be off by 1 as we count the initial bag\n",
    "    return required - 1"
   ]
  },
  {
   "cell_type": "code",
   "execution_count": 604,
   "metadata": {
    "tags": []
   },
   "outputs": [
    {
     "output_type": "execute_result",
     "data": {
      "text/plain": [
       "29547"
      ]
     },
     "metadata": {},
     "execution_count": 604
    }
   ],
   "source": [
    "count_required_bags('shiny gold', input7)"
   ]
  },
  {
   "cell_type": "code",
   "execution_count": 605,
   "metadata": {},
   "outputs": [],
   "source": [
    "assert _ == 29547, 'Day 7.2'"
   ]
  }
 ],
 "metadata": {
  "kernelspec": {
   "display_name": "Python 3",
   "language": "python",
   "name": "python3"
  },
  "language_info": {
   "codemirror_mode": {
    "name": "ipython",
    "version": 3
   },
   "file_extension": ".py",
   "mimetype": "text/x-python",
   "name": "python",
   "nbconvert_exporter": "python",
   "pygments_lexer": "ipython3",
   "version": "3.7.4-final"
  }
 },
 "nbformat": 4,
 "nbformat_minor": 2
}