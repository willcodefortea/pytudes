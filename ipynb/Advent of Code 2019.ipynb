{
 "cells": [
  {
   "cell_type": "markdown",
   "metadata": {},
   "source": [
    "# [Advent of Code 2019](https://adventofcode.com/2019)"
   ]
  },
  {
   "cell_type": "markdown",
   "metadata": {},
   "source": [
    "# The toolbox\n",
    "\n",
    "Generalised pieces of code that either can be used in multiple questions or that simply makes understand the implementation easier."
   ]
  },
  {
   "cell_type": "code",
   "execution_count": 1,
   "metadata": {},
   "outputs": [],
   "source": [
    "import math\n",
    "\n",
    "\n",
    "def Input(day):\n",
    "    \"\"\"Fetch the data input from disk.\"\"\"\n",
    "    filename = f'../data/advent2019/input{day}.txt'\n",
    "    return open(filename)\n",
    "\n",
    "\n",
    "def run_intcode(memory):\n",
    "    \"\"\"Run intcode operations.\n",
    "    \n",
    "    Will return the final state of the memory once all the operations have\n",
    "    been run.\n",
    "    \"\"\"\n",
    "    # Clone the memory list so we can safely mutate\n",
    "    memory = memory[:]\n",
    "\n",
    "    instruction_pointer = 0\n",
    "    \n",
    "    # Available operations, each returning the updated instruction pointer\n",
    "    def add():\n",
    "        instruction_length = 4\n",
    "        _, *params = memory[instruction_pointer:instruction_pointer + instruction_length]\n",
    "        a, b, c = params\n",
    "        memory[c] = memory[a] + memory[b]        \n",
    "        return instruction_pointer + instruction_length\n",
    "    \n",
    "    def multiply():\n",
    "        instruction_length = 4\n",
    "        _, *params = memory[instruction_pointer:instruction_pointer + instruction_length]\n",
    "        a, b, c = params\n",
    "        memory[c] = memory[a] * memory[b]        \n",
    "        return instruction_pointer + instruction_length\n",
    "    \n",
    "    def stop():\n",
    "        raise StopIteration()\n",
    "    \n",
    "    # Assign each operation to its given instruction number\n",
    "    operations = {\n",
    "        1: add,\n",
    "        2: multiply,\n",
    "        99: stop,\n",
    "    }\n",
    "    \n",
    "    try:\n",
    "        while True:\n",
    "            instruction = memory[instruction_pointer]\n",
    "            operation = operations[instruction]\n",
    "            instruction_pointer = operation()\n",
    "    except StopIteration:\n",
    "        pass\n",
    "\n",
    "    return memory"
   ]
  },
  {
   "cell_type": "markdown",
   "metadata": {},
   "source": [
    "# [Day 1](https://adventofcode.com/2019/day/1)"
   ]
  },
  {
   "cell_type": "markdown",
   "metadata": {},
   "source": [
    "Things start off pretty simply, just summing a list after applying some rounding."
   ]
  },
  {
   "cell_type": "code",
   "execution_count": 2,
   "metadata": {},
   "outputs": [],
   "source": [
    "def get_modules():\n",
    "    \"\"\"Utility for loading the modules as integers.\"\"\"\n",
    "    with Input(1) as f:\n",
    "        modules = f.readlines()\n",
    "    return [int(module) for module in modules]\n",
    "        \n",
    "\n",
    "def fuel_required(mass):\n",
    "    fuel = math.floor(mass / 3) - 2\n",
    "    return max(0, fuel)\n",
    "\n",
    "\n",
    "assert fuel_required(12) == 2\n",
    "assert fuel_required(100756) == 33583\n",
    "assert fuel_required(1) == 0"
   ]
  },
  {
   "cell_type": "code",
   "execution_count": 3,
   "metadata": {},
   "outputs": [
    {
     "data": {
      "text/plain": [
       "3401852"
      ]
     },
     "execution_count": 3,
     "metadata": {},
     "output_type": "execute_result"
    }
   ],
   "source": [
    "modules = get_modules()\n",
    "sum(fuel_required(module) for module in modules)"
   ]
  },
  {
   "cell_type": "markdown",
   "metadata": {},
   "source": [
    "Now we have to account for the additional mass we're adding to the ship as fuel. "
   ]
  },
  {
   "cell_type": "code",
   "execution_count": 4,
   "metadata": {},
   "outputs": [],
   "source": [
    "def fuel_required_including_fuel(mass):\n",
    "    total = fuel_required(mass)\n",
    "    additional_mass = total\n",
    "    \n",
    "    while additional_mass:\n",
    "        additional_mass = fuel_required(additional_mass)\n",
    "        total += additional_mass\n",
    "    \n",
    "    return total\n",
    "    \n",
    "\n",
    "assert fuel_required_including_fuel(1969) == 966"
   ]
  },
  {
   "cell_type": "code",
   "execution_count": 5,
   "metadata": {},
   "outputs": [
    {
     "data": {
      "text/plain": [
       "5099916"
      ]
     },
     "execution_count": 5,
     "metadata": {},
     "output_type": "execute_result"
    }
   ],
   "source": [
    "sum(fuel_required_including_fuel(module) for module in modules)"
   ]
  },
  {
   "cell_type": "markdown",
   "metadata": {},
   "source": [
    "# [Day 2](https://adventofcode.com/2019/day/2)\n",
    "\n",
    "First time we need to use some code that the question sepecifically tells us we'll need later (hence it going in the toolbox above)."
   ]
  },
  {
   "cell_type": "code",
   "execution_count": 6,
   "metadata": {},
   "outputs": [],
   "source": [
    "assert run_intcode([2,4,4,5,99,0]) == [2,4,4,5,99,9801]\n",
    "assert run_intcode([1,1,1,4,99,5,6,0,99]) == [30,1,1,4,2,5,6,0,99]"
   ]
  },
  {
   "cell_type": "code",
   "execution_count": 7,
   "metadata": {},
   "outputs": [
    {
     "data": {
      "text/plain": [
       "5305097"
      ]
     },
     "execution_count": 7,
     "metadata": {},
     "output_type": "execute_result"
    }
   ],
   "source": [
    "def parse_input():\n",
    "    with Input(2) as f:\n",
    "        data = f.read()\n",
    "    return [int(d) for d in data.split(',')]\n",
    "\n",
    "\n",
    "op_codes = parse_input()\n",
    "\n",
    "# replace the codes the question tells you to\n",
    "op_codes[1] = 12\n",
    "op_codes[2] = 2\n",
    "\n",
    "run_intcode(op_codes)[0]"
   ]
  },
  {
   "cell_type": "code",
   "execution_count": 8,
   "metadata": {},
   "outputs": [
    {
     "data": {
      "text/plain": [
       "4925"
      ]
     },
     "execution_count": 8,
     "metadata": {},
     "output_type": "execute_result"
    }
   ],
   "source": [
    "def cycle_nouns_and_verbs(op_codes):\n",
    "    term_value = 19690720\n",
    "    for noun in range(100):\n",
    "        for verb in range(100):\n",
    "            op_codes[1] = noun\n",
    "            op_codes[2] = verb\n",
    "\n",
    "            output = run_intcode(op_codes)[0]\n",
    "\n",
    "            if output == term_value:\n",
    "                return 100 * noun + verb\n",
    "    else:\n",
    "        raise Exception('No solution found.')\n",
    "\n",
    "\n",
    "cycle_nouns_and_verbs(op_codes)"
   ]
  },
  {
   "cell_type": "code",
   "execution_count": null,
   "metadata": {},
   "outputs": [],
   "source": []
  }
 ],
 "metadata": {
  "kernelspec": {
   "display_name": "Python 3",
   "language": "python",
   "name": "python3"
  },
  "language_info": {
   "codemirror_mode": {
    "name": "ipython",
    "version": 3
   },
   "file_extension": ".py",
   "mimetype": "text/x-python",
   "name": "python",
   "nbconvert_exporter": "python",
   "pygments_lexer": "ipython3",
   "version": "3.7.4"
  }
 },
 "nbformat": 4,
 "nbformat_minor": 2
}
