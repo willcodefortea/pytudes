{
 "cells": [
  {
   "cell_type": "code",
   "execution_count": 9,
   "metadata": {},
   "outputs": [],
   "source": [
    "import math\n",
    "\n",
    "def Input(day):\n",
    "    \"\"\"Fetch the data input from disk.\"\"\"\n",
    "    filename = f'../data/advent2019/input{day}.txt'\n",
    "    return open(filename)"
   ]
  },
  {
   "cell_type": "markdown",
   "metadata": {},
   "source": [
    "# [Day 1](https://adventofcode.com/2019/day/1)"
   ]
  },
  {
   "cell_type": "markdown",
   "metadata": {},
   "source": [
    "Things start off pretty simply, just summing a list after applying some rounding."
   ]
  },
  {
   "cell_type": "code",
   "execution_count": 27,
   "metadata": {},
   "outputs": [],
   "source": [
    "def get_modules():\n",
    "    \"\"\"Utility for loading the modules as integers\"\"\"\n",
    "    with Input(1) as f:\n",
    "        modules = f.readlines()\n",
    "    return [int(module) for module in modules]\n",
    "        \n",
    "\n",
    "def fuel_required(mass):\n",
    "    fuel = math.floor(mass / 3) - 2\n",
    "    return max(0, fuel)\n",
    "\n",
    "\n",
    "assert fuel_required(12) == 2\n",
    "assert fuel_required(100756) == 33583\n",
    "assert fuel_required(1) == 0"
   ]
  },
  {
   "cell_type": "code",
   "execution_count": 28,
   "metadata": {},
   "outputs": [
    {
     "data": {
      "text/plain": [
       "3401852"
      ]
     },
     "execution_count": 28,
     "metadata": {},
     "output_type": "execute_result"
    }
   ],
   "source": [
    "modules = get_modules()\n",
    "sum(fuel_required(module) for module in modules)"
   ]
  },
  {
   "cell_type": "markdown",
   "metadata": {},
   "source": [
    "Now we have to account for the additional mass we're adding to the ship as fuel. "
   ]
  },
  {
   "cell_type": "code",
   "execution_count": 29,
   "metadata": {},
   "outputs": [],
   "source": [
    "def fuel_required_including_fuel(mass):\n",
    "    total = fuel_required(mass)\n",
    "    additional_mass = total\n",
    "    \n",
    "    while additional_mass:\n",
    "        additional_mass = fuel_required(additional_mass)\n",
    "        total += additional_mass\n",
    "    \n",
    "    return total\n",
    "    \n",
    "\n",
    "assert fuel_required_including_fuel(1969) == 966"
   ]
  },
  {
   "cell_type": "code",
   "execution_count": 30,
   "metadata": {},
   "outputs": [
    {
     "data": {
      "text/plain": [
       "5099916"
      ]
     },
     "execution_count": 30,
     "metadata": {},
     "output_type": "execute_result"
    }
   ],
   "source": [
    "sum(fuel_required_including_fuel(module) for module in modules)"
   ]
  }
 ],
 "metadata": {
  "kernelspec": {
   "display_name": "Python 3",
   "language": "python",
   "name": "python3"
  },
  "language_info": {
   "codemirror_mode": {
    "name": "ipython",
    "version": 3
   },
   "file_extension": ".py",
   "mimetype": "text/x-python",
   "name": "python",
   "nbconvert_exporter": "python",
   "pygments_lexer": "ipython3",
   "version": "3.7.4"
  }
 },
 "nbformat": 4,
 "nbformat_minor": 2
}
