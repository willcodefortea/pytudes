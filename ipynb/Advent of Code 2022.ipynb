{
 "cells": [
  {
   "cell_type": "markdown",
   "id": "03e25c7b-e8fd-4db3-aadf-5330412f6056",
   "metadata": {},
   "source": [
    "# [Advent of Code 2022](https://adventofcode.com/2022)"
   ]
  },
  {
   "cell_type": "markdown",
   "id": "95016d62-abdf-4a62-9d2a-6a112387df02",
   "metadata": {},
   "source": [
    "## The toolbox\n",
    "\n",
    "Generalised pieces of code that either can be used in multiple questions or that simply makes understand the implementation eas"
   ]
  },
  {
   "cell_type": "code",
   "execution_count": 105,
   "id": "a50b0928-2214-4276-87ae-09155de4c144",
   "metadata": {},
   "outputs": [],
   "source": [
    "import re\n",
    "\n",
    "def Input(day, parser=str.strip, whole_file=False):\n",
    "    \"Fetch the data input from disk.\"\n",
    "    filename = f\"../data/advent2022/input{day}.txt\"\n",
    "    with open(filename) as fin:\n",
    "        if whole_file:\n",
    "            return parser(fin)\n",
    "        return mapt(parser, fin)\n",
    "\n",
    "\n",
    "def mapt(fn, *args):\n",
    "    \"Do a map, and convert the results to a tuple\"\n",
    "    return tuple(map(fn, *args))"
   ]
  },
  {
   "cell_type": "markdown",
   "id": "7cb7ae6a-70a4-49cc-bf49-6cbdcbb148d5",
   "metadata": {},
   "source": [
    "## [Day 1](https://adventofcode.com/2022/day/1)\n",
    "\n",
    "Nothing too difficult for day 1, other than remembering how jupyter notebooks / python works...\n",
    "\n",
    "### Part 1"
   ]
  },
  {
   "cell_type": "code",
   "execution_count": 106,
   "id": "c8eda8fa-37d2-4f95-8d5c-9864d5f34035",
   "metadata": {},
   "outputs": [
    {
     "data": {
      "text/plain": [
       "70296"
      ]
     },
     "execution_count": 106,
     "metadata": {},
     "output_type": "execute_result"
    }
   ],
   "source": [
    "data = Input(1, lambda s: int(s) if s.strip() else None)\n",
    "\n",
    "def total_calories(data):\n",
    "    elves = [0]\n",
    "    for food in data:\n",
    "        if food is None:\n",
    "            elves.append(0)\n",
    "            continue\n",
    "        elves[-1] += food\n",
    "    return elves\n",
    "\n",
    "elves = total_calories(data)\n",
    "\n",
    "max(elves)"
   ]
  },
  {
   "cell_type": "code",
   "execution_count": 107,
   "id": "030b94a8",
   "metadata": {},
   "outputs": [],
   "source": [
    "assert _ == 70296, \"Day 1.1\""
   ]
  },
  {
   "cell_type": "markdown",
   "id": "8508cf0b-16c2-419a-a8f9-d62d833dcc85",
   "metadata": {},
   "source": [
    "### Part 2"
   ]
  },
  {
   "cell_type": "code",
   "execution_count": 108,
   "id": "941ff200-913f-4963-8e94-971863e98de2",
   "metadata": {},
   "outputs": [
    {
     "data": {
      "text/plain": [
       "205381"
      ]
     },
     "execution_count": 108,
     "metadata": {},
     "output_type": "execute_result"
    }
   ],
   "source": [
    "elves.sort()\n",
    "sum(elves[-3:])"
   ]
  },
  {
   "cell_type": "code",
   "execution_count": 109,
   "id": "937f3187",
   "metadata": {},
   "outputs": [],
   "source": [
    "assert _ == 205381, \"Day 1.2\""
   ]
  },
  {
   "cell_type": "markdown",
   "id": "f49d327f",
   "metadata": {},
   "source": [
    "## [Day 2](https://adventofcode.com/2022/day/2)\n",
    "\n",
    "Again we're being eased in quite gently, unless you get dicts the wrong way around of course..\n",
    "\n",
    "### Part 1"
   ]
  },
  {
   "cell_type": "code",
   "execution_count": 113,
   "id": "118ad024",
   "metadata": {},
   "outputs": [
    {
     "data": {
      "text/plain": [
       "11449"
      ]
     },
     "execution_count": 113,
     "metadata": {},
     "output_type": "execute_result"
    }
   ],
   "source": [
    "data = Input(2, lambda s: s.strip().split(\" \"))\n",
    "\n",
    "ROCK = \"R\"\n",
    "PAPER = \"P\"\n",
    "SCISSORS = \"S\"\n",
    "\n",
    "SCORES = {ROCK: 1, PAPER: 2, SCISSORS: 3}\n",
    "WINNING = {SCISSORS: ROCK, ROCK: PAPER, PAPER: SCISSORS}\n",
    "LOSING = dict((v, k) for k, v in WINNING.items())\n",
    "\n",
    "\n",
    "def map_hands(player_1, player_2):\n",
    "    map_1 = {\"A\": ROCK, \"B\": PAPER, \"C\": SCISSORS}\n",
    "    map_2 = {\"X\": ROCK, \"Y\": PAPER, \"Z\": SCISSORS}\n",
    "    return map_1[player_1], map_2[player_2]\n",
    "\n",
    "\n",
    "def score_game(p1, p2):\n",
    "    score = 3 if p1 == p2 else 0\n",
    "    if p2 == WINNING[p1]:\n",
    "        score = 6\n",
    "    return score + SCORES[p2]\n",
    "\n",
    "\n",
    "def score_all_games(data, hand_mapper):\n",
    "    hands = (map_hands(*d) for d in data)\n",
    "    return sum(score_game(*h) for h in hands)\n",
    "\n",
    "\n",
    "score_all_games(data, map_hands)"
   ]
  },
  {
   "cell_type": "code",
   "execution_count": 114,
   "id": "bc9fb1b3",
   "metadata": {},
   "outputs": [],
   "source": [
    "assert _ == 11449, \"Day 2.1\""
   ]
  },
  {
   "cell_type": "markdown",
   "id": "1cd5894b",
   "metadata": {},
   "source": [
    "### Part 2"
   ]
  },
  {
   "cell_type": "code",
   "execution_count": 115,
   "id": "cdb37d31",
   "metadata": {},
   "outputs": [
    {
     "data": {
      "text/plain": [
       "13187"
      ]
     },
     "execution_count": 115,
     "metadata": {},
     "output_type": "execute_result"
    }
   ],
   "source": [
    "def map_hands(player_1, player_2):\n",
    "    map_1 = {\"A\": \"R\", \"B\": \"P\", \"C\": \"S\"}\n",
    "    p1 = map_1[player_1]\n",
    "\n",
    "    if player_2 == \"X\":\n",
    "        p2 = LOSING[p1]\n",
    "    elif player_2 == \"Y\":\n",
    "        p2 = p1\n",
    "    elif player_2 == \"Z\":\n",
    "        p2 = WINNING[p1]\n",
    "\n",
    "    return p1, p2\n",
    "\n",
    "\n",
    "score_all_games(data, map_hands)"
   ]
  },
  {
   "cell_type": "code",
   "execution_count": 117,
   "id": "493a21c9",
   "metadata": {},
   "outputs": [],
   "source": [
    "assert _ == 13187, \"Day 2.2\""
   ]
  },
  {
   "cell_type": "markdown",
   "id": "d89cbf36",
   "metadata": {},
   "source": [
    "## [Day 3](https://adventofcode.com/2022/day/3)\n",
    "\n",
    "First time we need a set, membership tests are O(1) so they make sense to use here. Python makes it quite easy to extend behaviour for part 2, but I find I'm missing a more functional approach..\n",
    "\n",
    "### Part 1"
   ]
  },
  {
   "cell_type": "code",
   "execution_count": 118,
   "id": "45931595",
   "metadata": {},
   "outputs": [
    {
     "data": {
      "text/plain": [
       "7967"
      ]
     },
     "execution_count": 118,
     "metadata": {},
     "output_type": "execute_result"
    }
   ],
   "source": [
    "data = Input(3)\n",
    "\n",
    "\n",
    "def split_halves(contents):\n",
    "    mid = int(len(contents) / 2)\n",
    "    return contents[:mid], contents[mid:]\n",
    "\n",
    "\n",
    "def find_common(*chunks):\n",
    "    common = set(chunks[0])\n",
    "    for chunk in chunks[1:]:\n",
    "        common &= set(chunk)\n",
    "    return tuple(common)\n",
    "\n",
    "\n",
    "def score(s):\n",
    "    ordinal = ord(s)\n",
    "    if ordinal > 96:\n",
    "        score = ordinal - ord(\"a\") + 1\n",
    "    else:\n",
    "        score = ordinal - ord(\"A\") + 26 + 1\n",
    "    return score\n",
    "\n",
    "\n",
    "def solve(all_data, grouper):\n",
    "    total = 0\n",
    "    for chunks in grouper(all_data):\n",
    "        common = find_common(*chunks)\n",
    "        total += score(common[0])\n",
    "    return total\n",
    "\n",
    "\n",
    "solve(data, lambda lines: map(split_halves, lines))"
   ]
  },
  {
   "cell_type": "code",
   "execution_count": 119,
   "id": "64316d4a",
   "metadata": {},
   "outputs": [],
   "source": [
    "assert _ == 7967, \"Day 3.1\""
   ]
  },
  {
   "cell_type": "code",
   "execution_count": 120,
   "id": "01770e06",
   "metadata": {},
   "outputs": [
    {
     "data": {
      "text/plain": [
       "2716"
      ]
     },
     "execution_count": 120,
     "metadata": {},
     "output_type": "execute_result"
    }
   ],
   "source": [
    "def group_threes(lines):\n",
    "    for idx in range(0, len(lines) - 1, 3):\n",
    "        yield lines[idx : idx + 3]\n",
    "\n",
    "\n",
    "solve(data, lambda lines: group_threes(lines))"
   ]
  },
  {
   "cell_type": "code",
   "execution_count": 121,
   "id": "227bcbd7",
   "metadata": {},
   "outputs": [],
   "source": [
    "assert _ == 2716, \"Day 3.2\""
   ]
  },
  {
   "cell_type": "markdown",
   "id": "5b5dea27",
   "metadata": {},
   "source": [
    "## [Day 4](https://adventofcode.com/2022/day/4)\n",
    "\n",
    "\n",
    "I quite enjoyed this one, refactoring the check for detecting supersets meant that I could solve the second part with little effort, which is useually the besy way to go!"
   ]
  },
  {
   "cell_type": "code",
   "execution_count": 122,
   "id": "436170b2",
   "metadata": {},
   "outputs": [
    {
     "data": {
      "text/plain": [
       "453"
      ]
     },
     "execution_count": 122,
     "metadata": {},
     "output_type": "execute_result"
    }
   ],
   "source": [
    "def parse_line(line):\n",
    "    m = re.match(\"(\\d+)-(\\d+),(\\d+)-(\\d+)\", line)\n",
    "    a, b, c, d = m.groups()\n",
    "    return ((int(a), int(b)), (int(c), int(d)))\n",
    "\n",
    "\n",
    "data = Input(4, parse_line)\n",
    "\n",
    "\n",
    "def count_supersets(lines, is_within):\n",
    "    return sum(is_within(p1, p2) or is_within(p2, p1) for p1, p2 in lines)\n",
    "\n",
    "\n",
    "def contains_entirely(p1, p2):\n",
    "    return p1[0] >= p2[0] and p1[1] <= p2[1]\n",
    "\n",
    "\n",
    "count_supersets(data, contains_entirely)"
   ]
  },
  {
   "cell_type": "code",
   "execution_count": 123,
   "id": "c0ad9c83",
   "metadata": {},
   "outputs": [],
   "source": [
    "assert _ == 453, \"Day 4.1\""
   ]
  },
  {
   "cell_type": "markdown",
   "id": "9ba472a6",
   "metadata": {},
   "source": [
    "### Part 2"
   ]
  },
  {
   "cell_type": "code",
   "execution_count": 124,
   "id": "3c1cc134",
   "metadata": {},
   "outputs": [
    {
     "data": {
      "text/plain": [
       "919"
      ]
     },
     "execution_count": 124,
     "metadata": {},
     "output_type": "execute_result"
    }
   ],
   "source": [
    "def contains_partially(p1, p2):\n",
    "    return (p1[0] >= p2[0] and p1[0] <= p2[1]) or (p1[1] <= p2[1] and p1[1] >= p2[0])\n",
    "\n",
    "\n",
    "count_supersets(data, contains_partially)"
   ]
  },
  {
   "cell_type": "code",
   "execution_count": 125,
   "id": "b34bf79c",
   "metadata": {},
   "outputs": [],
   "source": [
    "assert _ == 919, \"Day 4.2\""
   ]
  }
 ],
 "metadata": {
  "kernelspec": {
   "display_name": "Python 3 (ipykernel)",
   "language": "python",
   "name": "python3"
  },
  "language_info": {
   "codemirror_mode": {
    "name": "ipython",
    "version": 3
   },
   "file_extension": ".py",
   "mimetype": "text/x-python",
   "name": "python",
   "nbconvert_exporter": "python",
   "pygments_lexer": "ipython3",
   "version": "3.9.15"
  }
 },
 "nbformat": 4,
 "nbformat_minor": 5
}
