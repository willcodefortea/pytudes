{
 "cells": [
  {
   "cell_type": "markdown",
   "metadata": {},
   "source": [
    "# December 2016: Advent of Code\n",
    "\n",
    "## Ben Emery (willcodefortea)\n",
    "\n",
    "[Advent of Code](https://adventofcode.com/2016) is a series of Christmass based programming puzzels. Here are my solutions."
   ]
  },
  {
   "cell_type": "markdown",
   "metadata": {},
   "source": [
    "# Day 0: Getting ready / Common"
   ]
  },
  {
   "cell_type": "code",
   "execution_count": 8,
   "metadata": {
    "scrolled": true
   },
   "outputs": [],
   "source": [
    "from collections import Counter, namedtuple\n",
    "from itertools import islice\n",
    "import os\n",
    "import re\n",
    "import string\n",
    "import urllib.request\n",
    "\n",
    "import numpy as np\n",
    "\n",
    "\n",
    "def window(seq, n=2):\n",
    "    \"Returns a sliding window (of width n) over data from the iterable.\"\n",
    "    it = iter(seq)\n",
    "    result = tuple(islice(it, n))\n",
    "\n",
    "    if len(result) == n:\n",
    "        yield result    \n",
    "\n",
    "    for elem in it:\n",
    "        result = result[1:] + (elem,)\n",
    "        yield result\n",
    "\n",
    "\n",
    "Point = namedtuple('Point', 'x,y')\n",
    "\n",
    "OFF = '.'\n",
    "\n",
    "def Input(day):\n",
    "    \"\"\"Fetch the data input from disk or URL.\"\"\"\n",
    "    filename = os.path.join('../data/advent2016/input{}.txt'.format(day))\n",
    "    return open(filename)\n",
    "    \n",
    "\n",
    "def manhattan_distance(point1, point2):\n",
    "    \"\"\"Absolute distance between two N-dimensional points\"\"\"\n",
    "    assert len(point1) == len(point2)\n",
    "    dist = 0\n",
    "    for pair in zip(point1, point2):\n",
    "        dist += abs(pair[0] - pair[1])\n",
    "    return dist\n",
    "\n",
    "\n",
    "def transpose(matrix):\n",
    "    \"\"\"Swap a matrix about it's leading diagonal.\n",
    "    \n",
    "    Zip returns an iterable where the nth element is the nth element\n",
    "    from each iterable. So by passing each column as an argument\n",
    "    to zip we create a matrix where the rows are swapped with\n",
    "    the columns.\n",
    "    \n",
    "    [\n",
    "        [1, 3, 5],\n",
    "        [2, 4, 6],\n",
    "    ]\n",
    "    \n",
    "    becomes:\n",
    "    \n",
    "    [\n",
    "        [1, 2],\n",
    "        [3, 4],\n",
    "        [5, 6],\n",
    "    ]\n",
    "    \"\"\"\n",
    "    return zip(*matrix)\n",
    "\n",
    "\n",
    "cat = ''.join"
   ]
  },
  {
   "cell_type": "markdown",
   "metadata": {},
   "source": [
    "Testing some of our utilities"
   ]
  },
  {
   "cell_type": "code",
   "execution_count": 166,
   "metadata": {
    "scrolled": true
   },
   "outputs": [
    {
     "name": "stdout",
     "output_type": "stream",
     "text": [
      "[(1, 2), (3, 4), (5, 6)]\n"
     ]
    }
   ],
   "source": [
    "assert manhattan_distance((0, 0), (3, 4)) == 7, 'Invalid manhattan distance calculation'\n",
    "print(list(transpose([[1, 3, 5], [2, 4, 6]])))\n",
    "assert list(transpose([[1, 2], [3, 4]])) == [(1, 3), (2, 4)], 'Invaid matrix transpose'"
   ]
  },
  {
   "cell_type": "markdown",
   "metadata": {},
   "source": [
    "# [Day 1: No Time for a Taxi Cab](http://adventofcode.com/2016/day/1)\n",
    "\n",
    "Given a sequence of moves of 'L2' where L means turn left and walk 2 blocks, how many blocks do we end up from the start? Choices:\n",
    "\n",
    "* Track current location as (x,y) coordinates\n",
    "* Directions are kept as constants, and rotations are performed by cycling through them\n",
    "* Moves parsed to (rotation, distance) pairs. Right turns move clockwise, left turns anticlockwise."
   ]
  },
  {
   "cell_type": "code",
   "execution_count": 87,
   "metadata": {
    "scrolled": false
   },
   "outputs": [
    {
     "data": {
      "text/plain": [
       "332"
      ]
     },
     "execution_count": 87,
     "metadata": {},
     "output_type": "execute_result"
    }
   ],
   "source": [
    "L, R = -1, 1\n",
    "N, E, S, W = range(4)\n",
    "\n",
    "def rotate(facing, rotation):\n",
    "    return(facing + rotation) % 4\n",
    "\n",
    "\n",
    "def shortest_path(input):\n",
    "    \"\"\"Shortest distance betwen \"\"\"\n",
    "    facing = N\n",
    "    origin = [0, 0]\n",
    "    loc = origin[:]\n",
    "    \n",
    "    for rotation, distance in parse(input):\n",
    "        facing = rotate(facing, rotation)\n",
    "        index = 1 if facing in (N, S) else 0\n",
    "        sign = 1 if facing in (N, E) else -1\n",
    "        loc[index] += sign * distance\n",
    "\n",
    "    return manhattan_distance(origin, loc)\n",
    "        \n",
    "\n",
    "def parse(steps):\n",
    "    \"\"\"Convert Rotation-Distance to distinct integer pairs.\"\"\"\n",
    "    parsed = []\n",
    "    for step in steps.split(', '):\n",
    "        rotation = L if step[0] == 'L' else R\n",
    "        distance = int(step[1:])\n",
    "        parsed.append((rotation, distance))\n",
    "    return parsed\n",
    "    \n",
    "\n",
    "assert parse(\"L4, L3, R1\") == [(-1, 4), (-1, 3), (1, 1)]\n",
    "assert rotate(N, L) == W\n",
    "assert rotate(E, R) == S\n",
    "\n",
    "\n",
    "shortest_path(Input(1).read())"
   ]
  },
  {
   "cell_type": "markdown",
   "metadata": {},
   "source": [
    "For the second part we need to track which all locations we visit not just those we end up on. Here keep all visited locations in a set, extending with each move."
   ]
  },
  {
   "cell_type": "code",
   "execution_count": 88,
   "metadata": {
    "scrolled": true
   },
   "outputs": [
    {
     "data": {
      "text/plain": [
       "166"
      ]
     },
     "execution_count": 88,
     "metadata": {},
     "output_type": "execute_result"
    }
   ],
   "source": [
    "def first_visited_twice(input):\n",
    "    \"\"\"Find the first location visited twice following.\"\"\"\n",
    "    facing = N\n",
    "    origin = (0, 0)\n",
    "    loc = origin[:]\n",
    "    \n",
    "    visited = {loc}\n",
    "\n",
    "    for rotation, distance in parse(input):\n",
    "        facing = rotate(facing, rotation)\n",
    "        index = 1 if facing in (N, S) else 0\n",
    "        sign = 1 if facing in (N, E) else -1\n",
    "\n",
    "        for i in range(distance):\n",
    "            next_location = list(loc[:])\n",
    "            next_location[index] += sign\n",
    "            next_location = tuple(next_location)\n",
    "            \n",
    "            if next_location in visited:\n",
    "                return manhattan_distance(origin, next_location)\n",
    "            loc = next_location\n",
    "            visited.add(loc)\n",
    "\n",
    "assert first_visited_twice(\"R8, R4, R4, R8\") == 4\n",
    "assert first_visited_twice(\"R8, R4, R4, L8\") == None\n",
    "assert first_visited_twice(\"R8, R0, R1\") == 7\n",
    "    \n",
    "first_visited_twice(Input(1).read())"
   ]
  },
  {
   "cell_type": "markdown",
   "metadata": {},
   "source": [
    "# [Day 2: Bathroom Security](https://adventofcode.com/2016/day/2)\n",
    "\n",
    "We're tasked with following instructions to around a grid, with moves that would leave us out of bounds being ignored. The easiet approach to this is to simply perform each move, and discard it if we end up out of bounds."
   ]
  },
  {
   "cell_type": "code",
   "execution_count": 32,
   "metadata": {},
   "outputs": [
    {
     "data": {
      "text/plain": [
       "'38961'"
      ]
     },
     "execution_count": 32,
     "metadata": {},
     "output_type": "execute_result"
    }
   ],
   "source": [
    "Keypad = str.split\n",
    "\n",
    "keypad = Keypad(\"\"\"\n",
    ".....\n",
    ".123.\n",
    ".456.\n",
    ".789.\n",
    ".....\n",
    "\"\"\")\n",
    "\n",
    "\n",
    "def follow_instructions(keypad, start, instructions):\n",
    "    x, y = start\n",
    "    for instruction in instructions:\n",
    "        if instruction == 'U' and keypad[x - 1][y] != OFF: x = x - 1\n",
    "        if instruction == 'D' and keypad[x + 1][y] != OFF: x = x + 1\n",
    "        if instruction == 'L' and keypad[x][y - 1] != OFF: y = y - 1\n",
    "        if instruction == 'R' and keypad[x][y + 1] != OFF: y = y + 1\n",
    "    return (x, y)\n",
    "\n",
    "\n",
    "def build_code(keypad, input, start):\n",
    "    pos = start\n",
    "    code = []\n",
    "    for instructions in input.split():\n",
    "        pos = follow_instructions(keypad, pos, instructions)\n",
    "        x, y = pos\n",
    "        code.append(keypad[x][y])\n",
    "    return cat(code)\n",
    "\n",
    "\n",
    "assert keypad[2][2] == '5'\n",
    "assert follow_instructions(keypad, (2, 2), 'ULL') == (1, 1)\n",
    "assert build_code(keypad, 'ULL', (2, 2)) == '1'\n",
    "\n",
    "build_code(keypad, Input(2).read(), (2, 2))"
   ]
  },
  {
   "cell_type": "markdown",
   "metadata": {},
   "source": [
    "For the second portion of the problem, the keypad changes. We don't need to modify our algorithm at all, just the structure of the kepad."
   ]
  },
  {
   "cell_type": "code",
   "execution_count": 116,
   "metadata": {},
   "outputs": [
    {
     "data": {
      "text/plain": [
       "'46C92'"
      ]
     },
     "execution_count": 116,
     "metadata": {},
     "output_type": "execute_result"
    }
   ],
   "source": [
    "keypad = Keypad(\"\"\"\n",
    ".......\n",
    "...1...\n",
    "..234..\n",
    ".56789.\n",
    "..ABC..\n",
    "...D...\n",
    ".......\n",
    "\"\"\")\n",
    "\n",
    "build_code(keypad, Input(2).read(), (3, 1))"
   ]
  },
  {
   "cell_type": "markdown",
   "metadata": {},
   "source": [
    "# [Day 3: Squares With Three Sides](http://adventofcode.com/2016/day/3)\n",
    "\n",
    "This problem requires validating triangles, a triangle is only valid of the sum of two sides are greater than the third, and so is easy to check.\n"
   ]
  },
  {
   "cell_type": "code",
   "execution_count": 167,
   "metadata": {},
   "outputs": [
    {
     "data": {
      "text/plain": [
       "1050"
      ]
     },
     "execution_count": 167,
     "metadata": {},
     "output_type": "execute_result"
    }
   ],
   "source": [
    "def is_triangle(sides):\n",
    "    a, b, c = sorted(sides)\n",
    "    return c < a + b\n",
    "\n",
    "# Parse the triangles into a single list\n",
    "triangles = [\n",
    "    [int(num) for num in line.split()]\n",
    "    for line in Input(3)\n",
    "    if line\n",
    "]\n",
    "\n",
    "\n",
    "assert not is_triangle([5, 10, 25])\n",
    "sum(map(is_triangle, triangles))\n"
   ]
  },
  {
   "cell_type": "markdown",
   "metadata": {},
   "source": [
    "Now we must group values by colums, not by rows.\n",
    "```\n",
    "A1 A2 A3\n",
    "B1 B2 B3\n",
    "C1 C2 C3\n",
    "```\n",
    "\n",
    "i.e. `A1` `B1` and `C1` are now a single triangle. To achieve this I rely on the previous data parsing to read the triangles in to rows, and then read from the generator 3 items at a time and construct the appropriate triangles from there."
   ]
  },
  {
   "cell_type": "code",
   "execution_count": 171,
   "metadata": {
    "scrolled": false
   },
   "outputs": [
    {
     "data": {
      "text/plain": [
       "1921"
      ]
     },
     "execution_count": 171,
     "metadata": {},
     "output_type": "execute_result"
    }
   ],
   "source": [
    "def translate_triangles():\n",
    "    \"\"\"Take 3 triangles at a time and rotate how we group sides.\"\"\"\n",
    "    for index in range(0, len(triangles), 3):\n",
    "        yield from transpose(\n",
    "            triangles[index:index + 3]\n",
    "        )\n",
    "sum(map(is_triangle, translate_triangles()))"
   ]
  },
  {
   "cell_type": "markdown",
   "metadata": {},
   "source": [
    "# [Day 4: Security Through Obscurity](http://adventofcode.com/2016/day/4)\n",
    "\n",
    "This problem requires us deterimine if a room is real or a decoy based on the encrypted form of its name. This form is\n",
    "made of the following components:\n",
    "\n",
    "    <encrypted_name>-<selector_id>-<[checksum]>\n",
    "    \n",
    "Where the encrypted name are lowercase characters and dashes.\n",
    "    "
   ]
  },
  {
   "cell_type": "code",
   "execution_count": 243,
   "metadata": {},
   "outputs": [
    {
     "data": {
      "text/plain": [
       "137896"
      ]
     },
     "execution_count": 243,
     "metadata": {},
     "output_type": "execute_result"
    }
   ],
   "source": [
    "encryption_re = re.compile('([\\w\\-]+)-(\\d+)\\[(\\w+)\\]')\n",
    "\n",
    "def parse_encryption(input):\n",
    "    \"\"\"Split a room's code into it's distinct chunks.\"\"\"\n",
    "    return encryption_re.findall(input)\n",
    "\n",
    "def is_real_room(room):\n",
    "    encrypted_name, _, checksum = room\n",
    "    character_count = Counter(encrypted_name.replace('-', ''))\n",
    "    preferred_order = sorted(\n",
    "        character_count.keys(),\n",
    "        key=lambda c: (-character_count[c], c)\n",
    "    )\n",
    "    return cat(preferred_order)[:len(checksum)] == checksum\n",
    "\n",
    "    \n",
    "assert parse_encryption('aaaaa-bbb-z-y-x-123[abxyz]') == [('aaaaa-bbb-z-y-x', '123', 'abxyz'), ]\n",
    "assert is_real_room(('aaaaa-bbb-z-y-x', '123', 'abxyz'))\n",
    "\n",
    "rooms = parse_encryption(Input(4).read())\n",
    "real_rooms = [\n",
    "    room\n",
    "    for room in rooms\n",
    "    if is_real_room(room)\n",
    "]\n",
    "sum(int(selector_id) for _, selector_id, _ in real_rooms)"
   ]
  },
  {
   "cell_type": "markdown",
   "metadata": {},
   "source": [
    "In part two we have to decrypt a room's name by rotating characters N times through the alphabet, N being the selector id. Once decrypted we need to find the sector ID that represents where \"North pole objects are stored\", so filter out results by the expeted keywords."
   ]
  },
  {
   "cell_type": "code",
   "execution_count": 246,
   "metadata": {},
   "outputs": [
    {
     "name": "stdout",
     "output_type": "stream",
     "text": [
      "northpole object storage 501\n"
     ]
    }
   ],
   "source": [
    "def decrypt_name(encypted_name, selector_id):\n",
    "    alphabet = string.ascii_lowercase\n",
    "    shift_amount = selector_id % len(alphabet)\n",
    "    from_translation = alphabet + '-'\n",
    "    to_translation = alphabet[shift_amount:] + alphabet[:shift_amount] + ' '\n",
    "    trans = str.maketrans(\n",
    "        from_translation,\n",
    "        to_translation\n",
    "    )\n",
    "    return encypted_name.translate(trans)\n",
    "\n",
    "assert decrypt_name('qzmt-zixmtkozy-ivhz', 343) == 'very encrypted name'\n",
    "\n",
    "for room in real_rooms:\n",
    "    encrypted_name, sector_id, _ = room\n",
    "    decrypted_name = decrypt_name(encrypted_name, int(sector_id))\n",
    "    if 'north' in decrypted_name:\n",
    "        print(decrypted_name, sector_id)"
   ]
  },
  {
   "cell_type": "markdown",
   "metadata": {},
   "source": [
    "# [Day 5: How About a Nice Game of Chess?](http://adventofcode.com/2016/day/5)\n",
    "\n",
    "We need to find a password for a door. The password is built from taking the 6th character of the first 8 hashes that have five leading zeros. With each hash being of the form {door_id}{hash_index}.\n",
    "\n",
    "i.e. for a door_id of 'abc' the first hash found is at index 3231929,\n",
    "\n",
    "    abc3231929 -> 00000155f8105dff7f56ee10fa9b9abd\n",
    "\n",
    "so the password character is `1`."
   ]
  },
  {
   "cell_type": "code",
   "execution_count": 38,
   "metadata": {},
   "outputs": [
    {
     "name": "stdout",
     "output_type": "stream",
     "text": [
      "3231929 00000155f8105dff7f56ee10fa9b9abd 1\n",
      "5017308 000008f82c5b3924a1ecbebf60344e00 18\n",
      "5278568 00000f9a2c309875e05c5a5d09f1b8c4 18f\n",
      "5357525 000004e597bd77c5cd2133e9d885fe7e 18f4\n",
      "5708769 0000073848c9ff7a27ca2e942ac10a4c 18f47\n",
      "6082117 00000a9c311683dbbf122e9611a1c2d4 18f47a\n",
      "8036669 000003c75169d14fdb31ec1593915cff 18f47a3\n",
      "8605828 0000000ea49fd3fc1b2f10e02d98ee96 18f47a30\n",
      "2231254 0000027b9705c7e6fa3d4816c490bbfd 2\n",
      "2440385 00000468c8625d85571d250737c47b5a 24\n",
      "2640705 0000013e3293b49e4c78a5b43b21023b 241\n",
      "3115031 0000040bbe4509b48041007dec6123bd 2414\n",
      "5045682 00000b11810477f9e49840991fb2151e 2414b\n",
      "8562236 00000cc461c8945671046cf632be4473 2414bc\n",
      "9103137 000007c1da6865df78b2c0addf28913d 2414bc7\n",
      "9433034 00000700ce8beb0a8ffc83fa9986d577 2414bc77\n"
     ]
    },
    {
     "data": {
      "text/plain": [
       "'2414bc77'"
      ]
     },
     "execution_count": 38,
     "metadata": {},
     "output_type": "execute_result"
    }
   ],
   "source": [
    "import hashlib\n",
    "\n",
    "\n",
    "def find_hashes(door):\n",
    "    i = 0\n",
    "    \n",
    "    while True:\n",
    "        md5 = hashlib.md5(bytes(door + str(i), 'utf-8')).hexdigest()\n",
    "        if md5.startswith('00000'):\n",
    "            yield i, md5\n",
    "        i += 1\n",
    "\n",
    "def generate_password(door):\n",
    "    password = ''\n",
    "    for hash_num, md5 in find_hashes(door):\n",
    "        password += md5[5]\n",
    "        print(hash_num, md5, password)\n",
    "        if len(password) == 8:\n",
    "            return password\n",
    "\n",
    "# Uncomment to run test, but it takes some time.\n",
    "# assert generate_password('abc') == '18f47a30'\n",
    "door = 'wtnhxymk'\n",
    "generate_password(door)"
   ]
  },
  {
   "cell_type": "markdown",
   "metadata": {},
   "source": [
    "The second portion changes the meaning of generated hash, now the 6th character represents the password character and the 7th is the character to use."
   ]
  },
  {
   "cell_type": "code",
   "execution_count": 39,
   "metadata": {},
   "outputs": [
    {
     "name": "stdout",
     "output_type": "stream",
     "text": [
      "2231254 0000027b9705c7e6fa3d4816c490bbfd ..7.....\n",
      "2440385 00000468c8625d85571d250737c47b5a ..7.6...\n",
      "2640705 0000013e3293b49e4c78a5b43b21023b .37.6...\n",
      "9103137 000007c1da6865df78b2c0addf28913d .37.6..c\n",
      "13753308 0000050301b17d598b52e2a343b80c95 .37.60.c\n",
      "13976178 000006fe7545b487de2d003f3d4e1114 .37.60fc\n",
      "19808390 000003e432ea631581aefcce573d56dd .37e60fc\n",
      "27712456 00000048d155e2c930602533209b0154 437e60fc\n"
     ]
    },
    {
     "data": {
      "text/plain": [
       "'437e60fc'"
      ]
     },
     "execution_count": 39,
     "metadata": {},
     "output_type": "execute_result"
    }
   ],
   "source": [
    "def generate_password(door):\n",
    "    characters = [OFF,] * 8\n",
    "    for hash_num, md5 in find_hashes(door):\n",
    "        try:\n",
    "            position = int(md5[5])\n",
    "        except ValueError:\n",
    "            # Invalid position, skip\n",
    "            continue\n",
    "\n",
    "        if position > 7:\n",
    "            # Invalid position, skip\n",
    "            continue\n",
    "\n",
    "        character = md5[6]\n",
    "        if characters[position] is OFF:\n",
    "            characters[position] = character\n",
    "            print(hash_num, md5, cat(characters))\n",
    "\n",
    "        if OFF not in characters:\n",
    "            return cat(characters)\n",
    "\n",
    "# Uncomment to run test, but it takes some time.\n",
    "# assert generate_password('abc') == '05ace8e3'\n",
    "generate_password(door)"
   ]
  },
  {
   "cell_type": "markdown",
   "metadata": {},
   "source": [
    "# [Day 6: Signals and Noise](http://adventofcode.com/2016/day/6)\n",
    "\n",
    "Here we have a set of strings and are required to find the most comon value in each column.\n",
    "\n",
    "The `Counter` object is a dict subclass that will count an iterable. Calling `most_common([n])` returns a tuple of the `n` most common objects and their occurance (in order of highest to lowest).\n",
    "\n",
    "i.e.\n",
    "\n",
    "    Counter(a=2, b=3, c=4).most_common(2) == ((a, 2), (b, 3))\n",
    "    "
   ]
  },
  {
   "cell_type": "code",
   "execution_count": 69,
   "metadata": {},
   "outputs": [
    {
     "data": {
      "text/plain": [
       "'wkbvmikb'"
      ]
     },
     "execution_count": 69,
     "metadata": {},
     "output_type": "execute_result"
    }
   ],
   "source": [
    "def most_common(data):\n",
    "    lines = re.findall('\\w+', data)\n",
    "    cols = transpose(lines)\n",
    "    return cat(\n",
    "        Counter(col).most_common(1)[0][0]\n",
    "        for col in cols\n",
    "    )\n",
    "\n",
    "test_data = \"\"\"\n",
    "eedadn\n",
    "drvtee\n",
    "eandsr\n",
    "raavrd\n",
    "atevrs\n",
    "tsrnev\n",
    "sdttsa\n",
    "rasrtv\n",
    "nssdts\n",
    "ntnada\n",
    "svetve\n",
    "tesnvt\n",
    "vntsnd\n",
    "vrdear\n",
    "dvrsen\n",
    "enarar\n",
    "\"\"\"\n",
    "\n",
    "assert most_common(test_data) == 'easter'\n",
    "most_common(Input(6).read())"
   ]
  },
  {
   "cell_type": "markdown",
   "metadata": {},
   "source": [
    "Part two is the same as the first, but instead is the _least_ common value."
   ]
  },
  {
   "cell_type": "code",
   "execution_count": 70,
   "metadata": {},
   "outputs": [
    {
     "data": {
      "text/plain": [
       "'evakwaga'"
      ]
     },
     "execution_count": 70,
     "metadata": {},
     "output_type": "execute_result"
    }
   ],
   "source": [
    "def least_common(data):\n",
    "    lines = re.findall('\\w+', data)\n",
    "    cols = transpose(lines)\n",
    "    return cat(\n",
    "        Counter(col).most_common()[-1][0]\n",
    "        for col in cols\n",
    "    )\n",
    "\n",
    "assert least_common(test_data) == 'advent'\n",
    "least_common(Input(6).read())"
   ]
  },
  {
   "cell_type": "markdown",
   "metadata": {},
   "source": [
    "# [Day 7: Internet Protocol Version 7](https://adventofcode.com/2016/day/7)\n",
    "\n",
    "Here we're tasked with finding IPv7 addresses that support TLS (transport-layer snooping). IPv7 addresses are of the form `aaa[bbb]ccc[ddd]` with any number of subnets (codes within square brackets) and supernets (outside of square brackets)."
   ]
  },
  {
   "cell_type": "code",
   "execution_count": 154,
   "metadata": {
    "scrolled": false
   },
   "outputs": [
    {
     "data": {
      "text/plain": [
       "110"
      ]
     },
     "execution_count": 154,
     "metadata": {},
     "output_type": "execute_result"
    }
   ],
   "source": [
    "subnet_re = re.compile(r'\\[(\\w+)\\]')\n",
    "supernet_re = re.compile(r'(?:^|\\])([a-zA-Z]+)(?:$|\\[)')\n",
    "\n",
    "\n",
    "def has_abba(s):\n",
    "    for chunk in window(s, 4):\n",
    "        if chunk[:2] == chunk[:1:-1] and chunk[0] != chunk[1]:\n",
    "            return True\n",
    "    return False\n",
    "\n",
    "\n",
    "def supports_tls(ip):\n",
    "    subnet_chunks = subnet_re.findall(ip)\n",
    "    supernet_chunks = supernet_re.findall(ip)\n",
    "\n",
    "    return not any(map(has_abba, subnet_chunks)) and any(map(has_abba, supernet_chunks))\n",
    "\n",
    "\n",
    "assert supports_tls('abba[mnop]qrst')\n",
    "assert not supports_tls('abcd[bddb]xyyx')\n",
    "assert not supports_tls('aaaa[qwer]tyui')\n",
    "assert supports_tls('ioxxoj[asdfgh]zxcvbn')\n",
    "\n",
    "sum(map(supports_tls, Input(7).readlines()))"
   ]
  },
  {
   "cell_type": "markdown",
   "metadata": {},
   "source": [
    "For the second portion, we need to check if a supernet contains a three character palindrome, with its inverse being present in the subnet."
   ]
  },
  {
   "cell_type": "code",
   "execution_count": 153,
   "metadata": {},
   "outputs": [
    {
     "data": {
      "text/plain": [
       "242"
      ]
     },
     "execution_count": 153,
     "metadata": {},
     "output_type": "execute_result"
    }
   ],
   "source": [
    "def get_abas(chunks):\n",
    "    for chunk in chunks:\n",
    "        for c in window(chunk, 3):\n",
    "            if c[0] == c[2] and c[0] != c[1]:\n",
    "                yield cat(c)\n",
    "\n",
    "                \n",
    "def supports_ssl(ip):\n",
    "    subnet_chunks = subnet_re.findall(ip)\n",
    "    supernet_chunks = supernet_re.findall(ip)\n",
    "    \n",
    "    # extract all ABAs\n",
    "    expected_babs = {\n",
    "        '{1}{0}{1}'.format(aba[0], aba[1])\n",
    "        for aba in get_abas(supernet_chunks)\n",
    "    }\n",
    "    babs = {c for c in get_abas(subnet_chunks)}\n",
    "    return len(babs & expected_babs) > 0\n",
    "    \n",
    "\n",
    "assert supports_ssl('aba[bab]xyz')\n",
    "assert not supports_ssl('xyx[xyx]xyx')\n",
    "assert supports_ssl('aaa[kek]eke')\n",
    "assert supports_ssl('zazbz[bzb]cdb')\n",
    "\n",
    "sum(map(supports_ssl, Input(7).readlines()))"
   ]
  },
  {
   "cell_type": "markdown",
   "metadata": {},
   "source": [
    "# [Day 8: Two-Factor Authentication](https://adventofcode.com/2016/day/8)"
   ]
  },
  {
   "cell_type": "code",
   "execution_count": 39,
   "metadata": {},
   "outputs": [],
   "source": [
    "width = 50\n",
    "height = 6\n",
    "\n",
    "\n",
    "def build_screen(width, height):\n",
    "    return np.zeros([width, height], dtype=np.int)\n",
    "\n",
    "\n",
    "def to_display(screen):\n",
    "    rows = [\n",
    "        cat(['.#'[cell] for cell in row])\n",
    "        for row in screen\n",
    "    ]\n",
    "    return '\\n'.join(rows)\n",
    "\n",
    "\n",
    "def rect(screen, A, B):\n",
    "    \"\"\"Turn on all characters.\"\"\"\n",
    "    screen[:A, :B] = 1\n",
    "    \n",
    "\n",
    "def rotate_col(screen, A, B):\n",
    "    col = screen[:, A]\n",
    "    screen[:, A] = np.append(col[-B:], col[:-B])\n",
    "\n",
    "    \n",
    "def rotate_row(screen, A, B):\n",
    "    col = screen[A, :]\n",
    "    screen[A, :] = np.append(col[-B:], col[:-B])\n",
    "\n",
    "\n",
    "\n",
    "test_screen = build_screen(3, 7)\n",
    "\n",
    "rect_result = \"\"\"\n",
    "###....\n",
    "###....\n",
    ".......\n",
    "\"\"\".strip()\n",
    "\n",
    "rotate_result = \"\"\"\n",
    "#.#....\n",
    "###....\n",
    ".#.....\n",
    "\"\"\".strip()\n",
    "\n",
    "\n",
    "rect(test_screen, 2, 3)\n",
    "assert to_display(test_screen) == rect_result\n",
    "\n",
    "rotate_col(test_screen, 1, 1)\n",
    "assert to_display(test_screen) == rotate_result\n",
    "\n",
    "\n",
    "# screen = build_screen(50, 6)\n",
    "# print(to_display(screen))"
   ]
  },
  {
   "cell_type": "code",
   "execution_count": null,
   "metadata": {},
   "outputs": [],
   "source": []
  }
 ],
 "metadata": {
  "kernelspec": {
   "display_name": "Python 3",
   "language": "python",
   "name": "python3"
  },
  "language_info": {
   "codemirror_mode": {
    "name": "ipython",
    "version": 3
   },
   "file_extension": ".py",
   "mimetype": "text/x-python",
   "name": "python",
   "nbconvert_exporter": "python",
   "pygments_lexer": "ipython3",
   "version": "3.5.2"
  }
 },
 "nbformat": 4,
 "nbformat_minor": 2
}
